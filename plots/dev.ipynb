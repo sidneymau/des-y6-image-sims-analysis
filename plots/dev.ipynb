{
 "cells": [
  {
   "cell_type": "code",
   "execution_count": 1,
   "id": "311b1fc2-987d-472a-9e7a-d532b7a057aa",
   "metadata": {},
   "outputs": [],
   "source": [
    "import os\n",
    "import concurrent.futures"
   ]
  },
  {
   "cell_type": "code",
   "execution_count": 2,
   "id": "36626cdf-fe66-4b3f-b8a5-5f4bba2ff41e",
   "metadata": {},
   "outputs": [],
   "source": [
    "import h5py\n",
    "import numpy as np\n",
    "from scipy import stats\n",
    "import matplotlib as mpl\n",
    "import matplotlib.pyplot as plt\n",
    "import smatch\n",
    "import healsparse"
   ]
  },
  {
   "cell_type": "code",
   "execution_count": 3,
   "id": "9a11148a-ff28-47ad-8173-4e74519251cf",
   "metadata": {},
   "outputs": [],
   "source": [
    "import lib"
   ]
  },
  {
   "cell_type": "code",
   "execution_count": 4,
   "id": "f85b0381-f575-4661-b65d-0c64148a8824",
   "metadata": {
    "tags": []
   },
   "outputs": [],
   "source": [
    "os.environ[\"IMSIM_DATA\"] = \"/global/cfs/cdirs/desbalro\"\n",
    "os.environ[\"MEDS_DIR\"] = \"/global/cfs/cdirs/desbalro\""
   ]
  },
  {
   "cell_type": "code",
   "execution_count": 5,
   "id": "969be0b9-a584-4871-90ca-abfc47ce124c",
   "metadata": {},
   "outputs": [],
   "source": [
    "lib.plotting.setup()"
   ]
  },
  {
   "cell_type": "code",
   "execution_count": 6,
   "id": "49318e4f-45f6-4e37-bae8-a4c2fb2c8a09",
   "metadata": {
    "tags": []
   },
   "outputs": [],
   "source": [
    "onecolumn_kwargs = {\n",
    "    \"width\": 2,\n",
    "    \"height\": 2,\n",
    "    \"horizontal_margin\": 8/12,\n",
    "    \"vertical_margin\": 6/12,\n",
    "    \"gutter\": 1,\n",
    "    \"fig_width\": 3 + 4/12,\n",
    "    \"fig_height\": 3,\n",
    "}\n",
    "twocolumn_kwargs = {\n",
    "    \"width\": 6,\n",
    "    \"height\": 2,\n",
    "    \"margin\": 1,\n",
    "    \"gutter\": 1,\n",
    "    \"fig_width\": 8,\n",
    "    \"fig_height\": 4,\n",
    "}"
   ]
  },
  {
   "cell_type": "code",
   "execution_count": 7,
   "id": "7657ce1a-3ba0-417b-a09d-15f167872c24",
   "metadata": {},
   "outputs": [],
   "source": [
    "shear_step_plus = \"g1_slice=0.02__g2_slice=0.00__g1_other=0.00__g2_other=0.00__zlow=0.0__zhigh=6.0\"\n",
    "shear_step_minus = \"g1_slice=-0.02__g2_slice=0.00__g1_other=0.00__g2_other=0.00__zlow=0.0__zhigh=6.0\"\n",
    "\n",
    "assert shear_step_plus in lib.const.SHEAR_STEPS\n",
    "assert shear_step_minus in lib.const.SHEAR_STEPS"
   ]
  },
  {
   "cell_type": "code",
   "execution_count": 8,
   "id": "5d5118e7-db8f-43bc-a1ee-e6e733134e0d",
   "metadata": {},
   "outputs": [],
   "source": [
    "imsim_catalog_plus = lib.const.SIM_SHEAR_CATALOGS[shear_step_plus]\n",
    "imsim_catalog_minus = lib.const.SIM_SHEAR_CATALOGS[shear_step_minus]"
   ]
  },
  {
   "cell_type": "code",
   "execution_count": 9,
   "id": "d353d5e6-d857-47e6-8d8e-655fd567148f",
   "metadata": {},
   "outputs": [],
   "source": [
    "with (\n",
    "    h5py.File(imsim_catalog_plus) as hf_imsim_plus,\n",
    "    h5py.File(imsim_catalog_minus) as hf_imsim_minus,\n",
    "):\n",
    "    tiles = np.intersect1d(\n",
    "        hf_imsim_plus[\"mdet\"][\"noshear\"][\"tilename\"][:].astype(str),\n",
    "        hf_imsim_minus[\"mdet\"][\"noshear\"][\"tilename\"][:].astype(str),\n",
    "    )"
   ]
  },
  {
   "cell_type": "code",
   "execution_count": 10,
   "id": "340b0b3c-4f8e-42d2-bcbf-cc1bfd0eadd3",
   "metadata": {
    "tags": []
   },
   "outputs": [],
   "source": [
    "def compute_mag(data, mask, band):\n",
    "\n",
    "    flux = data[f\"pgauss_band_flux_{band}\"][mask]\n",
    "\n",
    "    mag = -2.5 * np.log10(flux) + 30\n",
    "\n",
    "    return mag\n",
    "\n",
    "\n",
    "def compute_color(data, mask, bands):\n",
    "\n",
    "    flux_1 = data[f\"pgauss_band_flux_{bands[0]}\"][mask]\n",
    "    flux_2 = data[f\"pgauss_band_flux_{bands[1]}\"][mask]\n",
    "\n",
    "    color = -2.5 * np.log10(flux_1 / flux_2)\n",
    "\n",
    "    return color\n",
    "\n",
    "\n",
    "def mag_hist(data, mask, band, bins):\n",
    "    mag = compute_mag(data, mask, band)\n",
    "    # hist, _ = np.histogram(mag, bins=bins)\n",
    "    hist, _, _ = stats.binned_statistic(\n",
    "        mag,\n",
    "        None,\n",
    "        statistic=\"count\",\n",
    "        bins=bins,\n",
    "    )\n",
    "    return hist\n",
    "\n",
    "\n",
    "def mag_color_hist(data, mask, band_x, bands_y, bins):\n",
    "    # color_x = compute_color(data, mask, bands_x)\n",
    "    mag_x = compute_mag(data, mask, band_x)\n",
    "    color_y = compute_color(data, mask, bands_y)\n",
    "    # hist, _, _ = np.histogram2d(color_x, color_y, bins=bins)\n",
    "    hist, _, _, _ = stats.binned_statistic_2d(\n",
    "        mag_x,\n",
    "        color_y,\n",
    "        None,\n",
    "        statistic=\"count\",\n",
    "        bins=bins,\n",
    "    )\n",
    "    return hist\n",
    "\n",
    "\n",
    "def color_color_hist(data, mask, bands_x, bands_y, bins):\n",
    "    color_x = compute_color(data, mask, bands_x)\n",
    "    color_y = compute_color(data, mask, bands_y)\n",
    "    # hist, _, _ = np.histogram2d(color_x, color_y, bins=bins)\n",
    "    hist, _, _, _ = stats.binned_statistic_2d(\n",
    "        color_x,\n",
    "        color_y,\n",
    "        None,\n",
    "        statistic=\"count\",\n",
    "        bins=bins,\n",
    "    )\n",
    "    return hist\n",
    "\n",
    "\n",
    "def multiband_hist(data, mask, bands_x, bands_y, bins):\n",
    "    match len(bands_x):\n",
    "        case 1:\n",
    "            value_x = compute_mag(data, mask, bands_x)\n",
    "        case 2:\n",
    "            value_x = compute_color(data, mask, bands_x)\n",
    "        case _:\n",
    "            raise ValueError(f\"Invalid bands for color or magnitude\")\n",
    "    match len(bands_y):\n",
    "        case 1:\n",
    "            value_y = compute_mag(data, mask, bands_y)\n",
    "        case 2:\n",
    "            value_y = compute_color(data, mask, bands_y)\n",
    "        case _:\n",
    "            raise ValueError(f\"Invalid bands for color or magnitude\")\n",
    "    # hist, _, _ = np.histogram2d(value_x, value_y, bins=bins)\n",
    "    hist, _, _, _ = stats.binned_statistic_2d(\n",
    "        value_x,\n",
    "        value_y,\n",
    "        None,\n",
    "        statistic=\"count\",\n",
    "        bins=bins,\n",
    "    )\n",
    "    return hist\n",
    "\n",
    "\n",
    "def format_band(band):\n",
    "    return f\"${{{band}}}$\"\n",
    "\n",
    "\n",
    "def format_bands(bands):\n",
    "    match len(bands):\n",
    "        case 1:\n",
    "            TeXstring = f\"${{{bands}}}$\"\n",
    "        case 2:\n",
    "            TeXstring = f\"${{{bands[0]}}} - {{{bands[1]}}}$\"\n",
    "        case _:\n",
    "            raise ValueError(f\"Invalid bands for color or magnitude\")\n",
    "    return TeXstring\n",
    "\n"
   ]
  },
  {
   "cell_type": "code",
   "execution_count": 11,
   "id": "c40d3c5d-db90-48aa-937d-caa7c6993d84",
   "metadata": {
    "tags": []
   },
   "outputs": [],
   "source": [
    "mdet_mask = lib.util.load_mdet_mask()\n",
    "mdet_area = mdet_mask.get_valid_area()"
   ]
  },
  {
   "cell_type": "markdown",
   "id": "10e0b8b8-49d2-45a1-8688-b27f7f8550fa",
   "metadata": {},
   "source": [
    "# Luminosity"
   ]
  },
  {
   "cell_type": "code",
   "execution_count": 12,
   "id": "5f530a98-a686-40ca-980d-f8e7e6e09c3f",
   "metadata": {
    "tags": []
   },
   "outputs": [],
   "source": [
    "NBINS = 100\n",
    "BINS = {\n",
    "    \"g\": np.linspace(13, 27, NBINS + 1),\n",
    "    \"r\": np.linspace(13, 27, NBINS + 1),\n",
    "    \"i\": np.linspace(13, 27, NBINS + 1),\n",
    "    \"z\": np.linspace(13, 27, NBINS + 1),\n",
    "}\n",
    "\n",
    "band = \"i\"\n",
    "bins = BINS[band]"
   ]
  },
  {
   "cell_type": "code",
   "execution_count": 13,
   "id": "8d25c0a0-4bb7-4fe1-9aa6-4e2722a8e13a",
   "metadata": {
    "tags": []
   },
   "outputs": [
    {
     "name": "stdout",
     "output_type": "stream",
     "text": [
      "processing chunk 31 -- 150000000:151922791:1"
     ]
    }
   ],
   "source": [
    "futures = []\n",
    "with h5py.File(lib.const.Y6_SHEAR_CATALOG) as hf:\n",
    "    dset = hf[\"mdet\"][\"noshear\"]\n",
    "\n",
    "    for i, chunk in enumerate(dset[\"patch_num\"].iter_chunks()):\n",
    "        _start = chunk[0].start\n",
    "        _stop = chunk[0].stop\n",
    "        _step = chunk[0].step\n",
    "        print(f\"processing chunk {i + 1} -- {_start}:{_stop}:{_step}\", end=\"\\r\", flush=True)\n",
    "        with concurrent.futures.ThreadPoolExecutor(max_workers=8) as executor:\n",
    "            _future = executor.submit(mag_hist, dset, chunk, band, bins)\n",
    "            futures.append(_future)\n",
    "\n",
    "# hist = np.nansum([hist, _hist], axis=0)\n",
    "\n",
    "# hist /= mdet_area"
   ]
  },
  {
   "cell_type": "code",
   "execution_count": 14,
   "id": "bb59b52f-fe68-4627-bb84-bab6d90e2cb6",
   "metadata": {},
   "outputs": [],
   "source": [
    "hist = np.zeros(NBINS)\n",
    "for future in futures:\n",
    "    _hist = future.result()\n",
    "    hist = np.nansum([hist, _hist], axis=0)\n",
    "    \n",
    "hist /= mdet_area"
   ]
  },
  {
   "cell_type": "code",
   "execution_count": 15,
   "id": "8cd1071c-48f8-491d-aa0f-d7ee9664630f",
   "metadata": {},
   "outputs": [],
   "source": [
    "def accumulate_area_pair(tile, band, mdet_mask):\n",
    "    tile_area_p = lib.util.get_tile_area(\n",
    "        tile,\n",
    "        band,\n",
    "        shear=\"plus\",\n",
    "        mdet_mask=mdet_mask,\n",
    "    )\n",
    "    tile_area_m = lib.util.get_tile_area(\n",
    "        tile,\n",
    "        band,\n",
    "        shear=\"minus\",\n",
    "        mdet_mask=mdet_mask,\n",
    "    )\n",
    "\n",
    "    return tile_area_p, tile_area_m"
   ]
  },
  {
   "cell_type": "code",
   "execution_count": 16,
   "id": "c26bc353-be4d-48b3-800a-5591ead57a72",
   "metadata": {},
   "outputs": [],
   "source": [
    "def accumulate_hist_pair(imsim_catalog_plus, imsim_catalog_minus, tile, band, bins):\n",
    "    with h5py.File(imsim_catalog_plus) as hf_imsim_plus:\n",
    "        data_p = hf_imsim_plus[\"mdet\"][\"noshear\"]\n",
    "        in_tile_p = data_p[\"tilename\"][:].astype(str) == tile\n",
    "        hist_p = mag_hist(data_p, in_tile_p, band, bins)\n",
    "\n",
    "    with h5py.File(imsim_catalog_minus) as hf_imsim_minus:\n",
    "        data_m = hf_imsim_minus[\"mdet\"][\"noshear\"]\n",
    "        in_tile_m = data_m[\"tilename\"][:].astype(str) == tile\n",
    "        hist_m = mag_hist(data_m, in_tile_m, band, bins)\n",
    "\n",
    "    return hist_p, hist_m"
   ]
  },
  {
   "cell_type": "code",
   "execution_count": 17,
   "id": "f7a30869-d19b-448e-88ae-571e32a11a53",
   "metadata": {},
   "outputs": [],
   "source": [
    "N_TEST = len(tiles)"
   ]
  },
  {
   "cell_type": "code",
   "execution_count": 18,
   "id": "7bb63214-0306-47a7-8f75-58a5d3a24d0a",
   "metadata": {
    "tags": []
   },
   "outputs": [],
   "source": [
    "hist_futures = {}\n",
    "with concurrent.futures.ProcessPoolExecutor(max_workers=8) as executor:\n",
    "    for i, tile in enumerate(tiles[:N_TEST]):\n",
    "        _future = executor.submit(\n",
    "            accumulate_hist_pair,\n",
    "            imsim_catalog_plus,\n",
    "            imsim_catalog_minus,\n",
    "            tile,\n",
    "            band,\n",
    "            bins,\n",
    "        )\n",
    "        hist_futures[tile] = _future"
   ]
  },
  {
   "cell_type": "code",
   "execution_count": 19,
   "id": "f4810bef-4a2d-41ee-8d3e-dd9ea0da0376",
   "metadata": {},
   "outputs": [],
   "source": [
    "area_futures = {}\n",
    "with concurrent.futures.ThreadPoolExecutor(max_workers=8) as executor:\n",
    "    for i, tile in enumerate(tiles[:N_TEST]):\n",
    "        _future = executor.submit(\n",
    "            accumulate_area_pair,\n",
    "            tile,\n",
    "            band,\n",
    "            mdet_mask,\n",
    "        )\n",
    "        area_futures[tile] = _future"
   ]
  },
  {
   "cell_type": "code",
   "execution_count": 20,
   "id": "cafb0e2c-8638-498b-b063-a27a9e201c4a",
   "metadata": {},
   "outputs": [],
   "source": [
    "hist_p = np.zeros(NBINS)\n",
    "hist_m = np.zeros(NBINS)\n",
    "area_p = 0\n",
    "area_m = 0\n",
    "\n",
    "\n",
    "for tile in tiles:\n",
    "    if (\n",
    "        (_hist_future := hist_futures.get(tile)) is not None\n",
    "    ) and (\n",
    "        (_area_future := area_futures.get(tile)) is not None\n",
    "    ):\n",
    "        _hist_p, _hist_m = _hist_future.result()\n",
    "        _area_p, _area_m = _area_future.result()\n",
    "        \n",
    "        hist_p = np.nansum([hist_p, _hist_p], axis=0)\n",
    "        area_p += _area_p\n",
    "        hist_m = np.nansum([hist_m, _hist_m], axis=0)\n",
    "        area_m += _area_m\n",
    "\n",
    "\n",
    "hist_sims = np.nanmean([hist_p / area_p, hist_m / area_m], axis=0)"
   ]
  },
  {
   "cell_type": "code",
   "execution_count": 21,
   "id": "3aa7ca4a-cda1-4542-9718-07f350a9b3b1",
   "metadata": {
    "tags": []
   },
   "outputs": [
    {
     "name": "stderr",
     "output_type": "stream",
     "text": [
      "/global/u2/s/smau/projects/des/y6-image-sims-analysis/plots/lib/plotting.py:214: UserWarning: Total axes width (3.333333333333333) less than figure width (3.3333333333333335)\n",
      "  warnings.warn(f\"Total axes width ({total_width}) less than figure width ({fig_width})\")\n"
     ]
    },
    {
     "data": {
      "image/png": "[encoded data removed]",
      "text/plain": [
       "<Figure size 333.333x300 with 2 Axes>"
      ]
     },
     "metadata": {},
     "output_type": "display_data"
    }
   ],
   "source": [
    "fig, axs = lib.plotting.make_axes(\n",
    "    1, 1,\n",
    "    **onecolumn_kwargs,\n",
    ")\n",
    "\n",
    "\n",
    "cmap_mdet = \"des-y6-mdet\"\n",
    "cmap_sims = \"des-y6-sims\"\n",
    "\n",
    "lib.plotting.contour1d(\n",
    "    axs,\n",
    "    hist,\n",
    "    bins,\n",
    "    color=lib.plotting.mdet_color,\n",
    "    label=\"mdet\",\n",
    ")\n",
    "lib.plotting.contour1d(\n",
    "    axs,\n",
    "    hist_sims,\n",
    "    bins,\n",
    "    color=lib.plotting.sims_color,\n",
    "    label=\"sims\",\n",
    ")\n",
    "axs.set_xlabel(format_band(band))\n",
    "axs.set_ylabel(f\"density [$counts / deg^2$]\")\n",
    "axs.set_yscale(\"log\")\n",
    "axs.legend(loc=\"upper left\")\n",
    "\n",
    "# axs.text(\n",
    "#     0.05, 0.95,\n",
    "#     \"mdet\",\n",
    "#     color=lib.plotting.mdet_color,\n",
    "#     transform=axs.transAxes,\n",
    "#     horizontalalignment=\"left\",\n",
    "#     verticalalignment=\"top\",\n",
    "# )\n",
    "# axs.text(\n",
    "#     0.05, 0.85,\n",
    "#     \"sims\",\n",
    "#     color=lib.plotting.sims_color,\n",
    "#     transform=axs.transAxes,\n",
    "#     horizontalalignment=\"left\",\n",
    "#     verticalalignment=\"top\",\n",
    "# )\n",
    "\n",
    "lib.plotting.watermark(fig)\n",
    "\n",
    "fig.savefig(\"luminosity.pdf\")\n",
    "\n",
    "plt.show()"
   ]
  },
  {
   "cell_type": "markdown",
   "id": "37745673-c09d-4b21-a618-dbc5661cea7b",
   "metadata": {},
   "source": [
    "# Color-color"
   ]
  },
  {
   "cell_type": "code",
   "execution_count": 22,
   "id": "a2da8412-9269-4b9e-90e5-48252690eaa9",
   "metadata": {},
   "outputs": [],
   "source": [
    "def accumulate_hist_pair(imsim_catalog_plus, imsim_catalog_minus, tile, band, bins):\n",
    "    with h5py.File(imsim_catalog_plus) as hf_imsim_plus:\n",
    "        data_p = hf_imsim_plus[\"mdet\"][\"noshear\"]\n",
    "        in_tile_p = data_p[\"tilename\"][:].astype(str) == tile\n",
    "        hist_p = color_color_hist(data_p, in_tile_p, bands_x, bands_y, bins)\n",
    "\n",
    "    with h5py.File(imsim_catalog_minus) as hf_imsim_minus:\n",
    "        data_m = hf_imsim_minus[\"mdet\"][\"noshear\"]\n",
    "        in_tile_m = data_m[\"tilename\"][:].astype(str) == tile\n",
    "        hist_m = color_color_hist(data_m, in_tile_m, bands_x, bands_y, bins)\n",
    "\n",
    "    return hist_p, hist_m\n"
   ]
  },
  {
   "cell_type": "code",
   "execution_count": 23,
   "id": "723f362d-9f68-4fb6-a1e7-18f4612bedf8",
   "metadata": {
    "tags": []
   },
   "outputs": [],
   "source": [
    "NBINS = 100\n",
    "BINS = {\n",
    "    \"gr\": np.linspace(-2, 4, NBINS + 1),\n",
    "    \"ri\": np.linspace(-2, 4, NBINS + 1),\n",
    "}\n",
    "\n",
    "\n",
    "bands_x = \"gr\"\n",
    "bands_y = \"ri\"\n",
    "\n",
    "bins = (BINS[bands_x], BINS[bands_y])"
   ]
  },
  {
   "cell_type": "code",
   "execution_count": 24,
   "id": "6d95e2b1-b268-4abc-853e-36b873afd087",
   "metadata": {},
   "outputs": [
    {
     "name": "stdout",
     "output_type": "stream",
     "text": [
      "processing chunk 31 -- 150000000:151922791:1"
     ]
    }
   ],
   "source": [
    "futures = []\n",
    "with h5py.File(lib.const.Y6_SHEAR_CATALOG) as hf:\n",
    "    dset = hf[\"mdet\"][\"noshear\"]\n",
    "\n",
    "    for i, chunk in enumerate(dset[\"patch_num\"].iter_chunks()):\n",
    "        _start = chunk[0].start\n",
    "        _stop = chunk[0].stop\n",
    "        _step = chunk[0].step\n",
    "        print(f\"processing chunk {i + 1} -- {_start}:{_stop}:{_step}\", end=\"\\r\", flush=True)\n",
    "        with concurrent.futures.ThreadPoolExecutor(max_workers=8) as executor:\n",
    "            _future = executor.submit(color_color_hist, dset, chunk, bands_x, bands_y, bins)\n",
    "            futures.append(_future)\n",
    "\n",
    "# hist = np.nansum([hist, _hist], axis=0)\n",
    "\n",
    "# hist /= mdet_area"
   ]
  },
  {
   "cell_type": "code",
   "execution_count": 25,
   "id": "2d38795b-3941-471e-82ef-8e75ea2f2b49",
   "metadata": {},
   "outputs": [],
   "source": [
    "hist = np.zeros((NBINS, NBINS))\n",
    "for future in futures:\n",
    "    _hist = future.result()\n",
    "    hist = np.nansum([hist, _hist], axis=0)\n",
    "    \n",
    "hist /= mdet_area"
   ]
  },
  {
   "cell_type": "code",
   "execution_count": 26,
   "id": "6e4ff62d-7247-4465-a42e-75e62807e74f",
   "metadata": {
    "tags": []
   },
   "outputs": [],
   "source": [
    "hist_futures = {}\n",
    "with concurrent.futures.ProcessPoolExecutor(max_workers=8) as executor:\n",
    "    for i, tile in enumerate(tiles[:N_TEST]):\n",
    "        _future = executor.submit(\n",
    "            accumulate_hist_pair,\n",
    "            imsim_catalog_plus,\n",
    "            imsim_catalog_minus,\n",
    "            tile,\n",
    "            band,\n",
    "            bins,\n",
    "        )\n",
    "        hist_futures[tile] = _future"
   ]
  },
  {
   "cell_type": "code",
   "execution_count": 27,
   "id": "b3feaad0-1563-4d4b-8fc2-cde3a6d3f6c1",
   "metadata": {},
   "outputs": [],
   "source": [
    "hist_p = np.zeros((NBINS, NBINS))\n",
    "hist_m = np.zeros((NBINS, NBINS))\n",
    "area_p = 0\n",
    "area_m = 0\n",
    "\n",
    "\n",
    "for tile in tiles:\n",
    "    if (\n",
    "        (_hist_future := hist_futures.get(tile)) is not None\n",
    "    ) and (\n",
    "        (_area_future := area_futures.get(tile)) is not None\n",
    "    ):\n",
    "        _hist_p, _hist_m = _hist_future.result()\n",
    "        _area_p, _area_m = _area_future.result()\n",
    "        \n",
    "        hist_p = np.nansum([hist_p, _hist_p], axis=0)\n",
    "        area_p += _area_p\n",
    "        hist_m = np.nansum([hist_m, _hist_m], axis=0)\n",
    "        area_m += _area_m\n",
    "\n",
    "\n",
    "hist_sims = np.nanmean([hist_p / area_p, hist_m / area_m], axis=0)"
   ]
  },
  {
   "cell_type": "code",
   "execution_count": 64,
   "id": "7ac01d6d-2b6d-4503-9ed0-5beedfa54fab",
   "metadata": {
    "tags": []
   },
   "outputs": [
    {
     "name": "stderr",
     "output_type": "stream",
     "text": [
      "/global/u2/s/smau/projects/des/y6-image-sims-analysis/plots/lib/plotting.py:214: UserWarning: Total axes width (3.333333333333333) less than figure width (3.3333333333333335)\n",
      "  warnings.warn(f\"Total axes width ({total_width}) less than figure width ({fig_width})\")\n"
     ]
    },
    {
     "data": {
      "image/png": "[encoded data removed]",
      "text/plain": [
       "<Figure size 333.333x300 with 2 Axes>"
      ]
     },
     "metadata": {},
     "output_type": "display_data"
    }
   ],
   "source": [
    "fig, axs = lib.plotting.make_axes(\n",
    "    1, 1,\n",
    "    **onecolumn_kwargs,\n",
    ")\n",
    "\n",
    "\n",
    "# https://corner.readthedocs.io/en/latest/pages/sigmas/\n",
    "quantiles = 1.0 - np.exp(-0.5 * np.array([1, 2, 3]) ** 2)\n",
    "levels = lib.util.get_levels(hist, quantiles)\n",
    "\n",
    "cmap_mdet = \"des-y6-mdet\"\n",
    "cmap_sims = \"des-y6-sims\"\n",
    "\n",
    "norm = mpl.colors.LogNorm()\n",
    "\n",
    "artists = []\n",
    "labels = []\n",
    "\n",
    "contours = lib.plotting.contour(\n",
    "    axs,\n",
    "    hist,\n",
    "    bins,\n",
    "    # norm=norm,\n",
    "    levels=levels,\n",
    "    colors=lib.plotting.mdet_color,\n",
    "    # cmap=lib.plotting._cmap_mdet,\n",
    ")\n",
    "_artists, _labels = contours.legend_elements()\n",
    "artists.append(_artists[0])\n",
    "labels.append(\"mdet\")\n",
    "\n",
    "contours = lib.plotting.contour(\n",
    "    axs,\n",
    "    hist_sims,\n",
    "    bins,\n",
    "    # norm=norm,\n",
    "    levels=levels,\n",
    "    colors=lib.plotting.sims_color,\n",
    "    # cmap=lib.plotting._cmap_sims,\n",
    ")\n",
    "_artists, _labels = contours.legend_elements()\n",
    "artists.append(_artists[0])\n",
    "labels.append(\"sims\")\n",
    "\n",
    "axs.set_xlabel(format_bands(bands_x))\n",
    "axs.set_ylabel(format_bands(bands_y))\n",
    "# axs.legend(loc=\"upper left\")\n",
    "axs.legend(artists, labels, loc=\"upper left\")\n",
    "\n",
    "# axs.text(\n",
    "#     0.05, 0.95,\n",
    "#     \"mdet\",\n",
    "#     color=lib.plotting.mdet_color,\n",
    "#     transform=axs.transAxes,\n",
    "#     horizontalalignment=\"left\",\n",
    "#     verticalalignment=\"top\",\n",
    "# )\n",
    "# axs.text(\n",
    "#     0.05, 0.85,\n",
    "#     \"sims\",\n",
    "#     color=lib.plotting.sims_color,\n",
    "#     transform=axs.transAxes,\n",
    "#     horizontalalignment=\"left\",\n",
    "#     verticalalignment=\"top\",\n",
    "# )\n",
    "axs.set_xlim(-1, 3)\n",
    "axs.set_ylim(-1, 3)\n",
    "\n",
    "lib.plotting.watermark(fig)\n",
    "\n",
    "fig.savefig(\"color-color.pdf\")\n",
    "\n",
    "plt.show()"
   ]
  },
  {
   "cell_type": "markdown",
   "id": "9f603d20-e7c1-4a14-8cde-d577d52f7709",
   "metadata": {},
   "source": [
    "# Size"
   ]
  },
  {
   "cell_type": "code",
   "execution_count": 30,
   "id": "ae912e2b-a415-4bb9-aec5-6589e94b5dec",
   "metadata": {
    "tags": []
   },
   "outputs": [],
   "source": [
    "def compute_logsnr(data, mask):\n",
    "\n",
    "    snr = data[f\"gauss_s2n\"][mask]\n",
    "    logsnr = np.log10(snr)\n",
    "\n",
    "    return logsnr\n",
    "\n",
    "\n",
    "def compute_logsize(data, mask):\n",
    "\n",
    "    T_ratio = data[f\"gauss_T_ratio\"][mask]\n",
    "    psf_T = data[f\"gauss_psf_T\"][mask]\n",
    "\n",
    "    size = T_ratio * psf_T\n",
    "\n",
    "    logsize = np.log10(1 + size)\n",
    "\n",
    "    return logsize\n",
    "\n",
    "def size_snr_hist(data, mask, bins):\n",
    "    value_x = compute_logsnr(data, mask)\n",
    "    value_y = compute_logsize(data, mask)\n",
    "    # hist, _, _ = np.histogram2d(value_x, value_y, bins=bins)\n",
    "    hist, _, _, _ = stats.binned_statistic_2d(\n",
    "        value_x,\n",
    "        value_y,\n",
    "        None,\n",
    "        statistic=\"count\",\n",
    "        bins=bins,\n",
    "    )\n",
    "    return hist"
   ]
  },
  {
   "cell_type": "code",
   "execution_count": 31,
   "id": "51e92482-c175-4175-ab9d-a45c446b2e7a",
   "metadata": {
    "tags": []
   },
   "outputs": [],
   "source": [
    "def accumulate_hist_pair(imsim_catalog_plus, imsim_catalog_minus, tile, bins):\n",
    "    with h5py.File(imsim_catalog_plus) as hf_imsim_plus:\n",
    "        data_p = hf_imsim_plus[\"mdet\"][\"noshear\"]\n",
    "        in_tile_p = data_p[\"tilename\"][:].astype(str) == tile\n",
    "        hist_p = size_snr_hist(data_p, in_tile_p, bins)\n",
    "\n",
    "    with h5py.File(imsim_catalog_minus) as hf_imsim_minus:\n",
    "        data_m = hf_imsim_minus[\"mdet\"][\"noshear\"]\n",
    "        in_tile_m = data_m[\"tilename\"][:].astype(str) == tile\n",
    "        hist_m = size_snr_hist(data_m, in_tile_m, bins)\n",
    "\n",
    "    return hist_p, hist_m\n"
   ]
  },
  {
   "cell_type": "code",
   "execution_count": 55,
   "id": "8a17b3ac-c683-4509-b4ba-cae0ec1095bb",
   "metadata": {
    "tags": []
   },
   "outputs": [],
   "source": [
    "NBINS = 100\n",
    "BINS = {\n",
    "    \"logsnr\": np.linspace(0.5, 4, NBINS + 1),\n",
    "    \"logsize\": np.linspace(0, 0.7, NBINS + 1),\n",
    "}\n",
    "bins = (BINS[\"logsnr\"], BINS[\"logsize\"])"
   ]
  },
  {
   "cell_type": "code",
   "execution_count": 56,
   "id": "2aad7b0d-85b8-4cb0-908a-dc632a5171e3",
   "metadata": {
    "tags": []
   },
   "outputs": [
    {
     "name": "stdout",
     "output_type": "stream",
     "text": [
      "processing chunk 31 -- 150000000:151922791:1"
     ]
    }
   ],
   "source": [
    "futures = []\n",
    "with h5py.File(lib.const.Y6_SHEAR_CATALOG) as hf:\n",
    "    dset = hf[\"mdet\"][\"noshear\"]\n",
    "\n",
    "    for i, chunk in enumerate(dset[\"patch_num\"].iter_chunks()):\n",
    "        _start = chunk[0].start\n",
    "        _stop = chunk[0].stop\n",
    "        _step = chunk[0].step\n",
    "        print(f\"processing chunk {i + 1} -- {_start}:{_stop}:{_step}\", end=\"\\r\", flush=True)\n",
    "        with concurrent.futures.ThreadPoolExecutor(max_workers=8) as executor:\n",
    "            _future = executor.submit(size_snr_hist, dset, chunk, bins)\n",
    "            futures.append(_future)\n",
    "\n",
    "# hist = np.nansum([hist, _hist], axis=0)\n",
    "\n",
    "# hist /= mdet_area"
   ]
  },
  {
   "cell_type": "code",
   "execution_count": 57,
   "id": "467a85e1-812b-447c-ab75-326fd9903239",
   "metadata": {},
   "outputs": [],
   "source": [
    "hist = np.zeros((NBINS, NBINS))\n",
    "for future in futures:\n",
    "    _hist = future.result()\n",
    "    hist = np.nansum([hist, _hist], axis=0)\n",
    "    \n",
    "hist /= mdet_area"
   ]
  },
  {
   "cell_type": "code",
   "execution_count": null,
   "id": "3be5da1b-0449-42f8-8151-428e0a91016f",
   "metadata": {
    "tags": []
   },
   "outputs": [],
   "source": [
    "hist_futures = {}\n",
    "with concurrent.futures.ProcessPoolExecutor(max_workers=8) as executor:\n",
    "    for i, tile in enumerate(tiles[:N_TEST]):\n",
    "        _future = executor.submit(\n",
    "            accumulate_hist_pair,\n",
    "            imsim_catalog_plus,\n",
    "            imsim_catalog_minus,\n",
    "            tile,\n",
    "            bins,\n",
    "        )\n",
    "        hist_futures[tile] = _future"
   ]
  },
  {
   "cell_type": "code",
   "execution_count": null,
   "id": "a3ff2092-9758-4f0c-808d-c9c1976b79c3",
   "metadata": {},
   "outputs": [],
   "source": [
    "hist_p = np.zeros((NBINS, NBINS))\n",
    "hist_m = np.zeros((NBINS, NBINS))\n",
    "area_p = 0\n",
    "area_m = 0\n",
    "\n",
    "\n",
    "for tile in tiles:\n",
    "    if (\n",
    "        (_hist_future := hist_futures.get(tile)) is not None\n",
    "    ) and (\n",
    "        (_area_future := area_futures.get(tile)) is not None\n",
    "    ):\n",
    "        _hist_p, _hist_m = _hist_future.result()\n",
    "        _area_p, _area_m = _area_future.result()\n",
    "        \n",
    "        hist_p = np.nansum([hist_p, _hist_p], axis=0)\n",
    "        area_p += _area_p\n",
    "        hist_m = np.nansum([hist_m, _hist_m], axis=0)\n",
    "        area_m += _area_m\n",
    "\n",
    "\n",
    "hist_sims = np.nanmean([hist_p / area_p, hist_m / area_m], axis=0)"
   ]
  },
  {
   "cell_type": "code",
   "execution_count": 67,
   "id": "3f4a5757-84cd-4621-9cc3-9de845a0d46e",
   "metadata": {},
   "outputs": [
    {
     "name": "stderr",
     "output_type": "stream",
     "text": [
      "/global/u2/s/smau/projects/des/y6-image-sims-analysis/plots/lib/plotting.py:214: UserWarning: Total axes width (3.333333333333333) less than figure width (3.3333333333333335)\n",
      "  warnings.warn(f\"Total axes width ({total_width}) less than figure width ({fig_width})\")\n",
      "/global/u2/s/smau/projects/des/y6-image-sims-analysis/plots/lib/plotting.py:386: UserWarning: Log scale: values of z <= 0 have been masked\n",
      "  contours = axs.contour(\n"
     ]
    },
    {
     "data": {
      "image/png": "[encoded data removed]",
      "text/plain": [
       "<Figure size 333.333x300 with 2 Axes>"
      ]
     },
     "metadata": {},
     "output_type": "display_data"
    }
   ],
   "source": [
    "fig, axs = lib.plotting.make_axes(\n",
    "    1, 1,\n",
    "    **onecolumn_kwargs,\n",
    ")\n",
    "\n",
    "\n",
    "# https://corner.readthedocs.io/en/latest/pages/sigmas/\n",
    "quantiles = 1.0 - np.exp(-0.5 * np.array([1, 2, 3]) ** 2)\n",
    "levels = lib.util.get_levels(hist, quantiles)\n",
    "\n",
    "cmap_mdet = \"des-y6-mdet\"\n",
    "cmap_sims = \"des-y6-sims\"\n",
    "\n",
    "norm = mpl.colors.LogNorm()\n",
    "\n",
    "artists = []\n",
    "labels = []\n",
    "\n",
    "contours = lib.plotting.contour(\n",
    "    axs,\n",
    "    hist,\n",
    "    bins,\n",
    "    norm=norm,\n",
    "    levels=levels,\n",
    "    colors=lib.plotting.mdet_color,\n",
    "    # cmap=lib.plotting._cmap_mdet,\n",
    ")\n",
    "_artists, _labels = contours.legend_elements()\n",
    "artists.append(_artists[0])\n",
    "labels.append(\"mdet\")\n",
    "\n",
    "contours = lib.plotting.contour(\n",
    "    axs,\n",
    "    hist_sims,\n",
    "    bins,\n",
    "    norm=norm,\n",
    "    levels=levels,\n",
    "    colors=lib.plotting.sims_color,\n",
    "    # cmap=lib.plotting._cmap_sims,\n",
    ")\n",
    "_artists, _labels = contours.legend_elements()\n",
    "artists.append(_artists[0])\n",
    "labels.append(\"sims\")\n",
    "\n",
    "axs.set_xlabel(\"$log_{10}(S/N)$\")\n",
    "axs.set_ylabel(\"$log_{10}(1 + T)$\")\n",
    "axs.set_ylim(0)\n",
    "# axs.legend(loc=\"upper left\")\n",
    "axs.legend(artists, labels, loc=\"upper left\")\n",
    "\n",
    "# axs.text(\n",
    "#     0.05, 0.95,\n",
    "#     \"mdet\",\n",
    "#     color=lib.plotting.mdet_color,\n",
    "#     transform=axs.transAxes,\n",
    "#     horizontalalignment=\"left\",\n",
    "#     verticalalignment=\"top\",\n",
    "# )\n",
    "# axs.text(\n",
    "#     0.05, 0.85,\n",
    "#     \"sims\",\n",
    "#     color=lib.plotting.sims_color,\n",
    "#     transform=axs.transAxes,\n",
    "#     horizontalalignment=\"left\",\n",
    "#     verticalalignment=\"top\",\n",
    "# )\n",
    "\n",
    "lib.plotting.watermark(fig)\n",
    "\n",
    "fig.savefig(\"size-snr.pdf\")\n",
    "\n",
    "plt.show()"
   ]
  },
  {
   "cell_type": "markdown",
   "id": "470e270d-7bb7-49cf-a86e-1e82efb89dde",
   "metadata": {},
   "source": [
    "# Clustering"
   ]
  },
  {
   "cell_type": "code",
   "execution_count": 42,
   "id": "f831c19b-527b-41e0-ad23-d38c481616de",
   "metadata": {},
   "outputs": [],
   "source": [
    "# def compute_clustering(data, mask):\n",
    "\n",
    "#     matcher = smatch.Matcher(data[\"ra\"][mask], data[\"dec\"][mask])\n",
    "#     indices, distances = matcher.query_knn(\n",
    "#         matcher.lon,\n",
    "#         matcher.lat,\n",
    "#         k=2,\n",
    "#         return_distances=True,\n",
    "#     )\n",
    "#     dnn = distances[:, 1] * 60 * 60\n",
    "#     del matcher, indices, distances\n",
    "\n",
    "#     return dnn\n",
    "\n",
    "\n",
    "# def clustering_hist(data, mask, bins):\n",
    "#     dnn = compute_clustering(data, mask, bins)\n",
    "#     # hist, _ = np.histogram(dnn, bins=bins)\n",
    "#     hist, _, _ = stats.binned_statistic(\n",
    "#         dnn,\n",
    "#         None,\n",
    "#         statistic=\"count\",\n",
    "#         bins=bins,\n",
    "#     )\n",
    "#     return hist"
   ]
  },
  {
   "cell_type": "code",
   "execution_count": 43,
   "id": "84b0fc94-4c0a-4a40-a565-67a6022a13cb",
   "metadata": {},
   "outputs": [],
   "source": [
    "# def accumulate_random_clustering_pair(tile, band, mdet_mask):\n",
    "#     tile_area_p = lib.util.get_tile_mask(\n",
    "#         tile,\n",
    "#         band,\n",
    "#         shear=\"plus\",\n",
    "#         mdet_mask=mdet_mask,\n",
    "#     )\n",
    "#     tile_area_m = lib.util.get_tile_mask(\n",
    "#         tile,\n",
    "#         band,\n",
    "#         shear=\"minus\",\n",
    "#         mdet_mask=mdet_mask,\n",
    "#     )\n",
    "\n",
    "#     return tile_area_p, tile_area_m"
   ]
  },
  {
   "cell_type": "code",
   "execution_count": 62,
   "id": "dd72724d-f989-4bd8-b101-b16b68bb5ec9",
   "metadata": {
    "tags": []
   },
   "outputs": [],
   "source": [
    "def accumulate_hist_pair(imsim_catalog_plus, imsim_catalog_minus, tile, bins, mdet_mask):\n",
    "    # plus\n",
    "    with h5py.File(imsim_catalog_plus) as hf_imsim_plus:\n",
    "        data_p = hf_imsim_plus[\"mdet\"][\"noshear\"]\n",
    "        in_tile_p = data_p[\"tilename\"][:].astype(str) == tile\n",
    "        # hist_p = clustering_hist(data_p, in_tile_p, bins)\n",
    "        \n",
    "        matcher_p = smatch.Matcher(data_p[\"ra\"][in_tile_p], data_p[\"dec\"][in_tile_p])\n",
    "        indices_p, distances_p = matcher_p.query_knn(matcher_p.lon, matcher_p.lat, k=2, return_distances=True)\n",
    "        dnn_p = distances_p[:, 1] * 60 * 60\n",
    "        del matcher_p, indices_p, distances_p\n",
    "    \n",
    "        hist_p, _ = np.histogram(dnn_p, bins=bins)\n",
    "        del dnn_p\n",
    " \n",
    "        tile_map_p = lib.util.get_tile_mask(\n",
    "            tile,\n",
    "            band,\n",
    "            shear=\"plus\",\n",
    "            mdet_mask=mdet_mask,\n",
    "        )\n",
    "        tile_area_p = tile_map_p.get_valid_area(degrees=True)\n",
    "\n",
    "        n_sample_p = np.sum(in_tile_p)\n",
    "\n",
    "        rand_ra_p, rand_dec_p = healsparse.make_uniform_randoms(tile_map_p, n_sample_p)\n",
    "        del tile_map_p\n",
    "\n",
    "        rand_matcher_p = smatch.Matcher(rand_ra_p, rand_dec_p)\n",
    "        rand_indices_p, rand_distances_p = rand_matcher_p.query_knn(\n",
    "            rand_matcher_p.lon,\n",
    "            rand_matcher_p.lat,\n",
    "            k=2,\n",
    "            return_distances=True,\n",
    "        )\n",
    "        rand_dnn_p = rand_distances_p[:, 1] * 60 * 60\n",
    "        del rand_matcher_p, rand_indices_p, rand_distances_p\n",
    "    \n",
    "        rand_hist_p, _ = np.histogram(rand_dnn_p, bins=bins)\n",
    "        del rand_dnn_p\n",
    "\n",
    "    # minus\n",
    "    with h5py.File(imsim_catalog_minus) as hf_imsim_minus:\n",
    "        data_m = hf_imsim_minus[\"mdet\"][\"noshear\"]\n",
    "        in_tile_m = data_m[\"tilename\"][:].astype(str) == tile\n",
    "        # hist_m = clustering_hist(data_m, in_tile_m, bins)\n",
    "\n",
    "        matcher_m = smatch.Matcher(data_m[\"ra\"][in_tile_m], data_m[\"dec\"][in_tile_m])\n",
    "        indices_m, distances_m = matcher_m.query_knn(matcher_m.lon, matcher_m.lat, k=2, return_distances=True)\n",
    "        dnn_m = distances_m[:, 1] * 60 * 60\n",
    "        del matcher_m, indices_m, distances_m\n",
    "    \n",
    "        hist_m, _ = np.histogram(dnn_m, bins=bins)\n",
    "        del dnn_m\n",
    "    \n",
    "        tile_map_m = lib.util.get_tile_mask(\n",
    "            tile,\n",
    "            band,\n",
    "            shear=\"minus\",\n",
    "            mdet_mask=mdet_mask,\n",
    "        )\n",
    "        tile_area_m = tile_map_m.get_valid_area(degrees=True)\n",
    "    \n",
    "        n_sample_m = np.sum(in_tile_m)                                                                                                                                                                                                                                                   \n",
    "    \n",
    "        rand_ra_m, rand_dec_m = healsparse.make_uniform_randoms(tile_map_m, n_sample_m)\n",
    "        del tile_map_m\n",
    "    \n",
    "        rand_matcher_m = smatch.Matcher(rand_ra_m, rand_dec_m)\n",
    "        rand_indices_m, rand_distances_m = rand_matcher_m.query_knn(rand_matcher_m.lon, rand_matcher_m.lat, k=2, return_distances=True)\n",
    "        rand_dnn_m = rand_distances_m[:, 1] * 60 * 60\n",
    "        del rand_matcher_m, rand_indices_m, rand_distances_m\n",
    "    \n",
    "        rand_hist_m, _ = np.histogram(rand_dnn_m, bins=bins)\n",
    "        del rand_dnn_m\n",
    "\n",
    "    return hist_p, rand_hist_p, tile_area_p, hist_m, rand_hist_m, tile_area_m\n"
   ]
  },
  {
   "cell_type": "code",
   "execution_count": 47,
   "id": "ac2bb391-b516-4b50-9e8f-3565b8c81104",
   "metadata": {
    "tags": []
   },
   "outputs": [],
   "source": [
    "NBINS = 100 \n",
    "bins = np.geomspace(1e-2, 1, NBINS + 1) * 60"
   ]
  },
  {
   "cell_type": "code",
   "execution_count": 48,
   "id": "18bce74f-335a-4fbc-8734-c71c61be72a7",
   "metadata": {
    "tags": []
   },
   "outputs": [],
   "source": [
    "hist = np.zeros(NBINS)\n",
    "with h5py.File(lib.const.MDET_CATALOG) as hf:\n",
    "    dset = hf[\"mdet\"][\"noshear\"]\n",
    "    # sel = (dset[\"tilename\"][:] == TILENAME)\n",
    "\n",
    "    # matcher = smatch.Matcher(dset[\"ra\"][sel], dset[\"dec\"][sel])\n",
    "    matcher = smatch.Matcher(dset[\"ra\"], dset[\"dec\"])\n",
    "    indices, distances = matcher.query_knn(matcher.lon, matcher.lat, k=2, return_distances=True)\n",
    "    dnn = distances[:, 1] * 60 * 60\n",
    "    del matcher, indices, distances  # forecfully cleanup\n",
    "    _hist, _ = np.histogram(dnn, bins=bins)\n",
    "    hist += _hist\n",
    "\n",
    "# hist /= mdet_area * sum(sel) / len(sel)\n",
    "hist /= mdet_area"
   ]
  },
  {
   "cell_type": "code",
   "execution_count": 63,
   "id": "0ecf5599-e034-4fc3-b63b-bc4a51729042",
   "metadata": {},
   "outputs": [],
   "source": [
    "hist_futures = {}\n",
    "with concurrent.futures.ThreadPoolExecutor(max_workers=8) as executor:\n",
    "    for i, tile in enumerate(tiles[:N_TEST]):\n",
    "        _future = executor.submit(\n",
    "            accumulate_hist_pair,\n",
    "            imsim_catalog_plus,\n",
    "            imsim_catalog_minus,\n",
    "            tile,\n",
    "            bins,\n",
    "            mdet_mask,\n",
    "        )\n",
    "        hist_futures[tile] = _future"
   ]
  },
  {
   "cell_type": "code",
   "execution_count": 65,
   "id": "d672c04a-459a-45d2-9c8f-fe39631357a0",
   "metadata": {},
   "outputs": [],
   "source": [
    "hist_p = np.zeros(NBINS)\n",
    "hist_rand_p = np.zeros(NBINS)\n",
    "hist_m = np.zeros(NBINS)\n",
    "hist_rand_m = np.zeros(NBINS)\n",
    "area_p = 0\n",
    "area_m = 0\n",
    "\n",
    "\n",
    "for tile in tiles:\n",
    "    if (\n",
    "        (_hist_future := hist_futures.get(tile)) is not None\n",
    "    ) and (\n",
    "        (_area_future := area_futures.get(tile)) is not None\n",
    "    ):\n",
    "        _hist_p, _hist_rand_p, _area_p, _hist_m, _hist_rand_m, _area_m = _hist_future.result()\n",
    "        \n",
    "        hist_p = np.nansum([hist_p, _hist_p], axis=0)\n",
    "        hist_rand_p = np.nansum([hist_rand_p, _hist_rand_p], axis=0)\n",
    "        area_p += _area_p\n",
    "        \n",
    "        hist_m = np.nansum([hist_m, _hist_m], axis=0)\n",
    "        hist_rand_m = np.nansum([hist_rand_m, _hist_rand_m], axis=0)\n",
    "        area_m += _area_m\n",
    "\n",
    "\n",
    "hist_sims = np.nanmean([hist_p / area_p, hist_m / area_m], axis=0)\n",
    "hist_rand = np.nanmean([hist_rand_p / area_p, hist_rand_m / area_m], axis=0)"
   ]
  },
  {
   "cell_type": "code",
   "execution_count": 66,
   "id": "01091673-af80-4ca3-879d-5dd4299921ec",
   "metadata": {},
   "outputs": [
    {
     "name": "stderr",
     "output_type": "stream",
     "text": [
      "/global/u2/s/smau/projects/des/y6-image-sims-analysis/plots/lib/plotting.py:214: UserWarning: Total axes width (3.333333333333333) less than figure width (3.3333333333333335)\n",
      "  warnings.warn(f\"Total axes width ({total_width}) less than figure width ({fig_width})\")\n"
     ]
    },
    {
     "data": {
      "image/png": "[encoded data removed]",
      "text/plain": [
       "<Figure size 333.333x300 with 2 Axes>"
      ]
     },
     "metadata": {},
     "output_type": "display_data"
    }
   ],
   "source": [
    "fig, axs = lib.plotting.make_axes(\n",
    "    1, 1,\n",
    "    **onecolumn_kwargs,\n",
    ")\n",
    "\n",
    "\n",
    "cmap_mdet = \"des-y6-mdet\"\n",
    "cmap_sims = \"des-y6-sims\"\n",
    "\n",
    "lib.plotting.contour1d(\n",
    "    axs,\n",
    "    hist,\n",
    "    bins,\n",
    "    color=lib.plotting.mdet_color,\n",
    "    label=\"mdet\",\n",
    ")\n",
    "lib.plotting.contour1d(\n",
    "    axs,\n",
    "    hist_rand,\n",
    "    bins,\n",
    "    color=\"gray\",\n",
    "    ls=\":\",\n",
    "    label=\"rand\",\n",
    ")\n",
    "lib.plotting.contour1d(\n",
    "    axs,\n",
    "    hist_sims,\n",
    "    bins,\n",
    "    color=lib.plotting.sims_color,\n",
    "    label=\"sims\",\n",
    ")\n",
    "axs.set_xlabel(\"nearest neighbor distance [arcsec]\")\n",
    "axs.set_ylabel(\"density [$counts / deg^2$]\")\n",
    "axs.set_xscale(\"log\")\n",
    "axs.xaxis.set_major_formatter(mpl.ticker.ScalarFormatter())\n",
    "axs.legend(loc=\"upper left\")\n",
    "\n",
    "# axs.text(\n",
    "#     0.05, 0.95,\n",
    "#     \"mdet\",\n",
    "#     color=lib.plotting.mdet_color,\n",
    "#     transform=axs.transAxes,\n",
    "#     horizontalalignment=\"left\",\n",
    "#     verticalalignment=\"top\",\n",
    "# )\n",
    "# axs.text(\n",
    "#     0.05, 0.85,\n",
    "#     \"sims\",\n",
    "#     color=lib.plotting.sims_color,\n",
    "#     transform=axs.transAxes,\n",
    "#     horizontalalignment=\"left\",\n",
    "#     verticalalignment=\"top\",\n",
    "# )\n",
    "\n",
    "lib.plotting.watermark(fig)\n",
    "\n",
    "fig.savefig(\"clustering.pdf\")\n",
    "\n",
    "plt.show()"
   ]
  },
  {
   "cell_type": "code",
   "execution_count": null,
   "id": "c29458da-a1ea-4511-897c-96878b6556fe",
   "metadata": {},
   "outputs": [],
   "source": []
  }
 ],
 "metadata": {
  "kernelspec": {
   "display_name": "DESY6DEV",
   "language": "python",
   "name": "des-y6-dev"
  },
  "language_info": {
   "codemirror_mode": {
    "name": "ipython",
    "version": 3
   },
   "file_extension": ".py",
   "mimetype": "text/x-python",
   "name": "python",
   "nbconvert_exporter": "python",
   "pygments_lexer": "ipython3",
   "version": "3.11.10"
  }
 },
 "nbformat": 4,
 "nbformat_minor": 5
}
