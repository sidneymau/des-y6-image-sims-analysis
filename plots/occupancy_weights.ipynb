{
 "cells": [
  {
   "cell_type": "code",
   "execution_count": 1,
   "id": "311b1fc2-987d-472a-9e7a-d532b7a057aa",
   "metadata": {},
   "outputs": [],
   "source": [
    "import os\n",
    "import functools\n",
    "import operator\n",
    "import concurrent.futures"
   ]
  },
  {
   "cell_type": "code",
   "execution_count": 2,
   "id": "36626cdf-fe66-4b3f-b8a5-5f4bba2ff41e",
   "metadata": {},
   "outputs": [],
   "source": [
    "import h5py\n",
    "import numpy as np\n",
    "from scipy import stats\n",
    "import matplotlib as mpl\n",
    "import matplotlib.pyplot as plt\n",
    "from matplotlib.colors import LinearSegmentedColormap"
   ]
  },
  {
   "cell_type": "code",
   "execution_count": 3,
   "id": "9a11148a-ff28-47ad-8173-4e74519251cf",
   "metadata": {},
   "outputs": [],
   "source": [
    "import lib"
   ]
  },
  {
   "cell_type": "code",
   "execution_count": 4,
   "id": "969be0b9-a584-4871-90ca-abfc47ce124c",
   "metadata": {},
   "outputs": [],
   "source": [
    "lib.plotting.setup()"
   ]
  },
  {
   "cell_type": "code",
   "execution_count": 16,
   "id": "49318e4f-45f6-4e37-bae8-a4c2fb2c8a09",
   "metadata": {
    "tags": []
   },
   "outputs": [],
   "source": [
    "onecolumn_kwargs = {\n",
    "    \"width\": 1 + 1/3,\n",
    "    \"height\": 1 + 1/3,\n",
    "    \"horizontal_margin\": 1/6,\n",
    "    \"vertical_margin\": 1/3,\n",
    "    \"horizontal_gutter\": 0,\n",
    "    \"fig_width\": 3,\n",
    "    \"fig_height\": 2,\n",
    "}\n",
    "twocolumn_kwargs = {\n",
    "    \"width\": 1 + 1/3,\n",
    "    \"height\": 1 + 1/3,\n",
    "    \"horizontal_margin\": 5/6,\n",
    "    \"vertical_margin\": 1/3,\n",
    "    \"top_margin\": 1/3 + 1/4,\n",
    "    \"horizontal_gutter\": 0,\n",
    "    \"fig_width\": 7,\n",
    "    \"fig_height\": 2.25,\n",
    "}"
   ]
  },
  {
   "cell_type": "code",
   "execution_count": 6,
   "id": "7657ce1a-3ba0-417b-a09d-15f167872c24",
   "metadata": {},
   "outputs": [],
   "source": [
    "shear_step_plus = \"g1_slice=0.02__g2_slice=0.00__g1_other=0.00__g2_other=0.00__zlow=0.0__zhigh=6.0\"\n",
    "shear_step_minus = \"g1_slice=-0.02__g2_slice=0.00__g1_other=0.00__g2_other=0.00__zlow=0.0__zhigh=6.0\"\n",
    "\n",
    "assert shear_step_plus in lib.const.SHEAR_STEPS\n",
    "assert shear_step_minus in lib.const.SHEAR_STEPS"
   ]
  },
  {
   "cell_type": "code",
   "execution_count": 7,
   "id": "d758192d-649a-4f4c-92d2-0e7c961bee4f",
   "metadata": {},
   "outputs": [],
   "source": [
    " with (\n",
    "        h5py.File(lib.const.SIM_SHEAR_CATALOGS[shear_step_plus], \"r\") as shear_sim_plus,\n",
    "        h5py.File(lib.const.SIM_REDSHIFT_CATALOGS[shear_step_plus], \"r\") as redshift_sim_plus,\n",
    "        h5py.File(lib.const.SIM_WEIGHT_CATALOGS[shear_step_plus], \"r\") as weight_plus,\n",
    "        h5py.File(lib.const.SIM_SHEAR_CATALOGS[shear_step_minus], \"r\") as shear_sim_minus,\n",
    "        h5py.File(lib.const.SIM_REDSHIFT_CATALOGS[shear_step_minus], \"r\") as redshift_sim_minus,\n",
    "        h5py.File(lib.const.SIM_WEIGHT_CATALOGS[shear_step_minus], \"r\") as weight_minus,\n",
    "        h5py.File(lib.const.Y6_SHEAR_CATALOG, \"r\") as shear_y6,\n",
    "        h5py.File(lib.const.Y6_REDSHIFT_CATALOG, \"r\") as redshift_y6,\n",
    "    ):\n",
    "        mdet_step = \"noshear\"\n",
    "            \n",
    "        cell_sim_plus = lib.tomography.get_assignment(shear_sim_plus, redshift_sim_plus, mdet_step)\n",
    "        statistical_weight_plus = weight_plus[\"mdet\"][\"noshear\"][\"statistical_weight\"][:]\n",
    "        nz_match_plus = weight_plus[\"mdet\"][\"noshear\"][\"nz_weight\"][:]\n",
    "        w_match_plus = weight_plus[\"mdet\"][\"noshear\"][\"occupancy_weight\"][:]\n",
    "        nbr_match_plus = weight_plus[\"mdet\"][\"noshear\"][\"neighbor_weight\"][:]\n",
    "\n",
    "            \n",
    "        cell_sim_minus = lib.tomography.get_assignment(shear_sim_minus, redshift_sim_minus, mdet_step)\n",
    "        statistical_weight_minus = weight_minus[\"mdet\"][\"noshear\"][\"statistical_weight\"][:]\n",
    "        nz_match_minus = weight_minus[\"mdet\"][\"noshear\"][\"nz_weight\"][:]\n",
    "        w_match_minus = weight_minus[\"mdet\"][\"noshear\"][\"occupancy_weight\"][:]\n",
    "        nbr_match_minus = weight_minus[\"mdet\"][\"noshear\"][\"neighbor_weight\"][:]\n",
    "        \n",
    "        cell_y6 = lib.tomography.get_assignment(shear_y6, redshift_y6, mdet_step)\n",
    "        weight_y6 = lib.weight.get_shear_weights(shear_y6[\"mdet\"][mdet_step])\n",
    "\n",
    "        # ---\n",
    "\n",
    "        _som_weight_sim_plus, _, _ = stats.binned_statistic(\n",
    "            cell_sim_plus,\n",
    "            statistical_weight_plus,\n",
    "            statistic=\"sum\",\n",
    "            bins=lib.const.CELL_IDS,\n",
    "        )\n",
    "        som_occupancy_sim_plus = _som_weight_sim_plus / sum(_som_weight_sim_plus)\n",
    "\n",
    "        _som_weight_sim_minus, _, _ = stats.binned_statistic(\n",
    "            cell_sim_minus,\n",
    "            statistical_weight_minus,\n",
    "            statistic=\"sum\",\n",
    "            bins=lib.const.CELL_IDS,\n",
    "        )\n",
    "        som_occupancy_sim_minus = _som_weight_sim_minus / sum(_som_weight_sim_minus)\n",
    "\n",
    "        som_occupancy_sim = (som_occupancy_sim_plus + som_occupancy_sim_minus) / 2\n",
    "\n",
    "        # ---\n",
    "            \n",
    "        _som_w_sim_plus, _, _ = stats.binned_statistic(\n",
    "            cell_sim_plus,\n",
    "            statistical_weight_plus * w_match_plus,\n",
    "            statistic=\"sum\",\n",
    "            bins=lib.const.CELL_IDS,\n",
    "        )\n",
    "        som_w_sim_plus = _som_w_sim_plus / sum(_som_w_sim_plus)\n",
    "\n",
    "        _som_w_sim_minus, _, _ = stats.binned_statistic(\n",
    "            cell_sim_minus,\n",
    "            statistical_weight_minus * w_match_minus,\n",
    "            statistic=\"sum\",\n",
    "            bins=lib.const.CELL_IDS,\n",
    "        )\n",
    "        som_w_sim_minus = _som_w_sim_minus / sum(_som_w_sim_minus)\n",
    "\n",
    "        som_w_sim = (som_w_sim_plus + som_w_sim_minus) / 2\n",
    "\n",
    "        # ---\n",
    "            \n",
    "        _som_nz_sim_plus, _, _ = stats.binned_statistic(\n",
    "            cell_sim_plus,\n",
    "            statistical_weight_plus * nz_match_plus,\n",
    "            statistic=\"sum\",\n",
    "            bins=lib.const.CELL_IDS,\n",
    "        )\n",
    "        som_nz_sim_plus = _som_nz_sim_plus / sum(_som_nz_sim_plus)\n",
    "\n",
    "        _som_nz_sim_minus, _, _ = stats.binned_statistic(\n",
    "            cell_sim_minus,\n",
    "            statistical_weight_minus * nz_match_minus,\n",
    "            statistic=\"sum\",\n",
    "            bins=lib.const.CELL_IDS,\n",
    "        )\n",
    "        som_nz_sim_minus = _som_nz_sim_minus / sum(_som_nz_sim_minus)\n",
    "\n",
    "        som_nz_sim = (som_nz_sim_plus + som_nz_sim_minus) / 2\n",
    "\n",
    "        # ---\n",
    "            \n",
    "        _som_nbr_sim_plus, _, _ = stats.binned_statistic(\n",
    "            cell_sim_plus,\n",
    "            statistical_weight_plus * nbr_match_plus,\n",
    "            statistic=\"sum\",\n",
    "            bins=lib.const.CELL_IDS,\n",
    "        )\n",
    "        som_nbr_sim_plus = _som_nbr_sim_plus / sum(_som_nbr_sim_plus)\n",
    "\n",
    "        _som_nbr_sim_minus, _, _ = stats.binned_statistic(\n",
    "            cell_sim_minus,\n",
    "            statistical_weight_minus * nbr_match_minus,\n",
    "            statistic=\"sum\",\n",
    "            bins=lib.const.CELL_IDS,\n",
    "        )\n",
    "        som_nbr_sim_minus = _som_nbr_sim_minus / sum(_som_nbr_sim_minus)\n",
    "\n",
    "        som_nbr_sim = (som_nbr_sim_plus + som_nbr_sim_minus) / 2\n",
    "      \n",
    "        # ---\n",
    "\n",
    "        _som_weight_y6, _, _ = stats.binned_statistic(\n",
    "            cell_y6,\n",
    "            weight_y6,\n",
    "            statistic=\"sum\",\n",
    "            bins=lib.const.CELL_IDS,\n",
    "        )\n",
    "        som_occupancy_y6 = _som_weight_y6 / sum(_som_weight_y6)\n",
    "\n",
    "        # ---\n",
    "\n",
    "        occupancy_difference = som_occupancy_sim - som_occupancy_y6\n",
    "        occupancy_ratio = som_occupancy_sim / som_occupancy_y6\n",
    "\n",
    "        w_difference = som_w_sim - som_occupancy_y6\n",
    "        w_ratio = som_w_sim / som_occupancy_y6\n",
    "\n",
    "        nz_difference = som_nz_sim - som_occupancy_y6\n",
    "        nz_ratio = som_nz_sim / som_occupancy_y6\n",
    "\n",
    "        nbr_difference = som_nbr_sim - som_occupancy_y6\n",
    "        nbr_ratio = som_nbr_sim / som_occupancy_y6"
   ]
  },
  {
   "cell_type": "code",
   "execution_count": 8,
   "id": "062d4b15-30f9-4157-9e39-b7cb49198f4b",
   "metadata": {},
   "outputs": [
    {
     "data": {
      "image/png": "[encoded data removed]",
      "text/html": [
       "<div style=\"vertical-align: middle;\"><strong></strong> </div><div class=\"cmap\"><img alt=\" colormap\" title=\"\" style=\"border: 1px solid #555;\" src=\"data:image/png;base64,iVBORw0KGgoAAAANSUhEUgAAAgAAAABACAYAAABsv8+/AAAAD3RFWHRUaXRsZQAgY29sb3JtYXCKlOmYAAAAFXRFWHREZXNjcmlwdGlvbgAgY29sb3JtYXAQltASAAAAMHRFWHRBdXRob3IATWF0cGxvdGxpYiB2My45LjIsIGh0dHBzOi8vbWF0cGxvdGxpYi5vcmdhmcVTAAAAMnRFWHRTb2Z0d2FyZQBNYXRwbG90bGliIHYzLjkuMiwgaHR0cHM6Ly9tYXRwbG90bGliLm9yZ08/WnQAAAHjSURBVHic7dZBcpswAEBR0cP1ALlWD003Da4RKhMn02nnv7dxjEBCkRd/+/72Yx9jjG38sm2/fxzXj++ngeX4dP39/uf57+Y5TTePHwN/Xmee53qfY7H++f3GJ9fZTn/M+39+fqzGTwO357ac53SuHz63u/N6bZ6Xz22x/lic11ef23Kd0/zz7/Z6/cd7ne//3DyHfX/+PC7vl+OP68edi/H9NLxf3v947vp95ufG9fi/vo/p/v9zH+/3T+uu1huLdZfnfL3u6/u4fs95HzfvOf1fb97zg7/Xx/H9nX18GwBAjgAAgCABAABBAgAAggQAAAQJAAAIEgAAECQAACBIAABAkAAAgCABAABBAgAAggQAAAQJAAAIEgAAECQAACBIAABAkAAAgCABAABBAgAAggQAAAQJAAAIEgAAECQAACBIAABAkAAAgCABAABBAgAAggQAAAQJAAAIEgAAECQAACBIAABAkAAAgCABAABBAgAAggQAAAQJAAAIEgAAECQAACBIAABAkAAAgCABAABBAgAAggQAAAQJAAAIEgAAECQAACBIAABAkAAAgCABAABBAgAAggQAAAQJAAAIEgAAECQAACBIAABAkAAAgCABAABBAgAAggQAAAQJAAAIEgAAEPQTNM71h6RZpE8AAAAASUVORK5CYII=\"></div><div style=\"vertical-align: middle; max-width: 514px; display: flex; justify-content: space-between;\"><div style=\"float: left;\"><div title=\"#ffffffff\" style=\"display: inline-block; width: 1em; height: 1em; margin: 0; vertical-align: middle; border: 1px solid #555; background-color: #ffffffff;\"></div> under</div><div style=\"margin: 0 auto; display: inline-block;\">bad <div title=\"#00000000\" style=\"display: inline-block; width: 1em; height: 1em; margin: 0; vertical-align: middle; border: 1px solid #555; background-color: #00000000;\"></div></div><div style=\"float: right;\">over <div title=\"#000000ff\" style=\"display: inline-block; width: 1em; height: 1em; margin: 0; vertical-align: middle; border: 1px solid #555; background-color: #000000ff;\"></div></div></div>"
      ],
      "text/plain": [
       "<matplotlib.colors.LinearSegmentedColormap at 0x7f22f1f8ebd0>"
      ]
     },
     "execution_count": 8,
     "metadata": {},
     "output_type": "execute_result"
    }
   ],
   "source": [
    "_cmap = LinearSegmentedColormap.from_list(\"\", [\n",
    "    (0.2759976400017525, 0.3225096299269912, 0.5477585030435282, 1.0),\n",
    "    (2/3, 2/3, 2/3, 1.0),\n",
    "    (0.5268264490099523, 0.2475770194988413, 0.26559200123532123, 1.0),\n",
    "]).with_extremes(over=\"black\", under=\"white\")\n",
    "_cmap"
   ]
  },
  {
   "cell_type": "code",
   "execution_count": 9,
   "id": "de01831d-3e75-4c8e-b793-88fbf12a7417",
   "metadata": {},
   "outputs": [
    {
     "name": "stderr",
     "output_type": "stream",
     "text": [
      "/global/u2/s/smau/projects/des/y6-image-sims-analysis/plots/lib/plotting.py:214: UserWarning: Total axes width (2.9999999999999996) less than figure width (3.0)\n",
      "  warnings.warn(f\"Total axes width ({total_width}) less than figure width ({fig_width})\")\n",
      "/global/u2/s/smau/projects/des/y6-image-sims-analysis/plots/lib/plotting.py:219: UserWarning: Total axes height (1.9999999999999998) less than figure height (2.0)\n",
      "  warnings.warn(f\"Total axes height ({total_height}) less than figure height ({fig_height})\")\n"
     ]
    },
    {
     "data": {
      "image/png": "[encoded data removed]",
      "text/plain": [
       "<Figure size 300x200 with 4 Axes>"
      ]
     },
     "metadata": {},
     "output_type": "display_data"
    }
   ],
   "source": [
    "# fig, axs = plt.subplots(1, 4, figsize=(7, 3), sharex=True, sharey=True)\n",
    "# fig.subplots_adjust(wspace=0, hspace=0)\n",
    "\n",
    "fig, axs = lib.plotting.make_axes(\n",
    "    1, 2,\n",
    "    **onecolumn_kwargs,\n",
    ")\n",
    "\n",
    "norm = mpl.colors.Normalize(vmin=0)\n",
    "cmap = \"binary\"\n",
    "\n",
    "\n",
    "im = axs[0].imshow(\n",
    "    som_occupancy_y6.reshape(lib.const.SOM_SHAPE),\n",
    "    origin=\"lower\",\n",
    "    norm=norm,\n",
    "    cmap=cmap,\n",
    ")\n",
    "axs[0].set_title(\"Y6\")\n",
    "\n",
    "\n",
    "im = axs[1].imshow(\n",
    "    som_occupancy_sim.reshape(lib.const.SOM_SHAPE),\n",
    "    origin=\"lower\",\n",
    "    norm=norm,\n",
    "    cmap=cmap,\n",
    ")\n",
    "axs[1].set_title(\"sim\")\n",
    "\n",
    "# lib.plotting.add_colorbar(axs[3], im, label=\"Occupancy Ratio\", extend=\"max\")\n",
    "\n",
    "for ax in axs.ravel():\n",
    "    ax.set_xticks([])\n",
    "    ax.set_yticks([])\n",
    "\n",
    "\n",
    "lib.plotting.watermark(fig)\n",
    "\n",
    "plt.savefig(\"occupancy.pdf\")\n",
    "\n",
    "plt.show()"
   ]
  },
  {
   "cell_type": "code",
   "execution_count": 18,
   "id": "62c079c7-aabb-4772-a63c-a7c83dc805a9",
   "metadata": {},
   "outputs": [
    {
     "name": "stderr",
     "output_type": "stream",
     "text": [
      "/global/u2/s/smau/projects/des/y6-image-sims-analysis/plots/lib/plotting.py:214: UserWarning: Total axes width (6.999999999999999) less than figure width (7.0)\n",
      "  warnings.warn(f\"Total axes width ({total_width}) less than figure width ({fig_width})\")\n"
     ]
    },
    {
     "data": {
      "image/png": "[encoded data removed]",
      "text/plain": [
       "<Figure size 700x225 with 8 Axes>"
      ]
     },
     "metadata": {},
     "output_type": "display_data"
    }
   ],
   "source": [
    "# fig, axs = plt.subplots(1, 4, figsize=(7, 3), sharex=True, sharey=True)\n",
    "# fig.subplots_adjust(wspace=0, hspace=0)\n",
    "\n",
    "fig, axs = lib.plotting.make_axes(\n",
    "    1, 4,\n",
    "    **twocolumn_kwargs,\n",
    ")\n",
    "\n",
    "norm = mpl.colors.Normalize(vmin=0)\n",
    "cmap = \"binary\"\n",
    "\n",
    "ratio_norm = mpl.colors.CenteredNorm(1, 1)\n",
    "ratio_cmap = _cmap\n",
    "# ratio_norm = mpl.colors.BoundaryNorm(np.linspace(0, 2, 12), ratio_cmap.N)\n",
    "\n",
    "\n",
    "im = axs[0].imshow(\n",
    "    occupancy_ratio.reshape(lib.const.SOM_SHAPE),\n",
    "    origin=\"lower\",\n",
    "    norm=ratio_norm,\n",
    "    cmap=ratio_cmap,\n",
    ")\n",
    "axs[0].set_title(\"sim\")\n",
    "\n",
    "\n",
    "im = axs[1].imshow(\n",
    "    nbr_ratio.reshape(lib.const.SOM_SHAPE),\n",
    "    origin=\"lower\",\n",
    "    norm=ratio_norm,\n",
    "    cmap=ratio_cmap,\n",
    ")\n",
    "axs[1].set_title(\"nbr-match\")\n",
    "\n",
    "\n",
    "im = axs[2].imshow(\n",
    "    w_ratio.reshape(lib.const.SOM_SHAPE),\n",
    "    origin=\"lower\",\n",
    "    norm=ratio_norm,\n",
    "    cmap=ratio_cmap,\n",
    ")\n",
    "axs[2].set_title(\"w-match\")\n",
    "\n",
    "\n",
    "im = axs[3].imshow(\n",
    "    nz_ratio.reshape(lib.const.SOM_SHAPE),\n",
    "    origin=\"lower\",\n",
    "    norm=ratio_norm,\n",
    "    cmap=ratio_cmap,\n",
    ")\n",
    "axs[3].set_title(\"nz-match\")\n",
    "\n",
    "# cb = fig.colorbar(im, ax=axs[:], location=\"right\", label=\"Occupancy Ratio\", extend=\"max\")\n",
    "lib.plotting.add_colorbar(axs[3], im, label=\"$sim / Y6$\", extend=\"max\")\n",
    "\n",
    "for ax in axs.ravel():\n",
    "    ax.set_xticks([])\n",
    "    ax.set_yticks([])\n",
    "\n",
    "fig.suptitle(\"Map Occupany Weights\")\n",
    "\n",
    "\n",
    "lib.plotting.watermark(fig)\n",
    "\n",
    "plt.savefig(\"occupancy_weights.pdf\")\n",
    "\n",
    "plt.show()"
   ]
  },
  {
   "cell_type": "code",
   "execution_count": 244,
   "id": "354ec762-d39a-494f-b0ac-bf263cdc0a5e",
   "metadata": {},
   "outputs": [],
   "source": [
    "_cmap_negative = lib.plotting.cubehelix_colormap(\n",
    "    start=0,\n",
    "    rot=-0.1,\n",
    "    gamma=1,\n",
    "    hue=1,\n",
    "    light=2/3,\n",
    "    dark=1/3,\n",
    "    reverse=False,\n",
    "    name=\"m\",\n",
    ")\n",
    "_cmap_negative_gray = lib.plotting.cubehelix_colormap(\n",
    "    start=0,\n",
    "    rot=-0.1,\n",
    "    gamma=1,\n",
    "    hue=0,\n",
    "    light=2/3,\n",
    "    dark=1/3,\n",
    "    reverse=False,\n",
    "    name=\"m\",\n",
    ")\n",
    "_cmap_positive = lib.plotting.cubehelix_colormap(\n",
    "    start=1,\n",
    "    rot=-0.1,\n",
    "    gamma=1,\n",
    "    hue=1,\n",
    "    light=2/3,\n",
    "    dark=1/3,\n",
    "    reverse=True,\n",
    "    name=\"p\",\n",
    ")\n",
    "_cmap_positive_gray = lib.plotting.cubehelix_colormap(\n",
    "    start=1,\n",
    "    rot=-0.1,\n",
    "    gamma=1,\n",
    "    hue=0,\n",
    "    light=2/3,\n",
    "    dark=1/3,\n",
    "    reverse=True,\n",
    "    name=\"p\",\n",
    ")"
   ]
  },
  {
   "cell_type": "code",
   "execution_count": 245,
   "id": "3a630400-c674-4c93-8a54-d703e7a14f6f",
   "metadata": {},
   "outputs": [
    {
     "data": {
      "image/png": "[encoded data removed]",
      "text/html": [
       "<div style=\"vertical-align: middle;\"><strong>m</strong> </div><div class=\"cmap\"><img alt=\"m colormap\" title=\"m\" style=\"border: 1px solid #555;\" src=\"data:image/png;base64,iVBORw0KGgoAAAANSUhEUgAAAgAAAABACAYAAABsv8+/AAAAEHRFWHRUaXRsZQBtIGNvbG9ybWFw2hgRDgAAABZ0RVh0RGVzY3JpcHRpb24AbSBjb2xvcm1hcNfveQkAAAAwdEVYdEF1dGhvcgBNYXRwbG90bGliIHYzLjkuMiwgaHR0cHM6Ly9tYXRwbG90bGliLm9yZ2GZxVMAAAAydEVYdFNvZnR3YXJlAE1hdHBsb3RsaWIgdjMuOS4yLCBodHRwczovL21hdHBsb3RsaWIub3JnTz9adAAAAetJREFUeJzt1kFWwjAAQMHWw3kAr+WhdYVKQmwR3fhnNj5Dm4ZA9O/PL69v27Zt27ZvX+0fv16PX17Y5wu/Hb+8sp738uP2847m36fnLdb7+aDrdc0PODX/NL6c9+T90z4NE4/7tLhudf/9+z/cvxr/q3k/fr1v3sffxzTh9eWL/V99LsvPa/p+nhsfVnH+HP5w39b7Obw+Hd+z5/Jo/GgdZ7/3j65vWMfZz/ngeavzM40vj/336z1/zn5rvcP8i/2Y/5+Md6/2+fYD735/y+/ttNDF+OX6R/dpMc/B3517z8k4z9PtZQAA/5kAAIAgAQAAQQIAAIIEAAAECQAACBIAABAkAAAgSAAAQJAAAIAgAQAAQQIAAIIEAAAECQAACBIAABAkAAAgSAAAQJAAAIAgAQAAQQIAAIIEAAAECQAACBIAABAkAAAgSAAAQJAAAIAgAQAAQQIAAIIEAAAECQAACBIAABAkAAAgSAAAQJAAAIAgAQAAQQIAAIIEAAAECQAACBIAABAkAAAgSAAAQJAAAIAgAQAAQQIAAIIEAAAECQAACBIAABAkAAAgSAAAQJAAAIAgAQAAQQIAAIIEAAAECQAACBIAABAkAAAgSAAAQJAAAIAgAQAAQQIAAIIEAAAECQAACBIAABD0DmzjA5kCjHRUAAAAAElFTkSuQmCC\"></div><div style=\"vertical-align: middle; max-width: 514px; display: flex; justify-content: space-between;\"><div style=\"float: left;\"><div title=\"#46528cff\" style=\"display: inline-block; width: 1em; height: 1em; margin: 0; vertical-align: middle; border: 1px solid #555; background-color: #46528cff;\"></div> under</div><div style=\"margin: 0 auto; display: inline-block;\">bad <div title=\"#00000000\" style=\"display: inline-block; width: 1em; height: 1em; margin: 0; vertical-align: middle; border: 1px solid #555; background-color: #00000000;\"></div></div><div style=\"float: right;\">over <div title=\"#92adddff\" style=\"display: inline-block; width: 1em; height: 1em; margin: 0; vertical-align: middle; border: 1px solid #555; background-color: #92adddff;\"></div></div></div>"
      ],
      "text/plain": [
       "<matplotlib.colors.LinearSegmentedColormap at 0x7f6b19ab4590>"
      ]
     },
     "execution_count": 245,
     "metadata": {},
     "output_type": "execute_result"
    }
   ],
   "source": [
    "_cmap_negative"
   ]
  },
  {
   "cell_type": "code",
   "execution_count": 246,
   "id": "43632472-ccb0-46da-a92b-a05bfb1db9f6",
   "metadata": {},
   "outputs": [
    {
     "data": {
      "image/png": "[encoded data removed]",
      "text/html": [
       "<div style=\"vertical-align: middle;\"><strong>p</strong> </div><div class=\"cmap\"><img alt=\"p colormap\" title=\"p\" style=\"border: 1px solid #555;\" src=\"data:image/png;base64,iVBORw0KGgoAAAANSUhEUgAAAgAAAABACAYAAABsv8+/AAAAEHRFWHRUaXRsZQBwIGNvbG9ybWFwCEgbVgAAABZ0RVh0RGVzY3JpcHRpb24AcCBjb2xvcm1hcAW/c1EAAAAwdEVYdEF1dGhvcgBNYXRwbG90bGliIHYzLjkuMiwgaHR0cHM6Ly9tYXRwbG90bGliLm9yZ2GZxVMAAAAydEVYdFNvZnR3YXJlAE1hdHBsb3RsaWIgdjMuOS4yLCBodHRwczovL21hdHBsb3RsaWIub3JnTz9adAAAAd1JREFUeJzt1kFym0AUQEGS+298hxwrdyELl5wyHwJYysaveyN70NTAjKh6P36//VqXZVmW9f3jYV3Wxx8b697HmP+4MobH/HX38py//705f/scB/d3Mn/e9r39Gfc9lh8buPfvmHi0H+vc6E8T/l59zfndP5ej8ef2++4+Hj/vY/jq+Nf25/74q+9nMz5v4GT86jkcjd87n/n0r9n30/WP3pOT8dvnu/nC0+vPBU/W+ff41fO7+r5f/V2N5x3T7p3j1fdi3O/d39PH9Wvv5/9bb398uy8/d2cBAN+aAACAIAEAAEECAACCBAAABAkAAAgSAAAQJAAAIEgAAECQAACAIAEAAEECAACCBAAABAkAAAgSAAAQJAAAIEgAAECQAACAIAEAAEECAACCBAAABAkAAAgSAAAQJAAAIEgAAECQAACAIAEAAEECAACCBAAABAkAAAgSAAAQJAAAIEgAAECQAACAIAEAAEECAACCBAAABAkAAAgSAAAQJAAAIEgAAECQAACAIAEAAEECAACCBAAABAkAAAgSAAAQJAAAIEgAAECQAACAIAEAAEECAACCBAAABAkAAAgSAAAQJAAAIEgAAECQAACAIAEAAEECAACCBAAABAkAAAgSAAAQ9Af82AuWgkFHYAAAAABJRU5ErkJggg==\"></div><div style=\"vertical-align: middle; max-width: 514px; display: flex; justify-content: space-between;\"><div style=\"float: left;\"><div title=\"#dd91a4ff\" style=\"display: inline-block; width: 1em; height: 1em; margin: 0; vertical-align: middle; border: 1px solid #555; background-color: #dd91a4ff;\"></div> under</div><div style=\"margin: 0 auto; display: inline-block;\">bad <div title=\"#00000000\" style=\"display: inline-block; width: 1em; height: 1em; margin: 0; vertical-align: middle; border: 1px solid #555; background-color: #00000000;\"></div></div><div style=\"float: right;\">over <div title=\"#863f44ff\" style=\"display: inline-block; width: 1em; height: 1em; margin: 0; vertical-align: middle; border: 1px solid #555; background-color: #863f44ff;\"></div></div></div>"
      ],
      "text/plain": [
       "<matplotlib.colors.LinearSegmentedColormap at 0x7f6b197a7b50>"
      ]
     },
     "execution_count": 246,
     "metadata": {},
     "output_type": "execute_result"
    }
   ],
   "source": [
    "_cmap_positive"
   ]
  },
  {
   "cell_type": "code",
   "execution_count": null,
   "id": "e3973fbc-aba3-43a2-9584-4aa988b2de84",
   "metadata": {},
   "outputs": [],
   "source": []
  }
 ],
 "metadata": {
  "kernelspec": {
   "display_name": "DESY6DEV",
   "language": "python",
   "name": "des-y6-dev"
  },
  "language_info": {
   "codemirror_mode": {
    "name": "ipython",
    "version": 3
   },
   "file_extension": ".py",
   "mimetype": "text/x-python",
   "name": "python",
   "nbconvert_exporter": "python",
   "pygments_lexer": "ipython3",
   "version": "3.11.10"
  }
 },
 "nbformat": 4,
 "nbformat_minor": 5
}
