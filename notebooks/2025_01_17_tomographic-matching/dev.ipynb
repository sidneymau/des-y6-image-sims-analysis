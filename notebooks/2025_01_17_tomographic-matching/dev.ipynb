{
 "cells": [
  {
   "cell_type": "code",
   "execution_count": 1,
   "id": "988bc845-622f-4f54-b388-13fa90085f21",
   "metadata": {
    "tags": []
   },
   "outputs": [],
   "source": [
    "import functools\n",
    "import glob\n",
    "import os"
   ]
  },
  {
   "cell_type": "code",
   "execution_count": 2,
   "id": "f5e0f6cb-6947-4514-a3c3-3b404e65d483",
   "metadata": {
    "tags": []
   },
   "outputs": [],
   "source": [
    "import numpy as np\n",
    "import matplotlib as mpl\n",
    "import matplotlib.pyplot as plt\n",
    "import h5py\n",
    "from scipy import stats"
   ]
  },
  {
   "cell_type": "code",
   "execution_count": 3,
   "id": "377b77a1-65e1-4286-858e-12f183216480",
   "metadata": {
    "tags": []
   },
   "outputs": [],
   "source": [
    "import lib"
   ]
  },
  {
   "cell_type": "code",
   "execution_count": 4,
   "id": "bf6e29c5-342b-4390-8f39-21d45c0bcd3d",
   "metadata": {
    "tags": []
   },
   "outputs": [],
   "source": [
    "os.environ[\"IMSIM_DATA\"] = \"/global/cfs/cdirs/desbalro\"\n",
    "os.environ[\"PATH\"] += \":/global/common/software/nersc9/texlive/2024/bin/x86_64-linux\""
   ]
  },
  {
   "cell_type": "code",
   "execution_count": 5,
   "id": "a1994ec5-03cf-47e4-9273-1782a65ea9da",
   "metadata": {
    "tags": []
   },
   "outputs": [],
   "source": [
    "shear_step_plus = 'g1_slice=0.02__g2_slice=0.00__g1_other=0.00__g2_other=0.00__zlow=0.0__zhigh=6.0'\n",
    "shear_step_minus = 'g1_slice=-0.02__g2_slice=0.00__g1_other=0.00__g2_other=0.00__zlow=0.0__zhigh=6.0'"
   ]
  },
  {
   "cell_type": "code",
   "execution_count": 6,
   "id": "b9bb01cd-4442-4331-bddc-6d807e0d0e61",
   "metadata": {},
   "outputs": [],
   "source": [
    "shear_step = shear_step_plus"
   ]
  },
  {
   "cell_type": "code",
   "execution_count": 7,
   "id": "59aa164e-29e2-4df2-b0f3-270a4455ab06",
   "metadata": {},
   "outputs": [],
   "source": [
    "match_catalogs = {\n",
    "    shear_step: os.path.join(\n",
    "        \"/pscratch/sd/s/smau/y6-image-sims-matches\",\n",
    "        f\"match_{shear_step}.hdf5\",\n",
    "    )\n",
    "    for shear_step in lib.const.SHEAR_STEPS\n",
    "}"
   ]
  },
  {
   "cell_type": "code",
   "execution_count": 8,
   "id": "0beb12fe-eeb6-43a5-870f-f63854da125a",
   "metadata": {},
   "outputs": [],
   "source": [
    "hf_imsim = h5py.File(lib.const.IMSIM_CATALOGS[shear_step])\n",
    "hf_redshift = h5py.File(lib.const.REDSHIFT_CATALOGS[shear_step])\n",
    "hf_match = h5py.File(match_catalogs[shear_step])"
   ]
  },
  {
   "cell_type": "code",
   "execution_count": 9,
   "id": "2d43a12d-8478-4285-91f8-a05d7570d524",
   "metadata": {
    "tags": []
   },
   "outputs": [],
   "source": [
    "# match_filename = f\"match_{shear_step}.hdf5\"\n",
    "# match_file = os.path.join(\n",
    "#     \"/pscratch/sd/s/smau/y6-image-sims-matches\",\n",
    "#     match_filename,\n",
    "# )\n",
    "\n",
    "# match_table = {}\n",
    "\n",
    "# with h5py.File(\n",
    "#     match_file,\n",
    "#     mode=\"r\",\n",
    "# ) as hf:\n",
    "#     for k, v in hf[\"mdet\"].items():\n",
    "#         match_table[k] = v[:]\n",
    "\n",
    "# hf_match_dict = {\n",
    "#     shear_step: h5py.File(f\"match_{shear_step}.hdf5\", mode=\"r\")\n",
    "#     for shear_step in lib.const.SHEAR_STEPS\n",
    "# }"
   ]
  },
  {
   "cell_type": "code",
   "execution_count": 10,
   "id": "e89b852d-1bd2-4214-bc28-c4838a1e14c3",
   "metadata": {
    "tags": []
   },
   "outputs": [],
   "source": [
    "zbinsc = hf_redshift[\"sompz\"][\"pzdata_weighted_S005\"][\"zbinsc\"][:]\n",
    "\n",
    "zc = np.concatenate([[0.0], zbinsc])\n",
    "\n",
    "nz_sompz = {}\n",
    "for tomographic_bin in lib.const.TOMOGRAPHIC_BINS:\n",
    "    _nz_p = hf_redshift[\"sompz\"][\"pzdata_weighted_S005\"][f\"bin{tomographic_bin}\"][:]\n",
    "    _nz_p = np.concatenate([[0.0], _nz_p])\n",
    "    \n",
    "    _nz_p = _nz_p / np.asarray(lib.util.sompz_integral(_nz_p, zc, 0, 6.0))\n",
    "    \n",
    "    \n",
    "    _nz_m = hf_redshift[\"sompz\"][\"pzdata_weighted_S005\"][f\"bin{tomographic_bin}\"][:]\n",
    "    _nz_m = np.concatenate([[0.0], _nz_m])\n",
    "    \n",
    "    _nz_m = _nz_m / np.asarray(lib.util.sompz_integral(_nz_m, zc, 0, 6.0))\n",
    "\n",
    "    \n",
    "    nz_sompz[tomographic_bin] = (_nz_p + _nz_m) / 2 \n",
    "    \n",
    "nz_sompz[-1] = (nz_sompz[0] + nz_sompz[1] + nz_sompz[2] + nz_sompz[3]) / 4"
   ]
  },
  {
   "cell_type": "code",
   "execution_count": 11,
   "id": "1334e8bc-762e-4b3e-b619-48df7c6ca0c0",
   "metadata": {},
   "outputs": [],
   "source": [
    "bhat = lib.tomography.get_tomography(\n",
    "    hf_imsim,\n",
    "    hf_redshift,\n",
    "    \"noshear\",\n",
    ")"
   ]
  },
  {
   "cell_type": "code",
   "execution_count": 13,
   "id": "acfe7afa-e5ba-4a0e-ac1f-fdaefdeed55f",
   "metadata": {},
   "outputs": [],
   "source": [
    "assignments = {\n",
    "    mdet_step: lib.tomography.get_assignment(\n",
    "        hf_imsim,\n",
    "        hf_redshift,\n",
    "        mdet_step,\n",
    "    )\n",
    "    for mdet_step in lib.const.MDET_STEPS\n",
    "}"
   ]
  },
  {
   "cell_type": "code",
   "execution_count": 14,
   "id": "008feb8b-1a91-4239-9982-c2150c6a2659",
   "metadata": {},
   "outputs": [],
   "source": [
    "statistical_weights = {\n",
    "    mdet_step: lib.weights.get_shear_weights(\n",
    "        hf_imsim[\"mdet\"][mdet_step],\n",
    "    )\n",
    "    for mdet_step in lib.const.MDET_STEPS\n",
    "}"
   ]
  },
  {
   "cell_type": "code",
   "execution_count": 15,
   "id": "30cb856f-83eb-402c-af4e-413fb0fefcca",
   "metadata": {},
   "outputs": [],
   "source": [
    "g1 = {\n",
    "    mdet_step: hf_imsim[\"mdet\"][mdet_step][\"gauss_g_1\"][:]\n",
    "    for mdet_step in lib.const.MDET_STEPS\n",
    "}\n",
    "\n",
    "g2 = {\n",
    "    mdet_step: hf_imsim[\"mdet\"][mdet_step][\"gauss_g_2\"][:]\n",
    "    for mdet_step in lib.const.MDET_STEPS\n",
    "}"
   ]
  },
  {
   "cell_type": "code",
   "execution_count": 16,
   "id": "43878d8a-19d2-4c41-9450-e54e792803e2",
   "metadata": {},
   "outputs": [],
   "source": [
    "_count, _, _ = stats.binned_statistic(\n",
    "    assignments[\"noshear\"],\n",
    "    None,\n",
    "    statistic=\"count\",\n",
    "    bins=lib.const.CELL_IDS,\n",
    ")\n",
    "\n",
    "count_grid = _count"
   ]
  },
  {
   "cell_type": "code",
   "execution_count": 17,
   "id": "51a3410e-d629-41c0-918f-22bfffdc56c5",
   "metadata": {},
   "outputs": [
    {
     "data": {
      "image/png": "[encoded data removed]",
      "text/plain": [
       "<Figure size 640x480 with 2 Axes>"
      ]
     },
     "metadata": {},
     "output_type": "display_data"
    }
   ],
   "source": [
    "fig, axs = plt.subplots(1, 1)\n",
    "\n",
    "m = axs.imshow(\n",
    "    count_grid.reshape(lib.const.SOM_SHAPE),\n",
    "    origin=\"lower\",\n",
    ")\n",
    "fig.colorbar(m, label=\"$N$\")\n",
    "\n",
    "axs.set_xticks([])\n",
    "axs.set_yticks([])\n",
    "\n",
    "plt.show()"
   ]
  },
  {
   "cell_type": "code",
   "execution_count": 18,
   "id": "0ecd2672-ec8d-42b3-b70f-5757deb23914",
   "metadata": {},
   "outputs": [
    {
     "name": "stderr",
     "output_type": "stream",
     "text": [
      "/tmp/ipykernel_672650/717252187.py:18: RuntimeWarning: invalid value encountered in divide\n",
      "  mean_g_1[mdet_step] = _sum_g_1 / _sum_weight\n",
      "/tmp/ipykernel_672650/717252187.py:26: RuntimeWarning: invalid value encountered in divide\n",
      "  mean_g_2[mdet_step] = _sum_g_2 / _sum_weight\n"
     ]
    }
   ],
   "source": [
    "# response grid\n",
    "mean_g_1 = {}\n",
    "mean_g_2 = {}\n",
    "for mdet_step in [\"1p\", \"1m\"]:\n",
    "    _sum_weight, _, _ = stats.binned_statistic(\n",
    "        assignments[mdet_step],\n",
    "        statistical_weights[mdet_step],\n",
    "        statistic=\"sum\",\n",
    "        bins=lib.const.CELL_IDS,\n",
    "    )\n",
    "\n",
    "    _sum_g_1, _, _ = stats.binned_statistic(\n",
    "        assignments[mdet_step],\n",
    "        statistical_weights[mdet_step] * g1[mdet_step],\n",
    "        statistic=\"sum\",\n",
    "        bins=lib.const.CELL_IDS,\n",
    "    )\n",
    "    mean_g_1[mdet_step] = _sum_g_1 / _sum_weight\n",
    "\n",
    "    _sum_g_2, _, _ = stats.binned_statistic(\n",
    "        assignments[mdet_step],\n",
    "        statistical_weights[mdet_step] * g2[mdet_step],\n",
    "        statistic=\"sum\",\n",
    "        bins=lib.const.CELL_IDS,\n",
    "    )\n",
    "    mean_g_2[mdet_step] = _sum_g_2 / _sum_weight\n",
    "\n",
    "response_grid = (mean_g_1[\"1p\"] - mean_g_1[\"1m\"]) / (2 * 0.01)\n"
   ]
  },
  {
   "cell_type": "code",
   "execution_count": 19,
   "id": "d0bf448d-ea3e-4753-9301-3408f9cf786c",
   "metadata": {
    "tags": []
   },
   "outputs": [
    {
     "data": {
      "image/png": "[encoded data removed]",
      "text/plain": [
       "<Figure size 640x480 with 2 Axes>"
      ]
     },
     "metadata": {},
     "output_type": "display_data"
    }
   ],
   "source": [
    "fig, axs = plt.subplots(1, 1)\n",
    "\n",
    "m = axs.imshow(\n",
    "    response_grid.reshape(lib.const.SOM_SHAPE),\n",
    "    origin=\"lower\",\n",
    "    norm=mpl.colors.CenteredNorm(),\n",
    "    cmap=\"RdBu_r\",\n",
    ")\n",
    "fig.colorbar(m, label=\"$\\\\langle R \\\\rangle$\")\n",
    "\n",
    "axs.set_xticks([])\n",
    "axs.set_yticks([])\n",
    "\n",
    "plt.show()"
   ]
  },
  {
   "cell_type": "code",
   "execution_count": 20,
   "id": "08a6a42e-8a29-40e5-b991-c7922958a52f",
   "metadata": {},
   "outputs": [],
   "source": [
    "weight_grid, _, _ = stats.binned_statistic(\n",
    "    assignments[\"noshear\"],\n",
    "    statistical_weights[\"noshear\"],\n",
    "    statistic=\"sum\",\n",
    "    bins=lib.const.CELL_IDS,\n",
    ")"
   ]
  },
  {
   "cell_type": "code",
   "execution_count": 21,
   "id": "ef1adef8-1fe1-42a7-a75b-8ec8a26a9827",
   "metadata": {
    "tags": []
   },
   "outputs": [
    {
     "data": {
      "image/png": "[encoded data removed]",
      "text/plain": [
       "<Figure size 640x480 with 2 Axes>"
      ]
     },
     "metadata": {},
     "output_type": "display_data"
    }
   ],
   "source": [
    "fig, axs = plt.subplots(1, 1)\n",
    "\n",
    "m = axs.imshow(\n",
    "    weight_grid.reshape(lib.const.SOM_SHAPE),\n",
    "    origin=\"lower\",\n",
    ")\n",
    "fig.colorbar(m, label=\"$\\\\sum w$\")\n",
    "\n",
    "axs.set_xticks([])\n",
    "axs.set_yticks([])\n",
    "\n",
    "plt.show()"
   ]
  },
  {
   "cell_type": "code",
   "execution_count": 22,
   "id": "68e65e5c-40ab-422d-a4cb-53792108f58c",
   "metadata": {},
   "outputs": [
    {
     "data": {
      "image/png": "[encoded data removed]",
      "text/plain": [
       "<Figure size 640x480 with 2 Axes>"
      ]
     },
     "metadata": {},
     "output_type": "display_data"
    }
   ],
   "source": [
    "fig, axs = plt.subplots(1, 2)\n",
    "\n",
    "axs[0].imshow(\n",
    "    count_grid.reshape(lib.const.SOM_SHAPE),\n",
    "    origin=\"lower\",\n",
    ")\n",
    "axs[0].set_title(\"$N$\")\n",
    "\n",
    "axs[1].imshow(\n",
    "    weight_grid.reshape(lib.const.SOM_SHAPE),\n",
    "    origin=\"lower\",\n",
    ")\n",
    "axs[1].set_title(\"$\\\\sum w$\")\n",
    "\n",
    "for ax  in axs:\n",
    "    ax.set_xticks([])\n",
    "    ax.set_yticks([])\n",
    "\n",
    "plt.show()"
   ]
  },
  {
   "cell_type": "markdown",
   "id": "45a095d5-b726-49d3-b0a1-405ccf5e074c",
   "metadata": {},
   "source": [
    "---"
   ]
  },
  {
   "cell_type": "code",
   "execution_count": 23,
   "id": "dd0ebc62-49c1-4d49-8d9f-05a961acf4d4",
   "metadata": {},
   "outputs": [],
   "source": [
    "match_indices = ~np.isnan(hf_match[\"mdet\"][\"uid\"])"
   ]
  },
  {
   "cell_type": "code",
   "execution_count": 24,
   "id": "d9cc80ef-6140-4f64-8bc8-57af9bf4f930",
   "metadata": {},
   "outputs": [],
   "source": [
    "# extend the last bin and \"pileup\"\n",
    "zedges = np.copy(lib.const.ZEDGES)\n",
    "zedges[-1] = 4.\n",
    "\n",
    "_sum_weight, _, _, _ = stats.binned_statistic_2d(\n",
    "    assignments[\"noshear\"][match_indices],\n",
    "    hf_match[\"mdet\"][\"z\"][match_indices],\n",
    "    statistical_weights[\"noshear\"][match_indices],\n",
    "    statistic=\"sum\",\n",
    "    bins=[lib.const.CELL_IDS, zedges],\n",
    ")\n",
    "\n",
    "nz = _sum_weight / np.diff(lib.const.ZEDGES)"
   ]
  },
  {
   "cell_type": "code",
   "execution_count": 25,
   "id": "3c105247-53f7-4b67-9ada-5a21e3669f05",
   "metadata": {},
   "outputs": [
    {
     "data": {
      "image/png": "[encoded data removed]",
      "text/plain": [
       "<Figure size 640x480 with 2 Axes>"
      ]
     },
     "metadata": {},
     "output_type": "display_data"
    }
   ],
   "source": [
    "fig, axs = plt.subplots(1, 1)\n",
    "\n",
    "m = axs.imshow(\n",
    "    np.sum(nz, axis=1).reshape(lib.const.SOM_SHAPE),\n",
    "    origin=\"lower\",\n",
    ")\n",
    "fig.colorbar(m, label=\"$n(z)$\")\n",
    "\n",
    "axs.set_xticks([])\n",
    "axs.set_yticks([])\n",
    "\n",
    "plt.show()"
   ]
  },
  {
   "cell_type": "code",
   "execution_count": 26,
   "id": "4f0e0767-f8eb-4e21-a543-9b373699ea86",
   "metadata": {},
   "outputs": [],
   "source": [
    "cell_assignments = {}\n",
    "for tomographic_bin in lib.const.TOMOGRAPHIC_BINS:\n",
    "    cell_assignments[tomographic_bin] = np.unique(\n",
    "        assignments[\"noshear\"][bhat == tomographic_bin]\n",
    "    ).astype(int)\n",
    "\n",
    "assert len(\n",
    "    functools.reduce(\n",
    "        np.intersect1d,\n",
    "        [\n",
    "            cells\n",
    "            for cells in cell_assignments.values()\n",
    "        ],\n",
    "    )\n",
    ") == 0\n",
    "\n",
    "nz_tomo = {}\n",
    "for tomographic_bin in lib.const.TOMOGRAPHIC_BINS:\n",
    "    nz_tomo[tomographic_bin] = np.sum(\n",
    "        nz[cell_assignments[tomographic_bin]] \\\n",
    "        * response_grid[cell_assignments[tomographic_bin], np.newaxis] \\\n",
    "        * weight_grid[cell_assignments[tomographic_bin], np.newaxis],\n",
    "        axis=0\n",
    "    ) / np.sum(\n",
    "        response_grid[cell_assignments[tomographic_bin]] \\\n",
    "        * weight_grid[cell_assignments[tomographic_bin]]\n",
    "    )\n",
    "    # manually force n(0) = 0\n",
    "    nz_tomo[tomographic_bin][0] = 0\n"
   ]
  },
  {
   "cell_type": "code",
   "execution_count": 27,
   "id": "1897f0ac-d8dc-445e-a2f3-8b8b2d8308a1",
   "metadata": {
    "tags": []
   },
   "outputs": [
    {
     "data": {
      "image/png": "[encoded data removed]",
      "text/plain": [
       "<Figure size 640x480 with 12 Axes>"
      ]
     },
     "metadata": {},
     "output_type": "display_data"
    }
   ],
   "source": [
    "fig, axs = plt.subplots(3, len(lib.const.TOMOGRAPHIC_BINS), sharex=True, sharey=True)\n",
    "\n",
    "nz_norm = mpl.colors.Normalize(vmin=0)\n",
    "r_norm = mpl.colors.CenteredNorm()\n",
    "w_norm = mpl.colors.Normalize(vmin=0)\n",
    "\n",
    "for tomographic_bin in lib.const.TOMOGRAPHIC_BINS:\n",
    "    _nz = np.zeros_like(nz)\n",
    "    _r = np.zeros_like(nz)\n",
    "    _w = np.zeros_like(nz)\n",
    "    \n",
    "    _nz[cell_assignments[tomographic_bin]] = nz[cell_assignments[tomographic_bin]]\n",
    "    _r[cell_assignments[tomographic_bin]] = response_grid[cell_assignments[tomographic_bin], np.newaxis]\n",
    "    _w[cell_assignments[tomographic_bin]] = weight_grid[cell_assignments[tomographic_bin], np.newaxis]\n",
    "    \n",
    "    axs[0, tomographic_bin].set_title(tomographic_bin)\n",
    "        \n",
    "    axs[0, tomographic_bin].imshow(\n",
    "        np.sum(_nz, axis=1).reshape(lib.const.SOM_SHAPE),\n",
    "        norm=nz_norm,\n",
    "    )\n",
    "    \n",
    "    axs[1, tomographic_bin].imshow(\n",
    "        np.sum(_r, axis=1).reshape(lib.const.SOM_SHAPE),\n",
    "        norm=r_norm,\n",
    "        cmap=\"RdBu_r\",\n",
    "    )\n",
    "    \n",
    "    axs[2, tomographic_bin].imshow(\n",
    "        np.sum(_w, axis=1).reshape(lib.const.SOM_SHAPE),\n",
    "        norm=w_norm,\n",
    "    )\n",
    "\n",
    "axs[0, 0].set_ylabel(\"$\\\\sum n(z)$\")\n",
    "axs[1, 0].set_ylabel(\"$\\\\sum R$\")\n",
    "axs[2, 0].set_ylabel(\"$\\\\sum w$\")\n",
    "\n",
    "for ax in axs.ravel():\n",
    "    ax.set_xticks([])\n",
    "    ax.set_yticks([])\n",
    "\n",
    "plt.show()"
   ]
  },
  {
   "cell_type": "code",
   "execution_count": 28,
   "id": "f6bed5ff-0160-4054-ab51-2e561e13e02a",
   "metadata": {
    "tags": []
   },
   "outputs": [
    {
     "data": {
      "image/png": "[encoded data removed]",
      "text/plain": [
       "<Figure size 640x480 with 8 Axes>"
      ]
     },
     "metadata": {},
     "output_type": "display_data"
    }
   ],
   "source": [
    "fig, axs = plt.subplots(2, len(lib.const.TOMOGRAPHIC_BINS), sharex=True, sharey=True)\n",
    "\n",
    "nz_norm = mpl.colors.Normalize(vmin=0)\n",
    "r_norm = mpl.colors.Normalize(vmin=0)\n",
    "\n",
    "for tomographic_bin in lib.const.TOMOGRAPHIC_BINS:\n",
    "    _nz = np.zeros_like(nz)\n",
    "    _r = np.zeros_like(nz)\n",
    "    _w = np.zeros_like(nz)\n",
    "    \n",
    "    _nz[cell_assignments[tomographic_bin]] = nz[cell_assignments[tomographic_bin]]\n",
    "    _r[cell_assignments[tomographic_bin]] = response_grid[cell_assignments[tomographic_bin], np.newaxis]\n",
    "    _w[cell_assignments[tomographic_bin]] = weight_grid[cell_assignments[tomographic_bin], np.newaxis]\n",
    "    \n",
    "    axs[0, tomographic_bin].set_title(tomographic_bin)\n",
    "        \n",
    "    axs[0, tomographic_bin].imshow(\n",
    "        np.sum(_nz * _r * _w, axis=1).reshape(lib.const.SOM_SHAPE),\n",
    "        norm=nz_norm,\n",
    "    )\n",
    "    \n",
    "    axs[1, tomographic_bin].imshow(\n",
    "        np.sum(_r * _w, axis=1).reshape(lib.const.SOM_SHAPE),\n",
    "        norm=r_norm,\n",
    "    )\n",
    "\n",
    "\n",
    "axs[0, 0].set_ylabel(\"$\\\\sum n(z) \\\\times R \\\\times w$\")\n",
    "axs[1, 0].set_ylabel(\"$\\\\sum R \\\\times w$\")\n",
    "\n",
    "\n",
    "for ax in axs.ravel():\n",
    "    ax.set_xticks([])\n",
    "    ax.set_yticks([])\n",
    "\n",
    "plt.show()"
   ]
  },
  {
   "cell_type": "code",
   "execution_count": null,
   "id": "b7098cc8-9d00-4fa5-bcb2-fca04730bd2c",
   "metadata": {},
   "outputs": [],
   "source": []
  }
 ],
 "metadata": {
  "kernelspec": {
   "display_name": "DESY6DEV",
   "language": "python",
   "name": "des-y6-dev"
  },
  "language_info": {
   "codemirror_mode": {
    "name": "ipython",
    "version": 3
   },
   "file_extension": ".py",
   "mimetype": "text/x-python",
   "name": "python",
   "nbconvert_exporter": "python",
   "pygments_lexer": "ipython3",
   "version": "3.11.10"
  }
 },
 "nbformat": 4,
 "nbformat_minor": 5
}
