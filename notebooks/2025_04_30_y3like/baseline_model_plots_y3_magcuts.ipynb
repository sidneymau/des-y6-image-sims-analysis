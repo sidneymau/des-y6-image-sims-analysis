{
 "cells": [
  {
   "cell_type": "code",
   "execution_count": 1,
   "metadata": {},
   "outputs": [],
   "source": [
    "%load_ext autoreload\n",
    "%autoreload 2\n",
    "\n",
    "import jax  # noqa: I001\n",
    "jax.config.update(\"jax_enable_x64\", True)\n",
    "\n",
    "import numpyro  # noqa: E402, I001\n",
    "numpyro.set_host_device_count(4)\n",
    "\n",
    "import numpy as np  # noqa: E402, I001"
   ]
  },
  {
   "cell_type": "markdown",
   "metadata": {},
   "source": [
    "## Fit the Data"
   ]
  },
  {
   "cell_type": "code",
   "execution_count": 2,
   "metadata": {},
   "outputs": [],
   "source": [
    "import pprint\n",
    "\n",
    "from des_y6_imsim_analysis import interpolant\n",
    "from des_y6_imsim_analysis.stats import compute_model_chi2_info, measure_map, run_mcmc\n",
    "from des_y6_imsim_analysis.utils import (\n",
    "    measure_m_dz,\n",
    "    plot_results_delta_nz,\n",
    "    plot_results_fg_model,\n",
    "    plot_results_nz,\n",
    "    read_data_one_tomo_bin,\n",
    ")\n",
    "\n",
    "\n",
    "def _measure_m_dz(fname, kwargs):\n",
    "    print(\"======================================================\")\n",
    "    print(fname)\n",
    "    print(\"======================================================\")\n",
    "    model_module = interpolant\n",
    "\n",
    "    data = read_data_one_tomo_bin(fname)\n",
    "\n",
    "    model_data = model_module.make_model_data(\n",
    "        z=data.z,\n",
    "        nzs=data.nzs,\n",
    "        mn=data.mn,\n",
    "        cov=data.cov,\n",
    "        mn_pars=data.mn_pars,\n",
    "        zbins=data.zbins,\n",
    "        **kwargs,\n",
    "    )\n",
    "\n",
    "    map_params = measure_map(\n",
    "        model_module=model_module,\n",
    "        model_data=model_data,\n",
    "        seed=254,\n",
    "        progress_bar=True,\n",
    "        num_steps=50_000,\n",
    "        learning_rate=1e-2,\n",
    "    )\n",
    "\n",
    "    chi2_info = compute_model_chi2_info(\n",
    "        model_module=model_module,\n",
    "        model_data=model_data,\n",
    "        data=data,\n",
    "        params=map_params,\n",
    "    )\n",
    "\n",
    "    print(\"chi2:\", chi2_info['chi2'])\n",
    "    print(\"dof:\", chi2_info['dof'])\n",
    "    print(\"p-value:\", chi2_info['p_value'])\n",
    "    print(\"m vals:\\n    model: %r\\n    data: %r\\n     err: %r\" % (\n",
    "        (chi2_info['model_mn'][:data.nzs.shape[0]] - 1).tolist(),\n",
    "        (data.mn[:data.nzs.shape[0]] - 1).tolist(),\n",
    "        (np.sqrt(np.diag(data.cov)[:data.nzs.shape[0]])).tolist(),\n",
    "    ))\n",
    "    print(\"map params:\\n\", pprint.pformat(map_params))\n",
    "\n",
    "    mcmc = run_mcmc(\n",
    "        model_module=model_module,\n",
    "        model_data=model_data,\n",
    "        init_params=map_params,\n",
    "        seed=231,\n",
    "        progress_bar=True,\n",
    "        dense_mass=True,\n",
    "        num_samples=2000,\n",
    "    )\n",
    "\n",
    "    mcmc.print_summary(exclude_deterministic=False)\n",
    "    samples = mcmc.get_samples()\n",
    "\n",
    "    # plot_results_nz(model_module=model_module, model_data=model_data, samples=samples)\n",
    "    # plot_results_delta_nz(model_module=model_module, model_data=model_data, samples=samples)\n",
    "    # plot_results_fg_model(model_module=model_module, model_data=model_data, samples=samples)\n",
    "\n",
    "    mdz = measure_m_dz(\n",
    "        model_module=model_module,\n",
    "        model_data=model_data,\n",
    "        samples=samples,\n",
    "        return_dict=True,\n",
    "        shift_negative=True,\n",
    "    )\n",
    "\n",
    "    m_mn = [np.mean(mdz[f\"m_b{i}\"]) for i in range(4)]\n",
    "    m_sd = [np.std(mdz[f\"m_b{i}\"]) for i in range(4)]\n",
    "\n",
    "    dz_mn = [np.mean(mdz[f\"dz_b{i}\"]) for i in range(4)]\n",
    "    dz_sd = [np.std(mdz[f\"dz_b{i}\"]) for i in range(4)]\n",
    "\n",
    "    print(\"|--------------------------------------------|\")\n",
    "    print(\"| bin | m [10^-3, 3sigma] | dz               |\")\n",
    "    print(\"|--------------------------------------------|\")\n",
    "    for i in range(data.nzs.shape[0]):\n",
    "        print(\n",
    "            \"| %d   | %+5.1f +/- %-5.1f   | %+0.3f +/- %0.3f |\" % (\n",
    "                i, m_mn[i]/1e-3, m_sd[i]/1e-3 * 3, dz_mn[i], dz_sd[i]\n",
    "            )\n",
    "        )\n",
    "    print(\"|--------------------------------------------|\")\n",
    "    print(\"======================================================\")\n",
    "    print(\"======================================================\\n\\n\")\n",
    "\n",
    "    return [dz_mn[0], dz_sd[0], m_mn[0], m_sd[0]]\n"
   ]
  },
  {
   "cell_type": "code",
   "execution_count": 5,
   "metadata": {},
   "outputs": [
    {
     "name": "stdout",
     "output_type": "stream",
     "text": [
      "======================================================\n",
      "../../data/N_gamma_alpha_v3_statistical_i_20.0_20.5.hdf5\n",
      "======================================================\n"
     ]
    },
    {
     "name": "stderr",
     "output_type": "stream",
     "text": [
      "100%|██████████| 50000/50000 [00:10<00:00, 4737.09it/s, init loss: 397516.5138, avg. loss [47501-50000]: -62.5582]\n"
     ]
    },
    {
     "name": "stdout",
     "output_type": "stream",
     "text": [
      "chi2: 2.1708803273337147\n",
      "dof: 1\n",
      "p-value: 0.14064570073634974\n",
      "m vals:\n",
      "    model: [0.0016516082292117318]\n",
      "    data: [0.0012652377073005816]\n",
      "     err: [0.005869356159836015]\n",
      "map params:\n",
      " {'a0_b0': Array(0.07322024, dtype=float64),\n",
      " 'a1_b0': Array(0.11088854, dtype=float64),\n",
      " 'a2_b0': Array(0.086306, dtype=float64),\n",
      " 'a3_b0': Array(0.03123787, dtype=float64),\n",
      " 'a4_b0': Array(0.0368319, dtype=float64),\n",
      " 'a5_b0': Array(7.08838409e-11, dtype=float64),\n",
      " 'a6_b0': Array(0.01231857, dtype=float64),\n",
      " 'a7_b0': Array(6.94113889e-11, dtype=float64),\n",
      " 'a8_b0': Array(0.08027237, dtype=float64),\n",
      " 'a9_b0': Array(0.05103425, dtype=float64)}\n"
     ]
    },
    {
     "data": {
      "application/vnd.jupyter.widget-view+json": {
       "model_id": "674f0b9c918d43b188704e548421ac22",
       "version_major": 2,
       "version_minor": 0
      },
      "text/plain": [
       "  0%|          | 0/2500 [00:00<?, ?it/s]"
      ]
     },
     "metadata": {},
     "output_type": "display_data"
    },
    {
     "data": {
      "application/vnd.jupyter.widget-view+json": {
       "model_id": "561f83930b8d4f94a4d3d87093700b61",
       "version_major": 2,
       "version_minor": 0
      },
      "text/plain": [
       "  0%|          | 0/2500 [00:00<?, ?it/s]"
      ]
     },
     "metadata": {},
     "output_type": "display_data"
    },
    {
     "data": {
      "application/vnd.jupyter.widget-view+json": {
       "model_id": "dadf9b23036b444990e18c4500656a7d",
       "version_major": 2,
       "version_minor": 0
      },
      "text/plain": [
       "  0%|          | 0/2500 [00:00<?, ?it/s]"
      ]
     },
     "metadata": {},
     "output_type": "display_data"
    },
    {
     "data": {
      "application/vnd.jupyter.widget-view+json": {
       "model_id": "c5c8ffd36c3f4c7ead5f94623c7ceb10",
       "version_major": 2,
       "version_minor": 0
      },
      "text/plain": [
       "  0%|          | 0/2500 [00:00<?, ?it/s]"
      ]
     },
     "metadata": {},
     "output_type": "display_data"
    },
    {
     "name": "stdout",
     "output_type": "stream",
     "text": [
      "\n",
      "                mean       std    median      5.0%     95.0%     n_eff     r_hat\n",
      "     a0_b0      0.07      0.00      0.07      0.07      0.07   7623.45      1.00\n",
      "     a1_b0      0.11      0.00      0.11      0.11      0.11   7100.98      1.00\n",
      "     a2_b0      0.08      0.01      0.08      0.06      0.10   5036.45      1.00\n",
      "     a3_b0      0.06      0.04      0.05      0.00      0.11   6754.18      1.00\n",
      "     a4_b0      0.07      0.05      0.06      0.00      0.13   7181.85      1.00\n",
      "     a5_b0      0.06      0.05      0.05      0.00      0.13   8641.60      1.00\n",
      "     a6_b0      0.08      0.06      0.07      0.00      0.18   7377.56      1.00\n",
      "     a7_b0      0.09      0.07      0.07      0.00      0.20   9030.60      1.00\n",
      "     a8_b0      0.17      0.12      0.15      0.00      0.33   7512.58      1.00\n",
      "     a9_b0      0.08      0.05      0.08      0.00      0.14   5250.80      1.00\n",
      "\n",
      "Number of divergences: 0\n",
      "|--------------------------------------------|\n",
      "| bin | m [10^-3, 3sigma] | dz               |\n",
      "|--------------------------------------------|\n",
      "| 0   |  +2.3 +/- 17.2    | +0.012 +/- 0.003 |\n",
      "|--------------------------------------------|\n",
      "======================================================\n",
      "======================================================\n",
      "\n",
      "\n",
      "======================================================\n",
      "../../data/N_gamma_alpha_v3_statistical_i_20.5_21.0.hdf5\n",
      "======================================================\n"
     ]
    },
    {
     "name": "stderr",
     "output_type": "stream",
     "text": [
      "100%|██████████| 50000/50000 [00:10<00:00, 4684.26it/s, init loss: 472210.4850, avg. loss [47501-50000]: -61.8084]\n"
     ]
    },
    {
     "name": "stdout",
     "output_type": "stream",
     "text": [
      "chi2: 3.1642752800356733\n",
      "dof: 1\n",
      "p-value: 0.075265834298875\n",
      "m vals:\n",
      "    model: [-0.0028875289663676806]\n",
      "    data: [-0.0036973363958674454]\n",
      "     err: [0.005558815752370876]\n",
      "map params:\n",
      " {'a0_b0': Array(0.09041376, dtype=float64),\n",
      " 'a1_b0': Array(0.0915758, dtype=float64),\n",
      " 'a2_b0': Array(0.09151013, dtype=float64),\n",
      " 'a3_b0': Array(1.65418982e-11, dtype=float64),\n",
      " 'a4_b0': Array(0.0643699, dtype=float64),\n",
      " 'a5_b0': Array(0.04745765, dtype=float64),\n",
      " 'a6_b0': Array(0.0780048, dtype=float64),\n",
      " 'a7_b0': Array(0.17791659, dtype=float64),\n",
      " 'a8_b0': Array(1.52289295e-10, dtype=float64),\n",
      " 'a9_b0': Array(0.09451679, dtype=float64)}\n"
     ]
    },
    {
     "data": {
      "application/vnd.jupyter.widget-view+json": {
       "model_id": "0b2b44b663b94e709175acdf2df49bcd",
       "version_major": 2,
       "version_minor": 0
      },
      "text/plain": [
       "  0%|          | 0/2500 [00:00<?, ?it/s]"
      ]
     },
     "metadata": {},
     "output_type": "display_data"
    },
    {
     "data": {
      "application/vnd.jupyter.widget-view+json": {
       "model_id": "3794008f57314ae889843a64c3259171",
       "version_major": 2,
       "version_minor": 0
      },
      "text/plain": [
       "  0%|          | 0/2500 [00:00<?, ?it/s]"
      ]
     },
     "metadata": {},
     "output_type": "display_data"
    },
    {
     "data": {
      "application/vnd.jupyter.widget-view+json": {
       "model_id": "78198613f54e4b0cbf3680b5b2f6feab",
       "version_major": 2,
       "version_minor": 0
      },
      "text/plain": [
       "  0%|          | 0/2500 [00:00<?, ?it/s]"
      ]
     },
     "metadata": {},
     "output_type": "display_data"
    },
    {
     "data": {
      "application/vnd.jupyter.widget-view+json": {
       "model_id": "d7a4d075db9c44b299e4def9f25675d7",
       "version_major": 2,
       "version_minor": 0
      },
      "text/plain": [
       "  0%|          | 0/2500 [00:00<?, ?it/s]"
      ]
     },
     "metadata": {},
     "output_type": "display_data"
    },
    {
     "name": "stdout",
     "output_type": "stream",
     "text": [
      "\n",
      "                mean       std    median      5.0%     95.0%     n_eff     r_hat\n",
      "     a0_b0      0.09      0.00      0.09      0.09      0.09   8257.14      1.00\n",
      "     a1_b0      0.09      0.00      0.09      0.09      0.09   8094.84      1.00\n",
      "     a2_b0      0.09      0.00      0.09      0.09      0.10   6878.98      1.00\n",
      "     a3_b0      0.02      0.02      0.02      0.00      0.05   9108.57      1.00\n",
      "     a4_b0      0.08      0.05      0.07      0.00      0.15   6488.64      1.00\n",
      "     a5_b0      0.10      0.07      0.08      0.00      0.19   8336.46      1.00\n",
      "     a6_b0      0.13      0.09      0.12      0.00      0.26   8034.32      1.00\n",
      "     a7_b0      0.22      0.14      0.20      0.00      0.41   7416.02      1.00\n",
      "     a8_b0      0.14      0.11      0.12      0.00      0.29   7401.67      1.00\n",
      "     a9_b0      0.11      0.05      0.11      0.02      0.19   6033.07      1.00\n",
      "\n",
      "Number of divergences: 0\n",
      "|--------------------------------------------|\n",
      "| bin | m [10^-3, 3sigma] | dz               |\n",
      "|--------------------------------------------|\n",
      "| 0   |  -2.2 +/- 16.7    | +0.001 +/- 0.003 |\n",
      "|--------------------------------------------|\n",
      "======================================================\n",
      "======================================================\n",
      "\n",
      "\n",
      "======================================================\n",
      "../../data/N_gamma_alpha_v3_statistical_i_21.0_21.5.hdf5\n",
      "======================================================\n"
     ]
    },
    {
     "name": "stderr",
     "output_type": "stream",
     "text": [
      "100%|██████████| 50000/50000 [00:10<00:00, 4696.98it/s, init loss: 654611.3279, avg. loss [47501-50000]: -56.3869]\n"
     ]
    },
    {
     "name": "stdout",
     "output_type": "stream",
     "text": [
      "chi2: 14.18749377697266\n",
      "dof: 1\n",
      "p-value: 0.00016546662653287868\n",
      "m vals:\n",
      "    model: [-0.0020000517717690958]\n",
      "    data: [-0.0016698680387916554]\n",
      "     err: [0.004880230448528096]\n",
      "map params:\n",
      " {'a0_b0': Array(0.07805784, dtype=float64),\n",
      " 'a1_b0': Array(0.10040851, dtype=float64),\n",
      " 'a2_b0': Array(0.09331862, dtype=float64),\n",
      " 'a3_b0': Array(0.05448165, dtype=float64),\n",
      " 'a4_b0': Array(0.03497633, dtype=float64),\n",
      " 'a5_b0': Array(0.00422053, dtype=float64),\n",
      " 'a6_b0': Array(1.42906386e-11, dtype=float64),\n",
      " 'a7_b0': Array(3.49625541e-11, dtype=float64),\n",
      " 'a8_b0': Array(0.47027042, dtype=float64),\n",
      " 'a9_b0': Array(1.35306623e-11, dtype=float64)}\n"
     ]
    },
    {
     "data": {
      "application/vnd.jupyter.widget-view+json": {
       "model_id": "b316745143774a2293ef8b872c50f89e",
       "version_major": 2,
       "version_minor": 0
      },
      "text/plain": [
       "  0%|          | 0/2500 [00:00<?, ?it/s]"
      ]
     },
     "metadata": {},
     "output_type": "display_data"
    },
    {
     "data": {
      "application/vnd.jupyter.widget-view+json": {
       "model_id": "6ebdc03b85e54ce68a2b6c2d50ef6a8e",
       "version_major": 2,
       "version_minor": 0
      },
      "text/plain": [
       "  0%|          | 0/2500 [00:00<?, ?it/s]"
      ]
     },
     "metadata": {},
     "output_type": "display_data"
    },
    {
     "data": {
      "application/vnd.jupyter.widget-view+json": {
       "model_id": "1d82393722a84a398bc23f4331970e74",
       "version_major": 2,
       "version_minor": 0
      },
      "text/plain": [
       "  0%|          | 0/2500 [00:00<?, ?it/s]"
      ]
     },
     "metadata": {},
     "output_type": "display_data"
    },
    {
     "data": {
      "application/vnd.jupyter.widget-view+json": {
       "model_id": "4c61019d53a24264920f9bc16c503696",
       "version_major": 2,
       "version_minor": 0
      },
      "text/plain": [
       "  0%|          | 0/2500 [00:00<?, ?it/s]"
      ]
     },
     "metadata": {},
     "output_type": "display_data"
    },
    {
     "name": "stdout",
     "output_type": "stream",
     "text": [
      "\n",
      "                mean       std    median      5.0%     95.0%     n_eff     r_hat\n",
      "     a0_b0      0.08      0.00      0.08      0.08      0.08   7328.35      1.00\n",
      "     a1_b0      0.10      0.00      0.10      0.10      0.10   7858.52      1.00\n",
      "     a2_b0      0.09      0.00      0.09      0.09      0.10   5258.15      1.00\n",
      "     a3_b0      0.05      0.02      0.05      0.02      0.09   3567.37      1.00\n",
      "     a4_b0      0.07      0.05      0.06      0.00      0.15   6605.87      1.00\n",
      "     a5_b0      0.07      0.05      0.06      0.00      0.15   9058.90      1.00\n",
      "     a6_b0      0.04      0.04      0.03      0.00      0.09   8251.72      1.00\n",
      "     a7_b0      0.08      0.07      0.07      0.00      0.18   8316.37      1.00\n",
      "     a8_b0      0.49      0.22      0.48      0.08      0.82   7074.65      1.00\n",
      "     a9_b0      0.04      0.03      0.03      0.00      0.08   8239.91      1.00\n",
      "\n",
      "Number of divergences: 0\n",
      "|--------------------------------------------|\n",
      "| bin | m [10^-3, 3sigma] | dz               |\n",
      "|--------------------------------------------|\n",
      "| 0   |  -1.4 +/- 14.4    | +0.008 +/- 0.002 |\n",
      "|--------------------------------------------|\n",
      "======================================================\n",
      "======================================================\n",
      "\n",
      "\n",
      "======================================================\n",
      "../../data/N_gamma_alpha_v3_statistical_i_21.5_22.0.hdf5\n",
      "======================================================\n"
     ]
    },
    {
     "name": "stderr",
     "output_type": "stream",
     "text": [
      "100%|██████████| 50000/50000 [00:10<00:00, 4651.83it/s, init loss: 734194.0008, avg. loss [47501-50000]: -60.0069]\n"
     ]
    },
    {
     "name": "stdout",
     "output_type": "stream",
     "text": [
      "chi2: 6.074968090587268\n",
      "dof: 1\n",
      "p-value: 0.013711077757758625\n",
      "m vals:\n",
      "    model: [0.0024352852361184674]\n",
      "    data: [0.0011876484025099554]\n",
      "     err: [0.004888662201296815]\n",
      "map params:\n",
      " {'a0_b0': Array(0.07768255, dtype=float64),\n",
      " 'a1_b0': Array(0.10137436, dtype=float64),\n",
      " 'a2_b0': Array(0.09448016, dtype=float64),\n",
      " 'a3_b0': Array(0.06606435, dtype=float64),\n",
      " 'a4_b0': Array(0.10747244, dtype=float64),\n",
      " 'a5_b0': Array(9.18976575e-11, dtype=float64),\n",
      " 'a6_b0': Array(0.11916225, dtype=float64),\n",
      " 'a7_b0': Array(2.43616269e-11, dtype=float64),\n",
      " 'a8_b0': Array(3.98349705e-11, dtype=float64),\n",
      " 'a9_b0': Array(1.4548175e-11, dtype=float64)}\n"
     ]
    },
    {
     "data": {
      "application/vnd.jupyter.widget-view+json": {
       "model_id": "ec1ed4e6d09f4cf2bbd6ca0a65e76d53",
       "version_major": 2,
       "version_minor": 0
      },
      "text/plain": [
       "  0%|          | 0/2500 [00:00<?, ?it/s]"
      ]
     },
     "metadata": {},
     "output_type": "display_data"
    },
    {
     "data": {
      "application/vnd.jupyter.widget-view+json": {
       "model_id": "0fa476bd89df47699bb5b843a516d0b2",
       "version_major": 2,
       "version_minor": 0
      },
      "text/plain": [
       "  0%|          | 0/2500 [00:00<?, ?it/s]"
      ]
     },
     "metadata": {},
     "output_type": "display_data"
    },
    {
     "data": {
      "application/vnd.jupyter.widget-view+json": {
       "model_id": "0dd78ada22944c9aa99c914aad4a4f04",
       "version_major": 2,
       "version_minor": 0
      },
      "text/plain": [
       "  0%|          | 0/2500 [00:00<?, ?it/s]"
      ]
     },
     "metadata": {},
     "output_type": "display_data"
    },
    {
     "data": {
      "application/vnd.jupyter.widget-view+json": {
       "model_id": "b30bab6d68744977b35c57760413fbd0",
       "version_major": 2,
       "version_minor": 0
      },
      "text/plain": [
       "  0%|          | 0/2500 [00:00<?, ?it/s]"
      ]
     },
     "metadata": {},
     "output_type": "display_data"
    },
    {
     "name": "stdout",
     "output_type": "stream",
     "text": [
      "\n",
      "                mean       std    median      5.0%     95.0%     n_eff     r_hat\n",
      "     a0_b0      0.08      0.00      0.08      0.08      0.08   8659.06      1.00\n",
      "     a1_b0      0.10      0.00      0.10      0.10      0.10   7529.94      1.00\n",
      "     a2_b0      0.09      0.00      0.09      0.09      0.10   8024.11      1.00\n",
      "     a3_b0      0.07      0.01      0.07      0.06      0.07   7819.55      1.00\n",
      "     a4_b0      0.11      0.06      0.11      0.01      0.20   6134.01      1.00\n",
      "     a5_b0      0.08      0.07      0.07      0.00      0.18  10245.16      1.00\n",
      "     a6_b0      0.15      0.10      0.13      0.00      0.28   8256.96      1.00\n",
      "     a7_b0      0.08      0.07      0.06      0.00      0.18   9699.41      1.00\n",
      "     a8_b0      0.13      0.11      0.10      0.00      0.28   7468.22      1.00\n",
      "     a9_b0      0.04      0.04      0.03      0.00      0.09   7809.18      1.00\n",
      "\n",
      "Number of divergences: 0\n",
      "|--------------------------------------------|\n",
      "| bin | m [10^-3, 3sigma] | dz               |\n",
      "|--------------------------------------------|\n",
      "| 0   |  +2.8 +/- 14.9    | +0.004 +/- 0.002 |\n",
      "|--------------------------------------------|\n",
      "======================================================\n",
      "======================================================\n",
      "\n",
      "\n",
      "======================================================\n",
      "../../data/N_gamma_alpha_v3_statistical_i_22.0_22.5.hdf5\n",
      "======================================================\n"
     ]
    },
    {
     "name": "stderr",
     "output_type": "stream",
     "text": [
      "100%|██████████| 50000/50000 [00:10<00:00, 4867.37it/s, init loss: 725241.0789, avg. loss [47501-50000]: -60.8682]\n"
     ]
    },
    {
     "name": "stdout",
     "output_type": "stream",
     "text": [
      "chi2: 1.7008244617077664\n",
      "dof: 1\n",
      "p-value: 0.19218019079495285\n",
      "m vals:\n",
      "    model: [-0.0018140851449536255]\n",
      "    data: [-0.00211171970394175]\n",
      "     err: [0.004912323888777679]\n",
      "map params:\n",
      " {'a0_b0': Array(0.08905319, dtype=float64),\n",
      " 'a1_b0': Array(0.09405568, dtype=float64),\n",
      " 'a2_b0': Array(0.09253449, dtype=float64),\n",
      " 'a3_b0': Array(0.08482838, dtype=float64),\n",
      " 'a4_b0': Array(0.01700164, dtype=float64),\n",
      " 'a5_b0': Array(3.63943307e-11, dtype=float64),\n",
      " 'a6_b0': Array(0.37558758, dtype=float64),\n",
      " 'a7_b0': Array(0.10605324, dtype=float64),\n",
      " 'a8_b0': Array(5.13022053e-11, dtype=float64),\n",
      " 'a9_b0': Array(0.01291447, dtype=float64)}\n"
     ]
    },
    {
     "data": {
      "application/vnd.jupyter.widget-view+json": {
       "model_id": "3ad0ced2d5a54e1bbdcba7483db245ae",
       "version_major": 2,
       "version_minor": 0
      },
      "text/plain": [
       "  0%|          | 0/2500 [00:00<?, ?it/s]"
      ]
     },
     "metadata": {},
     "output_type": "display_data"
    },
    {
     "data": {
      "application/vnd.jupyter.widget-view+json": {
       "model_id": "cd24d9c0b20f4fbca4483a15983d4dc5",
       "version_major": 2,
       "version_minor": 0
      },
      "text/plain": [
       "  0%|          | 0/2500 [00:00<?, ?it/s]"
      ]
     },
     "metadata": {},
     "output_type": "display_data"
    },
    {
     "data": {
      "application/vnd.jupyter.widget-view+json": {
       "model_id": "6271cf01c284437f99f30121a935e5ba",
       "version_major": 2,
       "version_minor": 0
      },
      "text/plain": [
       "  0%|          | 0/2500 [00:00<?, ?it/s]"
      ]
     },
     "metadata": {},
     "output_type": "display_data"
    },
    {
     "data": {
      "application/vnd.jupyter.widget-view+json": {
       "model_id": "5833c767b5c544b7ad23b9672756f49f",
       "version_major": 2,
       "version_minor": 0
      },
      "text/plain": [
       "  0%|          | 0/2500 [00:00<?, ?it/s]"
      ]
     },
     "metadata": {},
     "output_type": "display_data"
    },
    {
     "name": "stdout",
     "output_type": "stream",
     "text": [
      "\n",
      "                mean       std    median      5.0%     95.0%     n_eff     r_hat\n",
      "     a0_b0      0.09      0.00      0.09      0.09      0.09   7794.63      1.00\n",
      "     a1_b0      0.09      0.00      0.09      0.09      0.10   7693.38      1.00\n",
      "     a2_b0      0.09      0.00      0.09      0.09      0.09   7000.80      1.00\n",
      "     a3_b0      0.08      0.00      0.08      0.08      0.09   7057.09      1.00\n",
      "     a4_b0      0.03      0.02      0.02      0.00      0.06   5529.28      1.00\n",
      "     a5_b0      0.06      0.05      0.05      0.00      0.14   9824.45      1.00\n",
      "     a6_b0      0.35      0.16      0.35      0.10      0.62   6897.80      1.00\n",
      "     a7_b0      0.23      0.16      0.21      0.00      0.45  10027.71      1.00\n",
      "     a8_b0      0.13      0.11      0.10      0.00      0.28   9060.87      1.00\n",
      "     a9_b0      0.11      0.08      0.10      0.00      0.23   7552.23      1.00\n",
      "\n",
      "Number of divergences: 0\n",
      "|--------------------------------------------|\n",
      "| bin | m [10^-3, 3sigma] | dz               |\n",
      "|--------------------------------------------|\n",
      "| 0   |  -1.4 +/- 14.9    | -0.003 +/- 0.003 |\n",
      "|--------------------------------------------|\n",
      "======================================================\n",
      "======================================================\n",
      "\n",
      "\n",
      "======================================================\n",
      "../../data/N_gamma_alpha_v3_statistical_i_22.5_23.0.hdf5\n",
      "======================================================\n"
     ]
    },
    {
     "name": "stderr",
     "output_type": "stream",
     "text": [
      "100%|██████████| 50000/50000 [00:10<00:00, 4846.48it/s, init loss: 640410.7767, avg. loss [47501-50000]: -60.2000]\n"
     ]
    },
    {
     "name": "stdout",
     "output_type": "stream",
     "text": [
      "chi2: 0.031995393475315236\n",
      "dof: 1\n",
      "p-value: 0.858037767563526\n",
      "m vals:\n",
      "    model: [0.01563099232900056]\n",
      "    data: [0.01574325548099731]\n",
      "     err: [0.005123939272084106]\n",
      "map params:\n",
      " {'a0_b0': Array(0.08823564, dtype=float64),\n",
      " 'a1_b0': Array(0.09752888, dtype=float64),\n",
      " 'a2_b0': Array(0.09496317, dtype=float64),\n",
      " 'a3_b0': Array(0.08649547, dtype=float64),\n",
      " 'a4_b0': Array(0.08245855, dtype=float64),\n",
      " 'a5_b0': Array(0.01296998, dtype=float64),\n",
      " 'a6_b0': Array(0.11391306, dtype=float64),\n",
      " 'a7_b0': Array(0.15444192, dtype=float64),\n",
      " 'a8_b0': Array(0.15784257, dtype=float64),\n",
      " 'a9_b0': Array(0.12179011, dtype=float64)}\n"
     ]
    },
    {
     "data": {
      "application/vnd.jupyter.widget-view+json": {
       "model_id": "cb9c8c4668914acb99403fb6d468e518",
       "version_major": 2,
       "version_minor": 0
      },
      "text/plain": [
       "  0%|          | 0/2500 [00:00<?, ?it/s]"
      ]
     },
     "metadata": {},
     "output_type": "display_data"
    },
    {
     "data": {
      "application/vnd.jupyter.widget-view+json": {
       "model_id": "8993399c709a4a6aa75d7f3c1ea0b91c",
       "version_major": 2,
       "version_minor": 0
      },
      "text/plain": [
       "  0%|          | 0/2500 [00:00<?, ?it/s]"
      ]
     },
     "metadata": {},
     "output_type": "display_data"
    },
    {
     "data": {
      "application/vnd.jupyter.widget-view+json": {
       "model_id": "8fe42c54280343fb86031047e45252a5",
       "version_major": 2,
       "version_minor": 0
      },
      "text/plain": [
       "  0%|          | 0/2500 [00:00<?, ?it/s]"
      ]
     },
     "metadata": {},
     "output_type": "display_data"
    },
    {
     "data": {
      "application/vnd.jupyter.widget-view+json": {
       "model_id": "ab93cf77c3834d2881947ec9e1062c18",
       "version_major": 2,
       "version_minor": 0
      },
      "text/plain": [
       "  0%|          | 0/2500 [00:00<?, ?it/s]"
      ]
     },
     "metadata": {},
     "output_type": "display_data"
    },
    {
     "name": "stdout",
     "output_type": "stream",
     "text": [
      "\n",
      "                mean       std    median      5.0%     95.0%     n_eff     r_hat\n",
      "     a0_b0      0.09      0.00      0.09      0.08      0.09   7073.44      1.00\n",
      "     a1_b0      0.10      0.00      0.10      0.09      0.10   7106.95      1.00\n",
      "     a2_b0      0.09      0.00      0.09      0.09      0.10   6845.20      1.00\n",
      "     a3_b0      0.09      0.00      0.09      0.08      0.09   7230.79      1.00\n",
      "     a4_b0      0.08      0.01      0.08      0.07      0.09   6556.41      1.00\n",
      "     a5_b0      0.03      0.02      0.03      0.00      0.06   7505.12      1.00\n",
      "     a6_b0      0.11      0.04      0.11      0.04      0.18   4906.87      1.00\n",
      "     a7_b0      0.16      0.07      0.16      0.04      0.26   4561.75      1.00\n",
      "     a8_b0      0.17      0.09      0.16      0.02      0.30   4498.52      1.00\n",
      "     a9_b0      0.13      0.07      0.13      0.01      0.23   4295.07      1.00\n",
      "\n",
      "Number of divergences: 0\n",
      "|--------------------------------------------|\n",
      "| bin | m [10^-3, 3sigma] | dz               |\n",
      "|--------------------------------------------|\n",
      "| 0   | +15.7 +/- 14.8    | -0.004 +/- 0.004 |\n",
      "|--------------------------------------------|\n",
      "======================================================\n",
      "======================================================\n",
      "\n",
      "\n",
      "======================================================\n",
      "../../data/N_gamma_alpha_v3_statistical_i_23.0_23.5.hdf5\n",
      "======================================================\n"
     ]
    },
    {
     "name": "stderr",
     "output_type": "stream",
     "text": [
      "100%|██████████| 50000/50000 [00:10<00:00, 4818.05it/s, init loss: 388678.0997, avg. loss [47501-50000]: -55.4980]\n"
     ]
    },
    {
     "name": "stdout",
     "output_type": "stream",
     "text": [
      "chi2: 3.219031342498121\n",
      "dof: 1\n",
      "p-value: 0.07278669021549221\n",
      "m vals:\n",
      "    model: [-0.00427946757900266]\n",
      "    data: [-0.0028866096121270557]\n",
      "     err: [0.006324402750695496]\n",
      "map params:\n",
      " {'a0_b0': Array(0.08634639, dtype=float64),\n",
      " 'a1_b0': Array(0.10157855, dtype=float64),\n",
      " 'a2_b0': Array(0.08823683, dtype=float64),\n",
      " 'a3_b0': Array(0.09648988, dtype=float64),\n",
      " 'a4_b0': Array(0.08109432, dtype=float64),\n",
      " 'a5_b0': Array(0.06558627, dtype=float64),\n",
      " 'a6_b0': Array(0.02597497, dtype=float64),\n",
      " 'a7_b0': Array(0.04801576, dtype=float64),\n",
      " 'a8_b0': Array(0.07139284, dtype=float64),\n",
      " 'a9_b0': Array(0.04979982, dtype=float64)}\n"
     ]
    },
    {
     "data": {
      "application/vnd.jupyter.widget-view+json": {
       "model_id": "ee5e14b042d1485b942475645b7916c5",
       "version_major": 2,
       "version_minor": 0
      },
      "text/plain": [
       "  0%|          | 0/2500 [00:00<?, ?it/s]"
      ]
     },
     "metadata": {},
     "output_type": "display_data"
    },
    {
     "data": {
      "application/vnd.jupyter.widget-view+json": {
       "model_id": "17735b9e0d5f4ae689eac13811a7f2a6",
       "version_major": 2,
       "version_minor": 0
      },
      "text/plain": [
       "  0%|          | 0/2500 [00:00<?, ?it/s]"
      ]
     },
     "metadata": {},
     "output_type": "display_data"
    },
    {
     "data": {
      "application/vnd.jupyter.widget-view+json": {
       "model_id": "e471810b163542feb144dd181851f26c",
       "version_major": 2,
       "version_minor": 0
      },
      "text/plain": [
       "  0%|          | 0/2500 [00:00<?, ?it/s]"
      ]
     },
     "metadata": {},
     "output_type": "display_data"
    },
    {
     "data": {
      "application/vnd.jupyter.widget-view+json": {
       "model_id": "9953ae6bb9f24e758ee15ddcda3ab89c",
       "version_major": 2,
       "version_minor": 0
      },
      "text/plain": [
       "  0%|          | 0/2500 [00:00<?, ?it/s]"
      ]
     },
     "metadata": {},
     "output_type": "display_data"
    },
    {
     "name": "stdout",
     "output_type": "stream",
     "text": [
      "\n",
      "                mean       std    median      5.0%     95.0%     n_eff     r_hat\n",
      "     a0_b0      0.09      0.00      0.09      0.08      0.09   7990.12      1.00\n",
      "     a1_b0      0.10      0.00      0.10      0.10      0.10   7688.91      1.00\n",
      "     a2_b0      0.09      0.00      0.09      0.09      0.09   6988.54      1.00\n",
      "     a3_b0      0.10      0.00      0.10      0.09      0.10   7678.23      1.00\n",
      "     a4_b0      0.08      0.00      0.08      0.08      0.09   6486.90      1.00\n",
      "     a5_b0      0.06      0.01      0.06      0.05      0.08   6929.52      1.00\n",
      "     a6_b0      0.03      0.02      0.03      0.00      0.05   4734.57      1.00\n",
      "     a7_b0      0.05      0.03      0.05      0.00      0.09   5204.02      1.00\n",
      "     a8_b0      0.08      0.04      0.07      0.01      0.13   4632.20      1.00\n",
      "     a9_b0      0.05      0.02      0.05      0.01      0.08   5167.37      1.00\n",
      "\n",
      "Number of divergences: 0\n",
      "|--------------------------------------------|\n",
      "| bin | m [10^-3, 3sigma] | dz               |\n",
      "|--------------------------------------------|\n",
      "| 0   |  -4.6 +/- 19.2    | -0.029 +/- 0.005 |\n",
      "|--------------------------------------------|\n",
      "======================================================\n",
      "======================================================\n",
      "\n",
      "\n",
      "======================================================\n",
      "../../data/N_gamma_alpha_v3_statistical_i_23.5_24.0.hdf5\n",
      "======================================================\n"
     ]
    },
    {
     "name": "stderr",
     "output_type": "stream",
     "text": [
      "100%|██████████| 50000/50000 [00:10<00:00, 4858.70it/s, init loss: 160918.3606, avg. loss [47501-50000]: -51.4579]\n"
     ]
    },
    {
     "name": "stdout",
     "output_type": "stream",
     "text": [
      "chi2: 1.1713905026822686\n",
      "dof: 1\n",
      "p-value: 0.2791157137818792\n",
      "m vals:\n",
      "    model: [0.004564659804777493]\n",
      "    data: [0.0035297552989796976]\n",
      "     err: [0.009518229252611372]\n",
      "map params:\n",
      " {'a0_b0': Array(0.08215755, dtype=float64),\n",
      " 'a1_b0': Array(0.10067102, dtype=float64),\n",
      " 'a2_b0': Array(0.09664741, dtype=float64),\n",
      " 'a3_b0': Array(0.10292146, dtype=float64),\n",
      " 'a4_b0': Array(0.08556708, dtype=float64),\n",
      " 'a5_b0': Array(0.07271449, dtype=float64),\n",
      " 'a6_b0': Array(0.06845997, dtype=float64),\n",
      " 'a7_b0': Array(0.05345612, dtype=float64),\n",
      " 'a8_b0': Array(0.04810968, dtype=float64),\n",
      " 'a9_b0': Array(0.06736729, dtype=float64)}\n"
     ]
    },
    {
     "data": {
      "application/vnd.jupyter.widget-view+json": {
       "model_id": "1cd46419a86c416d93650248a47c3211",
       "version_major": 2,
       "version_minor": 0
      },
      "text/plain": [
       "  0%|          | 0/2500 [00:00<?, ?it/s]"
      ]
     },
     "metadata": {},
     "output_type": "display_data"
    },
    {
     "data": {
      "application/vnd.jupyter.widget-view+json": {
       "model_id": "80f364a5fdd246d394ca0c05729d96cf",
       "version_major": 2,
       "version_minor": 0
      },
      "text/plain": [
       "  0%|          | 0/2500 [00:00<?, ?it/s]"
      ]
     },
     "metadata": {},
     "output_type": "display_data"
    },
    {
     "data": {
      "application/vnd.jupyter.widget-view+json": {
       "model_id": "97d960773eac4589b8cdd488cb13ebe5",
       "version_major": 2,
       "version_minor": 0
      },
      "text/plain": [
       "  0%|          | 0/2500 [00:00<?, ?it/s]"
      ]
     },
     "metadata": {},
     "output_type": "display_data"
    },
    {
     "data": {
      "application/vnd.jupyter.widget-view+json": {
       "model_id": "6cfaec0474984a90926e9b72ab8ebace",
       "version_major": 2,
       "version_minor": 0
      },
      "text/plain": [
       "  0%|          | 0/2500 [00:00<?, ?it/s]"
      ]
     },
     "metadata": {},
     "output_type": "display_data"
    },
    {
     "name": "stdout",
     "output_type": "stream",
     "text": [
      "\n",
      "                mean       std    median      5.0%     95.0%     n_eff     r_hat\n",
      "     a0_b0      0.08      0.00      0.08      0.07      0.09   8725.90      1.00\n",
      "     a1_b0      0.10      0.00      0.10      0.10      0.11   8969.65      1.00\n",
      "     a2_b0      0.10      0.00      0.10      0.09      0.10   9271.23      1.00\n",
      "     a3_b0      0.10      0.00      0.10      0.10      0.11  10938.36      1.00\n",
      "     a4_b0      0.09      0.00      0.09      0.08      0.09   8492.36      1.00\n",
      "     a5_b0      0.07      0.01      0.07      0.06      0.08   7661.48      1.00\n",
      "     a6_b0      0.07      0.01      0.07      0.05      0.09   8300.12      1.00\n",
      "     a7_b0      0.05      0.02      0.05      0.03      0.08   7091.21      1.00\n",
      "     a8_b0      0.05      0.02      0.05      0.01      0.08   4818.84      1.00\n",
      "     a9_b0      0.07      0.01      0.07      0.05      0.09   8202.14      1.00\n",
      "\n",
      "Number of divergences: 0\n",
      "|--------------------------------------------|\n",
      "| bin | m [10^-3, 3sigma] | dz               |\n",
      "|--------------------------------------------|\n",
      "| 0   |  +4.6 +/- 29.2    | -0.049 +/- 0.008 |\n",
      "|--------------------------------------------|\n",
      "======================================================\n",
      "======================================================\n",
      "\n",
      "\n",
      "======================================================\n",
      "../../data/N_gamma_alpha_v3_statistical_i_24.0_24.5.hdf5\n",
      "======================================================\n"
     ]
    },
    {
     "name": "stderr",
     "output_type": "stream",
     "text": [
      "100%|██████████| 50000/50000 [00:10<00:00, 4871.35it/s, init loss: 24593.1393, avg. loss [47501-50000]: -40.5046]\n"
     ]
    },
    {
     "name": "stdout",
     "output_type": "stream",
     "text": [
      "chi2: 2.662186132772483\n",
      "dof: 1\n",
      "p-value: 0.1027594132215352\n",
      "m vals:\n",
      "    model: [0.0003175313425609616]\n",
      "    data: [-0.001423520082866614]\n",
      "     err: [0.02328194786250383]\n",
      "map params:\n",
      " {'a0_b0': Array(0.08227901, dtype=float64),\n",
      " 'a1_b0': Array(0.11276261, dtype=float64),\n",
      " 'a2_b0': Array(0.09313637, dtype=float64),\n",
      " 'a3_b0': Array(0.09739475, dtype=float64),\n",
      " 'a4_b0': Array(0.08905208, dtype=float64),\n",
      " 'a5_b0': Array(0.09602536, dtype=float64),\n",
      " 'a6_b0': Array(0.05476487, dtype=float64),\n",
      " 'a7_b0': Array(0.07242672, dtype=float64),\n",
      " 'a8_b0': Array(0.09928424, dtype=float64),\n",
      " 'a9_b0': Array(0.06656462, dtype=float64)}\n"
     ]
    },
    {
     "data": {
      "application/vnd.jupyter.widget-view+json": {
       "model_id": "31ecbe844a334546bea87bf0bef37172",
       "version_major": 2,
       "version_minor": 0
      },
      "text/plain": [
       "  0%|          | 0/2500 [00:00<?, ?it/s]"
      ]
     },
     "metadata": {},
     "output_type": "display_data"
    },
    {
     "data": {
      "application/vnd.jupyter.widget-view+json": {
       "model_id": "fc83c41db4a544fc91e1bc6261f39e96",
       "version_major": 2,
       "version_minor": 0
      },
      "text/plain": [
       "  0%|          | 0/2500 [00:00<?, ?it/s]"
      ]
     },
     "metadata": {},
     "output_type": "display_data"
    },
    {
     "data": {
      "application/vnd.jupyter.widget-view+json": {
       "model_id": "9acabb37334d4162bbb999ade6180418",
       "version_major": 2,
       "version_minor": 0
      },
      "text/plain": [
       "  0%|          | 0/2500 [00:00<?, ?it/s]"
      ]
     },
     "metadata": {},
     "output_type": "display_data"
    },
    {
     "data": {
      "application/vnd.jupyter.widget-view+json": {
       "model_id": "29f04f97736f4c4caa419c72d9802149",
       "version_major": 2,
       "version_minor": 0
      },
      "text/plain": [
       "  0%|          | 0/2500 [00:00<?, ?it/s]"
      ]
     },
     "metadata": {},
     "output_type": "display_data"
    },
    {
     "name": "stdout",
     "output_type": "stream",
     "text": [
      "\n",
      "                mean       std    median      5.0%     95.0%     n_eff     r_hat\n",
      "     a0_b0      0.08      0.01      0.08      0.06      0.10  10703.67      1.00\n",
      "     a1_b0      0.11      0.01      0.11      0.10      0.13   9548.98      1.00\n",
      "     a2_b0      0.09      0.01      0.09      0.08      0.11  10097.13      1.00\n",
      "     a3_b0      0.10      0.01      0.10      0.08      0.11  10906.44      1.00\n",
      "     a4_b0      0.09      0.01      0.09      0.08      0.10   8880.56      1.00\n",
      "     a5_b0      0.10      0.01      0.10      0.08      0.11   9993.64      1.00\n",
      "     a6_b0      0.05      0.01      0.05      0.03      0.08   9924.29      1.00\n",
      "     a7_b0      0.07      0.02      0.07      0.04      0.10   7579.15      1.00\n",
      "     a8_b0      0.10      0.03      0.10      0.06      0.14   6651.91      1.00\n",
      "     a9_b0      0.07      0.01      0.07      0.04      0.09   9031.02      1.00\n",
      "\n",
      "Number of divergences: 0\n",
      "|--------------------------------------------|\n",
      "| bin | m [10^-3, 3sigma] | dz               |\n",
      "|--------------------------------------------|\n",
      "| 0   |  -0.1 +/- 68.5    | -0.066 +/- 0.021 |\n",
      "|--------------------------------------------|\n",
      "======================================================\n",
      "======================================================\n",
      "\n",
      "\n"
     ]
    }
   ],
   "source": [
    "fnames = [\n",
    "    \"../../data/N_gamma_alpha_v3_statistical_i_20.0_20.5.hdf5\",\n",
    "    \"../../data/N_gamma_alpha_v3_statistical_i_20.5_21.0.hdf5\",\n",
    "    \"../../data/N_gamma_alpha_v3_statistical_i_21.0_21.5.hdf5\",\n",
    "    \"../../data/N_gamma_alpha_v3_statistical_i_21.5_22.0.hdf5\",\n",
    "    \"../../data/N_gamma_alpha_v3_statistical_i_22.0_22.5.hdf5\",\n",
    "    \"../../data/N_gamma_alpha_v3_statistical_i_22.5_23.0.hdf5\",\n",
    "    \"../../data/N_gamma_alpha_v3_statistical_i_23.0_23.5.hdf5\",\n",
    "    \"../../data/N_gamma_alpha_v3_statistical_i_23.5_24.0.hdf5\",\n",
    "    \"../../data/N_gamma_alpha_v3_statistical_i_24.0_24.5.hdf5\",\n",
    "]\n",
    "\n",
    "kwargs = {\n",
    "    \"num_pts\": 10,\n",
    "    \"model_kind\": \"f\",\n",
    "}\n",
    "# kwargs = {\n",
    "#     \"num_pts\": 9,\n",
    "#     \"model_kind\": \"F\",\n",
    "#     \"fixed_param_values\": {\n",
    "#         \"g_b0\": 0.0, \"g_b1\": 0.0, \"g_b2\": 0.0, \"g_b3\": 0.0,\n",
    "#     },\n",
    "# }\n",
    "\n",
    "mags = np.array([20.25, 20.75, 21.25, 21.75, 22.25, 22.75, 23.25, 23.75, 24.25])\n",
    "dz_mn_sd = []\n",
    "\n",
    "for fname in fnames:\n",
    "    dz_mn_sd.append(_measure_m_dz(fname, kwargs))\n",
    "\n",
    "dz_mn_sd = np.array(dz_mn_sd)"
   ]
  },
  {
   "cell_type": "code",
   "execution_count": 6,
   "metadata": {},
   "outputs": [
    {
     "data": {
      "image/png": "[encoded data removed]",
      "text/plain": [
       "Figure(nrows=2, ncols=1, figwidth=4.0, figheight=4.0)"
      ]
     },
     "metadata": {
      "image/png": {
       "height": 400,
       "width": 400
      }
     },
     "output_type": "display_data"
    }
   ],
   "source": [
    "import ultraplot as uplt\n",
    "\n",
    "\n",
    "fig, axs = uplt.subplots(figsize=(4, 4), nrows=2, ncols=1, sharey=0)\n",
    "\n",
    "ax = axs[0, 0]\n",
    "ax.errorbar(\n",
    "    mags, dz_mn_sd[:, 0], fmt=\"ko\", yerr=dz_mn_sd[:, 1] * 3\n",
    ")\n",
    "ax.axhline(0, color=\"k\", linestyle=\"dashed\")\n",
    "ax.format(\n",
    "    xlabel=\"i-band magnitude\",\n",
    "    ylabel=\"effective redshift shift\",\n",
    "    xlim=(22.5, 24.5),\n",
    ")\n",
    "\n",
    "ax = axs[1, 0]\n",
    "ax.errorbar(\n",
    "    mags, dz_mn_sd[:, 2] / 1e-3, fmt=\"ko\", yerr=dz_mn_sd[:, 3] / 1e-3 * 3\n",
    ")\n",
    "ax.axhline(0, color=\"k\", linestyle=\"dashed\")\n",
    "ax.format(\n",
    "    xlabel=\"i-band magnitude\",\n",
    "    ylabel=\"multiplicative bias [$10^{-3}$]\",\n",
    "    xlim=(21.5, 24.5),\n",
    "    ylim=(-80, 80),\n",
    ")"
   ]
  },
  {
   "cell_type": "code",
   "execution_count": null,
   "metadata": {},
   "outputs": [],
   "source": []
  }
 ],
 "metadata": {
  "kernelspec": {
   "display_name": "des-y6",
   "language": "python",
   "name": "python3"
  },
  "language_info": {
   "codemirror_mode": {
    "name": "ipython",
    "version": 3
   },
   "file_extension": ".py",
   "mimetype": "text/x-python",
   "name": "python",
   "nbconvert_exporter": "python",
   "pygments_lexer": "ipython3",
   "version": "3.11.11"
  }
 },
 "nbformat": 4,
 "nbformat_minor": 2
}
