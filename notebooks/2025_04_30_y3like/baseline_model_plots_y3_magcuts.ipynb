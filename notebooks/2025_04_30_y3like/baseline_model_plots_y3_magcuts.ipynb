{
 "cells": [
  {
   "cell_type": "code",
   "execution_count": 1,
   "metadata": {},
   "outputs": [],
   "source": [
    "%load_ext autoreload\n",
    "%autoreload 2\n",
    "\n",
    "import jax  # noqa: I001\n",
    "jax.config.update(\"jax_enable_x64\", True)\n",
    "\n",
    "import numpyro  # noqa: E402, I001\n",
    "numpyro.set_host_device_count(4)\n",
    "\n",
    "import numpy as np  # noqa: E402, I001"
   ]
  },
  {
   "cell_type": "markdown",
   "metadata": {},
   "source": [
    "## Fit the Data"
   ]
  },
  {
   "cell_type": "code",
   "execution_count": 17,
   "metadata": {},
   "outputs": [],
   "source": [
    "import pprint\n",
    "\n",
    "from des_y6_imsim_analysis import interpolant\n",
    "from des_y6_imsim_analysis.stats import compute_model_chi2_info, measure_map, run_mcmc\n",
    "from des_y6_imsim_analysis.utils import (\n",
    "    measure_m_dz,\n",
    "    plot_results_delta_nz,\n",
    "    plot_results_fg_model,\n",
    "    plot_results_nz,\n",
    "    read_data_one_tomo_bin,\n",
    ")\n",
    "\n",
    "\n",
    "def _measure_m_dz(fname, kwargs):\n",
    "    print(\"======================================================\")\n",
    "    print(fname)\n",
    "    print(\"======================================================\")\n",
    "    model_module = interpolant\n",
    "\n",
    "    data = read_data_one_tomo_bin(fname)\n",
    "\n",
    "    model_data = model_module.make_model_data(\n",
    "        z=data.z,\n",
    "        nzs=data.nzs,\n",
    "        mn=data.mn,\n",
    "        cov=data.cov,\n",
    "        mn_pars=data.mn_pars,\n",
    "        zbins=data.zbins,\n",
    "        **kwargs,\n",
    "    )\n",
    "\n",
    "    map_params = measure_map(\n",
    "        model_module=model_module,\n",
    "        model_data=model_data,\n",
    "        seed=254,\n",
    "        progress_bar=True,\n",
    "        num_steps=50_000,\n",
    "        learning_rate=1e-2,\n",
    "    )\n",
    "\n",
    "    chi2_info = compute_model_chi2_info(\n",
    "        model_module=model_module,\n",
    "        model_data=model_data,\n",
    "        data=data,\n",
    "        params=map_params,\n",
    "    )\n",
    "\n",
    "    print(\"chi2:\", chi2_info['chi2'])\n",
    "    print(\"dof:\", chi2_info['dof'])\n",
    "    print(\"p-value:\", chi2_info['p_value'])\n",
    "    print(\"m vals:\\n    model: %r\\n    data: %r\\n     err: %r\" % (\n",
    "        (chi2_info['model_mn'][:data.nzs.shape[0]] - 1).tolist(),\n",
    "        (data.mn[:data.nzs.shape[0]] - 1).tolist(),\n",
    "        (np.sqrt(np.diag(data.cov)[:data.nzs.shape[0]])).tolist(),\n",
    "    ))\n",
    "    print(\"map params:\\n\", pprint.pformat(map_params))\n",
    "\n",
    "    mcmc = run_mcmc(\n",
    "        model_module=model_module,\n",
    "        model_data=model_data,\n",
    "        init_params=map_params,\n",
    "        seed=231,\n",
    "        progress_bar=True,\n",
    "        dense_mass=True,\n",
    "        num_samples=2000,\n",
    "    )\n",
    "\n",
    "    mcmc.print_summary(exclude_deterministic=False)\n",
    "    samples = mcmc.get_samples()\n",
    "\n",
    "    # plot_results_nz(model_module=model_module, model_data=model_data, samples=samples)\n",
    "    # plot_results_delta_nz(model_module=model_module, model_data=model_data, samples=samples)\n",
    "    # plot_results_fg_model(model_module=model_module, model_data=model_data, samples=samples)\n",
    "\n",
    "    mdz = measure_m_dz(\n",
    "        model_module=model_module,\n",
    "        model_data=model_data,\n",
    "        samples=samples,\n",
    "        return_dict=True,\n",
    "        shift_negative=True,\n",
    "    )\n",
    "\n",
    "    m_mn = [np.mean(mdz[f\"m_b{i}\"]) for i in range(4)]\n",
    "    m_sd = [np.std(mdz[f\"m_b{i}\"]) for i in range(4)]\n",
    "\n",
    "    dz_mn = [np.mean(mdz[f\"dz_b{i}\"]) for i in range(4)]\n",
    "    dz_sd = [np.std(mdz[f\"dz_b{i}\"]) for i in range(4)]\n",
    "\n",
    "    print(\"|--------------------------------------------|\")\n",
    "    print(\"| bin | m [10^-3, 3sigma] | dz               |\")\n",
    "    print(\"|--------------------------------------------|\")\n",
    "    for i in range(data.nzs.shape[0]):\n",
    "        print(\n",
    "            \"| %d   | %+5.1f +/- %-5.1f   | %+0.3f +/- %0.3f |\" % (\n",
    "                i, m_mn[i]/1e-3, m_sd[i]/1e-3 * 3, dz_mn[i], dz_sd[i]\n",
    "            )\n",
    "        )\n",
    "    print(\"|--------------------------------------------|\")\n",
    "    print(\"======================================================\")\n",
    "    print(\"======================================================\\n\\n\")\n",
    "\n",
    "    return [dz_mn[0], dz_sd[0], m_mn[0], m_sd[0]]\n"
   ]
  },
  {
   "cell_type": "code",
   "execution_count": 18,
   "metadata": {},
   "outputs": [
    {
     "name": "stdout",
     "output_type": "stream",
     "text": [
      "======================================================\n",
      "../../data/N_gamma_alpha_v3_statistical_i_22.5_23.0.hdf5\n",
      "======================================================\n"
     ]
    },
    {
     "name": "stderr",
     "output_type": "stream",
     "text": [
      "100%|██████████| 50000/50000 [00:10<00:00, 4719.49it/s, init loss: 291792.1445, avg. loss [47501-50000]: -60.1428]\n"
     ]
    },
    {
     "name": "stdout",
     "output_type": "stream",
     "text": [
      "chi2: 0.19884022457578843\n",
      "dof: 1\n",
      "p-value: 0.6556586163492004\n",
      "m vals:\n",
      "    model: [0.01683192690240376]\n",
      "    data: [0.01574325548099731]\n",
      "     err: [0.005123939272084106]\n",
      "map params:\n",
      " {'a0_b0': Array(0.49528305, dtype=float64),\n",
      " 'a1_b0': Array(0.51474722, dtype=float64),\n",
      " 'a2_b0': Array(0.51365834, dtype=float64),\n",
      " 'a3_b0': Array(0.49128266, dtype=float64),\n",
      " 'a4_b0': Array(0.49764196, dtype=float64),\n",
      " 'a5_b0': Array(0.49726277, dtype=float64),\n",
      " 'a6_b0': Array(0.50080623, dtype=float64),\n",
      " 'a7_b0': Array(0.50096326, dtype=float64),\n",
      " 'a8_b0': Array(0.50085183, dtype=float64),\n",
      " 'a9_b0': Array(0.50023297, dtype=float64)}\n"
     ]
    },
    {
     "data": {
      "application/vnd.jupyter.widget-view+json": {
       "model_id": "9fa82949da1e47568042e706b6b22105",
       "version_major": 2,
       "version_minor": 0
      },
      "text/plain": [
       "  0%|          | 0/2500 [00:00<?, ?it/s]"
      ]
     },
     "metadata": {},
     "output_type": "display_data"
    },
    {
     "data": {
      "application/vnd.jupyter.widget-view+json": {
       "model_id": "8738ba98502542e185319a5a0773e730",
       "version_major": 2,
       "version_minor": 0
      },
      "text/plain": [
       "  0%|          | 0/2500 [00:00<?, ?it/s]"
      ]
     },
     "metadata": {},
     "output_type": "display_data"
    },
    {
     "data": {
      "application/vnd.jupyter.widget-view+json": {
       "model_id": "8e7d7247016d42c082988d5aa0a23187",
       "version_major": 2,
       "version_minor": 0
      },
      "text/plain": [
       "  0%|          | 0/2500 [00:00<?, ?it/s]"
      ]
     },
     "metadata": {},
     "output_type": "display_data"
    },
    {
     "data": {
      "application/vnd.jupyter.widget-view+json": {
       "model_id": "7c78d4bb11cf4c2fbc706d2c83714eb9",
       "version_major": 2,
       "version_minor": 0
      },
      "text/plain": [
       "  0%|          | 0/2500 [00:00<?, ?it/s]"
      ]
     },
     "metadata": {},
     "output_type": "display_data"
    },
    {
     "name": "stdout",
     "output_type": "stream",
     "text": [
      "\n",
      "                mean       std    median      5.0%     95.0%     n_eff     r_hat\n",
      "     a0_b0      0.50      0.00      0.50      0.49      0.50   7599.69      1.00\n",
      "     a1_b0      0.51      0.00      0.51      0.51      0.52   7698.72      1.00\n",
      "     a2_b0      0.51      0.00      0.51      0.51      0.52   7170.11      1.00\n",
      "     a3_b0      0.49      0.00      0.49      0.49      0.50   8425.03      1.00\n",
      "     a4_b0      0.50      0.00      0.50      0.49      0.50   9131.12      1.00\n",
      "     a5_b0      0.50      0.00      0.50      0.50      0.50   9628.33      1.00\n",
      "     a6_b0      0.50      0.00      0.50      0.50      0.50  10933.39      1.00\n",
      "     a7_b0      0.50      0.00      0.50      0.50      0.50  11424.17      1.00\n",
      "     a8_b0      0.50      0.00      0.50      0.50      0.50  11022.99      1.00\n",
      "     a9_b0      0.50      0.00      0.50      0.50      0.50   8604.83      1.00\n",
      "\n",
      "Number of divergences: 0\n",
      "|--------------------------------------------|\n",
      "| bin | m [10^-3, 3sigma] | dz               |\n",
      "|--------------------------------------------|\n",
      "| 0   | +15.2 +/- 15.4    | -0.005 +/- 0.004 |\n",
      "|--------------------------------------------|\n",
      "======================================================\n",
      "======================================================\n",
      "\n",
      "\n",
      "======================================================\n",
      "../../data/N_gamma_alpha_v3_statistical_i_23.0_23.5.hdf5\n",
      "======================================================\n"
     ]
    },
    {
     "name": "stderr",
     "output_type": "stream",
     "text": [
      "100%|██████████| 50000/50000 [00:10<00:00, 4714.14it/s, init loss: 132610.8329, avg. loss [47501-50000]: -55.4741]\n"
     ]
    },
    {
     "name": "stdout",
     "output_type": "stream",
     "text": [
      "chi2: 3.219031342498056\n",
      "dof: 1\n",
      "p-value: 0.07278669021549493\n",
      "m vals:\n",
      "    model: [-0.004279467671882808]\n",
      "    data: [-0.0028866096121270557]\n",
      "     err: [0.006324402750695496]\n",
      "map params:\n",
      " {'a0_b0': Array(0.49263386, dtype=float64),\n",
      " 'a1_b0': Array(0.5206164, dtype=float64),\n",
      " 'a2_b0': Array(0.49482639, dtype=float64),\n",
      " 'a3_b0': Array(0.51013472, dtype=float64),\n",
      " 'a4_b0': Array(0.48978619, dtype=float64),\n",
      " 'a5_b0': Array(0.49580626, dtype=float64),\n",
      " 'a6_b0': Array(0.49497044, dtype=float64),\n",
      " 'a7_b0': Array(0.49850592, dtype=float64),\n",
      " 'a8_b0': Array(0.49943938, dtype=float64),\n",
      " 'a9_b0': Array(0.49906174, dtype=float64)}\n"
     ]
    },
    {
     "data": {
      "application/vnd.jupyter.widget-view+json": {
       "model_id": "1d590fedab3144f2aaa879377e5169e7",
       "version_major": 2,
       "version_minor": 0
      },
      "text/plain": [
       "  0%|          | 0/2500 [00:00<?, ?it/s]"
      ]
     },
     "metadata": {},
     "output_type": "display_data"
    },
    {
     "data": {
      "application/vnd.jupyter.widget-view+json": {
       "model_id": "cef89fdb891f43bfb625cd567ea36ab9",
       "version_major": 2,
       "version_minor": 0
      },
      "text/plain": [
       "  0%|          | 0/2500 [00:00<?, ?it/s]"
      ]
     },
     "metadata": {},
     "output_type": "display_data"
    },
    {
     "data": {
      "application/vnd.jupyter.widget-view+json": {
       "model_id": "395cdc719dde4f9a879670decf64db5d",
       "version_major": 2,
       "version_minor": 0
      },
      "text/plain": [
       "  0%|          | 0/2500 [00:00<?, ?it/s]"
      ]
     },
     "metadata": {},
     "output_type": "display_data"
    },
    {
     "data": {
      "application/vnd.jupyter.widget-view+json": {
       "model_id": "79587a84a50b4155a335a203f1bf817d",
       "version_major": 2,
       "version_minor": 0
      },
      "text/plain": [
       "  0%|          | 0/2500 [00:00<?, ?it/s]"
      ]
     },
     "metadata": {},
     "output_type": "display_data"
    },
    {
     "name": "stdout",
     "output_type": "stream",
     "text": [
      "\n",
      "                mean       std    median      5.0%     95.0%     n_eff     r_hat\n",
      "     a0_b0      0.49      0.00      0.49      0.49      0.50   7916.36      1.00\n",
      "     a1_b0      0.52      0.00      0.52      0.51      0.53   7693.23      1.00\n",
      "     a2_b0      0.49      0.00      0.49      0.49      0.50   6815.69      1.00\n",
      "     a3_b0      0.51      0.00      0.51      0.50      0.52   7756.38      1.00\n",
      "     a4_b0      0.49      0.00      0.49      0.49      0.49   7033.43      1.00\n",
      "     a5_b0      0.50      0.00      0.50      0.49      0.50   9994.32      1.00\n",
      "     a6_b0      0.49      0.00      0.49      0.49      0.50  11379.33      1.00\n",
      "     a7_b0      0.50      0.00      0.50      0.50      0.50  10969.95      1.00\n",
      "     a8_b0      0.50      0.00      0.50      0.50      0.50  11631.21      1.00\n",
      "     a9_b0      0.50      0.00      0.50      0.50      0.50   9429.45      1.00\n",
      "\n",
      "Number of divergences: 0\n",
      "|--------------------------------------------|\n",
      "| bin | m [10^-3, 3sigma] | dz               |\n",
      "|--------------------------------------------|\n",
      "| 0   |  -4.4 +/- 19.1    | -0.029 +/- 0.005 |\n",
      "|--------------------------------------------|\n",
      "======================================================\n",
      "======================================================\n",
      "\n",
      "\n",
      "======================================================\n",
      "../../data/N_gamma_alpha_v3_statistical_i_23.5_24.0.hdf5\n",
      "======================================================\n"
     ]
    },
    {
     "name": "stderr",
     "output_type": "stream",
     "text": [
      "100%|██████████| 50000/50000 [00:10<00:00, 4699.55it/s, init loss: 46158.8501, avg. loss [47501-50000]: -51.4488]\n"
     ]
    },
    {
     "name": "stdout",
     "output_type": "stream",
     "text": [
      "chi2: 1.171408854366039\n",
      "dof: 1\n",
      "p-value: 0.27911194789539956\n",
      "m vals:\n",
      "    model: [0.0045950169292099385]\n",
      "    data: [0.0035297552989796976]\n",
      "     err: [0.009518229252611372]\n",
      "map params:\n",
      " {'a0_b0': Array(0.4901382, dtype=float64),\n",
      " 'a1_b0': Array(0.51436086, dtype=float64),\n",
      " 'a2_b0': Array(0.51272232, dtype=float64),\n",
      " 'a3_b0': Array(0.52282795, dtype=float64),\n",
      " 'a4_b0': Array(0.49020086, dtype=float64),\n",
      " 'a5_b0': Array(0.49071095, dtype=float64),\n",
      " 'a6_b0': Array(0.4940566, dtype=float64),\n",
      " 'a7_b0': Array(0.49466859, dtype=float64),\n",
      " 'a8_b0': Array(0.49514554, dtype=float64),\n",
      " 'a9_b0': Array(0.49806272, dtype=float64)}\n"
     ]
    },
    {
     "data": {
      "application/vnd.jupyter.widget-view+json": {
       "model_id": "293d524f937444a2ab77a456133392bb",
       "version_major": 2,
       "version_minor": 0
      },
      "text/plain": [
       "  0%|          | 0/2500 [00:00<?, ?it/s]"
      ]
     },
     "metadata": {},
     "output_type": "display_data"
    },
    {
     "data": {
      "application/vnd.jupyter.widget-view+json": {
       "model_id": "25483fb03b83410e893531af3d527a21",
       "version_major": 2,
       "version_minor": 0
      },
      "text/plain": [
       "  0%|          | 0/2500 [00:00<?, ?it/s]"
      ]
     },
     "metadata": {},
     "output_type": "display_data"
    },
    {
     "data": {
      "application/vnd.jupyter.widget-view+json": {
       "model_id": "09f2b051321643f9bf736d80b16fb233",
       "version_major": 2,
       "version_minor": 0
      },
      "text/plain": [
       "  0%|          | 0/2500 [00:00<?, ?it/s]"
      ]
     },
     "metadata": {},
     "output_type": "display_data"
    },
    {
     "data": {
      "application/vnd.jupyter.widget-view+json": {
       "model_id": "056e49bc383149febecce72382e8129a",
       "version_major": 2,
       "version_minor": 0
      },
      "text/plain": [
       "  0%|          | 0/2500 [00:00<?, ?it/s]"
      ]
     },
     "metadata": {},
     "output_type": "display_data"
    },
    {
     "name": "stdout",
     "output_type": "stream",
     "text": [
      "\n",
      "                mean       std    median      5.0%     95.0%     n_eff     r_hat\n",
      "     a0_b0      0.49      0.00      0.49      0.48      0.50  11807.25      1.00\n",
      "     a1_b0      0.51      0.01      0.51      0.51      0.52  12064.50      1.00\n",
      "     a2_b0      0.51      0.01      0.51      0.50      0.52  12514.78      1.00\n",
      "     a3_b0      0.52      0.01      0.52      0.51      0.53  14921.62      1.00\n",
      "     a4_b0      0.49      0.01      0.49      0.48      0.50  13168.13      1.00\n",
      "     a5_b0      0.49      0.00      0.49      0.48      0.50  14607.96      1.00\n",
      "     a6_b0      0.49      0.00      0.49      0.49      0.50  14915.28      1.00\n",
      "     a7_b0      0.49      0.00      0.49      0.49      0.50  15486.26      1.00\n",
      "     a8_b0      0.50      0.00      0.50      0.49      0.50  15238.32      1.00\n",
      "     a9_b0      0.50      0.00      0.50      0.50      0.50  10508.48      1.00\n",
      "\n",
      "Number of divergences: 0\n",
      "|--------------------------------------------|\n",
      "| bin | m [10^-3, 3sigma] | dz               |\n",
      "|--------------------------------------------|\n",
      "| 0   |  +4.7 +/- 27.7    | -0.049 +/- 0.008 |\n",
      "|--------------------------------------------|\n",
      "======================================================\n",
      "======================================================\n",
      "\n",
      "\n",
      "======================================================\n",
      "../../data/N_gamma_alpha_v3_statistical_i_24.0_24.5.hdf5\n",
      "======================================================\n"
     ]
    },
    {
     "name": "stderr",
     "output_type": "stream",
     "text": [
      "100%|██████████| 50000/50000 [00:10<00:00, 4722.11it/s, init loss: 5414.8409, avg. loss [47501-50000]: -40.5035]\n"
     ]
    },
    {
     "name": "stdout",
     "output_type": "stream",
     "text": [
      "chi2: 2.6621882546760545\n",
      "dof: 1\n",
      "p-value: 0.10275927615551236\n",
      "m vals:\n",
      "    model: [0.00028908272078864705]\n",
      "    data: [-0.001423520082866614]\n",
      "     err: [0.02328194786250383]\n",
      "map params:\n",
      " {'a0_b0': Array(0.48976389, dtype=float64),\n",
      " 'a1_b0': Array(0.53109755, dtype=float64),\n",
      " 'a2_b0': Array(0.50138361, dtype=float64),\n",
      " 'a3_b0': Array(0.5087787, dtype=float64),\n",
      " 'a4_b0': Array(0.49836924, dtype=float64),\n",
      " 'a5_b0': Array(0.50331739, dtype=float64),\n",
      " 'a6_b0': Array(0.48047167, dtype=float64),\n",
      " 'a7_b0': Array(0.49428499, dtype=float64),\n",
      " 'a8_b0': Array(0.50191053, dtype=float64),\n",
      " 'a9_b0': Array(0.49535805, dtype=float64)}\n"
     ]
    },
    {
     "data": {
      "application/vnd.jupyter.widget-view+json": {
       "model_id": "24758866bcbd49ba8a8348cc10a534a5",
       "version_major": 2,
       "version_minor": 0
      },
      "text/plain": [
       "  0%|          | 0/2500 [00:00<?, ?it/s]"
      ]
     },
     "metadata": {},
     "output_type": "display_data"
    },
    {
     "data": {
      "application/vnd.jupyter.widget-view+json": {
       "model_id": "a543f10087954a38b72aa01390456787",
       "version_major": 2,
       "version_minor": 0
      },
      "text/plain": [
       "  0%|          | 0/2500 [00:00<?, ?it/s]"
      ]
     },
     "metadata": {},
     "output_type": "display_data"
    },
    {
     "data": {
      "application/vnd.jupyter.widget-view+json": {
       "model_id": "71c1d13c083f41439c42587663728e98",
       "version_major": 2,
       "version_minor": 0
      },
      "text/plain": [
       "  0%|          | 0/2500 [00:00<?, ?it/s]"
      ]
     },
     "metadata": {},
     "output_type": "display_data"
    },
    {
     "data": {
      "application/vnd.jupyter.widget-view+json": {
       "model_id": "2f143427acd14b8f9d48cc813f96aa0c",
       "version_major": 2,
       "version_minor": 0
      },
      "text/plain": [
       "  0%|          | 0/2500 [00:00<?, ?it/s]"
      ]
     },
     "metadata": {},
     "output_type": "display_data"
    },
    {
     "name": "stdout",
     "output_type": "stream",
     "text": [
      "\n",
      "                mean       std    median      5.0%     95.0%     n_eff     r_hat\n",
      "     a0_b0      0.49      0.01      0.49      0.47      0.51  14671.89      1.00\n",
      "     a1_b0      0.53      0.01      0.53      0.51      0.55  15094.04      1.00\n",
      "     a2_b0      0.50      0.01      0.50      0.48      0.52  16498.86      1.00\n",
      "     a3_b0      0.51      0.01      0.51      0.49      0.53  16198.28      1.00\n",
      "     a4_b0      0.50      0.01      0.50      0.48      0.52  15024.44      1.00\n",
      "     a5_b0      0.50      0.01      0.50      0.49      0.52  16206.26      1.00\n",
      "     a6_b0      0.48      0.01      0.48      0.47      0.49  15691.32      1.00\n",
      "     a7_b0      0.49      0.01      0.49      0.48      0.50  18078.76      1.00\n",
      "     a8_b0      0.50      0.01      0.50      0.49      0.51  14312.15      1.00\n",
      "     a9_b0      0.50      0.00      0.50      0.49      0.50  14814.85      1.00\n",
      "\n",
      "Number of divergences: 0\n",
      "|--------------------------------------------|\n",
      "| bin | m [10^-3, 3sigma] | dz               |\n",
      "|--------------------------------------------|\n",
      "| 0   |  +0.9 +/- 68.7    | -0.066 +/- 0.022 |\n",
      "|--------------------------------------------|\n",
      "======================================================\n",
      "======================================================\n",
      "\n",
      "\n"
     ]
    }
   ],
   "source": [
    "fnames = [\n",
    "    \"../../data/N_gamma_alpha_v3_statistical_i_22.5_23.0.hdf5\",\n",
    "    \"../../data/N_gamma_alpha_v3_statistical_i_23.0_23.5.hdf5\",\n",
    "    \"../../data/N_gamma_alpha_v3_statistical_i_23.5_24.0.hdf5\",\n",
    "    \"../../data/N_gamma_alpha_v3_statistical_i_24.0_24.5.hdf5\",\n",
    "]\n",
    "\n",
    "kwargs = {\n",
    "    \"num_pts\": 10,\n",
    "    \"model_kind\": \"g\",\n",
    "}\n",
    "# kwargs = {\n",
    "#     \"num_pts\": 9,\n",
    "#     \"model_kind\": \"F\",\n",
    "#     \"fixed_param_values\": {\n",
    "#         \"g_b0\": 0.0, \"g_b1\": 0.0, \"g_b2\": 0.0, \"g_b3\": 0.0,\n",
    "#     },\n",
    "# }\n",
    "\n",
    "mags = np.array([22.75, 23.25, 23.75, 24.25])\n",
    "dz_mn_sd = []\n",
    "\n",
    "for fname in fnames:\n",
    "    dz_mn_sd.append(_measure_m_dz(fname, kwargs))\n",
    "\n",
    "dz_mn_sd = np.array(dz_mn_sd)"
   ]
  },
  {
   "cell_type": "code",
   "execution_count": 26,
   "metadata": {},
   "outputs": [
    {
     "data": {
      "image/png": "[encoded data removed]",
      "text/plain": [
       "Figure(nrows=2, ncols=1, figwidth=4.0, figheight=4.0)"
      ]
     },
     "metadata": {
      "image/png": {
       "height": 400,
       "width": 400
      }
     },
     "output_type": "display_data"
    }
   ],
   "source": [
    "import ultraplot as uplt\n",
    "\n",
    "\n",
    "fig, axs = uplt.subplots(figsize=(4, 4), nrows=2, ncols=1, sharey=0)\n",
    "\n",
    "ax = axs[0, 0]\n",
    "ax.errorbar(\n",
    "    mags, dz_mn_sd[:, 0], fmt=\"ko\", yerr=dz_mn_sd[:, 1] * 3\n",
    ")\n",
    "ax.axhline(0, color=\"k\", linestyle=\"dashed\")\n",
    "ax.format(\n",
    "    xlabel=\"i-band magnitude\",\n",
    "    ylabel=\"effective redshift shift\",\n",
    "    xlim=(22.5, 24.5),\n",
    ")\n",
    "\n",
    "ax = axs[1, 0]\n",
    "ax.errorbar(\n",
    "    mags, dz_mn_sd[:, 2] / 1e-3, fmt=\"ko\", yerr=dz_mn_sd[:, 3] / 1e-3 * 3\n",
    ")\n",
    "ax.axhline(0, color=\"k\", linestyle=\"dashed\")\n",
    "ax.format(\n",
    "    xlabel=\"i-band magnitude\",\n",
    "    ylabel=\"multiplicative bias [$10^{-3}$]\",\n",
    "    xlim=(22.5, 24.5),\n",
    "    ylim=(-80, 80),\n",
    ")"
   ]
  },
  {
   "cell_type": "code",
   "execution_count": null,
   "metadata": {},
   "outputs": [],
   "source": []
  }
 ],
 "metadata": {
  "kernelspec": {
   "display_name": "des-y6",
   "language": "python",
   "name": "python3"
  },
  "language_info": {
   "codemirror_mode": {
    "name": "ipython",
    "version": 3
   },
   "file_extension": ".py",
   "mimetype": "text/x-python",
   "name": "python",
   "nbconvert_exporter": "python",
   "pygments_lexer": "ipython3",
   "version": "3.11.11"
  }
 },
 "nbformat": 4,
 "nbformat_minor": 2
}
