{
 "cells": [
  {
   "cell_type": "code",
   "execution_count": 1,
   "id": "f968d768-71fe-44be-8e1e-026d31ae6528",
   "metadata": {},
   "outputs": [],
   "source": [
    "import os"
   ]
  },
  {
   "cell_type": "code",
   "execution_count": 131,
   "id": "9f6bb3f0-1480-487c-9baa-b74458e2e03c",
   "metadata": {},
   "outputs": [],
   "source": [
    "import fitsio\n",
    "import matplotlib as mpl\n",
    "import matplotlib.pyplot as plt\n",
    "from mpl_toolkits.axes_grid1.anchored_artists import AnchoredSizeBar\n",
    "import numpy as np\n",
    "from PIL import Image, ImageOps, ImageChops"
   ]
  },
  {
   "cell_type": "code",
   "execution_count": 3,
   "id": "f2682be3-c0cf-4883-a850-0994e5556592",
   "metadata": {},
   "outputs": [],
   "source": [
    "Y6A1_COADD_DIR = \"/pscratch/sd/s/smau/Y6A1_COADD\"\n",
    "Y6A1_COADD_FIDUCIAL_DIR = \"/pscratch/sd/s/smau/Y6A1_COADD_fiducial\"\n",
    "MASK_DIR = \"/pscratch/sd/s/smau/fiducial_masks\""
   ]
  },
  {
   "cell_type": "code",
   "execution_count": 4,
   "id": "d32868dd-4792-4fd4-9bee-7d9757a57fab",
   "metadata": {},
   "outputs": [],
   "source": [
    "# SIZE = (1000, 1000)\n",
    "SIZE = (256, 256)\n",
    "EXTENT = (0, 10_000, 0, 10_000)"
   ]
  },
  {
   "cell_type": "code",
   "execution_count": 5,
   "id": "5300a96e-a7c4-4407-917f-3c99e3b1d649",
   "metadata": {},
   "outputs": [],
   "source": [
    "# with open(\"args-y6.txt\", \"r\") as fp:\n",
    "#     for i, line in enumerate(fp):\n",
    "#         if i < 525:\n",
    "#             tilename = line.split(\" \")[0]\n",
    "#         else:\n",
    "#             break"
   ]
  },
  {
   "cell_type": "code",
   "execution_count": 6,
   "id": "393ad04e-0bb6-49f2-828d-e9e274d97048",
   "metadata": {},
   "outputs": [],
   "source": [
    "tilename = \"DES0528-2041\""
   ]
  },
  {
   "cell_type": "code",
   "execution_count": 7,
   "id": "06673e80-d701-4e7f-a877-40ddc6476780",
   "metadata": {},
   "outputs": [],
   "source": [
    "_real_image = os.path.join(\n",
    "    Y6A1_COADD_DIR,\n",
    "    f\"{tilename}-gri.jpg\",\n",
    ")"
   ]
  },
  {
   "cell_type": "code",
   "execution_count": 8,
   "id": "edbf7b31-11bf-4e1f-86f6-a33e2da09c86",
   "metadata": {},
   "outputs": [],
   "source": [
    "_sim_image = os.path.join(\n",
    "    Y6A1_COADD_FIDUCIAL_DIR,\n",
    "    f\"{tilename}-coadd-gri.jpg\",\n",
    ")"
   ]
  },
  {
   "cell_type": "code",
   "execution_count": 9,
   "id": "e11afdf1-49cf-4866-bfb9-0cfc84b3cbc8",
   "metadata": {},
   "outputs": [],
   "source": [
    "_mask = os.path.join(\n",
    "    MASK_DIR,\n",
    "    f\"{tilename}_metadetect-config_mdetcat_part0000-mask.fits.fz\",\n",
    ")"
   ]
  },
  {
   "cell_type": "code",
   "execution_count": 10,
   "id": "d7a78224-c215-40ec-b032-cab700e91c48",
   "metadata": {},
   "outputs": [
    {
     "name": "stderr",
     "output_type": "stream",
     "text": [
      "/pscratch/sd/s/smau/conda/des-y6-dev/lib/python3.11/site-packages/PIL/Image.py:3368: DecompressionBombWarning: Image size (100000000 pixels) exceeds limit of 89478485 pixels, could be decompression bomb DOS attack.\n",
      "  warnings.warn(\n"
     ]
    }
   ],
   "source": [
    "with (\n",
    "    Image.open(_real_image) as real_image,\n",
    "    Image.open(_sim_image) as sim_image\n",
    "):\n",
    "    real_image.thumbnail(SIZE)\n",
    "    sim_image.thumbnail(SIZE)\n",
    "\n",
    "with fitsio.FITS(_mask) as fits:\n",
    "    mask = fits[1].read()\n",
    "\n",
    "# bitmask = (mask > 1)\n",
    "# with Image.fromarray(bitmask) as im:\n",
    "#     im = PIL.ImageOps.flip(im)\n",
    "#     im = im.convert(\"L\")\n",
    "#     im = PIL.ImageOps.invert(im)\n",
    "#     im.thumbnail(SIZE)"
   ]
  },
  {
   "cell_type": "code",
   "execution_count": 11,
   "id": "89f916dc-04ca-45ea-b180-ca3d173661ad",
   "metadata": {},
   "outputs": [],
   "source": [
    "# mask &= (~2**4)"
   ]
  },
  {
   "cell_type": "code",
   "execution_count": 106,
   "id": "cc2eee52-bf54-4aa7-b909-ec500352d7f7",
   "metadata": {},
   "outputs": [],
   "source": [
    "with Image.fromarray((mask & (~2**2)) != 1) as _im_all:\n",
    "    _im_all = ImageOps.invert(_im_all)\n",
    "    # im_all = im_all.convert(\"L\")\n",
    "    _im_all = ImageOps.flip(_im_all)\n",
    "    _im_all.thumbnail(SIZE)"
   ]
  },
  {
   "cell_type": "code",
   "execution_count": 107,
   "id": "a25a4125-7ede-4e55-9224-414bc42c5d2d",
   "metadata": {},
   "outputs": [
    {
     "data": {
      "image/jpeg": "[encoded data removed]",
      "image/png": "[encoded data removed]",
      "text/plain": [
       "<PIL.Image.Image image mode=1 size=256x256>"
      ]
     },
     "execution_count": 107,
     "metadata": {},
     "output_type": "execute_result"
    }
   ],
   "source": [
    "_im_all"
   ]
  },
  {
   "cell_type": "code",
   "execution_count": 108,
   "id": "b912e36f-2106-41db-9e3c-3d73e1368c80",
   "metadata": {},
   "outputs": [],
   "source": [
    "# im_all.putalpha(255)"
   ]
  },
  {
   "cell_type": "code",
   "execution_count": 109,
   "id": "4f4555c4-f241-40ee-a9dd-d813ad69814c",
   "metadata": {},
   "outputs": [],
   "source": [
    "with Image.fromarray(~(mask & (2**2) == 0)) as _im_gaia:\n",
    "    _im_gaia = ImageOps.invert(_im_gaia)\n",
    "    # im_gaia = im_gaia.convert(\"L\")\n",
    "    _im_gaia = ImageOps.flip(_im_gaia)\n",
    "    _im_gaia.thumbnail(SIZE)"
   ]
  },
  {
   "cell_type": "code",
   "execution_count": 110,
   "id": "a165a3e8-c963-4ffb-845d-52b25df8cbfb",
   "metadata": {},
   "outputs": [],
   "source": [
    "with Image.fromarray(~(mask & (2**2) == 0)) as im_alpha:\n",
    "    # im_alpha = ImageOps.invert(im_alpha)\n",
    "    # im_alpha = im_alpha.convert(\"L\")\n",
    "    im_alpha = ImageOps.flip(im_alpha)\n",
    "    im_alpha.thumbnail(SIZE)"
   ]
  },
  {
   "cell_type": "code",
   "execution_count": 111,
   "id": "5380c683-be2c-4c2d-a939-447176f380f0",
   "metadata": {},
   "outputs": [
    {
     "data": {
      "text/plain": [
       "(((0, 255), (127, 127)), ((0, 255), (0, 255)), (0, 255))"
      ]
     },
     "execution_count": 111,
     "metadata": {},
     "output_type": "execute_result"
    }
   ],
   "source": [
    "im_all.getextrema(), im_gaia.getextrema(), im_alpha.getextrema()"
   ]
  },
  {
   "cell_type": "code",
   "execution_count": 112,
   "id": "8063b353-1a9e-4fa2-ad6a-a71b70991e9c",
   "metadata": {},
   "outputs": [],
   "source": [
    "im_all = _im_all.convert(\"LA\")\n",
    "im_gaia = _im_gaia.convert(\"LA\")\n",
    "im_all.putalpha(255 // 2)\n",
    "im_gaia.putalpha(im_alpha)"
   ]
  },
  {
   "cell_type": "code",
   "execution_count": 113,
   "id": "29285904-5f6e-4d56-bb0d-a0194106b5bd",
   "metadata": {},
   "outputs": [
    {
     "data": {
      "image/jpeg": "[encoded data removed]",
      "image/png": "[encoded data removed]",
      "text/plain": [
       "<PIL.Image.Image image mode=L size=256x256>"
      ]
     },
     "execution_count": 113,
     "metadata": {},
     "output_type": "execute_result"
    }
   ],
   "source": [
    "Image.alpha_composite(\n",
    "    im_gaia.convert(\"RGBA\"),\n",
    "    im_all.convert(\"RGBA\"),\n",
    ").convert(\"L\")"
   ]
  },
  {
   "cell_type": "markdown",
   "id": "c5ed8bd3-1d38-48d1-8c69-759ca233a81a",
   "metadata": {},
   "source": [
    "---"
   ]
  },
  {
   "cell_type": "code",
   "execution_count": null,
   "id": "4baeb787-a157-4aac-88cf-d074572f5892",
   "metadata": {},
   "outputs": [],
   "source": [
    "cmap = mpl.cm.gray_r\n",
    "bounds = np.unique(mask)\n",
    "norm = mpl.colors.BoundaryNorm(bounds, cmap.N)"
   ]
  },
  {
   "cell_type": "code",
   "execution_count": null,
   "id": "613febd1-5374-4cfc-9d40-11653127d509",
   "metadata": {},
   "outputs": [],
   "source": [
    "fig, axs = plt.subplots(1, 3, figsize=(7, 3))\n",
    "\n",
    "fig.subplots_adjust(hspace=0, wspace=1/12)\n",
    "\n",
    "axs[0].imshow(real_image, extent=EXTENT)\n",
    "axs[0].set_xticks([10_000 / 3, 10_000 / 3 * 2])\n",
    "axs[0].set_yticks([10_000 / 3, 10_000 / 3 * 2])\n",
    "# axs[0].set_xlabel(\"$x_{coadd}$ [pixels]\")\n",
    "# axs[0].set_ylabel(\"$y_{coadd}$ [pixels]\")\n",
    "axs[0].tick_params(\"both\", which=\"both\", direction=\"out\",  top=False, right=False)\n",
    "# axs[0].set_title(\"real\")\n",
    "\n",
    "axs[1].imshow(sim_image, extent=EXTENT)\n",
    "axs[1].set_xticks([10_000 / 3, 10_000 / 3 * 2])\n",
    "# axs[1].set_xlabel(\"$x_{coadd}$ [pixels]\")\n",
    "# axs[1].set_ylabel(\"$y_{coadd}$ [pixels]\")\n",
    "axs[1].tick_params(\"both\", which=\"both\", direction=\"out\", top=False, left=False, right=False, labelleft=False)\n",
    "# axs[1].set_title(\"sim\")\n",
    "\n",
    "# axs[2].imshow(im, extent=EXTENT, cmap=\"gray\")\n",
    "axs[2].imshow(mask, extent=EXTENT, origin=\"lower\", cmap=cmap, norm=norm)\n",
    "# axs[2].imshow(mask & (~2**2), extent=EXTENT, origin=\"lower\")\n",
    "# axs[2].imshow(mask & 2**2, extent=EXTENT, origin=\"lower\", cmap=\"Reds\", alpha=0.5)\n",
    "# axs[2].set_xlabel(\"$x_{coadd}$ [pixels]\")\n",
    "# axs[2].set_ylabel(\"$y_{coadd}$ [pixels]\")\n",
    "axs[2].tick_params(\"both\", which=\"both\", direction=\"out\", top=False, left=False, right=False, labelleft=False)\n",
    "axs[2].set_xticks([10_000 / 3, 10_000 / 3 * 2])\n",
    "# axs[2].set_title(\"mask\")\n",
    "\n",
    "fig.supxlabel(\"$x_{coadd}$ [pixels]\")\n",
    "fig.supylabel(\"$y_{coadd}$ [pixels]\")\n",
    "fig.suptitle(tilename)\n",
    "\n",
    "fig.colorbar(\n",
    "    mpl.cm.ScalarMappable(cmap=cmap, norm=norm),\n",
    "    ax=axs[-1],\n",
    ")\n",
    "\n",
    "plt.show()"
   ]
  },
  {
   "cell_type": "code",
   "execution_count": null,
   "id": "c35bad7e-bf94-4116-878c-801c7bfaab1d",
   "metadata": {},
   "outputs": [],
   "source": [
    "np.unique(mask)"
   ]
  },
  {
   "cell_type": "code",
   "execution_count": null,
   "id": "d67c8800-c8bd-456c-8815-52c2bc9bcc13",
   "metadata": {},
   "outputs": [],
   "source": [
    "cmap2 = mpl.colors.ListedColormap([\"gray\"])\n",
    "# cmap2 = mpl.cm.Reds\n",
    "cmap2.set_bad(alpha=0)\n",
    "bounds2 = np.unique(mask & 2**2)\n",
    "norm2 = mpl.colors.BoundaryNorm(bounds2, cmap2.N)"
   ]
  },
  {
   "cell_type": "code",
   "execution_count": null,
   "id": "1870040e-f8de-4a92-b4cc-16ecfd9cf141",
   "metadata": {},
   "outputs": [],
   "source": [
    "# Zm = np.ma.masked_where(mask & (~2**2), mask & 2**2)\n",
    "Zm = np.ma.masked_where(mask & 2**2 == 0 , mask & 2**2)"
   ]
  },
  {
   "cell_type": "code",
   "execution_count": null,
   "id": "098749f0-e20c-4fd2-86df-cbab9f186451",
   "metadata": {},
   "outputs": [],
   "source": [
    "fig, axs = plt.subplots(1, 1)\n",
    "axs.imshow(Zm, cmap=cmap2, norm=norm2)\n",
    "fig.colorbar(\n",
    "    mpl.cm.ScalarMappable(cmap=cmap2, norm=norm2),\n",
    "    ax=axs,\n",
    ")\n",
    "plt.show()"
   ]
  },
  {
   "cell_type": "code",
   "execution_count": null,
   "id": "0fce94da-90c1-4330-ad42-f17e77ca7323",
   "metadata": {},
   "outputs": [],
   "source": [
    "fig, axs = plt.subplots(1, 1)\n",
    "axs.imshow(mask, extent=EXTENT, cmap=cmap, norm=norm)\n",
    "axs.imshow(Zm, extent=EXTENT, cmap=cmap2, norm=norm2, alpha=0.5)\n",
    "fig.colorbar(\n",
    "    mpl.cm.ScalarMappable(cmap=cmap, norm=norm),\n",
    "    ax=axs,\n",
    ")\n",
    "plt.show()"
   ]
  },
  {
   "cell_type": "code",
   "execution_count": null,
   "id": "cee9a321-a629-4abe-971b-efcb0541712e",
   "metadata": {},
   "outputs": [],
   "source": [
    "fig, axs = plt.subplots(1, 1)\n",
    "axs.imshow((mask & (~2**2)) > 1, extent=EXTENT)\n",
    "axs.imshow(Zm, extent=EXTENT, cmap=cmap2, norm=norm2, alpha=0.5)\n",
    "\n",
    "plt.show()"
   ]
  },
  {
   "cell_type": "code",
   "execution_count": null,
   "id": "ba17583b-984d-4df6-8859-beba670a96ff",
   "metadata": {},
   "outputs": [],
   "source": [
    "1000 * 0.263 / 60 / 60"
   ]
  },
  {
   "cell_type": "code",
   "execution_count": null,
   "id": "ed5810a7-17cf-4c52-b437-82f0c4a11fdb",
   "metadata": {},
   "outputs": [],
   "source": [
    "fig, axs = plt.subplots(1, 3, figsize=(7, 3), sharex=True, sharey=True)\n",
    "\n",
    "fig.subplots_adjust(hspace=0, wspace=1/12)\n",
    "\n",
    "axs[0].imshow(real_image, extent=EXTENT)\n",
    "axs[0].set_xticks([])\n",
    "axs[0].set_yticks([])\n",
    "# axs[0].set_xticks([10_000 / 3, 10_000 / 3 * 2])\n",
    "# axs[0].set_yticks([10_000 / 3, 10_000 / 3 * 2])\n",
    "# axs[0].set_xlabel(\"$x_{coadd}$ [pixels]\")\n",
    "# axs[0].set_ylabel(\"$y_{coadd}$ [pixels]\")\n",
    "# axs[0].tick_params(\"both\", which=\"both\", direction=\"out\",  top=False, right=False)\n",
    "# axs[0].set_title(\"real\")\n",
    "# axs[0].plot([100,  1100], [9900, 9900], c=\"w\")\n",
    "_n = 1000\n",
    "scalebar = AnchoredSizeBar(\n",
    "    axs[0].transData,\n",
    "    _n, f\"{_n} pixels\\n{_n * 0.263 / 60 / 60:.2f} deg\", \"upper left\", \n",
    "    color=\"white\",\n",
    "    frameon=False,\n",
    "    size_vertical=1,\n",
    ")\n",
    "\n",
    "axs[0].add_artist(scalebar)\n",
    "\n",
    "axs[1].imshow(sim_image, extent=EXTENT)\n",
    "# axs[1].set_xlabel(\"$x_{coadd}$ [pixels]\")\n",
    "# axs[1].set_ylabel(\"$y_{coadd}$ [pixels]\")\n",
    "# axs[1].tick_params(\"both\", which=\"both\", direction=\"out\", top=False, left=False, right=False, labelleft=False)\n",
    "# axs[1].set_title(\"sim\")\n",
    "\n",
    "# axs[2].imshow(im, extent=EXTENT, cmap=\"gray\")\n",
    "axs[2].imshow((mask & (~2**2)) > 1, origin=\"lower\")\n",
    "axs[2].imshow(Zm, extent=EXTENT, origin=\"lower\", cmap=cmap2, norm=norm2, alpha=0.5)\n",
    "# axs[2].imshow(mask & (~2**2), extent=EXTENT, origin=\"lower\")\n",
    "# axs[2].imshow(mask & 2**2, extent=EXTENT, origin=\"lower\", cmap=\"Reds\", alpha=0.5)\n",
    "# axs[2].set_xlabel(\"$x_{coadd}$ [pixels]\")\n",
    "# axs[2].set_ylabel(\"$y_{coadd}$ [pixels]\")\n",
    "# axs[2].tick_params(\"both\", which=\"both\", direction=\"out\", top=False, left=False, right=False, labelleft=False)\n",
    "# axs[2].set_title(\"mask\")\n",
    "\n",
    "# fig.supxlabel(\"$x_{coadd}$ [pixels]\")\n",
    "# fig.supylabel(\"$y_{coadd}$ [pixels]\")\n",
    "fig.suptitle(tilename)\n",
    "\n",
    "plt.show()"
   ]
  },
  {
   "cell_type": "code",
   "execution_count": null,
   "id": "b14168ef-f3cf-4f2d-aaf4-cbc5adccf175",
   "metadata": {},
   "outputs": [],
   "source": []
  }
 ],
 "metadata": {
  "kernelspec": {
   "display_name": "DESY6DEV",
   "language": "python",
   "name": "des-y6-dev"
  },
  "language_info": {
   "codemirror_mode": {
    "name": "ipython",
    "version": 3
   },
   "file_extension": ".py",
   "mimetype": "text/x-python",
   "name": "python",
   "nbconvert_exporter": "python",
   "pygments_lexer": "ipython3",
   "version": "3.11.10"
  }
 },
 "nbformat": 4,
 "nbformat_minor": 5
}
