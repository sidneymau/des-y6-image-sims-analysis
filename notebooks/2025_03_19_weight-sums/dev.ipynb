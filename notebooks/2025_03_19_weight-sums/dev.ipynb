{
 "cells": [
  {
   "cell_type": "code",
   "execution_count": 3,
   "id": "36b0599f-bd50-4e75-b827-9496321f0f85",
   "metadata": {},
   "outputs": [],
   "source": [
    "import functools\n",
    "import operator"
   ]
  },
  {
   "cell_type": "code",
   "execution_count": 1,
   "id": "b3cf20d5-5189-47ee-8828-c1f9d5fdc238",
   "metadata": {},
   "outputs": [],
   "source": [
    "import h5py\n",
    "import numpy as np"
   ]
  },
  {
   "cell_type": "code",
   "execution_count": 2,
   "id": "fd88533a-ece5-4be7-9cf6-7864d4b91522",
   "metadata": {},
   "outputs": [],
   "source": [
    "import lib"
   ]
  },
  {
   "cell_type": "code",
   "execution_count": 4,
   "id": "9ef16544-4785-47be-a27e-5fb56a86fe0b",
   "metadata": {},
   "outputs": [],
   "source": [
    "def get_weight(weight_dataset, weight_keys=[\"statistical_weight\"]):\n",
    "    return functools.reduce(\n",
    "        operator.mul,\n",
    "        [\n",
    "            weight_dataset[weight_key][:]\n",
    "            for weight_key in weight_keys\n",
    "        ],\n",
    "    )     "
   ]
  },
  {
   "cell_type": "code",
   "execution_count": 5,
   "id": "2db7093b-038f-407a-9348-8dbc99e1de5c",
   "metadata": {},
   "outputs": [],
   "source": [
    "shear_step_plus = \"g1_slice=0.02__g2_slice=0.00__g1_other=0.00__g2_other=0.00__zlow=0.0__zhigh=6.0\"\n",
    "shear_step_minus = \"g1_slice=-0.02__g2_slice=0.00__g1_other=0.00__g2_other=0.00__zlow=0.0__zhigh=6.0\""
   ]
  },
  {
   "cell_type": "code",
   "execution_count": 6,
   "id": "025dd747-b838-4877-90b0-aa2f93b9f070",
   "metadata": {},
   "outputs": [],
   "source": [
    "weight_keys = [\"statistical_weight\"]"
   ]
  },
  {
   "cell_type": "code",
   "execution_count": 18,
   "id": "d55f9bf0-0366-48a0-98c7-251633b7475d",
   "metadata": {},
   "outputs": [
    {
     "name": "stdout",
     "output_type": "stream",
     "text": [
      "g1_slice=0.02__g2_slice=0.00__g1_other=0.00__g2_other=0.00__zlow=0.0__zhigh=6.0\n",
      "\n",
      "['statistical_weight']\n",
      "b \t w \t\t\t w * R\n",
      "0 \t 37687408.52750142 \t 31852021.778152555\n",
      "1 \t 32262590.501660284 \t 25166769.445796162\n",
      "2 \t 36321284.070149 \t 28019787.27996662\n",
      "3 \t 22979366.319672316 \t 14517510.901062118\n",
      "\n",
      "['statistical_weight', 'neighbor_weight']\n",
      "b \t w \t\t\t w * R\n",
      "0 \t 36935272.88896909 \t 31258164.71036748\n",
      "1 \t 33630265.55123577 \t 26647800.06951995\n",
      "2 \t 37616957.073409796 \t 29500162.15844555\n",
      "3 \t 23442093.917962722 \t 15133209.390449103\n",
      "\n",
      "['statistical_weight', 'occupancy_weight']\n",
      "b \t w \t\t\t w * R\n",
      "0 \t 38270056.368683755 \t 32061262.610645365\n",
      "1 \t 35022342.94013908 \t 27517630.555414688\n",
      "2 \t 30616116.814313516 \t 23831877.593959697\n",
      "3 \t 25344050.202425964 \t 15939348.02708475\n",
      "\n",
      "['statistical_weight', 'neighbor_weight', 'occupancy_weight']\n",
      "b \t w \t\t\t w * R\n",
      "0 \t 38219183.82005287 \t 32044282.53917939\n",
      "1 \t 36907118.418624476 \t 29395545.456652362\n",
      "2 \t 32107396.97912129 \t 25375065.53263439\n",
      "3 \t 25919483.487100307 \t 16645228.651692027\n",
      "\n",
      "g1_slice=-0.02__g2_slice=0.00__g1_other=0.00__g2_other=0.00__zlow=0.0__zhigh=6.0\n",
      "\n",
      "['statistical_weight']\n",
      "b \t w \t\t\t w * R\n",
      "0 \t 37696158.10920723 \t 31859661.180748507\n",
      "1 \t 32259102.894843798 \t 25155195.522437155\n",
      "2 \t 36282302.28742035 \t 27996436.095791794\n",
      "3 \t 22967280.29315682 \t 14512115.373971423\n",
      "\n",
      "['statistical_weight', 'neighbor_weight']\n",
      "b \t w \t\t\t w * R\n",
      "0 \t 36954697.71678651 \t 31274221.69176092\n",
      "1 \t 33637242.79052155 \t 26646784.842271894\n",
      "2 \t 37562106.32644655 \t 29462366.38122275\n",
      "3 \t 23429612.937475078 \t 15128295.287524771\n",
      "\n",
      "['statistical_weight', 'occupancy_weight']\n",
      "b \t w \t\t\t w * R\n",
      "0 \t 38274918.97872326 \t 32064819.320034783\n",
      "1 \t 35019489.74908048 \t 27508553.10837389\n",
      "2 \t 30578214.610265676 \t 23808678.22404237\n",
      "3 \t 25330304.019322462 \t 15934145.88475994\n",
      "\n",
      "['statistical_weight', 'neighbor_weight', 'occupancy_weight']\n",
      "b \t w \t\t\t w * R\n",
      "0 \t 38234907.85639983 \t 32057085.540191032\n",
      "1 \t 36914158.73922929 \t 29396595.511817906\n",
      "2 \t 32053716.225799788 \t 25337880.192668986\n",
      "3 \t 25903390.07112428 \t 16639630.579854514\n",
      "\n"
     ]
    }
   ],
   "source": [
    "for shear_step in [shear_step_plus, shear_step_minus]:\n",
    "    print(shear_step)\n",
    "    print()\n",
    "    with (\n",
    "        h5py.File(lib.const.SIM_SHEAR_CATALOGS[shear_step]) as shear,\n",
    "        # h5py.File(lib.const.SIM_MATCH_CATALOGS[shear_step]) as truth,\n",
    "        h5py.File(lib.const.SIM_TOMOGRAPHY_CATALOGS[shear_step]) as tomo,\n",
    "        h5py.File(lib.const.SIM_WEIGHT_CATALOGS[shear_step]) as weight,\n",
    "    ):\n",
    "        bhat = tomo[\"sompz\"][\"noshear\"][\"bhat\"][:]\n",
    "    \n",
    "        for weight_keys in [\n",
    "            [\"statistical_weight\"],\n",
    "            [\"statistical_weight\", \"neighbor_weight\"],\n",
    "            [\"statistical_weight\", \"occupancy_weight\"],\n",
    "            [\"statistical_weight\", \"neighbor_weight\", \"occupancy_weight\"],\n",
    "        ]:\n",
    "            print(weight_keys)\n",
    "            print(\"b\", \"\\t\", \"w\", \"\\t\\t\\t\", \"w * R\")\n",
    "            w = get_weight(weight[\"mdet\"][\"noshear\"], weight_keys=weight_keys)\n",
    "            r = lib.response.get_shear_response(shear[\"mdet\"][\"noshear\"])\n",
    "            for tomographic_bin in lib.const.TOMOGRAPHIC_BINS:\n",
    "                in_tomo = (bhat == tomographic_bin)\n",
    "                print(\n",
    "                    tomographic_bin,\n",
    "                    \"\\t\",\n",
    "                    np.sum(w[in_tomo]),\n",
    "                    \"\\t\",\n",
    "                    np.sum((w * r)[in_tomo]),\n",
    "                )\n",
    "            print()\n",
    "            "
   ]
  },
  {
   "cell_type": "code",
   "execution_count": null,
   "id": "ca7c8de4-5e2c-4b5b-9be1-b1007fcd36b8",
   "metadata": {},
   "outputs": [],
   "source": []
  }
 ],
 "metadata": {
  "kernelspec": {
   "display_name": "DESY6DEV",
   "language": "python",
   "name": "des-y6-dev"
  },
  "language_info": {
   "codemirror_mode": {
    "name": "ipython",
    "version": 3
   },
   "file_extension": ".py",
   "mimetype": "text/x-python",
   "name": "python",
   "nbconvert_exporter": "python",
   "pygments_lexer": "ipython3",
   "version": "3.11.10"
  }
 },
 "nbformat": 4,
 "nbformat_minor": 5
}
