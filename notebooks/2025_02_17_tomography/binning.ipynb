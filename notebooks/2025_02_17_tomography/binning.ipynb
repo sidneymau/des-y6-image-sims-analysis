{
 "cells": [
  {
   "cell_type": "code",
   "execution_count": 1,
   "id": "387402df-a5c0-4477-9001-60483af47fc8",
   "metadata": {},
   "outputs": [],
   "source": [
    "import functools\n",
    "import os"
   ]
  },
  {
   "cell_type": "code",
   "execution_count": 2,
   "id": "94945802-2056-4aff-8879-6416c1b83cd9",
   "metadata": {},
   "outputs": [],
   "source": [
    "import numpy as np\n",
    "import h5py\n",
    "import matplotlib.pyplot as plt\n",
    "import matplotlib as mpl\n",
    "from scipy import interpolate, stats"
   ]
  },
  {
   "cell_type": "code",
   "execution_count": 3,
   "id": "38758468-2f68-401f-b549-90bc07d4c452",
   "metadata": {},
   "outputs": [],
   "source": [
    "import lib"
   ]
  },
  {
   "cell_type": "code",
   "execution_count": 4,
   "id": "710fae4a-5a21-4192-88c0-0edfebcb1ac3",
   "metadata": {},
   "outputs": [],
   "source": [
    "def watermark(\n",
    "    fig,\n",
    "    text=\"preliminary\",\n",
    "):\n",
    "    fig_width, fig_height = fig.get_size_inches()\n",
    "    angle = np.degrees(np.arctan2(fig_height, fig_width))\n",
    "    size = np.hypot(fig_width, fig_height) * 6 \n",
    "    fig.text(\n",
    "        0.5,\n",
    "        0.5,\n",
    "        text,\n",
    "        color=\"k\",\n",
    "        alpha=0.1,\n",
    "        fontsize=size,\n",
    "        rotation=angle,\n",
    "        horizontalalignment=\"center\",\n",
    "        verticalalignment=\"center\",\n",
    "    )\n",
    "\n",
    "    return None"
   ]
  },
  {
   "cell_type": "code",
   "execution_count": 5,
   "id": "7ea5260f-b562-4c6e-9593-e26205461a8e",
   "metadata": {},
   "outputs": [],
   "source": [
    "shear_step = \"g1_slice=0.02__g2_slice=0.00__g1_other=0.00__g2_other=0.00__zlow=0.0__zhigh=6.0\""
   ]
  },
  {
   "cell_type": "code",
   "execution_count": 6,
   "id": "8f9dfcd3-68b1-40cf-b389-ca459ecf4c08",
   "metadata": {},
   "outputs": [],
   "source": [
    "redshift_sim = h5py.File(\n",
    "    lib.const.REDSHIFT_CATALOGS[shear_step],\n",
    ")"
   ]
  },
  {
   "cell_type": "code",
   "execution_count": 7,
   "id": "88582082-61e7-44d1-8317-91d6cc7e14b8",
   "metadata": {},
   "outputs": [],
   "source": [
    "shear_sim = h5py.File(\n",
    "    lib.const.IMSIM_CATALOGS[shear_step],\n",
    ")"
   ]
  },
  {
   "cell_type": "code",
   "execution_count": 8,
   "id": "a4996470-1663-4caf-9c47-695931435ea0",
   "metadata": {},
   "outputs": [],
   "source": [
    "truth_match = h5py.File(\n",
    "    lib.const.MATCH_CATALOGS[shear_step],\n",
    ")"
   ]
  },
  {
   "cell_type": "code",
   "execution_count": 9,
   "id": "b1eb0d4d-5fb6-49cf-8165-f08c497c9980",
   "metadata": {},
   "outputs": [],
   "source": [
    "_, shear_sim_index, redshift_sim_index = np.intersect1d(\n",
    "    shear_sim[\"mdet/noshear\"][\"uid\"][:],\n",
    "    redshift_sim[\"sompz/noshear\"][\"coadd_object_id\"][:],\n",
    "    return_indices=True,\n",
    ")"
   ]
  },
  {
   "cell_type": "code",
   "execution_count": 10,
   "id": "64fe2425-b5df-4b61-92c4-eeaf3f27a5ce",
   "metadata": {},
   "outputs": [],
   "source": [
    "np.testing.assert_equal(\n",
    "    shear_sim[\"mdet/noshear\"][\"uid\"][:][shear_sim_index],\n",
    "    redshift_sim[\"sompz/noshear\"][\"coadd_object_id\"][:][redshift_sim_index],\n",
    ")"
   ]
  },
  {
   "cell_type": "code",
   "execution_count": 11,
   "id": "009f4b29-82dc-4f6c-baa6-99ea4c133dc6",
   "metadata": {},
   "outputs": [],
   "source": [
    "bhat_sim = np.full(shear_sim[\"mdet/noshear\"][\"uid\"].shape, np.nan)\n",
    "bhat_sim[shear_sim_index] = redshift_sim[\"sompz/noshear\"][\"bhat\"][:][redshift_sim_index]"
   ]
  },
  {
   "cell_type": "code",
   "execution_count": 12,
   "id": "b352d417-9570-49c7-a745-f58f6c186ac1",
   "metadata": {},
   "outputs": [],
   "source": [
    "cell_sim = np.full(shear_sim[\"mdet/noshear\"][\"uid\"].shape, np.nan)\n",
    "cell_sim[shear_sim_index] = redshift_sim[\"sompz/noshear\"][\"cell_wide\"][:][redshift_sim_index]"
   ]
  },
  {
   "cell_type": "code",
   "execution_count": 13,
   "id": "04a4e0b3-35ba-46d7-a2eb-8e06229f14bd",
   "metadata": {},
   "outputs": [],
   "source": [
    "weights_sim = lib.weights.get_shear_weights(shear_sim[\"mdet/noshear\"])"
   ]
  },
  {
   "cell_type": "code",
   "execution_count": 14,
   "id": "26ca689e-7cae-4b6f-9c48-f9136f43c339",
   "metadata": {},
   "outputs": [],
   "source": [
    "response_sim = lib.response.get_shear_response(shear_sim[\"mdet/noshear\"])"
   ]
  },
  {
   "cell_type": "code",
   "execution_count": 15,
   "id": "881286a7-28a1-49fb-bbc8-cc9f618c583e",
   "metadata": {},
   "outputs": [],
   "source": [
    "cell_assignments = {}\n",
    "for tomographic_bin in lib.const.TOMOGRAPHIC_BINS:\n",
    "    cell_assignments[tomographic_bin] = np.unique(\n",
    "        cell_sim[bhat_sim == tomographic_bin]\n",
    "    ).astype(int)\n",
    "\n",
    "assert len(\n",
    "    functools.reduce(\n",
    "        np.intersect1d,\n",
    "        [\n",
    "            cells\n",
    "            for cells in cell_assignments.values()\n",
    "        ],\n",
    "    )\n",
    ") == 0"
   ]
  },
  {
   "cell_type": "code",
   "execution_count": 16,
   "id": "d903cbf3-43d1-45bc-b9a4-eec66cfe23c9",
   "metadata": {},
   "outputs": [],
   "source": [
    "_Z = truth_match[\"mdet/noshear\"][\"z\"][:]"
   ]
  },
  {
   "cell_type": "markdown",
   "id": "6f0f4d67-4305-4a93-9a95-84f7d3e2e5b8",
   "metadata": {},
   "source": [
    "---"
   ]
  },
  {
   "cell_type": "code",
   "execution_count": 17,
   "id": "50ec9add-d113-4c5c-8c28-2f1a768871de",
   "metadata": {},
   "outputs": [],
   "source": [
    "from boyan import Tz, rebin"
   ]
  },
  {
   "cell_type": "code",
   "execution_count": 18,
   "id": "780e4bc2-f44d-4b71-84f5-d1a9a068433a",
   "metadata": {},
   "outputs": [],
   "source": [
    "zbins_005 = np.arange(0, 6, 0.05)\n",
    "\n",
    "zvals_005 = np.concatenate([[0], np.arange(0.035, 3, 0.05)])\n",
    "zedges_005 = np.concatenate(\n",
    "    [\n",
    "        [0],\n",
    "        np.linspace(\n",
    "            0.0,\n",
    "            3.0,\n",
    "            len(zvals_005),\n",
    "        ) + 0.01,\n",
    "    ]\n",
    ")"
   ]
  },
  {
   "cell_type": "code",
   "execution_count": 19,
   "id": "9e2299c3-4f90-48f3-9ee5-3e8308358c4f",
   "metadata": {},
   "outputs": [],
   "source": [
    "\n",
    "zbins_001 = np.arange(0, 6, 0.01)\n",
    "\n",
    "zvals_001 = np.concatenate([[0], np.arange(0.005, 3, 0.01)])\n",
    "zedges_001 = np.concatenate(\n",
    "    [\n",
    "        [0],\n",
    "        np.linspace(\n",
    "            0.0,\n",
    "            3.0,\n",
    "            len(zvals_001),\n",
    "        ) + 0.01,\n",
    "    ]\n",
    ")"
   ]
  },
  {
   "cell_type": "code",
   "execution_count": 20,
   "id": "9cf491ad-2843-40f5-9768-788b2697572e",
   "metadata": {},
   "outputs": [],
   "source": [
    "def rebin_001_to_005(nz):\n",
    "    redshift_original = np.append(nz, np.array([0, 0]))\n",
    "    zbinsc_laigle = np.arange(0, 3.02, 0.01)\n",
    "    zbinsc_integrate = np.arange(0.015, 3.015, 0.01)\n",
    "\n",
    "    interp_func = interpolate.interp1d(zbinsc_laigle, redshift_original, kind='linear', axis=0, bounds_error=False, fill_value=0)\n",
    "    values = interp_func(zbinsc_integrate)\n",
    "\n",
    "\n",
    "    values = values.reshape((60, 5))\n",
    "    redshift_integrated = np.sum(values, axis=1)\n",
    "    \n",
    "    return redshift_integrated"
   ]
  },
  {
   "cell_type": "code",
   "execution_count": 21,
   "id": "0f2cf36e-21b6-434c-99c0-987096dff4d1",
   "metadata": {},
   "outputs": [],
   "source": [
    "def rebin_005_to_001(nz):\n",
    "    redshift_original = np.append(nz, np.array([0, 0]))\n",
    "    zbinsc_laigle = np.arange(0, 3.10, 0.05)\n",
    "    zbinsc_integrate = np.arange(0.015, 3.015, 0.002)  # np.arange(0.015, 3.015, 0.05)\n",
    "\n",
    "    interp_func = interpolate.interp1d(zbinsc_laigle, redshift_original, kind='linear', axis=0, bounds_error=False, fill_value=0)\n",
    "    values = interp_func(zbinsc_integrate)\n",
    "\n",
    "\n",
    "    values = values.reshape((300, 5))\n",
    "    redshift_integrated = np.sum(values, axis=1)\n",
    "    \n",
    "    return redshift_integrated"
   ]
  },
  {
   "cell_type": "code",
   "execution_count": 22,
   "id": "cf7bca4d-fe13-46c9-9bbc-84ab726e1b05",
   "metadata": {},
   "outputs": [],
   "source": [
    "t_005 = Tz(0.05, 60, z0=0.035)"
   ]
  },
  {
   "cell_type": "code",
   "execution_count": 23,
   "id": "11a040eb-b685-4d26-9084-49e81ea64333",
   "metadata": {},
   "outputs": [],
   "source": [
    "t_001 = Tz(0.01, 300, z0=0.005)"
   ]
  },
  {
   "cell_type": "markdown",
   "id": "a3b85fcf-198b-4049-b1c6-43841cc3c8fd",
   "metadata": {},
   "source": [
    "---"
   ]
  },
  {
   "cell_type": "code",
   "execution_count": 24,
   "id": "4bccbae9-9af6-4d2f-afdc-5059f440a7ab",
   "metadata": {},
   "outputs": [],
   "source": [
    "nz_direct_005 = {}\n",
    "for tomographic_bin in lib.const.TOMOGRAPHIC_BINS:\n",
    "\n",
    "    bhat_msk = np.where(np.isin(\n",
    "        cell_sim,\n",
    "        cell_assignments[tomographic_bin],\n",
    "    ) == True)[0]\n",
    "\n",
    "    Z = _Z[bhat_msk]\n",
    "    response_weight = (weights_sim * response_sim)[bhat_msk]\n",
    "    _zedges_005 = np.copy(zedges_005)\n",
    "    _zedges_005[-1] = np.inf  # pileup in last bin\n",
    "    nz = np.histogram(Z, _zedges_005, weights=response_weight)[0]\n",
    "\n",
    "    # #Pileup at z=3\n",
    "    # idx = np.min(np.where(_zbins_005 >= 3)) - 1\n",
    "    # nz[idx] = np.sum(nz[idx:])\n",
    "    # nz = nz[:idx + 1]\n",
    "\n",
    "    # nz = np.concatenate((np.array([0]), nz))\n",
    "\n",
    "    nz[0] = 0\n",
    "    nz_direct_005[tomographic_bin] = nz / np.sum(nz) / np.diff(zedges_005)\n",
    "    "
   ]
  },
  {
   "cell_type": "code",
   "execution_count": 25,
   "id": "f3e4a7db-6ea4-4d8c-9bd0-c507d76e60cf",
   "metadata": {},
   "outputs": [],
   "source": [
    "nz_rebin_005 = {}\n",
    "for tomographic_bin in lib.const.TOMOGRAPHIC_BINS:\n",
    "\n",
    "    bhat_msk = np.where(np.isin(\n",
    "        cell_sim,\n",
    "        cell_assignments[tomographic_bin],\n",
    "    ) == True)[0]\n",
    "\n",
    "    Z = _Z[bhat_msk]\n",
    "    response_weight = (weights_sim * response_sim)[bhat_msk]\n",
    "    nz = np.histogram(Z, zbins_001, weights=response_weight, density=True)[0]\n",
    "\n",
    "    #Pileup at z=3\n",
    "    idx = np.min(np.where(zbins_001 >= 3)) - 1\n",
    "    nz[idx] = np.sum(nz[idx:])\n",
    "    nz = nz[:idx + 1]\n",
    "\n",
    "    #Convert to Tz and dz=0.05\n",
    "    y = rebin_001_to_005(nz)\n",
    "    dndz_true = t_005.dndz(y, zvals_005)\n",
    "    \n",
    "    nz_rebin_005[tomographic_bin] = dndz_true\n",
    "    "
   ]
  },
  {
   "cell_type": "code",
   "execution_count": 26,
   "id": "61f2d5fb-cfe0-474b-82b1-47aff18a81d0",
   "metadata": {},
   "outputs": [
    {
     "name": "stdout",
     "output_type": "stream",
     "text": [
      "mean z\n",
      "bin\tdirect\trebin\n",
      "0\t0.3575\t\t0.3513\n",
      "1\t0.5144\t\t0.5090\n",
      "2\t0.7897\t\t0.7843\n",
      "3\t1.0763\t\t1.0698\n"
     ]
    }
   ],
   "source": [
    "print(\"mean z\")\n",
    "print(\n",
    "    f\"bin\"\n",
    "    f\"\\tdirect\"\n",
    "    f\"\\trebin\"\n",
    ")\n",
    "for i in lib.const.TOMOGRAPHIC_BINS:\n",
    "    print(\n",
    "        f\"{i}\"\n",
    "        f\"\\t{np.average(zvals_005, weights=nz_direct_005[i]) :.4f}\"\n",
    "        \"\\t\"\n",
    "        f\"\\t{np.average(zvals_005, weights=nz_rebin_005[i]) :.4f}\"\n",
    "    )\n"
   ]
  },
  {
   "cell_type": "code",
   "execution_count": 27,
   "id": "4d928e17-3538-4eac-ab3a-c96d97d216a4",
   "metadata": {},
   "outputs": [
    {
     "name": "stdout",
     "output_type": "stream",
     "text": [
      "dz\n",
      "bin\trebin - direct\n",
      "0\t-0.0062\n",
      "1\t-0.0054\n",
      "2\t-0.0054\n",
      "3\t-0.0066\n"
     ]
    }
   ],
   "source": [
    "print(\"dz\")\n",
    "print(\n",
    "    f\"bin\"\n",
    "    f\"\\trebin - direct\"\n",
    ")\n",
    "for i in lib.const.TOMOGRAPHIC_BINS:\n",
    "    print(\n",
    "        f\"{i}\"\n",
    "        f\"\\t{np.average(zvals_005, weights=nz_rebin_005[i]) - np.average(zvals_005, weights=nz_direct_005[i]) :.4f}\"\n",
    "    )\n",
    " "
   ]
  },
  {
   "cell_type": "code",
   "execution_count": 28,
   "id": "00478417-89f3-4911-b760-27e86e777a90",
   "metadata": {},
   "outputs": [
    {
     "data": {
      "image/png": "[encoded data removed]",
      "text/plain": [
       "<Figure size 1200x800 with 4 Axes>"
      ]
     },
     "metadata": {},
     "output_type": "display_data"
    }
   ],
   "source": [
    "fig, axs = plt.subplots(len(lib.const.TOMOGRAPHIC_BINS), 1, figsize=(12, 8), sharex=True, sharey=True)\n",
    "\n",
    "fig.subplots_adjust(wspace=0, hspace=0)\n",
    "\n",
    "tomo_colors = {\n",
    "    0: \"#3BB470\",\n",
    "    1: \"#FA7F72\",\n",
    "    2: \"#DD9FDD\",\n",
    "    3: \"#6495EC\",\n",
    "}\n",
    "\n",
    "for i in lib.const.TOMOGRAPHIC_BINS:\n",
    "    axs[i].axvline(\n",
    "        np.average(zvals_005, weights=nz_direct_005[i]),\n",
    "        c=\"k\",\n",
    "        ls=\"-\",\n",
    "    )\n",
    "    axs[i].stairs(\n",
    "        nz_direct_005[i],\n",
    "        edges=zedges_005,\n",
    "        ec=\"k\",\n",
    "        ls=\"-\",\n",
    "        label=\"direct\",\n",
    "    )\n",
    "    \n",
    "    axs[i].axvline(\n",
    "        np.average(zvals_005, weights=nz_rebin_005[i]),\n",
    "        c=tomo_colors[i],\n",
    "        ls=\"-\",\n",
    "    )\n",
    "    axs[i].stairs(\n",
    "        nz_rebin_005[i],\n",
    "        edges=zedges_005,\n",
    "        ec=tomo_colors[i],\n",
    "        ls=\"-\",\n",
    "        label=\"rebin\",\n",
    "    )\n",
    "\n",
    "axs[-1].set_xlim(0, 3)\n",
    "axs[-1].set_yscale(\"log\")\n",
    "\n",
    "axs[-1].set_xlabel(\"z\")\n",
    "axs[-1].set_yticklabels([])\n",
    "\n",
    "axs[0].legend(loc=\"upper right\")\n",
    "\n",
    "watermark(fig)\n",
    "\n",
    "plt.show()"
   ]
  },
  {
   "cell_type": "markdown",
   "id": "6c473f60-05c3-408b-b49f-c81f7c768eff",
   "metadata": {},
   "source": [
    "---"
   ]
  },
  {
   "cell_type": "code",
   "execution_count": 29,
   "id": "921f43cc-37e1-4c72-9443-d2c0b566506a",
   "metadata": {},
   "outputs": [],
   "source": [
    "nz_direct_001 = {}\n",
    "for tomographic_bin in lib.const.TOMOGRAPHIC_BINS:\n",
    "\n",
    "    bhat_msk = np.where(np.isin(\n",
    "        cell_sim,\n",
    "        cell_assignments[tomographic_bin],\n",
    "    ) == True)[0]\n",
    "\n",
    "    Z = _Z[bhat_msk]\n",
    "    response_weight = (weights_sim * response_sim)[bhat_msk]\n",
    "    _zedges_001 = np.copy(zedges_001)\n",
    "    _zedges_001[-1] = np.inf  # pileup in last bin\n",
    "    nz = np.histogram(Z, _zedges_001, weights=response_weight)[0]\n",
    "\n",
    "    # #Pileup at z=3\n",
    "    # idx = np.min(np.where(_zbins_005 >= 3)) - 1\n",
    "    # nz[idx] = np.sum(nz[idx:])\n",
    "    # nz = nz[:idx + 1]\n",
    "\n",
    "    # nz = np.concatenate((np.array([0]), nz))\n",
    "\n",
    "    nz[0] = 0\n",
    "    nz_direct_001[tomographic_bin] = nz / np.sum(nz) / np.diff(zedges_001)\n",
    "    "
   ]
  },
  {
   "cell_type": "code",
   "execution_count": 30,
   "id": "0cc9451c-54ed-4900-a08f-fe0921328c30",
   "metadata": {},
   "outputs": [],
   "source": [
    "nz_rebin_001 = {}\n",
    "for tomographic_bin in lib.const.TOMOGRAPHIC_BINS:\n",
    "\n",
    "    bhat_msk = np.where(np.isin(\n",
    "        cell_sim,\n",
    "        cell_assignments[tomographic_bin],\n",
    "    ) == True)[0]\n",
    "\n",
    "    Z = _Z[bhat_msk]\n",
    "    response_weight = (weights_sim * response_sim)[bhat_msk]\n",
    "    nz = np.histogram(Z, zbins_005, weights=response_weight, density=True)[0]\n",
    "\n",
    "    #Pileup at z=3\n",
    "    idx = np.min(np.where(zbins_005 >= 3)) - 1\n",
    "    nz[idx] = np.sum(nz[idx:])\n",
    "    nz = nz[:idx + 1]\n",
    "\n",
    "    #Convert to Tz and dz=0.01\n",
    "    y = rebin_005_to_001(nz)\n",
    "    dndz_true = t_001.dndz(y, zvals_001)\n",
    "    \n",
    "    nz_rebin_001[tomographic_bin] = dndz_true\n",
    "    "
   ]
  },
  {
   "cell_type": "code",
   "execution_count": 31,
   "id": "bc4b1547-eb96-4223-ba1a-8cf896f2bd80",
   "metadata": {},
   "outputs": [
    {
     "name": "stdout",
     "output_type": "stream",
     "text": [
      "mean z\n",
      "bin\tdirect\trebin\n",
      "0\t0.3466\t\t0.3204\n",
      "1\t0.5042\t\t0.4763\n",
      "2\t0.7798\t\t0.7514\n",
      "3\t1.0663\t\t1.0405\n"
     ]
    }
   ],
   "source": [
    "print(\"mean z\")\n",
    "print(\n",
    "    f\"bin\"\n",
    "    f\"\\tdirect\"\n",
    "    f\"\\trebin\"\n",
    ")\n",
    "for i in lib.const.TOMOGRAPHIC_BINS:\n",
    "    print(\n",
    "        f\"{i}\"\n",
    "        f\"\\t{np.average(zvals_001, weights=nz_direct_001[i]) :.4f}\"\n",
    "        \"\\t\"\n",
    "        f\"\\t{np.average(zvals_001, weights=nz_rebin_001[i]) :.4f}\"\n",
    "    )\n"
   ]
  },
  {
   "cell_type": "code",
   "execution_count": 32,
   "id": "bb4def88-1634-4a11-8884-f7a127f1abc4",
   "metadata": {},
   "outputs": [
    {
     "name": "stdout",
     "output_type": "stream",
     "text": [
      "dz\n",
      "bin\trebin - direct\n",
      "0\t-0.0263\n",
      "1\t-0.0279\n",
      "2\t-0.0285\n",
      "3\t-0.0258\n"
     ]
    }
   ],
   "source": [
    "print(\"dz\")\n",
    "print(\n",
    "    f\"bin\"\n",
    "    f\"\\trebin - direct\"\n",
    ")\n",
    "for i in lib.const.TOMOGRAPHIC_BINS:\n",
    "    print(\n",
    "        f\"{i}\"\n",
    "        f\"\\t{np.average(zvals_001, weights=nz_rebin_001[i]) - np.average(zvals_001, weights=nz_direct_001[i]) :.4f}\"\n",
    "    )\n",
    " "
   ]
  },
  {
   "cell_type": "code",
   "execution_count": 33,
   "id": "12d81272-d5d7-45f1-8967-fa7191f1b8e1",
   "metadata": {},
   "outputs": [
    {
     "data": {
      "image/png": "[encoded data removed]",
      "text/plain": [
       "<Figure size 1200x800 with 4 Axes>"
      ]
     },
     "metadata": {},
     "output_type": "display_data"
    }
   ],
   "source": [
    "fig, axs = plt.subplots(len(lib.const.TOMOGRAPHIC_BINS), 1, figsize=(12, 8), sharex=True, sharey=True)\n",
    "\n",
    "fig.subplots_adjust(wspace=0, hspace=0)\n",
    "\n",
    "tomo_colors = {\n",
    "    0: \"#3BB470\",\n",
    "    1: \"#FA7F72\",\n",
    "    2: \"#DD9FDD\",\n",
    "    3: \"#6495EC\",\n",
    "}\n",
    "\n",
    "for i in lib.const.TOMOGRAPHIC_BINS:\n",
    "    axs[i].axvline(\n",
    "        np.average(zvals_001, weights=nz_direct_001[i]),\n",
    "        c=\"k\",\n",
    "        ls=\"-\",\n",
    "    )\n",
    "    axs[i].stairs(\n",
    "        nz_direct_001[i],\n",
    "        edges=zedges_001,\n",
    "        ec=\"k\",\n",
    "        ls=\"-\",\n",
    "        label=\"direct\",\n",
    "    )\n",
    "    \n",
    "    axs[i].axvline(\n",
    "        np.average(zvals_001, weights=nz_rebin_001[i]),\n",
    "        c=tomo_colors[i],\n",
    "        ls=\"-\",\n",
    "    )\n",
    "    axs[i].stairs(\n",
    "        nz_rebin_001[i],\n",
    "        edges=zedges_001,\n",
    "        ec=tomo_colors[i],\n",
    "        ls=\"-\",\n",
    "        label=\"rebin\",\n",
    "    )\n",
    "\n",
    "axs[-1].set_xlim(0, 3)\n",
    "axs[-1].set_yscale(\"log\")\n",
    "\n",
    "axs[-1].set_xlabel(\"z\")\n",
    "axs[-1].set_yticklabels([])\n",
    "\n",
    "axs[0].legend(loc=\"upper right\")\n",
    "\n",
    "watermark(fig)\n",
    "\n",
    "plt.show()"
   ]
  },
  {
   "cell_type": "code",
   "execution_count": null,
   "id": "e08d1e7f-1c8b-4ed5-acda-be0373969309",
   "metadata": {},
   "outputs": [],
   "source": []
  }
 ],
 "metadata": {
  "kernelspec": {
   "display_name": "DESY6DEV",
   "language": "python",
   "name": "des-y6-dev"
  },
  "language_info": {
   "codemirror_mode": {
    "name": "ipython",
    "version": 3
   },
   "file_extension": ".py",
   "mimetype": "text/x-python",
   "name": "python",
   "nbconvert_exporter": "python",
   "pygments_lexer": "ipython3",
   "version": "3.11.10"
  }
 },
 "nbformat": 4,
 "nbformat_minor": 5
}
