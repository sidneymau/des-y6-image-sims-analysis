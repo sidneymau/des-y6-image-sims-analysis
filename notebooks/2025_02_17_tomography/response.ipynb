{
 "cells": [
  {
   "cell_type": "code",
   "execution_count": 1,
   "id": "387402df-a5c0-4477-9001-60483af47fc8",
   "metadata": {},
   "outputs": [],
   "source": [
    "import functools\n",
    "import os\n",
    "import concurrent.futures"
   ]
  },
  {
   "cell_type": "code",
   "execution_count": 2,
   "id": "94945802-2056-4aff-8879-6416c1b83cd9",
   "metadata": {},
   "outputs": [],
   "source": [
    "import numpy as np\n",
    "import h5py\n",
    "import matplotlib.pyplot as plt\n",
    "import matplotlib as mpl\n",
    "from scipy import interpolate, stats"
   ]
  },
  {
   "cell_type": "code",
   "execution_count": 3,
   "id": "38758468-2f68-401f-b549-90bc07d4c452",
   "metadata": {},
   "outputs": [],
   "source": [
    "import lib"
   ]
  },
  {
   "cell_type": "code",
   "execution_count": 4,
   "id": "7ea5260f-b562-4c6e-9593-e26205461a8e",
   "metadata": {},
   "outputs": [],
   "source": [
    "shear_step = \"g1_slice=0.02__g2_slice=0.00__g1_other=0.00__g2_other=0.00__zlow=0.0__zhigh=6.0\""
   ]
  },
  {
   "cell_type": "code",
   "execution_count": 5,
   "id": "88582082-61e7-44d1-8317-91d6cc7e14b8",
   "metadata": {},
   "outputs": [],
   "source": [
    "shear_sim = h5py.File(\n",
    "    lib.const.SIM_SHEAR_CATALOGS[shear_step],\n",
    ")"
   ]
  },
  {
   "cell_type": "code",
   "execution_count": 6,
   "id": "a4996470-1663-4caf-9c47-695931435ea0",
   "metadata": {},
   "outputs": [],
   "source": [
    "truth_match = h5py.File(\n",
    "    lib.const.SIM_MATCH_CATALOGS[shear_step],\n",
    ")"
   ]
  },
  {
   "cell_type": "code",
   "execution_count": 7,
   "id": "8f9dfcd3-68b1-40cf-b389-ca459ecf4c08",
   "metadata": {},
   "outputs": [],
   "source": [
    "redshift_sim = h5py.File(\n",
    "    lib.const.SIM_REDSHIFT_CATALOGS[shear_step],\n",
    ")"
   ]
  },
  {
   "cell_type": "code",
   "execution_count": 8,
   "id": "f5325829-bb22-4358-8331-20dbc3127e18",
   "metadata": {},
   "outputs": [],
   "source": [
    "zbinsc = redshift_sim[\"sompz\"][\"pzdata_weighted_sompz_dz005\"][\"zbinsc\"][:]\n",
    "\n",
    "nz_sompz = {}\n",
    "nz_true = {}\n",
    "for tomographic_bin in lib.const.TOMOGRAPHIC_BINS:\n",
    "    _nz_sompz = redshift_sim[\"sompz\"][\"pzdata_weighted_sompz_dz005\"][f\"bin{tomographic_bin}\"][:]\n",
    "    _nz_true = redshift_sim[\"sompz\"][\"pzdata_weighted_true_dz005\"][f\"bin{tomographic_bin}\"][:]\n",
    "    \n",
    "    nz_sompz[tomographic_bin] = _nz_sompz\n",
    "    nz_true[tomographic_bin] = _nz_true\n",
    "    "
   ]
  },
  {
   "cell_type": "code",
   "execution_count": 9,
   "id": "24b73d22-2f2c-4ce4-9c6f-5f16566dc2da",
   "metadata": {},
   "outputs": [],
   "source": [
    "tilenames = np.unique(shear_sim[\"mdet\"][\"noshear\"][\"tilename\"][:])"
   ]
  },
  {
   "cell_type": "code",
   "execution_count": 10,
   "id": "6c9ee994-82da-49dc-ba27-b9304383ee8e",
   "metadata": {},
   "outputs": [],
   "source": [
    "bhat_sim = {}\n",
    "cell_sim = {}\n",
    "weight_sim = {}\n",
    "response_sim = {}\n",
    "\n",
    "for mdet_step in [\"noshear\", \"1p\", \"1m\"]:\n",
    "    bhat_sim[mdet_step] = lib.tomography.get_tomography(shear_sim, redshift_sim, mdet_step)\n",
    "    cell_sim[mdet_step] = lib.tomography.get_assignment(shear_sim, redshift_sim, mdet_step)\n",
    "    weight_sim[mdet_step] = lib.weight.get_shear_weights(shear_sim[\"mdet\"][mdet_step])\n",
    "    response_sim[mdet_step] = lib.response.get_shear_response(shear_sim[\"mdet\"][mdet_step])"
   ]
  },
  {
   "cell_type": "markdown",
   "id": "bbc025f8-8f3e-4871-bd13-78407b7d9bb6",
   "metadata": {},
   "source": [
    "---"
   ]
  },
  {
   "cell_type": "code",
   "execution_count": 11,
   "id": "d34191d0-49c2-43a1-a8b7-dcc6d89ef8e9",
   "metadata": {},
   "outputs": [],
   "source": [
    "tilename_sim = {}\n",
    "\n",
    "for mdet_step in [\"noshear\", \"1p\", \"1m\"]:\n",
    "    tilename_sim[mdet_step] = shear_sim[\"mdet\"][mdet_step][\"tilename\"][:]"
   ]
  },
  {
   "cell_type": "code",
   "execution_count": 12,
   "id": "3e65bf0d-cd68-41a3-9fd0-9ff95fbc0a3b",
   "metadata": {},
   "outputs": [],
   "source": [
    "g1_sim = {}\n",
    "\n",
    "for mdet_step in [\"1p\", \"1m\"]:\n",
    "    g1_sim[mdet_step] = shear_sim[\"mdet\"][mdet_step][\"gauss_g_1\"][:]"
   ]
  },
  {
   "cell_type": "code",
   "execution_count": 13,
   "id": "1a7ff0d4-e3fd-4d90-876d-7b07c4ada34f",
   "metadata": {},
   "outputs": [
    {
     "data": {
      "text/plain": [
       "array([False, False, False, ..., False, False, False])"
      ]
     },
     "execution_count": 13,
     "metadata": {},
     "output_type": "execute_result"
    }
   ],
   "source": [
    "(bhat_sim[\"1p\"] == 0) & (tilename_sim[\"1p\"] == tilenames[0])"
   ]
  },
  {
   "cell_type": "code",
   "execution_count": 14,
   "id": "9a2294e8-9cee-4104-b7ca-5a9071bec4a5",
   "metadata": {},
   "outputs": [],
   "source": [
    "def _compute(g1, weight, cell):\n",
    "    _sum_weight, _, _ = stats.binned_statistic(\n",
    "        cell,\n",
    "        weight,\n",
    "        statistic=\"sum\",\n",
    "        bins=lib.const.CELL_IDS,\n",
    "    )\n",
    "\n",
    "    _sum_g1, _, _ = stats.binned_statistic(\n",
    "        cell,\n",
    "        weight * g1,\n",
    "        statistic=\"sum\",\n",
    "        bins=lib.const.CELL_IDS,\n",
    "    )\n",
    "\n",
    "    return _sum_g1, _sum_weight\n",
    "    "
   ]
  },
  {
   "cell_type": "code",
   "execution_count": 15,
   "id": "ccb18008-5ec3-47d3-a5a0-e67cd66b2885",
   "metadata": {},
   "outputs": [],
   "source": [
    "g1_data = {}\n",
    "w_data = {}\n",
    "for mdet_step in [\"1p\", \"1m\"]:\n",
    "    _g1_data = []\n",
    "    _w_data = []\n",
    "    for tilename in tilenames:\n",
    "        _sel = (tilename_sim[mdet_step] == tilename)\n",
    "        _g1, _w = _compute(\n",
    "            g1_sim[mdet_step][_sel],\n",
    "            weight_sim[mdet_step][_sel],\n",
    "            cell_sim[mdet_step][_sel],\n",
    "        )\n",
    "        _g1_data.append(_g1)\n",
    "        _w_data.append(_w)\n",
    "        \n",
    "    g1_data[mdet_step] = np.array(_g1_data)\n",
    "    w_data[mdet_step] = np.array(_w_data)"
   ]
  },
  {
   "cell_type": "code",
   "execution_count": 16,
   "id": "cdb32784-cd37-41eb-99c3-0a8dd5323f2e",
   "metadata": {},
   "outputs": [],
   "source": [
    "jackknife = []\n",
    "for i in range(len(tilenames)):\n",
    "    _g1_1p = np.sum(np.concatenate([g1_data[\"1p\"][:i], g1_data[\"1p\"][i + 1:]]), axis=0)\n",
    "    _w_1p = np.sum(np.concatenate([w_data[\"1p\"][:i], w_data[\"1p\"][i + 1:]]), axis=0)\n",
    "\n",
    "    _g1_1m = np.sum(np.concatenate([g1_data[\"1m\"][:i], g1_data[\"1m\"][i + 1:]]), axis=0)\n",
    "    _w_1m = np.sum(np.concatenate([w_data[\"1m\"][:i], w_data[\"1m\"][i + 1:]]), axis=0)\n",
    "\n",
    "    jackknife.append((_g1_1p / _w_1p - _g1_1m / _w_1m) / (2 * 0.01))\n",
    "\n",
    "jackknife = np.array(jackknife)"
   ]
  },
  {
   "cell_type": "code",
   "execution_count": 17,
   "id": "26531529-a076-4406-b82d-1135696b6c9e",
   "metadata": {},
   "outputs": [],
   "source": [
    "_n = len(jackknife)\n",
    "\n",
    "jackknife_mean = np.mean(jackknife, axis=0)\n",
    "\n",
    "# jackknife_var = ((_n - 1) / _n) * np.sum(np.square(np.subtract(jackknife, jackknife_mean)), axis=0)\n",
    "jackknife_std = np.sqrt(((_n - 1) / _n) * np.sum(np.square(np.subtract(jackknife, jackknife_mean)), axis=0))"
   ]
  },
  {
   "cell_type": "code",
   "execution_count": 18,
   "id": "e34c623c-ce30-4740-9f3a-c77e2516e763",
   "metadata": {},
   "outputs": [
    {
     "name": "stderr",
     "output_type": "stream",
     "text": [
      "/global/u2/s/smau/projects/des/y6-image-sims-analysis/notebooks/2025_02_17_tomography/lib/plotting.py:214: UserWarning: Total axes width (6.333333333333333) less than figure width (7.0)\n",
      "  warnings.warn(f\"Total axes width ({total_width}) less than figure width ({fig_width})\")\n"
     ]
    },
    {
     "data": {
      "image/png": "[encoded data removed]",
      "text/plain": [
       "<Figure size 700x300 with 4 Axes>"
      ]
     },
     "metadata": {},
     "output_type": "display_data"
    }
   ],
   "source": [
    "fig, axs = lib.plotting.make_axes(\n",
    "    1, 2,\n",
    "    width=2,\n",
    "    height=2,\n",
    "    horizontal_margin=8/12,\n",
    "    vertical_margin=6/12,\n",
    "    gutter=1,\n",
    "    fig_width=7,\n",
    "    fig_height=3,\n",
    ")\n",
    "\n",
    "im = axs[0].imshow(\n",
    "    jackknife_mean.reshape(lib.const.SOM_SHAPE),\n",
    "    origin=\"lower\",\n",
    "    norm=mpl.colors.CenteredNorm(1),\n",
    "    cmap=mpl.cm.RdBu_r,\n",
    ")\n",
    "lib.plotting.add_colorbar(axs[0], im)\n",
    "axs[0].set_title(\"jackknife mean\")\n",
    "\n",
    "im = axs[1].imshow(\n",
    "    jackknife_std.reshape(lib.const.SOM_SHAPE),\n",
    "    origin=\"lower\",\n",
    "    # norm=mpl.colors.Normalize(0.0, 0.5),\n",
    ")\n",
    "lib.plotting.add_colorbar(axs[1], im)\n",
    "axs[1].set_title(\"jackknife std\")\n",
    "\n",
    "\n",
    "for ax in axs:\n",
    "    ax.set_xticks([])\n",
    "    ax.set_yticks([])\n",
    "\n",
    "\n",
    "\n",
    "fig.suptitle(\"sim $〈R〉$ from SOM cells\")\n",
    "\n",
    "lib.plotting.watermark(fig)\n",
    "\n",
    "plt.show()"
   ]
  },
  {
   "cell_type": "markdown",
   "id": "8a48f170-7073-49c7-a39b-6995cc2b2d7b",
   "metadata": {},
   "source": [
    "---"
   ]
  },
  {
   "cell_type": "code",
   "execution_count": 20,
   "id": "d6ac7777-dd67-4818-b31c-20d97bfa7962",
   "metadata": {},
   "outputs": [],
   "source": [
    "z_sim = {}\n",
    "\n",
    "for mdet_step in [\"noshear\"]:\n",
    "    z_sim[mdet_step] = truth_match[\"mdet\"][mdet_step][\"z\"][:]"
   ]
  },
  {
   "cell_type": "code",
   "execution_count": 29,
   "id": "9e0f5ad9-a14a-4099-9470-e20f8a57951a",
   "metadata": {},
   "outputs": [],
   "source": [
    "g1_som = {}\n",
    "w_som = {}\n",
    "w_data = {}\n",
    "z_data = {}\n",
    "cell_data = {}\n",
    "\n",
    "for mdet_step in [\"noshear\"]:\n",
    "    _z_data = []\n",
    "    _w_data = []\n",
    "    _cell_data = []\n",
    "    \n",
    "    for tilename in tilenames:\n",
    "        _sel = (tilename_sim[mdet_step] == tilename)\n",
    "        \n",
    "        _z = z_sim[mdet_step][_sel]\n",
    "        _z_data.append(_z)\n",
    "\n",
    "        _w = weight_sim[mdet_step][_sel]\n",
    "        _w_data.append(_w)\n",
    "\n",
    "        _cell = cell_sim[mdet_step][_sel]\n",
    "        _cell_data.append(_cell)\n",
    "\n",
    "    z_data[mdet_step] = _z_data\n",
    "    w_data[mdet_step] = _w_data\n",
    "    cell_data[mdet_step] = _cell_data\n",
    "\n",
    "\n",
    "for mdet_step in [\"1p\", \"1m\"]:\n",
    "    _g1_data = []\n",
    "    _w_data = []\n",
    "    for tilename in tilenames:\n",
    "        _sel = (tilename_sim[mdet_step] == tilename)\n",
    "        _g1, _w = _compute(\n",
    "            g1_sim[mdet_step][_sel],\n",
    "            weight_sim[mdet_step][_sel],\n",
    "            cell_sim[mdet_step][_sel],\n",
    "        )\n",
    "        _g1_data.append(_g1)\n",
    "        _w_data.append(_w)\n",
    "        \n",
    "    g1_som[mdet_step] = np.array(_g1_data)\n",
    "    w_som[mdet_step] = np.array(_w_data)"
   ]
  },
  {
   "cell_type": "code",
   "execution_count": 33,
   "id": "bd9dc18d-d619-4744-ac85-26a8a73a59aa",
   "metadata": {},
   "outputs": [],
   "source": [
    "# from Boyan\n",
    "zbinsc = np.arange(0.035, 4, 0.05)\n",
    "zedges = np.arange(0.01, 4.02, 0.05)"
   ]
  },
  {
   "cell_type": "code",
   "execution_count": 78,
   "id": "6012c926-84c1-4842-81c3-763786cd30d3",
   "metadata": {},
   "outputs": [
    {
     "name": "stdout",
     "output_type": "stream",
     "text": [
      "b'DES2359-5831' 981/981"
     ]
    }
   ],
   "source": [
    "nz_jackknife = []\n",
    "\n",
    "for i in range(len(tilenames)):\n",
    "    print(f\"{tilename} {i + 1}/{len(tilenames)}\", end=\"\\r\", flush=True)\n",
    "    \n",
    "    _z_ns = np.concatenate(\n",
    "        z_data[\"noshear\"][:i] + z_data[\"noshear\"][i + 1:],\n",
    "    )\n",
    "\n",
    "    _z_ns[_z_ns < zbinsc[0]] = zbinsc[0] + 0.001\n",
    "    _z_ns[_z_ns > zbinsc[-1]] = zbinsc[-1] - 0.001\n",
    "\n",
    "    _w_ns = np.concatenate(\n",
    "        w_data[\"noshear\"][:i] + w_data[\"noshear\"][i + 1:],\n",
    "    )\n",
    "    _cell_ns =np.concatenate(\n",
    "        cell_data[\"noshear\"][:i] + cell_data[\"noshear\"][i + 1:],\n",
    "    )\n",
    "    \n",
    "    _g1_1p = np.sum(np.concatenate([g1_som[\"1p\"][:i], g1_som[\"1p\"][i + 1:]]), axis=0)\n",
    "    _w_1p = np.sum(np.concatenate([w_som[\"1p\"][:i], w_som[\"1p\"][i + 1:]]), axis=0)\n",
    "\n",
    "    _g1_1m = np.sum(np.concatenate([g1_som[\"1m\"][:i], g1_som[\"1m\"][i + 1:]]), axis=0)\n",
    "    _w_1m = np.sum(np.concatenate([w_som[\"1m\"][:i], w_som[\"1m\"][i + 1:]]), axis=0)\n",
    "\n",
    "    _R_som = (_g1_1p / _w_1p - _g1_1m / _w_1m) / (2 * 0.01)\n",
    "\n",
    "    _nz, _, _, _ = stats.binned_statistic_2d(\n",
    "        _cell_ns,\n",
    "        _z_ns,\n",
    "        _w_ns * np.array([\n",
    "            _R_som[_cell.astype(int)]\n",
    "            if np.isfinite(_cell) else np.nan\n",
    "            for _cell in _cell_ns\n",
    "        ]),\n",
    "        statistic=\"sum\",\n",
    "        bins=[lib.const.CELL_IDS, zedges],\n",
    "    )\n",
    "\n",
    "    nz_jackknife.append(_nz)\n",
    "\n",
    "nz_jackknife = np.array(nz_jackknife)"
   ]
  },
  {
   "cell_type": "code",
   "execution_count": 79,
   "id": "fc0a5e19-d94a-4685-81ac-c92f09619409",
   "metadata": {},
   "outputs": [],
   "source": [
    "_n = len(nz_jackknife)\n",
    "\n",
    "nz_jackknife_mean = np.mean(nz_jackknife, axis=0)\n",
    "\n",
    "nz_jackknife_var = ((_n - 1) / _n) * np.sum(np.square(np.subtract(nz_jackknife, nz_jackknife_mean)), axis=0)\n",
    "nz_jackknife_std = np.sqrt(((_n - 1) / _n) * np.sum(np.square(np.subtract(nz_jackknife, nz_jackknife_mean)), axis=0))"
   ]
  },
  {
   "cell_type": "code",
   "execution_count": 85,
   "id": "56e31d78-c4e3-4988-9a24-0a67fc3bc0b1",
   "metadata": {},
   "outputs": [],
   "source": [
    "nz_mean = {}\n",
    "nz_std = {}\n",
    "\n",
    "for tomographic_bin in lib.const.TOMOGRAPHIC_BINS:\n",
    "    nz_mean[tomographic_bin] = np.sum(\n",
    "        nz_jackknife_mean[lib.const.CELL_ASSIGNMENTS[tomographic_bin]],\n",
    "        axis=0,\n",
    "    )\n",
    "    \n",
    "    nz_std[tomographic_bin] = np.sqrt(\n",
    "        np.sum(\n",
    "            nz_jackknife_var[lib.const.CELL_ASSIGNMENTS[tomographic_bin]],\n",
    "            axis=0,\n",
    "        ),\n",
    "    )\n",
    "\n",
    "    # renormalize\n",
    "    nz_std[tomographic_bin] = nz_std[tomographic_bin] / np.sum(nz_mean[tomographic_bin]) / np.diff(zedges)  # before mean\n",
    "    nz_mean[tomographic_bin] = nz_mean[tomographic_bin] / np.sum(nz_mean[tomographic_bin]) / np.diff(zedges)"
   ]
  },
  {
   "cell_type": "code",
   "execution_count": 86,
   "id": "156fbf50-d2de-4439-8948-5c5264ab7fb8",
   "metadata": {},
   "outputs": [
    {
     "data": {
      "image/png": "[encoded data removed]",
      "text/plain": [
       "<Figure size 600x800 with 4 Axes>"
      ]
     },
     "metadata": {},
     "output_type": "display_data"
    }
   ],
   "source": [
    "fig, axs = plt.subplots(len(lib.const.TOMOGRAPHIC_BINS), 1, figsize=(6, 8), sharex=True, sharey=True)\n",
    "\n",
    "fig.subplots_adjust(wspace=0, hspace=0)\n",
    "\n",
    "tomo_colors = {\n",
    "    0: \"#3BB470\",\n",
    "    1: \"#FA7F72\",\n",
    "    2: \"#DD9FDD\",\n",
    "    3: \"#6495EC\",\n",
    "}\n",
    "\n",
    "for i in lib.const.TOMOGRAPHIC_BINS:\n",
    "\n",
    "    axs[i].stairs(\n",
    "        nz_mean[i] - nz_std[i],\n",
    "        edges=zedges,\n",
    "        ec=tomo_colors[i],\n",
    "        ls=\"--\",\n",
    "    )\n",
    "    axs[i].stairs(\n",
    "        nz_mean[i] + nz_std[i],\n",
    "        edges=zedges,\n",
    "        ec=tomo_colors[i],\n",
    "        ls=\"--\",\n",
    "    )\n",
    "\n",
    "    axs[i].axvline(\n",
    "        np.average(zbinsc, weights=nz_mean[i] - nz_std[i]),\n",
    "        c=tomo_colors[i],\n",
    "        ls=\":\",\n",
    "    )\n",
    "    axs[i].axvline(\n",
    "        np.average(zbinsc, weights=nz_mean[i] + nz_std[i]),\n",
    "        c=tomo_colors[i],\n",
    "        ls=\":\",\n",
    "    )\n",
    "    \n",
    "    axs[i].axvline(\n",
    "        np.average(zbinsc, weights=nz_mean[i]),\n",
    "        c=tomo_colors[i],\n",
    "        ls=\":\",\n",
    "    )\n",
    "    \n",
    "    axs[i].stairs(\n",
    "        nz_mean[i],\n",
    "        edges=zedges,\n",
    "        ec=tomo_colors[i],\n",
    "    )\n",
    "\n",
    "axs[-1].set_xlim(0, 3)\n",
    "axs[-1].set_ylim(0, None)\n",
    "\n",
    "axs[-1].set_xlabel(\"z\")\n",
    "\n",
    "# axs[-1].set_yscale(\"log\")\n",
    "# axs[0].legend()\n",
    "\n",
    "lib.plotting.watermark(fig)\n",
    "\n",
    "plt.show()"
   ]
  },
  {
   "cell_type": "code",
   "execution_count": 88,
   "id": "2b0ae596-6f8c-44c5-80a5-4f7d7561f105",
   "metadata": {},
   "outputs": [
    {
     "name": "stdout",
     "output_type": "stream",
     "text": [
      "mean z\n",
      "--------------------------------\n",
      "bin\tμ\tμ-σ\tμ+σ\n",
      "0\t0.3606\t0.3593\t0.3619\n",
      "1\t0.5127\t0.5118\t0.5136\n",
      "2\t0.7950\t0.7947\t0.7952\n",
      "3\t1.0931\t1.0928\t1.0933\n"
     ]
    }
   ],
   "source": [
    "print(\"mean z\")\n",
    "print(\n",
    "    f\"--------\"\n",
    "    f\"--------\"\n",
    "    f\"--------\"\n",
    "    f\"--------\"\n",
    ")\n",
    "print(\n",
    "    f\"bin\"\n",
    "    f\"\\tμ\"\n",
    "    f\"\\tμ-σ\"\n",
    "    f\"\\tμ+σ\"\n",
    ")\n",
    "for i in lib.const.TOMOGRAPHIC_BINS:\n",
    "    print(\n",
    "        f\"{i}\"\n",
    "        f\"\\t{np.average(zbinsc, weights=nz_mean[i]) :.4f}\"\n",
    "        f\"\\t{np.average(zbinsc, weights=nz_mean[i] - nz_std[i]) :.4f}\"\n",
    "        f\"\\t{np.average(zbinsc, weights=nz_mean[i] + nz_std[i]) :.4f}\"\n",
    "    )\n"
   ]
  },
  {
   "cell_type": "code",
   "execution_count": null,
   "id": "1a3cd2cc-1176-422f-84fe-d0ecf92db8e1",
   "metadata": {},
   "outputs": [],
   "source": []
  }
 ],
 "metadata": {
  "kernelspec": {
   "display_name": "DESY6DEV",
   "language": "python",
   "name": "des-y6-dev"
  },
  "language_info": {
   "codemirror_mode": {
    "name": "ipython",
    "version": 3
   },
   "file_extension": ".py",
   "mimetype": "text/x-python",
   "name": "python",
   "nbconvert_exporter": "python",
   "pygments_lexer": "ipython3",
   "version": "3.11.10"
  }
 },
 "nbformat": 4,
 "nbformat_minor": 5
}
