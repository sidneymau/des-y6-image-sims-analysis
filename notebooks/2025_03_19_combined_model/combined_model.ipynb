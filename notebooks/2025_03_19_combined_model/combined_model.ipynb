{
 "cells": [
  {
   "cell_type": "code",
   "execution_count": 1,
   "metadata": {},
   "outputs": [],
   "source": [
    "%load_ext autoreload\n",
    "%autoreload 2\n",
    "\n",
    "import os\n",
    "\n",
    "import jax\n",
    "jax.config.update(\"jax_enable_x64\", True)\n",
    "\n",
    "import numpyro\n",
    "numpyro.set_host_device_count(4)\n",
    "\n",
    "import numpy as np\n",
    "import scipy.optimize\n",
    "\n",
    "import ultraplot as uplt"
   ]
  },
  {
   "cell_type": "code",
   "execution_count": 2,
   "metadata": {},
   "outputs": [],
   "source": [
    "from des_y6_imsim_analysis import bump\n",
    "from des_y6_imsim_analysis.stats import compute_model_chi2_info, measure_map, run_mcmc\n",
    "from des_y6_imsim_analysis.utils import measure_m_dz, read_data"
   ]
  },
  {
   "cell_type": "code",
   "execution_count": 3,
   "metadata": {},
   "outputs": [
    {
     "name": "stdout",
     "output_type": "stream",
     "text": [
      "key: statistical\n",
      "chi2: 3.832692091685576\n",
      "dof: 8\n",
      "p-value: 0.87189417323875\n",
      "m vals:\n",
      "    model: [-0.005961562361381678, 0.014455806637001523, 0.016856872871886308, 0.009677856668955265]\n",
      "    data: [-0.006994349826206503, 0.016036566228740057, 0.017247239530250313, 0.009428620061380233]\n",
      "     err: [0.004593226944328782, 0.006142812018330256, 0.005437871858005932, 0.009363355942622971]\n",
      "\n",
      "key: statistical-occupancy\n",
      "chi2: 4.016246685503746\n",
      "dof: 8\n",
      "p-value: 0.8556546585114898\n",
      "m vals:\n",
      "    model: [-0.008156223707055155, 0.010562624931793163, 0.016423324155631747, 0.008193864775689175]\n",
      "    data: [-0.008923099284016134, 0.012461296733357496, 0.017138348042496254, 0.007125125944023258]\n",
      "     err: [0.005081500549334836, 0.006317458726575935, 0.005407761042726535, 0.009482393424392194]\n",
      "\n",
      "key: statistical-neighbor\n",
      "chi2: 5.98443953225779\n",
      "dof: 8\n",
      "p-value: 0.6489749805732526\n",
      "m vals:\n",
      "    model: [-0.004360889281021851, 0.0102167419533723, 0.019093082171642184, 0.0061169702173813345]\n",
      "    data: [-0.006008156937353126, 0.011658908644474053, 0.019886138647582374, 0.005815160615772141]\n",
      "     err: [0.005131975267132022, 0.006645674974986696, 0.005671806916491495, 0.009824921656259294]\n",
      "\n",
      "key: statistical-neighbor-occupancy\n",
      "chi2: 5.423985235569433\n",
      "dof: 8\n",
      "p-value: 0.7114464546361454\n",
      "m vals:\n",
      "    model: [-0.006858299438777804, 0.007191505927599318, 0.01776548790967647, 0.004193197119420455]\n",
      "    data: [-0.008146843792639635, 0.008699043946148954, 0.01928663314805168, 0.0028886155019478554]\n",
      "     err: [0.005538106865660165, 0.006930781767122122, 0.005767590968559112, 0.009951799681143892]\n",
      "\n"
     ]
    }
   ],
   "source": [
    "fnames = [\n",
    "    \"../../data/N_gamma_alpha_v2_statistical.hdf5\",\n",
    "    \"../../data/N_gamma_alpha_v2_statistical-occupancy.hdf5\",\n",
    "    \"../../data/N_gamma_alpha_v2_statistical-neighbor.hdf5\",\n",
    "    \"../../data/N_gamma_alpha_v2_statistical-neighbor-occupancy.hdf5\",\n",
    "]\n",
    "\n",
    "keys = [\n",
    "    os.path.basename(fname).replace(\".hdf5\", \"\").split(\"_\")[-1]\n",
    "    for fname in fnames\n",
    "]\n",
    "\n",
    "seeds = [213432, 6457645, 213, 7878546]\n",
    "\n",
    "fit_data = {}\n",
    "\n",
    "model_module = bump\n",
    "\n",
    "for key, fname, seed in zip(keys, fnames, seeds):\n",
    "    data = read_data(fname)\n",
    "\n",
    "    model_data = model_module.make_model_data(\n",
    "        z=data.z,\n",
    "        nzs=data.nzs,\n",
    "        mn=data.mn,\n",
    "        cov=data.cov,\n",
    "        mn_pars=data.mn_pars,\n",
    "        zbins=data.zbins,\n",
    "        fixed_param_values={\"w\": 0.1, \"g_b0\": 0.0, \"g_b1\": 0.0, \"g_b2\": 0.0, \"g_b3\": 0.0},\n",
    "        num_bins=9,\n",
    "    )\n",
    "\n",
    "    map_params = measure_map(\n",
    "        model_module=model_module,\n",
    "        model_data=model_data,\n",
    "        seed=seed,\n",
    "    )\n",
    "\n",
    "    mcmc = run_mcmc(\n",
    "        model_module=model_module,\n",
    "        model_data=model_data,\n",
    "        init_params=map_params,\n",
    "        seed=seed,\n",
    "    )\n",
    "\n",
    "    chi2_info = compute_model_chi2_info(\n",
    "        model_module=model_module,\n",
    "        model_data=model_data,\n",
    "        data=data,\n",
    "        params=map_params,\n",
    "    )\n",
    "\n",
    "    fit_data[key] = {\n",
    "        \"map_params\": map_params,\n",
    "        \"mcmc\": mcmc,\n",
    "        \"model_data\": model_data,\n",
    "        \"data\": data,\n",
    "    }\n",
    "\n",
    "    print(\"key:\", key)\n",
    "    print(\"chi2:\", chi2_info['chi2'])\n",
    "    print(\"dof:\", chi2_info['dof'])\n",
    "    print(\"p-value:\", chi2_info['p_value'])\n",
    "    print(\"m vals:\\n    model: %r\\n    data: %r\\n     err: %r\" % (\n",
    "        (chi2_info['model_mn'][:4] - 1).tolist(),\n",
    "        (data.mn[:4] - 1).tolist(),\n",
    "        (np.sqrt(np.diag(data.cov)[:4])).tolist(),\n",
    "    ))\n",
    "    print(\"\", flush=True)"
   ]
  },
  {
   "cell_type": "code",
   "execution_count": 4,
   "metadata": {},
   "outputs": [],
   "source": [
    "rng = np.random.default_rng(75865874)\n",
    "\n",
    "final_mdz = {}\n",
    "n_per = 1000\n",
    "\n",
    "for key in fit_data.keys():\n",
    "    samples = fit_data[key][\"mcmc\"].get_samples()\n",
    "\n",
    "    mdz = measure_m_dz(\n",
    "        model_module=model_module,\n",
    "        model_data=fit_data[key][\"model_data\"],\n",
    "        samples=samples,\n",
    "        return_dict=True,\n",
    "    )\n",
    "    n_samp = mdz[list(mdz.keys())[0]].shape[0]\n",
    "    inds = rng.choice(n_samp, n_per, replace=False)\n",
    "    for k, v in mdz.items():\n",
    "        if k not in final_mdz:\n",
    "            final_mdz[k] = []\n",
    "        final_mdz[k].append(v[inds])\n",
    "\n",
    "for k in final_mdz.keys():\n",
    "    final_mdz[k] = np.concatenate(final_mdz[k], axis=0)"
   ]
  },
  {
   "cell_type": "code",
   "execution_count": 5,
   "metadata": {},
   "outputs": [
    {
     "name": "stdout",
     "output_type": "stream",
     "text": [
      "|--------------------------------------------|\n",
      "| bin | m [10^-3, 3sigma] | dz               |\n",
      "|--------------------------------------------|\n",
      "| 0   |  -6.9 +/- 16.5    | -0.010 +/- 0.005 |\n",
      "| 1   |  +7.2 +/- 20.1    | -0.020 +/- 0.006 |\n",
      "| 2   | +17.8 +/- 17.1    | +0.003 +/- 0.005 |\n",
      "| 3   |  +4.1 +/- 28.7    | -0.034 +/- 0.009 |\n",
      "|--------------------------------------------|\n"
     ]
    }
   ],
   "source": [
    "m_mn = [np.mean(mdz[f\"m_b{i}\"]) for i in range(4)]\n",
    "m_sd = [np.std(mdz[f\"m_b{i}\"]) for i in range(4)]\n",
    "\n",
    "dz_mn = [np.mean(mdz[f\"dz_b{i}\"]) for i in range(4)]\n",
    "dz_sd = [np.std(mdz[f\"dz_b{i}\"]) for i in range(4)]\n",
    "\n",
    "print(\"|--------------------------------------------|\")\n",
    "print(\"| bin | m [10^-3, 3sigma] | dz               |\")\n",
    "print(\"|--------------------------------------------|\")\n",
    "for i in range(4):\n",
    "    print(\n",
    "        \"| %d   | %+5.1f +/- %-5.1f   | %+0.3f +/- %0.3f |\" % (\n",
    "            i, m_mn[i]/1e-3, m_sd[i]/1e-3 * 3, dz_mn[i], dz_sd[i]\n",
    "        )\n",
    "    )\n",
    "print(\"|--------------------------------------------|\")"
   ]
  },
  {
   "cell_type": "code",
   "execution_count": 6,
   "metadata": {},
   "outputs": [],
   "source": [
    "arr = np.array(\n",
    "    [mdz[f\"m_b{i}\"] for i in range(4)]\n",
    "    + [mdz[f\"dz_b{i}\"] for i in range(4)]\n",
    ")"
   ]
  },
  {
   "cell_type": "code",
   "execution_count": 7,
   "metadata": {},
   "outputs": [],
   "source": [
    "corr = np.corrcoef(arr)"
   ]
  },
  {
   "cell_type": "code",
   "execution_count": 8,
   "metadata": {},
   "outputs": [
    {
     "data": {
      "image/png": "[encoded data removed]",
      "text/plain": [
       "Figure(nrows=1, ncols=1, figwidth=5.0, figheight=5.0)"
      ]
     },
     "metadata": {
      "image/png": {
       "height": 500,
       "width": 500
      }
     },
     "output_type": "display_data"
    }
   ],
   "source": [
    "fig, axs = uplt.subplots(figsize=(5, 5))\n",
    "\n",
    "m = axs.pcolormesh(np.abs(corr), vmin=0, vmax=1, cmap=\"gray_r\", discrete=False)\n",
    "axs.colorbar(m, label=\"Correlation Coefficient\")\n",
    "axs.format(grid=False)"
   ]
  },
  {
   "cell_type": "code",
   "execution_count": null,
   "metadata": {},
   "outputs": [],
   "source": []
  }
 ],
 "metadata": {
  "kernelspec": {
   "display_name": "des-y6",
   "language": "python",
   "name": "python3"
  },
  "language_info": {
   "codemirror_mode": {
    "name": "ipython",
    "version": 3
   },
   "file_extension": ".py",
   "mimetype": "text/x-python",
   "name": "python",
   "nbconvert_exporter": "python",
   "pygments_lexer": "ipython3",
   "version": "3.11.11"
  }
 },
 "nbformat": 4,
 "nbformat_minor": 2
}
