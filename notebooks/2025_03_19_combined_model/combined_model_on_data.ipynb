{
 "cells": [
  {
   "cell_type": "code",
   "execution_count": 1,
   "metadata": {},
   "outputs": [],
   "source": [
    "%load_ext autoreload\n",
    "%autoreload 2\n",
    "\n",
    "import os\n",
    "\n",
    "import jax\n",
    "jax.config.update(\"jax_enable_x64\", True)\n",
    "\n",
    "import numpyro\n",
    "numpyro.set_host_device_count(4)\n",
    "\n",
    "import numpy as np\n",
    "import scipy.optimize\n",
    "\n",
    "import ultraplot as uplt"
   ]
  },
  {
   "cell_type": "code",
   "execution_count": 2,
   "metadata": {},
   "outputs": [],
   "source": [
    "from des_y6_imsim_analysis import bump\n",
    "from des_y6_imsim_analysis.stats import compute_model_chi2_info, measure_map, run_mcmc\n",
    "from des_y6_imsim_analysis.utils import measure_m_dz, read_data"
   ]
  },
  {
   "cell_type": "code",
   "execution_count": 3,
   "metadata": {},
   "outputs": [
    {
     "name": "stdout",
     "output_type": "stream",
     "text": [
      "key: statistical\n",
      "chi2: 3.832692091685576\n",
      "dof: 8\n",
      "p-value: 0.87189417323875\n",
      "m vals:\n",
      "    model: [-0.005961562361381678, 0.014455806637001523, 0.016856872871886308, 0.009677856668955265]\n",
      "    data: [-0.006994349826206503, 0.016036566228740057, 0.017247239530250313, 0.009428620061380233]\n",
      "     err: [0.004593226944328782, 0.006142812018330256, 0.005437871858005932, 0.009363355942622971]\n",
      "\n",
      "key: statistical-occupancy\n",
      "chi2: 4.016246685503746\n",
      "dof: 8\n",
      "p-value: 0.8556546585114898\n",
      "m vals:\n",
      "    model: [-0.008156223707055155, 0.010562624931793163, 0.016423324155631747, 0.008193864775689175]\n",
      "    data: [-0.008923099284016134, 0.012461296733357496, 0.017138348042496254, 0.007125125944023258]\n",
      "     err: [0.005081500549334836, 0.006317458726575935, 0.005407761042726535, 0.009482393424392194]\n",
      "\n",
      "key: statistical-neighbor\n",
      "chi2: 5.98443953225779\n",
      "dof: 8\n",
      "p-value: 0.6489749805732526\n",
      "m vals:\n",
      "    model: [-0.004360889281021851, 0.0102167419533723, 0.019093082171642184, 0.0061169702173813345]\n",
      "    data: [-0.006008156937353126, 0.011658908644474053, 0.019886138647582374, 0.005815160615772141]\n",
      "     err: [0.005131975267132022, 0.006645674974986696, 0.005671806916491495, 0.009824921656259294]\n",
      "\n",
      "key: statistical-neighbor-occupancy\n",
      "chi2: 5.423985235569433\n",
      "dof: 8\n",
      "p-value: 0.7114464546361454\n",
      "m vals:\n",
      "    model: [-0.006858299438777804, 0.007191505927599318, 0.01776548790967647, 0.004193197119420455]\n",
      "    data: [-0.008146843792639635, 0.008699043946148954, 0.01928663314805168, 0.0028886155019478554]\n",
      "     err: [0.005538106865660165, 0.006930781767122122, 0.005767590968559112, 0.009951799681143892]\n",
      "\n"
     ]
    }
   ],
   "source": [
    "fnames = [\n",
    "    \"../../data/N_gamma_alpha_v2_statistical.hdf5\",\n",
    "    \"../../data/N_gamma_alpha_v2_statistical-occupancy.hdf5\",\n",
    "    \"../../data/N_gamma_alpha_v2_statistical-neighbor.hdf5\",\n",
    "    \"../../data/N_gamma_alpha_v2_statistical-neighbor-occupancy.hdf5\",\n",
    "]\n",
    "\n",
    "keys = [\n",
    "    os.path.basename(fname).replace(\".hdf5\", \"\").split(\"_\")[-1]\n",
    "    for fname in fnames\n",
    "]\n",
    "\n",
    "seeds = [213432, 6457645, 213, 7878546]\n",
    "\n",
    "fit_data = {}\n",
    "\n",
    "model_module = bump\n",
    "\n",
    "for key, fname, seed in zip(keys, fnames, seeds):\n",
    "    data = read_data(fname)\n",
    "\n",
    "    model_data = model_module.make_model_data(\n",
    "        z=data.z,\n",
    "        nzs=data.nzs,\n",
    "        mn=data.mn,\n",
    "        cov=data.cov,\n",
    "        mn_pars=data.mn_pars,\n",
    "        zbins=data.zbins,\n",
    "        fixed_param_values={\"w\": 0.1, \"g_b0\": 0.0, \"g_b1\": 0.0, \"g_b2\": 0.0, \"g_b3\": 0.0},\n",
    "        num_bins=9,\n",
    "    )\n",
    "\n",
    "    map_params = measure_map(\n",
    "        model_module=model_module,\n",
    "        model_data=model_data,\n",
    "        seed=seed,\n",
    "    )\n",
    "\n",
    "    mcmc = run_mcmc(\n",
    "        model_module=model_module,\n",
    "        model_data=model_data,\n",
    "        init_params=map_params,\n",
    "        seed=seed,\n",
    "    )\n",
    "\n",
    "    chi2_info = compute_model_chi2_info(\n",
    "        model_module=model_module,\n",
    "        model_data=model_data,\n",
    "        data=data,\n",
    "        params=map_params,\n",
    "    )\n",
    "\n",
    "    fit_data[key] = {\n",
    "        \"map_params\": map_params,\n",
    "        \"mcmc\": mcmc,\n",
    "        \"model_data\": model_data,\n",
    "        \"data\": data,\n",
    "    }\n",
    "\n",
    "    print(\"key:\", key)\n",
    "    print(\"chi2:\", chi2_info['chi2'])\n",
    "    print(\"dof:\", chi2_info['dof'])\n",
    "    print(\"p-value:\", chi2_info['p_value'])\n",
    "    print(\"m vals:\\n    model: %r\\n    data: %r\\n     err: %r\" % (\n",
    "        (chi2_info['model_mn'][:4] - 1).tolist(),\n",
    "        (data.mn[:4] - 1).tolist(),\n",
    "        (np.sqrt(np.diag(data.cov)[:4])).tolist(),\n",
    "    ))\n",
    "    print(\"\", flush=True)"
   ]
  },
  {
   "cell_type": "code",
   "execution_count": 4,
   "metadata": {},
   "outputs": [],
   "source": [
    "desnz = np.load(\"Tz_realizations_WZ_bq_pile4_0d05.npy\")"
   ]
  },
  {
   "cell_type": "code",
   "execution_count": 11,
   "metadata": {},
   "outputs": [
    {
     "name": "stderr",
     "output_type": "stream",
     "text": [
      "statistical: 100%|███████████████████████| 10095/10095 [00:17<00:00, 569.04it/s]\n",
      "statistical-occupancy: 100%|█████████████| 10095/10095 [00:17<00:00, 591.53it/s]\n",
      "statistical-neighbor: 100%|██████████████| 10095/10095 [00:16<00:00, 597.05it/s]\n",
      "statistical-neighbor-occupancy: 100%|████| 10095/10095 [00:16<00:00, 600.00it/s]\n"
     ]
    }
   ],
   "source": [
    "import tqdm\n",
    "\n",
    "from des_y6_imsim_analysis.utils import compute_nz_binned_mean, sompz_integral\n",
    "\n",
    "rng = np.random.default_rng(462552)\n",
    "\n",
    "mvals = {}\n",
    "dzvals = {}\n",
    "finalnzs = {}\n",
    "\n",
    "keys = list(fit_data.keys())\n",
    "\n",
    "for key in keys:\n",
    "    samples = fit_data[key][\"mcmc\"].get_samples()\n",
    "\n",
    "    key_mvals = []\n",
    "    key_dzvals = []\n",
    "    key_finalnzs = []\n",
    "    for i in tqdm.trange(desnz.shape[0], ncols=80, desc=f\"{key}:\"):\n",
    "\n",
    "        rind = rng.choice(samples[\"w\"].shape[0])\n",
    "\n",
    "        params = {\n",
    "            k: samples[k][rind] for k in samples.keys()\n",
    "        }\n",
    "        nz = desnz[i, :].copy()\n",
    "        for _i in range(4):\n",
    "            nz[_i, :] = nz[_i, :] / np.sum(nz[_i, :])\n",
    "        model_nz = model_module.model_mean_smooth(\n",
    "            pts=model_data[\"pts\"],\n",
    "            z=model_data[\"z\"],\n",
    "            nz=nz,\n",
    "            mn_pars=model_data[\"mn_pars\"],\n",
    "            zbins=model_data[\"zbins\"],\n",
    "            params=params,\n",
    "            mn=None,\n",
    "            cov=None,\n",
    "        )\n",
    "\n",
    "        model_nz = np.array(model_nz)\n",
    "\n",
    "        key_mvals.append([\n",
    "            float(sompz_integral(model_nz[_i, :], 0, 6) - 1)\n",
    "            for _i in range(4)\n",
    "        ])\n",
    "\n",
    "        for _i in range(4):\n",
    "            model_nz[_i, :] = model_nz[_i, :] / np.sum(model_nz[_i, :])\n",
    "\n",
    "        key_finalnzs.append(model_nz)\n",
    "        key_dzvals.append([\n",
    "            float(compute_nz_binned_mean(model_nz[_i, :]) - compute_nz_binned_mean(nz[_i, :]))\n",
    "            for _i in range(4)\n",
    "        ])\n",
    "\n",
    "    mvals[key] = np.array(key_mvals)\n",
    "    dzvals[key] = np.array(key_dzvals)\n",
    "    finalnzs[key] = np.array(key_finalnzs)"
   ]
  },
  {
   "cell_type": "code",
   "execution_count": 14,
   "metadata": {},
   "outputs": [],
   "source": [
    "import h5py\n",
    "\n",
    "with h5py.File(\"des_y6_nz_data_imsim_v2.h5\", \"w\") as fp:\n",
    "    for key in keys:\n",
    "        fp.create_dataset(f\"{key}/m\", data=mvals[key])\n",
    "        fp.create_dataset(f\"{key}/dz\", data=dzvals[key])\n",
    "        fp.create_dataset(f\"{key}/nz\", data=finalnzs[key])"
   ]
  },
  {
   "cell_type": "code",
   "execution_count": 9,
   "metadata": {},
   "outputs": [
    {
     "name": "stdout",
     "output_type": "stream",
     "text": [
      "|--------------------------------------------|\n",
      "| bin | m [10^-3, 3sigma] | dz               |\n",
      "|--------------------------------------------|\n",
      "| 0   |  +0.5 +/- 18.7    | -0.019 +/- 0.008 |\n",
      "| 1   |  +7.4 +/- 21.4    | -0.033 +/- 0.010 |\n",
      "| 2   | +21.6 +/- 20.2    | -0.006 +/- 0.006 |\n",
      "| 3   |  -7.0 +/- 36.8    | -0.045 +/- 0.012 |\n",
      "|--------------------------------------------|\n"
     ]
    }
   ],
   "source": [
    "key = \"statistical\"\n",
    "\n",
    "m_mn = [np.mean(mvals[key][:, i]) for i in range(4)]\n",
    "m_sd = [np.std(mvals[key][:, i]) for i in range(4)]\n",
    "\n",
    "dz_mn = [np.mean(dzvals[key][:, i]) for i in range(4)]\n",
    "dz_sd = [np.std(dzvals[key][:, i]) for i in range(4)]\n",
    "\n",
    "print(\"|--------------------------------------------|\")\n",
    "print(\"| bin | m [10^-3, 3sigma] | dz               |\")\n",
    "print(\"|--------------------------------------------|\")\n",
    "for i in range(4):\n",
    "    print(\n",
    "        \"| %d   | %+5.1f +/- %-5.1f   | %+0.3f +/- %0.3f |\" % (\n",
    "            i, m_mn[i]/1e-3, m_sd[i]/1e-3 * 3, dz_mn[i], dz_sd[i]\n",
    "        )\n",
    "    )\n",
    "print(\"|--------------------------------------------|\")"
   ]
  },
  {
   "cell_type": "code",
   "execution_count": 10,
   "metadata": {},
   "outputs": [
    {
     "data": {
      "image/png": "[encoded data removed]",
      "text/plain": [
       "Figure(nrows=1, ncols=1, figwidth=5.0, figheight=5.0)"
      ]
     },
     "metadata": {
      "image/png": {
       "height": 500,
       "width": 500
      }
     },
     "output_type": "display_data"
    }
   ],
   "source": [
    "mdz = np.concatenate([mvals[key], dzvals[key]], axis=1)\n",
    "\n",
    "corr = np.corrcoef(mdz.T)\n",
    "\n",
    "fig, axs = uplt.subplots(figsize=(5, 5))\n",
    "\n",
    "m = axs.pcolormesh(corr, vmin=-1, vmax=1, cmap=\"vlag\", discrete=False)\n",
    "axs.colorbar(m, label=\"Correlation Coefficient\")\n",
    "axs.format(grid=False)"
   ]
  },
  {
   "cell_type": "code",
   "execution_count": null,
   "metadata": {},
   "outputs": [],
   "source": []
  }
 ],
 "metadata": {
  "kernelspec": {
   "display_name": "des-y6",
   "language": "python",
   "name": "python3"
  },
  "language_info": {
   "codemirror_mode": {
    "name": "ipython",
    "version": 3
   },
   "file_extension": ".py",
   "mimetype": "text/x-python",
   "name": "python",
   "nbconvert_exporter": "python",
   "pygments_lexer": "ipython3",
   "version": "3.11.11"
  }
 },
 "nbformat": 4,
 "nbformat_minor": 2
}
