{
 "cells": [
  {
   "cell_type": "code",
   "execution_count": 1,
   "id": "5af58e0a-9be2-4555-b546-3cf19b887aa9",
   "metadata": {
    "tags": []
   },
   "outputs": [],
   "source": [
    "import functools\n",
    "import glob\n",
    "import os"
   ]
  },
  {
   "cell_type": "code",
   "execution_count": 2,
   "id": "d0c608f1-e630-4c65-a282-c755b5708c9f",
   "metadata": {
    "tags": []
   },
   "outputs": [],
   "source": [
    "import coord\n",
    "import fitsio\n",
    "import galsim\n",
    "import numpy as np\n",
    "import matplotlib as mpl\n",
    "import matplotlib.pyplot as plt\n",
    "import h5py\n",
    "from sklearn.neighbors import KNeighborsRegressor\n",
    "from sklearn.neighbors import BallTree\n",
    "from sklearn.metrics.pairwise import haversine_distances"
   ]
  },
  {
   "cell_type": "code",
   "execution_count": 3,
   "id": "2d31d9aa-9cb8-4b8f-b1ed-135665d1f4dc",
   "metadata": {},
   "outputs": [],
   "source": [
    "# TODO: use NN in RA/Dec\n",
    "# scale with ratio of Ts (scale by T_pred / T_true)"
   ]
  },
  {
   "cell_type": "code",
   "execution_count": 4,
   "id": "4a6412f8-2091-42ec-9c39-a5600f808148",
   "metadata": {
    "tags": []
   },
   "outputs": [],
   "source": [
    "os.environ[\"IMSIM_DATA\"] = \"/global/cfs/cdirs/desbalro\"\n",
    "os.environ[\"PATH\"] += \":/global/common/software/nersc/pm-2023q2/sw/texlive/2022/bin/x86_64-linux\""
   ]
  },
  {
   "cell_type": "code",
   "execution_count": 5,
   "id": "61d2d529-c9ed-4c17-9e6c-3855f4e19be7",
   "metadata": {
    "tags": []
   },
   "outputs": [],
   "source": [
    "des_cosmos_catalog = \"/global/cfs/cdirs/desbalro/des_cosmos_data_v2.fits\""
   ]
  },
  {
   "cell_type": "code",
   "execution_count": 6,
   "id": "704cb48c-b67c-427c-a294-7c421405ff9f",
   "metadata": {
    "tags": []
   },
   "outputs": [],
   "source": [
    "# source_catalog = \"/global/cfs/cdirs/desbalro/input_cosmos_v4.fits\""
   ]
  },
  {
   "cell_type": "code",
   "execution_count": 7,
   "id": "fd9f217d-2062-407b-90b1-9a3973546f89",
   "metadata": {
    "tags": []
   },
   "outputs": [],
   "source": [
    "truth_catalog = \"/global/cfs/cdirs/desbalro/input_cosmos_v4_montara_simcat_v7_seed42.fits\""
   ]
  },
  {
   "cell_type": "code",
   "execution_count": 8,
   "id": "184f331d-93d5-4164-9c66-a855acb69442",
   "metadata": {
    "tags": []
   },
   "outputs": [],
   "source": [
    "deepfield_catalog = \"/global/cfs/cdirs/desbalro/DES_DF_COSMOS.fits\""
   ]
  },
  {
   "cell_type": "code",
   "execution_count": 9,
   "id": "4c065896-0b66-4b7e-89f9-0ebb7e5fc517",
   "metadata": {
    "tags": []
   },
   "outputs": [],
   "source": [
    "source_table = fitsio.read(des_cosmos_catalog)\n",
    "source_id = source_table[\"id_des\"]"
   ]
  },
  {
   "cell_type": "code",
   "execution_count": 10,
   "id": "93135068-1793-4c6b-850d-4a41bca5d24a",
   "metadata": {
    "tags": []
   },
   "outputs": [],
   "source": [
    "# source_table = fitsio.read(source_catalog)\n",
    "# source_id = source_table[\"des_id\"]"
   ]
  },
  {
   "cell_type": "code",
   "execution_count": 11,
   "id": "5d0c7af5-4d28-46cb-91da-591e7e76ab4b",
   "metadata": {
    "tags": []
   },
   "outputs": [],
   "source": [
    "truth_table = fitsio.read(truth_catalog)\n",
    "truth_id = truth_table[\"des_id\"]"
   ]
  },
  {
   "cell_type": "code",
   "execution_count": 12,
   "id": "77b123b5-d4b5-4eef-99fd-97ff774488c0",
   "metadata": {
    "tags": []
   },
   "outputs": [],
   "source": [
    "deepfield_table = fitsio.read(deepfield_catalog)\n",
    "deepfield_id = deepfield_table[\"ID_DES\"]"
   ]
  },
  {
   "cell_type": "code",
   "execution_count": 13,
   "id": "cda07e38-746d-4cbd-a84d-fce4aab2501e",
   "metadata": {
    "tags": []
   },
   "outputs": [],
   "source": [
    "_, source_truth_indices, truth_source_indices = np.intersect1d(\n",
    "    source_id,\n",
    "    truth_id,\n",
    "    return_indices=True,\n",
    ")"
   ]
  },
  {
   "cell_type": "code",
   "execution_count": 14,
   "id": "5d8915b1-9b03-4658-a0b4-dcfdfbb1e8fd",
   "metadata": {
    "tags": []
   },
   "outputs": [],
   "source": [
    "_, truth_deepfield_indices, deepfield_truth_indices = np.intersect1d(\n",
    "    truth_id,\n",
    "    deepfield_id,\n",
    "    return_indices=True,\n",
    ")"
   ]
  },
  {
   "cell_type": "code",
   "execution_count": 15,
   "id": "164434d6-82ed-4b5b-808a-480019987761",
   "metadata": {
    "tags": []
   },
   "outputs": [],
   "source": [
    "np.testing.assert_allclose(\n",
    "    source_table[source_truth_indices][\"ra\"],\n",
    "    deepfield_table[deepfield_truth_indices][\"RA\"],\n",
    ")"
   ]
  },
  {
   "cell_type": "code",
   "execution_count": 16,
   "id": "a2e7b4fa-f4db-4112-aed7-730522f02b94",
   "metadata": {
    "tags": []
   },
   "outputs": [],
   "source": [
    "np.testing.assert_allclose(\n",
    "    source_table[source_truth_indices][\"dec\"],\n",
    "    deepfield_table[deepfield_truth_indices][\"DEC\"],\n",
    ")"
   ]
  },
  {
   "cell_type": "code",
   "execution_count": 17,
   "id": "542bc583-97ce-4073-95a0-cc932e42e6fc",
   "metadata": {
    "tags": []
   },
   "outputs": [],
   "source": [
    "# assert magnitudes are equal\n",
    "for band in [\"g\", \"r\", \"i\", \"z\"]:\n",
    "    np.testing.assert_allclose(\n",
    "        truth_table[truth_deepfield_indices][f\"mag_{band}\"],\n",
    "        deepfield_table[deepfield_truth_indices][f\"MAG_{band}\"],\n",
    "    )"
   ]
  },
  {
   "cell_type": "code",
   "execution_count": 18,
   "id": "c37a3115-c974-4623-8b5f-999f3656ae86",
   "metadata": {
    "tags": []
   },
   "outputs": [],
   "source": [
    "# assert magnitudes transform to fluxes ok\n",
    "for band in [\"g\", \"r\", \"i\", \"z\"]:\n",
    "    _df_flux = np.power(\n",
    "        10,\n",
    "        -0.4 * (deepfield_table[deepfield_truth_indices][f\"MAG_{band}\"] - 30),\n",
    "    )\n",
    "    np.testing.assert_allclose(\n",
    "        truth_table[truth_deepfield_indices][f\"flux_{band}\"],\n",
    "        _df_flux,\n",
    "    )\n"
   ]
  },
  {
   "cell_type": "code",
   "execution_count": 19,
   "id": "6c1cffea-d74c-4bd2-857c-d403aae9fb03",
   "metadata": {
    "tags": []
   },
   "outputs": [],
   "source": [
    "df_flux = np.power(\n",
    "    10,\n",
    "    -0.4 * (deepfield_table[deepfield_truth_indices][\"MAG_r\"] - 30),\n",
    ")\n",
    "df_flux_err = np.power(\n",
    "    10,\n",
    "    -0.4 * (deepfield_table[deepfield_truth_indices][\"ERR_MAG_r\"] - 30),\n",
    ")"
   ]
  },
  {
   "cell_type": "code",
   "execution_count": 20,
   "id": "572cf7a3-0ba8-4656-9647-963cdf53161c",
   "metadata": {
    "tags": []
   },
   "outputs": [
    {
     "data": {
      "image/png": "[encoded data removed]",
      "text/plain": [
       "<Figure size 640x480 with 1 Axes>"
      ]
     },
     "metadata": {},
     "output_type": "display_data"
    }
   ],
   "source": [
    "plt.hist2d(\n",
    "    deepfield_table[deepfield_truth_indices][\"MAG_r\"],\n",
    "    deepfield_table[deepfield_truth_indices][\"ERR_MAG_r\"],\n",
    "    bins=[np.linspace(18, 28, 100), np.linspace(0, 1, 100)],\n",
    ")\n",
    "plt.show()"
   ]
  },
  {
   "cell_type": "markdown",
   "id": "4934b681-dbf9-4669-a628-f315aeefcbcb",
   "metadata": {},
   "source": [
    "$$ f = 10^{-(m - 30) / 2.5} $$\n",
    "\n",
    "$$ \\sigma_f^2 = \\left(\\frac{\\partial f}{\\partial m}\\right)^2 \\sigma_m^2 $$\n",
    "\n",
    "$$ \\frac{\\partial f}{\\partial m} = -\\frac{1}{2.5} \\ln 10 \\times 10^{-(m - 30) / 2.5} $$\n",
    "\n",
    "\n",
    "$$ \\sigma_f^2 = \\left(-\\frac{1}{2.5} \\ln 10 \\times 10^{-(m - 30) / 2.5}\\right)^2 \\sigma_m^2 $$\n",
    "$$ \\sigma_f = \\frac{\\ln 10}{2.5} \\times 10^{-(m - 30) / 2.5} \\sigma_m $$"
   ]
  },
  {
   "cell_type": "code",
   "execution_count": 21,
   "id": "5d381fc4-4665-4852-9083-f044531827cf",
   "metadata": {
    "tags": []
   },
   "outputs": [],
   "source": [
    "df_flux = np.power(\n",
    "    10,\n",
    "    -0.4 * (deepfield_table[deepfield_truth_indices][\"MAG_r\"] - 30),\n",
    ")"
   ]
  },
  {
   "cell_type": "code",
   "execution_count": 22,
   "id": "562d77bf-0f2f-4b96-8349-54be4ba25778",
   "metadata": {
    "tags": []
   },
   "outputs": [],
   "source": [
    "df_flux_err = np.log(10) / 2.5 * np.power(\n",
    "    10,\n",
    "    -0.4 * (deepfield_table[deepfield_truth_indices][\"MAG_r\"] - 30),\n",
    ") * deepfield_table[deepfield_truth_indices][\"ERR_MAG_r\"]"
   ]
  },
  {
   "cell_type": "code",
   "execution_count": 23,
   "id": "c1fa16d6-a2b2-4df9-a18c-4ed787b9b32a",
   "metadata": {
    "tags": []
   },
   "outputs": [
    {
     "data": {
      "image/png": "[encoded data removed]",
      "text/plain": [
       "<Figure size 640x480 with 1 Axes>"
      ]
     },
     "metadata": {},
     "output_type": "display_data"
    }
   ],
   "source": [
    "plt.hist2d(\n",
    "    df_flux,\n",
    "    df_flux_err,\n",
    "    bins=[np.linspace(1, 500, 100), np.linspace(1, 50, 100)],\n",
    ")\n",
    "plt.show()"
   ]
  },
  {
   "cell_type": "code",
   "execution_count": 24,
   "id": "c82a5ed2-776d-4171-8c79-283e854da2b7",
   "metadata": {
    "tags": []
   },
   "outputs": [],
   "source": [
    "DEEPFIELD_BANDS = [\"u\", \"g\", \"r\", \"i\", \"z\", \"Y\", \"J\", \"H\", \"K\"]"
   ]
  },
  {
   "cell_type": "markdown",
   "id": "e05b4d43-f4c2-42fd-bef0-27c16a62f67a",
   "metadata": {},
   "source": [
    "---"
   ]
  },
  {
   "cell_type": "markdown",
   "id": "d1ef2eb3-81ac-4251-9a1f-cf41f6dc8eac",
   "metadata": {},
   "source": [
    "# Train KNN on fluxes"
   ]
  },
  {
   "cell_type": "code",
   "execution_count": 25,
   "id": "016e957f-1c40-42a1-80a4-46fcc3846541",
   "metadata": {
    "tags": []
   },
   "outputs": [],
   "source": [
    "# assert magnitudes transform to fluxes ok\n",
    "table = {}\n",
    "for band in DEEPFIELD_BANDS:\n",
    "    \n",
    "    _mag = deepfield_table[deepfield_truth_indices][f\"MAG_{band}\"]\n",
    "    _mag_err = deepfield_table[deepfield_truth_indices][f\"ERR_MAG_{band}\"]\n",
    "    \n",
    "    _flux = np.power(\n",
    "        10,\n",
    "        -(_mag - 30) / 2.5,\n",
    "    )\n",
    "    _flux_err = np.log(10) / 2.5 * _flux * _mag_err\n",
    "    \n",
    "    table[f\"flux_{band}\"] = _flux\n",
    "    table[f\"flux_err_{band}\"] = _flux_err"
   ]
  },
  {
   "cell_type": "code",
   "execution_count": 26,
   "id": "c0f41bb3-5478-4a45-b65e-cd351aecd230",
   "metadata": {
    "tags": []
   },
   "outputs": [],
   "source": [
    "_X = np.array(\n",
    "    [\n",
    "        table[f\"flux_{band}\"]\n",
    "        for band in DEEPFIELD_BANDS\n",
    "    ]\n",
    ").T\n",
    "\n",
    "_y = np.array(\n",
    "    [\n",
    "        table[f\"flux_err_{band}\"]\n",
    "        for band in DEEPFIELD_BANDS\n",
    "    ]\n",
    ").T"
   ]
  },
  {
   "cell_type": "code",
   "execution_count": 27,
   "id": "680a559f-4a1d-4b06-ae36-7af8da31b50b",
   "metadata": {
    "tags": []
   },
   "outputs": [],
   "source": [
    "# knn with distance weighting\n",
    "knn = KNeighborsRegressor(weights=\"distance\")"
   ]
  },
  {
   "cell_type": "code",
   "execution_count": 28,
   "id": "fe90fbcf-e467-4a37-b4da-ef98d72cc306",
   "metadata": {
    "tags": []
   },
   "outputs": [],
   "source": [
    "n_train = len(_X)  * 3 // 4"
   ]
  },
  {
   "cell_type": "code",
   "execution_count": 29,
   "id": "5700a1aa-685a-4e5b-9c32-8239bbdb3b1e",
   "metadata": {
    "tags": []
   },
   "outputs": [
    {
     "data": {
      "text/html": [
       "<style>#sk-container-id-1 {\n",
       "  /* Definition of color scheme common for light and dark mode */\n",
       "  --sklearn-color-text: black;\n",
       "  --sklearn-color-line: gray;\n",
       "  /* Definition of color scheme for unfitted estimators */\n",
       "  --sklearn-color-unfitted-level-0: #fff5e6;\n",
       "  --sklearn-color-unfitted-level-1: #f6e4d2;\n",
       "  --sklearn-color-unfitted-level-2: #ffe0b3;\n",
       "  --sklearn-color-unfitted-level-3: chocolate;\n",
       "  /* Definition of color scheme for fitted estimators */\n",
       "  --sklearn-color-fitted-level-0: #f0f8ff;\n",
       "  --sklearn-color-fitted-level-1: #d4ebff;\n",
       "  --sklearn-color-fitted-level-2: #b3dbfd;\n",
       "  --sklearn-color-fitted-level-3: cornflowerblue;\n",
       "\n",
       "  /* Specific color for light theme */\n",
       "  --sklearn-color-text-on-default-background: var(--sg-text-color, var(--theme-code-foreground, var(--jp-content-font-color1, black)));\n",
       "  --sklearn-color-background: var(--sg-background-color, var(--theme-background, var(--jp-layout-color0, white)));\n",
       "  --sklearn-color-border-box: var(--sg-text-color, var(--theme-code-foreground, var(--jp-content-font-color1, black)));\n",
       "  --sklearn-color-icon: #696969;\n",
       "\n",
       "  @media (prefers-color-scheme: dark) {\n",
       "    /* Redefinition of color scheme for dark theme */\n",
       "    --sklearn-color-text-on-default-background: var(--sg-text-color, var(--theme-code-foreground, var(--jp-content-font-color1, white)));\n",
       "    --sklearn-color-background: var(--sg-background-color, var(--theme-background, var(--jp-layout-color0, #111)));\n",
       "    --sklearn-color-border-box: var(--sg-text-color, var(--theme-code-foreground, var(--jp-content-font-color1, white)));\n",
       "    --sklearn-color-icon: #878787;\n",
       "  }\n",
       "}\n",
       "\n",
       "#sk-container-id-1 {\n",
       "  color: var(--sklearn-color-text);\n",
       "}\n",
       "\n",
       "#sk-container-id-1 pre {\n",
       "  padding: 0;\n",
       "}\n",
       "\n",
       "#sk-container-id-1 input.sk-hidden--visually {\n",
       "  border: 0;\n",
       "  clip: rect(1px 1px 1px 1px);\n",
       "  clip: rect(1px, 1px, 1px, 1px);\n",
       "  height: 1px;\n",
       "  margin: -1px;\n",
       "  overflow: hidden;\n",
       "  padding: 0;\n",
       "  position: absolute;\n",
       "  width: 1px;\n",
       "}\n",
       "\n",
       "#sk-container-id-1 div.sk-dashed-wrapped {\n",
       "  border: 1px dashed var(--sklearn-color-line);\n",
       "  margin: 0 0.4em 0.5em 0.4em;\n",
       "  box-sizing: border-box;\n",
       "  padding-bottom: 0.4em;\n",
       "  background-color: var(--sklearn-color-background);\n",
       "}\n",
       "\n",
       "#sk-container-id-1 div.sk-container {\n",
       "  /* jupyter's `normalize.less` sets `[hidden] { display: none; }`\n",
       "     but bootstrap.min.css set `[hidden] { display: none !important; }`\n",
       "     so we also need the `!important` here to be able to override the\n",
       "     default hidden behavior on the sphinx rendered scikit-learn.org.\n",
       "     See: https://github.com/scikit-learn/scikit-learn/issues/21755 */\n",
       "  display: inline-block !important;\n",
       "  position: relative;\n",
       "}\n",
       "\n",
       "#sk-container-id-1 div.sk-text-repr-fallback {\n",
       "  display: none;\n",
       "}\n",
       "\n",
       "div.sk-parallel-item,\n",
       "div.sk-serial,\n",
       "div.sk-item {\n",
       "  /* draw centered vertical line to link estimators */\n",
       "  background-image: linear-gradient(var(--sklearn-color-text-on-default-background), var(--sklearn-color-text-on-default-background));\n",
       "  background-size: 2px 100%;\n",
       "  background-repeat: no-repeat;\n",
       "  background-position: center center;\n",
       "}\n",
       "\n",
       "/* Parallel-specific style estimator block */\n",
       "\n",
       "#sk-container-id-1 div.sk-parallel-item::after {\n",
       "  content: \"\";\n",
       "  width: 100%;\n",
       "  border-bottom: 2px solid var(--sklearn-color-text-on-default-background);\n",
       "  flex-grow: 1;\n",
       "}\n",
       "\n",
       "#sk-container-id-1 div.sk-parallel {\n",
       "  display: flex;\n",
       "  align-items: stretch;\n",
       "  justify-content: center;\n",
       "  background-color: var(--sklearn-color-background);\n",
       "  position: relative;\n",
       "}\n",
       "\n",
       "#sk-container-id-1 div.sk-parallel-item {\n",
       "  display: flex;\n",
       "  flex-direction: column;\n",
       "}\n",
       "\n",
       "#sk-container-id-1 div.sk-parallel-item:first-child::after {\n",
       "  align-self: flex-end;\n",
       "  width: 50%;\n",
       "}\n",
       "\n",
       "#sk-container-id-1 div.sk-parallel-item:last-child::after {\n",
       "  align-self: flex-start;\n",
       "  width: 50%;\n",
       "}\n",
       "\n",
       "#sk-container-id-1 div.sk-parallel-item:only-child::after {\n",
       "  width: 0;\n",
       "}\n",
       "\n",
       "/* Serial-specific style estimator block */\n",
       "\n",
       "#sk-container-id-1 div.sk-serial {\n",
       "  display: flex;\n",
       "  flex-direction: column;\n",
       "  align-items: center;\n",
       "  background-color: var(--sklearn-color-background);\n",
       "  padding-right: 1em;\n",
       "  padding-left: 1em;\n",
       "}\n",
       "\n",
       "\n",
       "/* Toggleable style: style used for estimator/Pipeline/ColumnTransformer box that is\n",
       "clickable and can be expanded/collapsed.\n",
       "- Pipeline and ColumnTransformer use this feature and define the default style\n",
       "- Estimators will overwrite some part of the style using the `sk-estimator` class\n",
       "*/\n",
       "\n",
       "/* Pipeline and ColumnTransformer style (default) */\n",
       "\n",
       "#sk-container-id-1 div.sk-toggleable {\n",
       "  /* Default theme specific background. It is overwritten whether we have a\n",
       "  specific estimator or a Pipeline/ColumnTransformer */\n",
       "  background-color: var(--sklearn-color-background);\n",
       "}\n",
       "\n",
       "/* Toggleable label */\n",
       "#sk-container-id-1 label.sk-toggleable__label {\n",
       "  cursor: pointer;\n",
       "  display: block;\n",
       "  width: 100%;\n",
       "  margin-bottom: 0;\n",
       "  padding: 0.5em;\n",
       "  box-sizing: border-box;\n",
       "  text-align: center;\n",
       "}\n",
       "\n",
       "#sk-container-id-1 label.sk-toggleable__label-arrow:before {\n",
       "  /* Arrow on the left of the label */\n",
       "  content: \"▸\";\n",
       "  float: left;\n",
       "  margin-right: 0.25em;\n",
       "  color: var(--sklearn-color-icon);\n",
       "}\n",
       "\n",
       "#sk-container-id-1 label.sk-toggleable__label-arrow:hover:before {\n",
       "  color: var(--sklearn-color-text);\n",
       "}\n",
       "\n",
       "/* Toggleable content - dropdown */\n",
       "\n",
       "#sk-container-id-1 div.sk-toggleable__content {\n",
       "  max-height: 0;\n",
       "  max-width: 0;\n",
       "  overflow: hidden;\n",
       "  text-align: left;\n",
       "  /* unfitted */\n",
       "  background-color: var(--sklearn-color-unfitted-level-0);\n",
       "}\n",
       "\n",
       "#sk-container-id-1 div.sk-toggleable__content.fitted {\n",
       "  /* fitted */\n",
       "  background-color: var(--sklearn-color-fitted-level-0);\n",
       "}\n",
       "\n",
       "#sk-container-id-1 div.sk-toggleable__content pre {\n",
       "  margin: 0.2em;\n",
       "  border-radius: 0.25em;\n",
       "  color: var(--sklearn-color-text);\n",
       "  /* unfitted */\n",
       "  background-color: var(--sklearn-color-unfitted-level-0);\n",
       "}\n",
       "\n",
       "#sk-container-id-1 div.sk-toggleable__content.fitted pre {\n",
       "  /* unfitted */\n",
       "  background-color: var(--sklearn-color-fitted-level-0);\n",
       "}\n",
       "\n",
       "#sk-container-id-1 input.sk-toggleable__control:checked~div.sk-toggleable__content {\n",
       "  /* Expand drop-down */\n",
       "  max-height: 200px;\n",
       "  max-width: 100%;\n",
       "  overflow: auto;\n",
       "}\n",
       "\n",
       "#sk-container-id-1 input.sk-toggleable__control:checked~label.sk-toggleable__label-arrow:before {\n",
       "  content: \"▾\";\n",
       "}\n",
       "\n",
       "/* Pipeline/ColumnTransformer-specific style */\n",
       "\n",
       "#sk-container-id-1 div.sk-label input.sk-toggleable__control:checked~label.sk-toggleable__label {\n",
       "  color: var(--sklearn-color-text);\n",
       "  background-color: var(--sklearn-color-unfitted-level-2);\n",
       "}\n",
       "\n",
       "#sk-container-id-1 div.sk-label.fitted input.sk-toggleable__control:checked~label.sk-toggleable__label {\n",
       "  background-color: var(--sklearn-color-fitted-level-2);\n",
       "}\n",
       "\n",
       "/* Estimator-specific style */\n",
       "\n",
       "/* Colorize estimator box */\n",
       "#sk-container-id-1 div.sk-estimator input.sk-toggleable__control:checked~label.sk-toggleable__label {\n",
       "  /* unfitted */\n",
       "  background-color: var(--sklearn-color-unfitted-level-2);\n",
       "}\n",
       "\n",
       "#sk-container-id-1 div.sk-estimator.fitted input.sk-toggleable__control:checked~label.sk-toggleable__label {\n",
       "  /* fitted */\n",
       "  background-color: var(--sklearn-color-fitted-level-2);\n",
       "}\n",
       "\n",
       "#sk-container-id-1 div.sk-label label.sk-toggleable__label,\n",
       "#sk-container-id-1 div.sk-label label {\n",
       "  /* The background is the default theme color */\n",
       "  color: var(--sklearn-color-text-on-default-background);\n",
       "}\n",
       "\n",
       "/* On hover, darken the color of the background */\n",
       "#sk-container-id-1 div.sk-label:hover label.sk-toggleable__label {\n",
       "  color: var(--sklearn-color-text);\n",
       "  background-color: var(--sklearn-color-unfitted-level-2);\n",
       "}\n",
       "\n",
       "/* Label box, darken color on hover, fitted */\n",
       "#sk-container-id-1 div.sk-label.fitted:hover label.sk-toggleable__label.fitted {\n",
       "  color: var(--sklearn-color-text);\n",
       "  background-color: var(--sklearn-color-fitted-level-2);\n",
       "}\n",
       "\n",
       "/* Estimator label */\n",
       "\n",
       "#sk-container-id-1 div.sk-label label {\n",
       "  font-family: monospace;\n",
       "  font-weight: bold;\n",
       "  display: inline-block;\n",
       "  line-height: 1.2em;\n",
       "}\n",
       "\n",
       "#sk-container-id-1 div.sk-label-container {\n",
       "  text-align: center;\n",
       "}\n",
       "\n",
       "/* Estimator-specific */\n",
       "#sk-container-id-1 div.sk-estimator {\n",
       "  font-family: monospace;\n",
       "  border: 1px dotted var(--sklearn-color-border-box);\n",
       "  border-radius: 0.25em;\n",
       "  box-sizing: border-box;\n",
       "  margin-bottom: 0.5em;\n",
       "  /* unfitted */\n",
       "  background-color: var(--sklearn-color-unfitted-level-0);\n",
       "}\n",
       "\n",
       "#sk-container-id-1 div.sk-estimator.fitted {\n",
       "  /* fitted */\n",
       "  background-color: var(--sklearn-color-fitted-level-0);\n",
       "}\n",
       "\n",
       "/* on hover */\n",
       "#sk-container-id-1 div.sk-estimator:hover {\n",
       "  /* unfitted */\n",
       "  background-color: var(--sklearn-color-unfitted-level-2);\n",
       "}\n",
       "\n",
       "#sk-container-id-1 div.sk-estimator.fitted:hover {\n",
       "  /* fitted */\n",
       "  background-color: var(--sklearn-color-fitted-level-2);\n",
       "}\n",
       "\n",
       "/* Specification for estimator info (e.g. \"i\" and \"?\") */\n",
       "\n",
       "/* Common style for \"i\" and \"?\" */\n",
       "\n",
       ".sk-estimator-doc-link,\n",
       "a:link.sk-estimator-doc-link,\n",
       "a:visited.sk-estimator-doc-link {\n",
       "  float: right;\n",
       "  font-size: smaller;\n",
       "  line-height: 1em;\n",
       "  font-family: monospace;\n",
       "  background-color: var(--sklearn-color-background);\n",
       "  border-radius: 1em;\n",
       "  height: 1em;\n",
       "  width: 1em;\n",
       "  text-decoration: none !important;\n",
       "  margin-left: 1ex;\n",
       "  /* unfitted */\n",
       "  border: var(--sklearn-color-unfitted-level-1) 1pt solid;\n",
       "  color: var(--sklearn-color-unfitted-level-1);\n",
       "}\n",
       "\n",
       ".sk-estimator-doc-link.fitted,\n",
       "a:link.sk-estimator-doc-link.fitted,\n",
       "a:visited.sk-estimator-doc-link.fitted {\n",
       "  /* fitted */\n",
       "  border: var(--sklearn-color-fitted-level-1) 1pt solid;\n",
       "  color: var(--sklearn-color-fitted-level-1);\n",
       "}\n",
       "\n",
       "/* On hover */\n",
       "div.sk-estimator:hover .sk-estimator-doc-link:hover,\n",
       ".sk-estimator-doc-link:hover,\n",
       "div.sk-label-container:hover .sk-estimator-doc-link:hover,\n",
       ".sk-estimator-doc-link:hover {\n",
       "  /* unfitted */\n",
       "  background-color: var(--sklearn-color-unfitted-level-3);\n",
       "  color: var(--sklearn-color-background);\n",
       "  text-decoration: none;\n",
       "}\n",
       "\n",
       "div.sk-estimator.fitted:hover .sk-estimator-doc-link.fitted:hover,\n",
       ".sk-estimator-doc-link.fitted:hover,\n",
       "div.sk-label-container:hover .sk-estimator-doc-link.fitted:hover,\n",
       ".sk-estimator-doc-link.fitted:hover {\n",
       "  /* fitted */\n",
       "  background-color: var(--sklearn-color-fitted-level-3);\n",
       "  color: var(--sklearn-color-background);\n",
       "  text-decoration: none;\n",
       "}\n",
       "\n",
       "/* Span, style for the box shown on hovering the info icon */\n",
       ".sk-estimator-doc-link span {\n",
       "  display: none;\n",
       "  z-index: 9999;\n",
       "  position: relative;\n",
       "  font-weight: normal;\n",
       "  right: .2ex;\n",
       "  padding: .5ex;\n",
       "  margin: .5ex;\n",
       "  width: min-content;\n",
       "  min-width: 20ex;\n",
       "  max-width: 50ex;\n",
       "  color: var(--sklearn-color-text);\n",
       "  box-shadow: 2pt 2pt 4pt #999;\n",
       "  /* unfitted */\n",
       "  background: var(--sklearn-color-unfitted-level-0);\n",
       "  border: .5pt solid var(--sklearn-color-unfitted-level-3);\n",
       "}\n",
       "\n",
       ".sk-estimator-doc-link.fitted span {\n",
       "  /* fitted */\n",
       "  background: var(--sklearn-color-fitted-level-0);\n",
       "  border: var(--sklearn-color-fitted-level-3);\n",
       "}\n",
       "\n",
       ".sk-estimator-doc-link:hover span {\n",
       "  display: block;\n",
       "}\n",
       "\n",
       "/* \"?\"-specific style due to the `<a>` HTML tag */\n",
       "\n",
       "#sk-container-id-1 a.estimator_doc_link {\n",
       "  float: right;\n",
       "  font-size: 1rem;\n",
       "  line-height: 1em;\n",
       "  font-family: monospace;\n",
       "  background-color: var(--sklearn-color-background);\n",
       "  border-radius: 1rem;\n",
       "  height: 1rem;\n",
       "  width: 1rem;\n",
       "  text-decoration: none;\n",
       "  /* unfitted */\n",
       "  color: var(--sklearn-color-unfitted-level-1);\n",
       "  border: var(--sklearn-color-unfitted-level-1) 1pt solid;\n",
       "}\n",
       "\n",
       "#sk-container-id-1 a.estimator_doc_link.fitted {\n",
       "  /* fitted */\n",
       "  border: var(--sklearn-color-fitted-level-1) 1pt solid;\n",
       "  color: var(--sklearn-color-fitted-level-1);\n",
       "}\n",
       "\n",
       "/* On hover */\n",
       "#sk-container-id-1 a.estimator_doc_link:hover {\n",
       "  /* unfitted */\n",
       "  background-color: var(--sklearn-color-unfitted-level-3);\n",
       "  color: var(--sklearn-color-background);\n",
       "  text-decoration: none;\n",
       "}\n",
       "\n",
       "#sk-container-id-1 a.estimator_doc_link.fitted:hover {\n",
       "  /* fitted */\n",
       "  background-color: var(--sklearn-color-fitted-level-3);\n",
       "}\n",
       "</style><div id=\"sk-container-id-1\" class=\"sk-top-container\"><div class=\"sk-text-repr-fallback\"><pre>KNeighborsRegressor(weights=&#x27;distance&#x27;)</pre><b>In a Jupyter environment, please rerun this cell to show the HTML representation or trust the notebook. <br />On GitHub, the HTML representation is unable to render, please try loading this page with nbviewer.org.</b></div><div class=\"sk-container\" hidden><div class=\"sk-item\"><div class=\"sk-estimator fitted sk-toggleable\"><input class=\"sk-toggleable__control sk-hidden--visually\" id=\"sk-estimator-id-1\" type=\"checkbox\" checked><label for=\"sk-estimator-id-1\" class=\"sk-toggleable__label fitted sk-toggleable__label-arrow fitted\">&nbsp;&nbsp;KNeighborsRegressor<a class=\"sk-estimator-doc-link fitted\" rel=\"noreferrer\" target=\"_blank\" href=\"https://scikit-learn.org/1.5/modules/generated/sklearn.neighbors.KNeighborsRegressor.html\">?<span>Documentation for KNeighborsRegressor</span></a><span class=\"sk-estimator-doc-link fitted\">i<span>Fitted</span></span></label><div class=\"sk-toggleable__content fitted\"><pre>KNeighborsRegressor(weights=&#x27;distance&#x27;)</pre></div> </div></div></div></div>"
      ],
      "text/plain": [
       "KNeighborsRegressor(weights='distance')"
      ]
     },
     "execution_count": 29,
     "metadata": {},
     "output_type": "execute_result"
    }
   ],
   "source": [
    "knn.fit(\n",
    "    _X[:n_train],\n",
    "    _y[:n_train],\n",
    ")"
   ]
  },
  {
   "cell_type": "code",
   "execution_count": 30,
   "id": "66b60846-49e9-4761-accf-bd6151652e33",
   "metadata": {
    "tags": []
   },
   "outputs": [],
   "source": [
    "y_pred = knn.predict(_X[n_train:])\n",
    "y_true = _y[n_train:]"
   ]
  },
  {
   "cell_type": "code",
   "execution_count": 31,
   "id": "db1fd1e4-0a55-4344-88d9-937150b8ecd7",
   "metadata": {},
   "outputs": [
    {
     "data": {
      "image/png": "[encoded data removed]",
      "text/plain": [
       "<Figure size 900x200 with 9 Axes>"
      ]
     },
     "metadata": {},
     "output_type": "display_data"
    }
   ],
   "source": [
    "fig, axs = plt.subplots(1, len(DEEPFIELD_BANDS), sharex=True, sharey=True, constrained_layout=True, figsize=(9, 2))\n",
    "\n",
    "for i, band in enumerate(DEEPFIELD_BANDS):\n",
    "    axs[i].hist2d(\n",
    "        y_true[:, i],\n",
    "        y_pred[:, i],\n",
    "        bins=[np.linspace(0, 50, 101), np.linspace(0, 50, 101)],\n",
    "        # norm=\"log\",\n",
    "    )\n",
    "\n",
    "    axs[i].set_title(band)\n",
    "\n",
    "fig.supylabel(\"$\\\\sigma_{flux}$ [pred]\")\n",
    "fig.supxlabel(\"$\\\\sigma_{flux}$ [true]\")\n",
    "fig.suptitle(\"KNN Regressor (flux)\")\n",
    "\n",
    "plt.show()"
   ]
  },
  {
   "cell_type": "markdown",
   "id": "1402d687-5394-4847-98f3-5a39d57ec27e",
   "metadata": {},
   "source": [
    "# Train KNN on sky position"
   ]
  },
  {
   "cell_type": "code",
   "execution_count": 32,
   "id": "58893c16-667a-47e1-b4b5-dfea4f77e070",
   "metadata": {
    "tags": []
   },
   "outputs": [],
   "source": [
    "# assert magnitudes transform to fluxes ok\n",
    "table = {}\n",
    "\n",
    "table[\"ra\"] = deepfield_table[deepfield_truth_indices][\"RA\"]\n",
    "table[\"dec\"] = deepfield_table[deepfield_truth_indices][\"DEC\"]\n",
    "table[\"hlr\"] = deepfield_table[deepfield_truth_indices][\"COSMOS_HLR\"]\n",
    "\n",
    "for band in DEEPFIELD_BANDS:\n",
    "    \n",
    "    _mag = deepfield_table[deepfield_truth_indices][f\"MAG_{band}\"]\n",
    "    _mag_err = deepfield_table[deepfield_truth_indices][f\"ERR_MAG_{band}\"]\n",
    "    \n",
    "    _flux = np.power(\n",
    "        10,\n",
    "        -(_mag - 30) / 2.5,\n",
    "    )\n",
    "    _flux_err = np.log(10) / 2.5 * _flux * _mag_err\n",
    "    \n",
    "    table[f\"flux_{band}\"] = _flux\n",
    "    table[f\"flux_err_{band}\"] = _flux_err"
   ]
  },
  {
   "cell_type": "code",
   "execution_count": 33,
   "id": "716b2cb3-e340-465c-bb80-de69c197fbbe",
   "metadata": {
    "tags": []
   },
   "outputs": [],
   "source": [
    "_X = np.array(\n",
    "    [\n",
    "        np.deg2rad(table[\"ra\"]),\n",
    "        np.deg2rad(table[\"dec\"]),\n",
    "    ]\n",
    ").T\n",
    "\n",
    "_y = np.array(\n",
    "    [\n",
    "        table[f\"flux_err_{band}\"]\n",
    "        for band in DEEPFIELD_BANDS\n",
    "    ]\n",
    ").T"
   ]
  },
  {
   "cell_type": "code",
   "execution_count": 34,
   "id": "11d035cd-62c6-4e3f-9874-b99bcca0ac4f",
   "metadata": {
    "tags": []
   },
   "outputs": [],
   "source": [
    "n_train = len(_X)  * 3 // 4"
   ]
  },
  {
   "cell_type": "code",
   "execution_count": 35,
   "id": "2197470c-bf38-4329-876b-a7e0a2a682a0",
   "metadata": {
    "tags": []
   },
   "outputs": [
    {
     "data": {
      "image/png": "[encoded data removed]",
      "text/plain": [
       "<Figure size 640x480 with 2 Axes>"
      ]
     },
     "metadata": {},
     "output_type": "display_data"
    }
   ],
   "source": [
    "fig, axs = plt.subplots(1, 2, constrained_layout=True)\n",
    "\n",
    "axs[0].hist(\n",
    "    _X[:n_train, 0],\n",
    "    histtype=\"step\",\n",
    "    label=\"train\",\n",
    ")\n",
    "axs[0].hist(\n",
    "    _X[n_train:, 0],\n",
    "    histtype=\"step\",\n",
    "    label=\"test\",\n",
    ")\n",
    "axs[0].set_xlabel(\"R.A. [rad]\")\n",
    "\n",
    "axs[1].hist(\n",
    "    _X[:n_train, 1],\n",
    "    histtype=\"step\",\n",
    "    label=\"train\",\n",
    ")\n",
    "axs[1].hist(\n",
    "    _X[n_train:, 1],\n",
    "    histtype=\"step\",\n",
    "    label=\"test\",\n",
    ")\n",
    "axs[1].set_xlabel(\"Dec. [rad]\")\n",
    "\n",
    "axs[1].legend()\n",
    "\n",
    "plt.show()"
   ]
  },
  {
   "cell_type": "code",
   "execution_count": 36,
   "id": "7a7315d6-0dba-4168-90af-6e286af2f850",
   "metadata": {
    "tags": []
   },
   "outputs": [],
   "source": [
    "bt = BallTree(\n",
    "    _X[:n_train],\n",
    "    metric=\"haversine\",\n",
    ")"
   ]
  },
  {
   "cell_type": "code",
   "execution_count": 37,
   "id": "0c497e0a-8bc0-469c-885d-a162b1752785",
   "metadata": {
    "tags": []
   },
   "outputs": [],
   "source": [
    "y_true = _y[n_train:]"
   ]
  },
  {
   "cell_type": "markdown",
   "id": "e0bf3158-7205-438c-86ae-b603fb1b06bf",
   "metadata": {
    "tags": []
   },
   "source": [
    "## First, make an attempt for a slice of one object"
   ]
  },
  {
   "cell_type": "code",
   "execution_count": 38,
   "id": "8c658652-8548-4a3c-b4da-b00c3cef35a7",
   "metadata": {
    "tags": []
   },
   "outputs": [],
   "source": [
    "neighbor_distances, neighbor_indices = bt.query(_X[n_train:n_train + 1], k=5, return_distance=True)"
   ]
  },
  {
   "cell_type": "code",
   "execution_count": 39,
   "id": "cafec3a4-bb9c-4255-a2bc-7721d853418a",
   "metadata": {
    "tags": []
   },
   "outputs": [
    {
     "data": {
      "text/plain": [
       "array([[ 45.31438138,  32.38817571,  54.68685459,  63.20338693,\n",
       "        123.18329899,  22.37065383,  27.80759565,  34.09170944,\n",
       "         49.01014214]])"
      ]
     },
     "execution_count": 39,
     "metadata": {},
     "output_type": "execute_result"
    }
   ],
   "source": [
    "# average weighted by distance\n",
    "np.average(_y[:n_train][neighbor_indices], weights=neighbor_distances.ravel(), axis=1)"
   ]
  },
  {
   "cell_type": "code",
   "execution_count": 40,
   "id": "e4bde730-6f42-4bbe-86fe-dfdd90464d75",
   "metadata": {
    "tags": []
   },
   "outputs": [
    {
     "data": {
      "text/plain": [
       "array([[[22.92694154, 16.71805156, 26.52504958, 29.83840761,\n",
       "         54.66571031, 12.0562349 , 14.94063398, 18.11391165,\n",
       "         25.78961779],\n",
       "        [14.26600138, 10.50253545, 17.53611   , 20.19832318,\n",
       "         40.29735315,  6.69825745,  8.39728771, 10.42653131,\n",
       "         15.0853023 ],\n",
       "        [ 5.62848384,  3.76121008,  6.67592934,  7.94419484,\n",
       "         15.62564763,  2.65893738,  3.26465507,  3.96742505,\n",
       "          5.70805792],\n",
       "        [ 6.30442527,  4.52195291,  7.05655871,  8.37402871,\n",
       "         16.76938005,  3.13154413,  3.79632598,  4.55312025,\n",
       "          6.52409019],\n",
       "        [ 3.86807201,  2.34006787,  5.1198097 ,  6.21403494,\n",
       "         12.44416601,  2.051828  ,  2.54051169,  3.1046726 ,\n",
       "          4.47151886]]])"
      ]
     },
     "execution_count": 40,
     "metadata": {},
     "output_type": "execute_result"
    }
   ],
   "source": [
    "# rescale according to size ratio\n",
    "_y[:n_train][neighbor_indices] * (table[\"hlr\"][n_train:n_train + 1] / table[\"hlr\"][:n_train][neighbor_indices])[:,:,np.newaxis]"
   ]
  },
  {
   "cell_type": "code",
   "execution_count": 41,
   "id": "48e8aa3f-fa6d-46cd-bd0e-a1b37bf1ea61",
   "metadata": {
    "tags": []
   },
   "outputs": [
    {
     "data": {
      "text/plain": [
       "array([[ 9.33366945,  6.61277377, 11.10527681, 12.87312554, 24.93133067,\n",
       "         4.6767691 ,  5.78496037,  7.05008159, 10.11117866]])"
      ]
     },
     "execution_count": 41,
     "metadata": {},
     "output_type": "execute_result"
    }
   ],
   "source": [
    "# rescale according to size ratio and take the distance-weighted average\n",
    "np.average(\n",
    "    _y[:n_train][neighbor_indices] * (table[\"hlr\"][n_train:n_train + 1] / table[\"hlr\"][:n_train][neighbor_indices])[:,:,np.newaxis],\n",
    "    weights=neighbor_distances.ravel(),\n",
    "    axis=1,\n",
    ")"
   ]
  },
  {
   "cell_type": "code",
   "execution_count": 42,
   "id": "b0bc8bcb-4e1f-438d-b890-ecff00af8c1b",
   "metadata": {
    "tags": []
   },
   "outputs": [
    {
     "data": {
      "text/plain": [
       "array([[ 8.95073846,  6.38086986,  9.68096036, 11.13831472, 19.69804725,\n",
       "         4.42508848,  5.34907691,  6.35156799,  8.94780757]])"
      ]
     },
     "execution_count": 42,
     "metadata": {},
     "output_type": "execute_result"
    }
   ],
   "source": [
    "# reference value\n",
    "_y[n_train:n_train + 1]"
   ]
  },
  {
   "cell_type": "markdown",
   "id": "3af28bf3-d817-426e-a5b8-af405ba5a850",
   "metadata": {
    "tags": []
   },
   "source": [
    "## next, try for entire sample"
   ]
  },
  {
   "cell_type": "code",
   "execution_count": 43,
   "id": "f02e2d4d-92a2-470a-b9be-93521daf098c",
   "metadata": {
    "tags": []
   },
   "outputs": [],
   "source": [
    "neighbor_distances, neighbor_indices = bt.query(_X[n_train:], k=5, return_distance=True)"
   ]
  },
  {
   "cell_type": "code",
   "execution_count": 44,
   "id": "6fcdcab5-1d5c-4c09-ba7b-a55a62da239f",
   "metadata": {
    "tags": []
   },
   "outputs": [
    {
     "data": {
      "text/plain": [
       "((50192, 5, 9), (50192, 5))"
      ]
     },
     "execution_count": 44,
     "metadata": {},
     "output_type": "execute_result"
    }
   ],
   "source": [
    "_y[:n_train][neighbor_indices].shape, neighbor_distances.shape"
   ]
  },
  {
   "cell_type": "code",
   "execution_count": 45,
   "id": "655ba93c-4643-4e3a-b6b8-1c9f5d9696d7",
   "metadata": {
    "tags": []
   },
   "outputs": [
    {
     "data": {
      "text/plain": [
       "array([[45.31438138, 32.38817571, 54.68685459, ..., 27.80759565,\n",
       "        34.09170944, 49.01014214],\n",
       "       [10.48207777,  6.7328322 ,  9.94065399, ...,  6.55603608,\n",
       "         7.90400243, 11.32427325],\n",
       "       [20.82568458, 14.67567522, 26.1785285 , ..., 21.97646478,\n",
       "        27.45579449, 40.27626742],\n",
       "       ...,\n",
       "       [ 9.20075425,  6.77904271, 10.91809272, ..., 25.87981555,\n",
       "        32.41905109, 49.86019558],\n",
       "       [15.63382604, 10.57313521, 16.99821066, ..., 37.97256243,\n",
       "        48.44683617, 74.49350679],\n",
       "       [13.12733909, 10.20011782, 17.10538783, ..., 41.90776966,\n",
       "        53.8711293 , 83.49138815]])"
      ]
     },
     "execution_count": 45,
     "metadata": {},
     "output_type": "execute_result"
    }
   ],
   "source": [
    "# weighted average with broadcasting\n",
    "np.sum(_y[:n_train][neighbor_indices] * neighbor_distances[:, :, np.newaxis], axis=1) / np.sum(neighbor_distances, axis=1)[:, np.newaxis]"
   ]
  },
  {
   "cell_type": "code",
   "execution_count": 46,
   "id": "ee2a4778-30a4-49b4-b092-c586c2d2d658",
   "metadata": {
    "tags": []
   },
   "outputs": [
    {
     "data": {
      "text/plain": [
       "((50192,), (50192, 5))"
      ]
     },
     "execution_count": 46,
     "metadata": {},
     "output_type": "execute_result"
    }
   ],
   "source": [
    "table[\"hlr\"][n_train:].shape, table[\"hlr\"][:n_train][neighbor_indices].shape"
   ]
  },
  {
   "cell_type": "code",
   "execution_count": 47,
   "id": "97e11001-4534-41f6-9e75-dad45a5f7dda",
   "metadata": {
    "tags": []
   },
   "outputs": [
    {
     "data": {
      "text/plain": [
       "array([[0.25746792, 0.10869659, 0.30573047, 0.55635542, 0.22336563],\n",
       "       [0.94652812, 2.68839143, 1.48322887, 0.58772522, 0.88750208],\n",
       "       [1.19662635, 0.61308713, 0.42740502, 0.64450904, 2.15623725],\n",
       "       ...,\n",
       "       [1.94287622, 1.72715358, 1.25968352, 1.95086164, 2.47050677],\n",
       "       [1.19218547, 0.1935673 , 0.29871452, 0.39719486, 0.64979615],\n",
       "       [0.49137131, 0.43681307, 0.31858558, 0.4933909 , 0.28028523]])"
      ]
     },
     "execution_count": 47,
     "metadata": {},
     "output_type": "execute_result"
    }
   ],
   "source": [
    "table[\"hlr\"][n_train:][:, np.newaxis] / table[\"hlr\"][:n_train][neighbor_indices]"
   ]
  },
  {
   "cell_type": "code",
   "execution_count": 48,
   "id": "608a4c4d-3350-431a-a9d6-d729f9285eeb",
   "metadata": {
    "tags": []
   },
   "outputs": [],
   "source": [
    "y_pred = np.mean(\n",
    "    _y[:n_train][neighbor_indices] \\\n",
    "    * (table[\"hlr\"][n_train:][:, np.newaxis] / table[\"hlr\"][:n_train][neighbor_indices])[:, :, np.newaxis],\n",
    "    axis=1,\n",
    ")"
   ]
  },
  {
   "cell_type": "code",
   "execution_count": 49,
   "id": "28eb106e-e257-455a-899e-7e7ad4470696",
   "metadata": {
    "tags": []
   },
   "outputs": [],
   "source": [
    "# rescale according to size ratio and take the distance-weighted average\n",
    "y_pred = np.sum(\n",
    "    _y[:n_train][neighbor_indices] \\\n",
    "    * (table[\"hlr\"][n_train:][:, np.newaxis] / table[\"hlr\"][:n_train][neighbor_indices])[:, :, np.newaxis] \\\n",
    "    *  neighbor_distances[:, :, np.newaxis],\n",
    "    axis=1,\n",
    ") / np.sum(neighbor_distances, axis=1)[:, np.newaxis]"
   ]
  },
  {
   "cell_type": "code",
   "execution_count": 50,
   "id": "a01b6ffa-121d-4493-98ce-dd4300518401",
   "metadata": {
    "tags": []
   },
   "outputs": [
    {
     "data": {
      "image/png": "[encoded data removed]",
      "text/plain": [
       "<Figure size 900x200 with 9 Axes>"
      ]
     },
     "metadata": {},
     "output_type": "display_data"
    }
   ],
   "source": [
    "fig, axs = plt.subplots(1, len(DEEPFIELD_BANDS), sharex=True, sharey=True, constrained_layout=True, figsize=(9, 2))\n",
    "\n",
    "for i, band in enumerate(DEEPFIELD_BANDS):\n",
    "    axs[i].hist2d(\n",
    "        y_true[:, i],\n",
    "        y_pred[:, i],\n",
    "        bins=[np.linspace(0, 50, 101), np.linspace(0, 50, 101)],\n",
    "        # norm=\"log\",\n",
    "    )\n",
    "\n",
    "    axs[i].set_title(band)\n",
    "\n",
    "fig.supylabel(\"$\\\\sigma_{flux}$ [pred]\")\n",
    "fig.supxlabel(\"$\\\\sigma_{flux}$ [true]\")\n",
    "fig.suptitle(\"KNN Regressor (position with rescaling)\")\n",
    "\n",
    "plt.show()"
   ]
  },
  {
   "cell_type": "code",
   "execution_count": null,
   "id": "ffb8c52c-62da-4100-a7af-62d3f9a73873",
   "metadata": {},
   "outputs": [],
   "source": []
  }
 ],
 "metadata": {
  "kernelspec": {
   "display_name": "DESY6DEV",
   "language": "python",
   "name": "des-y6-dev"
  },
  "language_info": {
   "codemirror_mode": {
    "name": "ipython",
    "version": 3
   },
   "file_extension": ".py",
   "mimetype": "text/x-python",
   "name": "python",
   "nbconvert_exporter": "python",
   "pygments_lexer": "ipython3",
   "version": "3.11.10"
  }
 },
 "nbformat": 4,
 "nbformat_minor": 5
}
