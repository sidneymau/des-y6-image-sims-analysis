{
 "cells": [
  {
   "cell_type": "code",
   "execution_count": 1,
   "id": "735b7580-08d0-4a6d-87c2-723009b288d6",
   "metadata": {
    "tags": []
   },
   "outputs": [],
   "source": [
    "import functools\n",
    "import os\n",
    "import pprint"
   ]
  },
  {
   "cell_type": "code",
   "execution_count": 2,
   "id": "8bd6c6f8-d52d-4c91-87ac-9b6ede1d6cbf",
   "metadata": {
    "tags": []
   },
   "outputs": [],
   "source": [
    "import coord\n",
    "import fitsio\n",
    "import galsim\n",
    "import h5py\n",
    "import numpy as np\n",
    "import matplotlib.pyplot as plt\n",
    "from sklearn.neighbors import BallTree\n"
   ]
  },
  {
   "cell_type": "code",
   "execution_count": 3,
   "id": "ee73390e-da06-47ab-a6b2-8f1963f1ba8d",
   "metadata": {
    "tags": []
   },
   "outputs": [],
   "source": [
    "import lib"
   ]
  },
  {
   "cell_type": "code",
   "execution_count": 4,
   "id": "f0ee0b88-0376-41be-ad4d-76daa796460c",
   "metadata": {
    "tags": []
   },
   "outputs": [],
   "source": [
    "os.environ[\"IMSIM_DATA\"] = \"/global/cfs/cdirs/desbalro\"\n",
    "os.environ[\"PATH\"] += \":/global/common/software/nersc9/texlive/2024/bin/x86_64-linux\""
   ]
  },
  {
   "cell_type": "code",
   "execution_count": 5,
   "id": "30311774-c546-4b41-aab2-dd911e4046bf",
   "metadata": {},
   "outputs": [],
   "source": [
    "# for shear_step, catalog in lib.const.IMSIM_CATALOGS.items():\n",
    "#     # with h5py.File(catalog, mode=\"r\") as hf_imsim:\n",
    "#     shear_args = lib.util.parse_shear_arguments(shear_step)\n",
    "#     print(os.path.basename(os.path.dirname(catalog)))\n",
    "#     pprint.pp(shear_args)\n",
    "#     print()"
   ]
  },
  {
   "cell_type": "code",
   "execution_count": 6,
   "id": "7e79a489-715e-4623-a17d-01b3eaf5b5c3",
   "metadata": {},
   "outputs": [],
   "source": [
    "query_radius_arcsec = 1"
   ]
  },
  {
   "cell_type": "code",
   "execution_count": 7,
   "id": "58cb8d67-fd31-492a-a6dc-2d931dd982bf",
   "metadata": {},
   "outputs": [],
   "source": [
    "mdet_step = \"noshear\""
   ]
  },
  {
   "cell_type": "code",
   "execution_count": 8,
   "id": "75309d4c-b90b-4f29-8074-c65e054750c6",
   "metadata": {},
   "outputs": [
    {
     "name": "stdout",
     "output_type": "stream",
     "text": [
      "g1_slice=-0.02__g2_slice=0.00__g1_other=0.00__g2_other=0.00__zlow=0.0__zhigh=6.0\n",
      "{'g1_slice': -0.02,\n",
      " 'g2_slice': 0.0,\n",
      " 'g1_other': 0.0,\n",
      " 'g2_other': 0.0,\n",
      " 'zlow': 0.0,\n",
      " 'zhigh': 6.0}\n"
     ]
    }
   ],
   "source": [
    "shear_step = lib.const.SHEAR_STEPS[1]\n",
    "shear_args = lib.util.parse_shear_arguments(shear_step)\n",
    "\n",
    "print(shear_step)\n",
    "pprint.pp(shear_args)"
   ]
  },
  {
   "cell_type": "code",
   "execution_count": 9,
   "id": "78d3b465-5c78-4e74-ad59-6f31817ca9c9",
   "metadata": {},
   "outputs": [],
   "source": [
    "g1_slice = shear_args[\"g1_slice\"]\n",
    "g2_slice = shear_args[\"g2_slice\"]\n",
    "\n",
    "g1_other = shear_args[\"g1_other\"]\n",
    "g2_other = shear_args[\"g2_other\"]\n",
    "\n",
    "zlow = shear_args[\"zlow\"]\n",
    "zhigh = shear_args[\"zhigh\"]"
   ]
  },
  {
   "cell_type": "code",
   "execution_count": 10,
   "id": "91ee7414-710a-4fc2-acdc-c5b7249814d3",
   "metadata": {},
   "outputs": [
    {
     "name": "stdout",
     "output_type": "stream",
     "text": [
      "/global/cfs/cdirs/des/y6-image-sims/fiducial/g1_slice=-0.02__g2_slice=0.00__g1_other=0.00__g2_other=0.00__zlow=0.0__zhigh=6.0/metadetect_cutsv6_all.h5\n"
     ]
    }
   ],
   "source": [
    "_catalog = lib.const.IMSIM_CATALOGS[shear_step]\n",
    "print(_catalog)\n",
    "hf_imsim = h5py.File(_catalog, mode=\"r\")"
   ]
  },
  {
   "cell_type": "code",
   "execution_count": 11,
   "id": "f8a19620-e4cd-4a6c-b40f-ab1865239fc7",
   "metadata": {},
   "outputs": [],
   "source": [
    "tilenames = np.unique(hf_imsim[\"mdet\"][\"noshear\"][\"tilename\"][:].astype(str))"
   ]
  },
  {
   "cell_type": "code",
   "execution_count": 12,
   "id": "66d80fd9-83d1-4b74-9bf5-5970459e29a5",
   "metadata": {},
   "outputs": [
    {
     "name": "stdout",
     "output_type": "stream",
     "text": [
      "DES0402-6039\n"
     ]
    }
   ],
   "source": [
    "# tilename = tilenames[0]\n",
    "tilename = 'DES0402-6039'\n",
    "print(tilename)"
   ]
  },
  {
   "cell_type": "code",
   "execution_count": 13,
   "id": "9e5ae528-7a0a-4438-b7e4-863cc25d6b7a",
   "metadata": {},
   "outputs": [],
   "source": [
    "wcs = lib.util.load_wcs(tilename)"
   ]
  },
  {
   "cell_type": "code",
   "execution_count": 14,
   "id": "2ae77b31-23dd-4cf3-812c-834c89fde242",
   "metadata": {},
   "outputs": [],
   "source": [
    "in_tile = hf_imsim[\"mdet\"][mdet_step][\"tilename\"][:] == str.encode(tilename)\n",
    "\n",
    "catalog_indices = np.indices(\n",
    "    in_tile.shape,\n",
    ").ravel()"
   ]
  },
  {
   "cell_type": "code",
   "execution_count": 15,
   "id": "9a507185-e252-4c1c-a732-f4c767a56049",
   "metadata": {},
   "outputs": [],
   "source": [
    "truth_table = fitsio.FITS(lib.const.TRUTH_CATALOGS[tilename])[1]"
   ]
  },
  {
   "cell_type": "code",
   "execution_count": 16,
   "id": "439a6455-6741-4abb-af88-1b8615f06767",
   "metadata": {},
   "outputs": [],
   "source": [
    "observed_table = {\n",
    "    key: hf_imsim[\"mdet\"][mdet_step][key][in_tile]\n",
    "    for key in [\n",
    "        \"ra\", \"dec\",\n",
    "        \"pgauss_band_flux_g\", \"pgauss_band_flux_err_g\",\n",
    "        \"pgauss_band_flux_r\", \"pgauss_band_flux_err_r\",\n",
    "        \"pgauss_band_flux_i\", \"pgauss_band_flux_err_i\",\n",
    "        \"pgauss_band_flux_z\", \"pgauss_band_flux_err_z\",\n",
    "    ]\n",
    "}"
   ]
  },
  {
   "cell_type": "code",
   "execution_count": 17,
   "id": "4406b93b-1ca9-413a-8496-ab8b43d319e1",
   "metadata": {},
   "outputs": [],
   "source": [
    "shear_slice = galsim.Shear(g1=g1_slice, g2=g2_slice)\n",
    "shear_other = galsim.Shear(g1=g1_other, g2=g2_other)"
   ]
  },
  {
   "cell_type": "code",
   "execution_count": 18,
   "id": "c379d088-5d71-4da7-8847-874cc0517e1d",
   "metadata": {},
   "outputs": [],
   "source": [
    "# https://github.com/des-science/montara/blob/main/montara/coadd_mixed_scene.py#L76-L94\n",
    "# https://github.com/des-science/montara/blob/main/montara/z_slice_shear.py#L5-L25\n",
    "\n",
    "sheared_radec = []\n",
    "for i in range(truth_table.get_nrows()):\n",
    "    ra = truth_table[\"ra_sim\"][i]\n",
    "    dec = truth_table[\"dec_sim\"][i]\n",
    "    redshift = truth_table[\"photoz\"][i]\n",
    "\n",
    "    if (redshift > zlow) & (redshift <= zhigh):\n",
    "        _shear = shear_slice\n",
    "    else:\n",
    "        _shear = shear_other\n",
    "\n",
    "    world_pos = coord.CelestialCoord(ra=ra * coord.degrees, dec=dec * coord.degrees)\n",
    "    u, v = wcs.center.project(world_pos, projection=\"gnomonic\")\n",
    "    pos = galsim.PositionD(u.rad, v.rad)\n",
    "\n",
    "    sheared_pos = pos.shear(_shear)\n",
    "    u2 = sheared_pos.x * coord.radians\n",
    "    v2 = sheared_pos.y * coord.radians\n",
    "    sheared_world_pos = wcs.center.deproject(u2, v2, projection=\"gnomonic\")\n",
    "\n",
    "    sheared_ra = sheared_world_pos.ra.deg\n",
    "    sheared_dec = sheared_world_pos.dec.deg\n",
    "\n",
    "    sheared_radec.append((sheared_ra, sheared_dec))\n",
    "\n",
    "truth_points = np.deg2rad(np.array(sheared_radec))"
   ]
  },
  {
   "cell_type": "code",
   "execution_count": 19,
   "id": "4324bd08-7a14-4c7f-85c5-795cc13ee95c",
   "metadata": {},
   "outputs": [],
   "source": [
    "_truth_points = np.deg2rad(\n",
    "    np.array([\n",
    "        truth_table[\"ra_sim\"][:],\n",
    "        truth_table[\"dec_sim\"][:],\n",
    "    ]).T\n",
    ")"
   ]
  },
  {
   "cell_type": "code",
   "execution_count": 20,
   "id": "f562174f-770b-451c-bd60-33f8baaf1105",
   "metadata": {},
   "outputs": [],
   "source": [
    "observed_points = np.deg2rad(\n",
    "    np.array([\n",
    "        observed_table[\"ra\"],\n",
    "        observed_table[\"dec\"],\n",
    "    ]).T\n",
    ")"
   ]
  },
  {
   "cell_type": "code",
   "execution_count": 21,
   "id": "6837adb3-d176-4abe-ac4f-00c7b683ef34",
   "metadata": {},
   "outputs": [
    {
     "data": {
      "image/png": "[encoded data removed]",
      "text/plain": [
       "<Figure size 640x480 with 1 Axes>"
      ]
     },
     "metadata": {},
     "output_type": "display_data"
    }
   ],
   "source": [
    "# _size = 500\n",
    "# xmin = 250\n",
    "# xmax = xmin + _size\n",
    "# ymin = 250\n",
    "# ymax = ymin + _size\n",
    "\n",
    "\n",
    "true_x, true_y = wcs.toImage(\n",
    "    truth_points[:, 0],\n",
    "    truth_points[:, 1],\n",
    "    units=galsim.radians,\n",
    ")\n",
    "\n",
    "\n",
    "obs_x, obs_y = wcs.toImage(\n",
    "    observed_points[:, 0],\n",
    "    observed_points[:, 1],\n",
    "    units=galsim.radians,\n",
    ")\n",
    "\n",
    "fig, axs = plt.subplots(1, 1, constrained_layout=True)\n",
    "\n",
    "axs.hist2d(\n",
    "    true_x,\n",
    "    true_y,\n",
    "    alpha=0.5,\n",
    "    # s=48,\n",
    "    # c=\"b\",\n",
    "    # marker=\"x\",\n",
    "    # label=\"truth\",\n",
    ")\n",
    "\n",
    "axs.scatter(\n",
    "    obs_x,\n",
    "    obs_y,\n",
    "    s=48,\n",
    "    c=\"r\",\n",
    "    marker=\"+\",\n",
    "    label=\"obs\",\n",
    ")\n",
    "\n",
    "\n",
    "# axs.set_xlim(xmin, xmax)\n",
    "# axs.set_ylim(ymin, ymax)\n",
    "\n",
    "axs.set_xlabel(\"x_coadd [pixels]\")\n",
    "axs.set_ylabel(\"y_coadd [pixels]\")\n",
    "axs.set_title(f\"{tilename}\\n{shear_step}\")\n",
    "\n",
    "fig.legend(loc=\"outside right upper\")\n",
    "\n",
    "plt.show()"
   ]
  },
  {
   "cell_type": "code",
   "execution_count": 22,
   "id": "f1cde82c-fb14-4814-b276-3cd6eb58d44a",
   "metadata": {},
   "outputs": [],
   "source": [
    "bt = BallTree(\n",
    "    truth_points,\n",
    "    metric=\"haversine\",\n",
    ")"
   ]
  },
  {
   "cell_type": "code",
   "execution_count": 38,
   "id": "4d1702af-2bfa-4cfa-9b94-44b9e32ff9ef",
   "metadata": {},
   "outputs": [],
   "source": [
    "query_radius = np.deg2rad(query_radius_arcsec / 60 / 60)\n",
    "\n",
    "indices = bt.query_radius(\n",
    "    observed_points,\n",
    "    r=query_radius,\n",
    ")"
   ]
  },
  {
   "cell_type": "code",
   "execution_count": 40,
   "id": "9ef1df6d-2f16-401b-89d2-e3fba7fbaf06",
   "metadata": {},
   "outputs": [
    {
     "data": {
      "image/png": "[encoded data removed]",
      "text/plain": [
       "<Figure size 640x480 with 1 Axes>"
      ]
     },
     "metadata": {},
     "output_type": "display_data"
    }
   ],
   "source": [
    "h = np.bincount(list(map(len, indices)))\n",
    "x = range(len(h))\n",
    "\n",
    "plt.bar(\n",
    "    x, h,\n",
    "    width=0.1,\n",
    "    fc=\"k\",\n",
    ")\n",
    "plt.xlabel(\"N match\")\n",
    "plt.show()"
   ]
  },
  {
   "cell_type": "code",
   "execution_count": 115,
   "id": "296bfc78-d3fb-4712-8f0d-3abf64a7f5ec",
   "metadata": {},
   "outputs": [
    {
     "ename": "IndexError",
     "evalue": "arrays used as indices must be of integer (or boolean) type",
     "output_type": "error",
     "traceback": [
      "\u001b[0;31m---------------------------------------------------------------------------\u001b[0m",
      "\u001b[0;31mIndexError\u001b[0m                                Traceback (most recent call last)",
      "Cell \u001b[0;32mIn[115], line 45\u001b[0m\n\u001b[1;32m     31\u001b[0m \u001b[38;5;66;03m# _observed_matched_filter = np.isin(\u001b[39;00m\n\u001b[1;32m     32\u001b[0m \u001b[38;5;66;03m#     np.arange(len(indices)),\u001b[39;00m\n\u001b[1;32m     33\u001b[0m \u001b[38;5;66;03m#     _observed_matched_indices,\u001b[39;00m\n\u001b[0;32m   (...)\u001b[0m\n\u001b[1;32m     41\u001b[0m \u001b[38;5;66;03m# assert np.unique(_observed_matched_indices, return_counts=True)[1].max() <= 1\u001b[39;00m\n\u001b[1;32m     42\u001b[0m \u001b[38;5;66;03m# assert len(_truth_matched_indices) == len(_observed_matched_indices)\u001b[39;00m\n\u001b[1;32m     44\u001b[0m observed_indices \u001b[38;5;241m=\u001b[39m catalog_indices[in_tile]\n\u001b[0;32m---> 45\u001b[0m observed_matched_indices \u001b[38;5;241m=\u001b[39m \u001b[43mcatalog_indices\u001b[49m\u001b[43m[\u001b[49m\u001b[43min_tile\u001b[49m\u001b[43m]\u001b[49m\u001b[43m[\u001b[49m\u001b[43m_observed_matched_indices\u001b[49m\u001b[43m]\u001b[49m\n\u001b[1;32m     46\u001b[0m truth_matched \u001b[38;5;241m=\u001b[39m truth_table[_truth_matched_indices]\n\u001b[1;32m     47\u001b[0m \u001b[38;5;66;03m# observed_matched_indices = catalog_indices[in_tile][_observed_matched_filter]\u001b[39;00m\n\u001b[1;32m     48\u001b[0m \u001b[38;5;66;03m# truth_matched = truth_table[_truth_matched_filter]\u001b[39;00m\n",
      "\u001b[0;31mIndexError\u001b[0m: arrays used as indices must be of integer (or boolean) type"
     ]
    }
   ],
   "source": [
    "_min_chi2_indices = np.array([\n",
    "    np.argsort(\n",
    "        np.sum(\n",
    "            [\n",
    "                np.square(\n",
    "                    np.divide(\n",
    "                        np.subtract(\n",
    "                            observed_table[f\"pgauss_band_flux_{band}\"][_i],\n",
    "                            truth_table[f\"flux_{band}\"][indices[_i]]\n",
    "                        ),\n",
    "                        observed_table[f\"pgauss_band_flux_err_{band}\"][_i]\n",
    "                    )\n",
    "                )\n",
    "                for band in lib.const.BANDS\n",
    "            ],\n",
    "            axis=0\n",
    "        )\n",
    "    )[0] if len(indices[_i]) > 0 else 0\n",
    "    for _i in range(len(observed_points))\n",
    "])\n",
    "\n",
    "_observed_matched_indices = np.array([\n",
    "    i\n",
    "    for (i, _i) in enumerate(indices) if len(_i) > 0\n",
    "])\n",
    "_truth_matched_indices = np.array([\n",
    "    _i[_ii]\n",
    "    for (_i, _ii) in zip(indices, _min_chi2_indices) if len(_i) > 0\n",
    "])\n",
    "\n",
    "# _observed_matched_filter = np.isin(\n",
    "#     np.arange(len(indices)),\n",
    "#     _observed_matched_indices,\n",
    "# )\n",
    "\n",
    "# _truth_matched_filter = np.isin(\n",
    "#     np.arange(len(indices)),\n",
    "#     _truth_matched_indices,\n",
    "# )\n",
    "\n",
    "# assert np.unique(_observed_matched_indices, return_counts=True)[1].max() <= 1\n",
    "# assert len(_truth_matched_indices) == len(_observed_matched_indices)\n",
    "\n",
    "observed_indices = catalog_indices[in_tile]\n",
    "observed_matched_indices = catalog_indices[in_tile][_observed_matched_indices]\n",
    "truth_matched = truth_table[_truth_matched_indices]\n",
    "# observed_matched_indices = catalog_indices[in_tile][_observed_matched_filter]\n",
    "# truth_matched = truth_table[_truth_matched_filter]\n",
    "\n",
    "n_unmatched = len(\n",
    "    np.setdiff1d(\n",
    "        observed_indices,\n",
    "        observed_matched_indices,\n",
    "    )\n",
    ")\n",
    "\n",
    "# return observed_matched_indices, truth_matched\n"
   ]
  },
  {
   "cell_type": "code",
   "execution_count": null,
   "id": "b6e8bc58-d58e-4bef-a8ce-b4b0d1720e19",
   "metadata": {},
   "outputs": [],
   "source": [
    "_truth_unmatched_indices = np.setdiff1d(\n",
    "    np.indices((len(truth_points),)).ravel(),\n",
    "    _truth_matched_indices,\n",
    "    assume_unique=True\n",
    ")\n",
    "\n",
    "_observed_unmatched_indices = np.setdiff1d(\n",
    "    np.indices((len(observed_points),)).ravel(),\n",
    "    _observed_matched_indices,\n",
    "    assume_unique=True\n",
    ")"
   ]
  },
  {
   "cell_type": "code",
   "execution_count": null,
   "id": "5e6b5746-79f4-4178-a935-0632e7b7fa4c",
   "metadata": {},
   "outputs": [],
   "source": [
    "_size = 500\n",
    "xmin = 250\n",
    "xmax = xmin + _size\n",
    "ymin = 250\n",
    "ymax = ymin + _size\n",
    "\n",
    "\n",
    "all_true_x, all_true_y = wcs.toImage(\n",
    "    truth_points[_truth_unmatched_indices, 0],\n",
    "    truth_points[_truth_unmatched_indices, 1],\n",
    "    units=galsim.radians,\n",
    ")\n",
    "all_true_sel = (\n",
    "    (all_true_x >= xmin)\n",
    "    & (all_true_x < xmax)\n",
    "    & (all_true_y >= ymin)\n",
    "    & (all_true_y < ymax)\n",
    ")\n",
    "\n",
    "\n",
    "all_obs_x, all_obs_y = wcs.toImage(\n",
    "    observed_points[_observed_unmatched_indices, 0],\n",
    "    observed_points[_observed_unmatched_indices, 1],\n",
    "    units=galsim.radians,\n",
    ")\n",
    "all_obs_sel = (\n",
    "    (all_obs_x >= xmin)\n",
    "    & (all_obs_x < xmax)\n",
    "    & (all_obs_y >= ymin)\n",
    "    & (all_obs_y < ymax)\n",
    ")\n",
    "\n",
    "\n",
    "true_x, true_y = wcs.toImage(\n",
    "    truth_points[_truth_matched_indices, 0],\n",
    "    truth_points[_truth_matched_indices, 1],\n",
    "    units=galsim.radians,\n",
    ")\n",
    "true_sel = (\n",
    "    (true_x >= xmin)\n",
    "    & (true_x < xmax)\n",
    "    & (true_y >= ymin)\n",
    "    & (true_y < ymax)\n",
    ")\n",
    "\n",
    "\n",
    "obs_x, obs_y = wcs.toImage(\n",
    "    observed_points[_observed_matched_indices, 0],\n",
    "    observed_points[_observed_matched_indices, 1],\n",
    "    units=galsim.radians,\n",
    ")\n",
    "obs_sel = (\n",
    "    (obs_x >= xmin)\n",
    "    & (obs_x < xmax)\n",
    "    & (obs_y >= ymin)\n",
    "    & (obs_y < ymax)\n",
    ")\n",
    "\n",
    "fig, axs = plt.subplots(1, 1, constrained_layout=True)\n",
    "\n",
    "axs.scatter(\n",
    "    all_true_x[all_true_sel],\n",
    "    all_true_y[all_true_sel],\n",
    "    s=48,\n",
    "    ec=\"b\",\n",
    "    fc=\"none\",\n",
    "    marker=\"o\",\n",
    "    label=\"truth [no match]\",\n",
    ")\n",
    "\n",
    "axs.scatter(\n",
    "    true_x[true_sel],\n",
    "    true_y[true_sel],\n",
    "    s=48,\n",
    "    c=\"b\",\n",
    "    marker=\"x\",\n",
    "    label=\"truth [match]\",\n",
    ")\n",
    "\n",
    "axs.scatter(\n",
    "    all_obs_x[all_obs_sel],\n",
    "    all_obs_y[all_obs_sel],\n",
    "    s=48,\n",
    "    ec=\"r\",\n",
    "    fc=\"none\",\n",
    "    marker=\"o\",\n",
    "    label=\"obs [no match]\",\n",
    ")\n",
    "\n",
    "axs.scatter(\n",
    "    obs_x[obs_sel],\n",
    "    obs_y[obs_sel],\n",
    "    s=48,\n",
    "    c=\"r\",\n",
    "    marker=\"+\",\n",
    "    label=\"obs [match]\",\n",
    ")\n",
    "\n",
    "\n",
    "axs.set_xlim(xmin, xmax)\n",
    "axs.set_ylim(ymin, ymax)\n",
    "\n",
    "axs.set_xlabel(\"x_coadd [pixels]\")\n",
    "axs.set_ylabel(\"y_coadd [pixels]\")\n",
    "axs.set_title(f\"{tilename} / r\\n{shear_step}\")\n",
    "\n",
    "fig.legend(loc=\"outside right upper\")\n",
    "\n",
    "plt.show()"
   ]
  },
  {
   "cell_type": "code",
   "execution_count": null,
   "id": "93d7f2fd-dc4c-449c-b77c-c87790bc889e",
   "metadata": {},
   "outputs": [],
   "source": []
  }
 ],
 "metadata": {
  "kernelspec": {
   "display_name": "DESY6DEV",
   "language": "python",
   "name": "des-y6-dev"
  },
  "language_info": {
   "codemirror_mode": {
    "name": "ipython",
    "version": 3
   },
   "file_extension": ".py",
   "mimetype": "text/x-python",
   "name": "python",
   "nbconvert_exporter": "python",
   "pygments_lexer": "ipython3",
   "version": "3.11.10"
  }
 },
 "nbformat": 4,
 "nbformat_minor": 5
}
