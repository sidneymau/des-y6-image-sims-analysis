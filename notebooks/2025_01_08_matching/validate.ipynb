{
 "cells": [
  {
   "cell_type": "code",
   "execution_count": 1,
   "id": "bc865625-126e-4feb-9f88-aea3595735fd",
   "metadata": {
    "tags": []
   },
   "outputs": [],
   "source": [
    "import os"
   ]
  },
  {
   "cell_type": "code",
   "execution_count": 2,
   "id": "598dd56c-8944-4808-b1aa-3d2c1fa6dc38",
   "metadata": {
    "tags": []
   },
   "outputs": [],
   "source": [
    "import numpy as np\n",
    "import h5py\n",
    "import matplotlib.pyplot as plt"
   ]
  },
  {
   "cell_type": "code",
   "execution_count": 3,
   "id": "6f0c6912-e2a4-43fe-a90c-831714c78ab7",
   "metadata": {
    "tags": []
   },
   "outputs": [],
   "source": [
    "import lib"
   ]
  },
  {
   "cell_type": "code",
   "execution_count": 4,
   "id": "445c030f-56fa-4c85-b585-24a08cd92e45",
   "metadata": {
    "tags": []
   },
   "outputs": [],
   "source": [
    "os.environ[\"PATH\"] += \":/global/common/software/nersc9/texlive/2024/bin/x86_64-linux\""
   ]
  },
  {
   "cell_type": "code",
   "execution_count": 5,
   "id": "93802e91-6607-4cc7-9b9b-09a4d5dbb94c",
   "metadata": {},
   "outputs": [
    {
     "name": "stdout",
     "output_type": "stream",
     "text": [
      "g1_slice=0.02__g2_slice=0.00__g1_other=0.00__g2_other=0.00__zlow=0.0__zhigh=6.0 13330748 13220685\n",
      "g1_slice=-0.02__g2_slice=0.00__g1_other=0.00__g2_other=0.00__zlow=0.0__zhigh=6.0 13326561 13217444\n",
      "g1_slice=0.02__g2_slice=0.00__g1_other=-0.02__g2_other=0.00__zlow=0.6__zhigh=0.9 13317735 13208677\n",
      "g1_slice=0.02__g2_slice=0.00__g1_other=-0.02__g2_other=0.00__zlow=1.8__zhigh=2.1 13323097 13213993\n",
      "g1_slice=0.02__g2_slice=0.00__g1_other=-0.02__g2_other=0.00__zlow=0.9__zhigh=1.2 13319472 13210221\n",
      "g1_slice=0.02__g2_slice=0.00__g1_other=-0.02__g2_other=0.00__zlow=2.1__zhigh=2.4 13323665 13214566\n",
      "g1_slice=0.02__g2_slice=0.00__g1_other=-0.02__g2_other=0.00__zlow=0.0__zhigh=0.3 13321904 13212712\n",
      "g1_slice=0.02__g2_slice=0.00__g1_other=-0.02__g2_other=0.00__zlow=1.2__zhigh=1.5 13318083 13209181\n",
      "g1_slice=0.02__g2_slice=0.00__g1_other=-0.02__g2_other=0.00__zlow=2.4__zhigh=2.7 13324423 13215398\n",
      "g1_slice=0.02__g2_slice=0.00__g1_other=-0.02__g2_other=0.00__zlow=0.3__zhigh=0.6 13318795 13209608\n",
      "g1_slice=0.02__g2_slice=0.00__g1_other=-0.02__g2_other=0.00__zlow=1.5__zhigh=1.8 13322359 13213270\n",
      "g1_slice=0.02__g2_slice=0.00__g1_other=-0.02__g2_other=0.00__zlow=2.7__zhigh=6.0 13320801 13211681\n"
     ]
    }
   ],
   "source": [
    "for shear_step in lib.const.SHEAR_STEPS:\n",
    "    match_filename = f\"match_{shear_step}.hdf5\"\n",
    "    match_file = os.path.join(\n",
    "        \"/pscratch/sd/s/smau/y6-image-sims-matches\",\n",
    "        match_filename,\n",
    "    )\n",
    "    \n",
    "    with (\n",
    "        h5py.File(\n",
    "            lib.const.IMSIM_CATALOGS[shear_step],\n",
    "            mode=\"r\",\n",
    "        ) as hf_wide,    \n",
    "        h5py.File(\n",
    "            match_file,\n",
    "            mode=\"r\",\n",
    "        ) as hf_match,\n",
    "    ):\n",
    "        wide_uid = hf_wide[\"mdet\"][\"noshear\"][\"uid\"]\n",
    "        match_uid = hf_match[\"mdet\"][\"noshear\"][\"uid\"]\n",
    "\n",
    "        print(\n",
    "            shear_step,\n",
    "            sum(~np.isnan(wide_uid)), sum(~np.isnan(match_uid)),\n",
    "        )"
   ]
  },
  {
   "cell_type": "code",
   "execution_count": 6,
   "id": "0ce9195e-a7b7-43cc-9ebd-83502e5a2174",
   "metadata": {},
   "outputs": [],
   "source": [
    "wide = {}\n",
    "match = {}\n",
    "for shear_step in lib.const.SHEAR_STEPS:\n",
    "    match_filename = f\"match_{shear_step}.hdf5\"\n",
    "    match_file = os.path.join(\n",
    "        \"/pscratch/sd/s/smau/y6-image-sims-matches\",\n",
    "        match_filename,\n",
    "    )\n",
    "    \n",
    "    hf_wide = h5py.File(\n",
    "        lib.const.IMSIM_CATALOGS[shear_step],\n",
    "        mode=\"r\",\n",
    "    )\n",
    "\n",
    "    hf_match = h5py.File(\n",
    "        match_file,\n",
    "        mode=\"r\",\n",
    "    )\n",
    "    \n",
    "    wide[shear_step] = hf_wide[\"mdet\"][\"noshear\"]\n",
    "    match[shear_step] = hf_match[\"mdet\"][\"noshear\"]"
   ]
  },
  {
   "cell_type": "code",
   "execution_count": 7,
   "id": "93741d84-2ef0-432c-bd0b-90b7b04d7126",
   "metadata": {},
   "outputs": [],
   "source": [
    "hf_mdet = h5py.File(lib.const.MDET_CATALOG, mode=\"r\")\n",
    "mdet = hf_mdet[\"mdet\"][\"noshear\"]"
   ]
  },
  {
   "cell_type": "code",
   "execution_count": 8,
   "id": "f2ef1148-ddd7-48b6-b354-2949f66b88d2",
   "metadata": {},
   "outputs": [
    {
     "data": {
      "image/png": "[encoded data removed]",
      "text/plain": [
       "<Figure size 640x480 with 1 Axes>"
      ]
     },
     "metadata": {},
     "output_type": "display_data"
    }
   ],
   "source": [
    "shear_step = lib.const.SHEAR_STEPS[1]\n",
    "\n",
    "bins = np.linspace(\n",
    "    np.min(wide[shear_step][\"uid\"][:]),\n",
    "    np.max(wide[shear_step][\"uid\"][:]),\n",
    "    101,\n",
    ")\n",
    "\n",
    "plt.hist(\n",
    "    mdet[\"uid\"][:],\n",
    "    bins=bins,\n",
    "    label=\"mdet\",\n",
    "    fc=\"k\",\n",
    "    alpha=1/12,\n",
    ")\n",
    "\n",
    "\n",
    "plt.hist(\n",
    "    wide[shear_step][\"uid\"][:],\n",
    "    bins=bins,\n",
    "    histtype=\"step\",\n",
    "    label=\"wide\",\n",
    ")\n",
    "plt.hist(\n",
    "    match[shear_step][\"uid\"][:],\n",
    "    bins=bins,\n",
    "    histtype=\"step\",\n",
    "    label=\"match\",\n",
    ")\n",
    "plt.legend()\n",
    "plt.xlabel(\"UID\")\n",
    "plt.show()"
   ]
  },
  {
   "cell_type": "code",
   "execution_count": 9,
   "id": "bdb14577-8104-43a7-b182-13231a1bb102",
   "metadata": {},
   "outputs": [
    {
     "data": {
      "image/png": "[encoded data removed]",
      "text/plain": [
       "<Figure size 640x480 with 2 Axes>"
      ]
     },
     "metadata": {},
     "output_type": "display_data"
    }
   ],
   "source": [
    "fig, axs = plt.subplots(1, 2, sharex=True, sharey=True, constrained_layout=True)\n",
    "\n",
    "axs[0].set_title(\"PLUS\")\n",
    "axs[1].set_title(\"MINUS\")\n",
    "\n",
    "for i, shear_step in enumerate(lib.const.SHEAR_STEPS[:2]):\n",
    "    \n",
    "    bins = np.linspace(\n",
    "        np.min(wide[shear_step][\"uid\"][:]),\n",
    "        np.max(wide[shear_step][\"uid\"][:]),\n",
    "        101,\n",
    "    )\n",
    "    \n",
    "    axs[i].hist(\n",
    "        wide[shear_step][\"uid\"][:],\n",
    "        bins=bins,\n",
    "        histtype=\"step\",\n",
    "        label=\"wide\" if i == 0 else None,\n",
    "    )\n",
    "    axs[i].hist(\n",
    "        match[shear_step][\"uid\"][:],\n",
    "        bins=bins,\n",
    "        histtype=\"step\",\n",
    "        label=\"match\" if i == 0 else None,\n",
    "    )\n",
    "    \n",
    "fig.legend(loc=\"outside right upper\")\n",
    "    \n",
    "fig.supxlabel(\"UID\")\n",
    "plt.show()"
   ]
  },
  {
   "cell_type": "code",
   "execution_count": 10,
   "id": "d0a550ed-dc43-437b-aa49-4e707ba2ca44",
   "metadata": {},
   "outputs": [],
   "source": [
    "_, wide_intersect_index, match_intersect_index = np.intersect1d(\n",
    "    wide[shear_step][\"uid\"],\n",
    "    match[shear_step][\"uid\"],\n",
    "    return_indices=True,\n",
    ")"
   ]
  },
  {
   "cell_type": "code",
   "execution_count": 11,
   "id": "99cc56e4-2134-4865-8096-83f1851e0e75",
   "metadata": {},
   "outputs": [],
   "source": [
    "uid_diff = np.setdiff1d(\n",
    "    wide[shear_step][\"uid\"],\n",
    "    match[shear_step][\"uid\"],\n",
    ")"
   ]
  },
  {
   "cell_type": "code",
   "execution_count": 12,
   "id": "9a36630e-84e7-4233-b335-7bc6dd5729c6",
   "metadata": {},
   "outputs": [],
   "source": [
    "_, wide_diff_index, _ =np.intersect1d(\n",
    "    wide[shear_step][\"uid\"],\n",
    "    uid_diff,\n",
    "    return_indices=True,\n",
    ")"
   ]
  },
  {
   "cell_type": "code",
   "execution_count": 13,
   "id": "a0888d8e-2335-4511-8391-eb565181c50a",
   "metadata": {},
   "outputs": [
    {
     "name": "stdout",
     "output_type": "stream",
     "text": [
      "tilename \n",
      " success:\n",
      "\t [b'DES0000-0250' b'DES0000-0250' b'DES0000-0250' ... b'DES2359+0001'\n",
      " b'DES2359+0001' b'DES2359+0001'] \n",
      " failure:\n",
      "\t [b'DES0000-0250' b'DES0000-0250' b'DES0000-0250' ... b'DES2359+0001'\n",
      " b'DES2359+0001' b'DES2359+0001'] \n",
      "\n"
     ]
    }
   ],
   "source": [
    "_col = \"tilename\"\n",
    "print(\n",
    "    _col,\n",
    "    \"\\n\",\n",
    "    \"success:\\n\\t\",\n",
    "    wide[shear_step][_col][:][wide_intersect_index],\n",
    "    \"\\n\",\n",
    "    \"failure:\\n\\t\",\n",
    "    wide[shear_step][_col][:][wide_diff_index],\n",
    "    \"\\n\",\n",
    ")"
   ]
  },
  {
   "cell_type": "code",
   "execution_count": 14,
   "id": "50fbf9b7-9f67-40a0-b6f6-046fda98a29d",
   "metadata": {},
   "outputs": [],
   "source": [
    "unmatched_tiles = np.setdiff1d(\n",
    "    wide[shear_step][\"tilename\"][:][wide_diff_index],\n",
    "    wide[shear_step][\"tilename\"][:][wide_intersect_index],\n",
    ")"
   ]
  },
  {
   "cell_type": "code",
   "execution_count": 15,
   "id": "912405c2-d6e4-46ad-8e09-1446664712ec",
   "metadata": {
    "tags": []
   },
   "outputs": [
    {
     "name": "stdout",
     "output_type": "stream",
     "text": [
      "g1_slice=0.02__g2_slice=0.00__g1_other=0.00__g2_other=0.00__zlow=0.0__zhigh=6.0\n"
     ]
    }
   ],
   "source": [
    "shear_step = lib.const.SHEAR_STEPS[0]\n",
    "print(shear_step)"
   ]
  },
  {
   "cell_type": "code",
   "execution_count": 16,
   "id": "9578065d-bdb6-4d08-ad50-cca1c1df795a",
   "metadata": {
    "tags": []
   },
   "outputs": [],
   "source": [
    "truth_match_filename = \"truth-match.hdf5\"\n",
    "truth_match_file = os.path.join(\n",
    "    \"/pscratch/sd/s/smau/y6-image-sims-matches\",\n",
    "    truth_match_filename,\n",
    ")\n",
    "\n",
    "truth_match_table = {}\n",
    "\n",
    "with h5py.File(\n",
    "    truth_match_file,\n",
    "    mode=\"r\",\n",
    ") as hf:\n",
    "    for k, v in hf.items():\n",
    "        truth_match_table[k] = v[:]"
   ]
  },
  {
   "cell_type": "code",
   "execution_count": 17,
   "id": "4f320230-e94e-49ac-bda6-14bf4001d329",
   "metadata": {
    "tags": []
   },
   "outputs": [],
   "source": [
    "wide_table = {}\n",
    "\n",
    "with h5py.File(\n",
    "    lib.const.IMSIM_CATALOGS[shear_step],\n",
    "    mode=\"r\",\n",
    ") as hf:\n",
    "    for k, v in hf[\"mdet\"][\"noshear\"].items():\n",
    "        wide_table[k] = v[:]"
   ]
  },
  {
   "cell_type": "code",
   "execution_count": 18,
   "id": "e6197c75-5d89-40f1-8311-b495292b6ed0",
   "metadata": {
    "tags": []
   },
   "outputs": [],
   "source": [
    "match_filename = f\"match_{shear_step}.hdf5\"\n",
    "match_file = os.path.join(\n",
    "    \"/pscratch/sd/s/smau/y6-image-sims-matches\",\n",
    "    match_filename,\n",
    ")\n",
    "\n",
    "match_table = {}\n",
    "\n",
    "with h5py.File(\n",
    "    match_file,\n",
    "    mode=\"r\",\n",
    ") as hf:\n",
    "    for k, v in hf[\"mdet\"][\"noshear\"].items():\n",
    "        match_table[k] = v[:]"
   ]
  },
  {
   "cell_type": "code",
   "execution_count": 19,
   "id": "fd0ea131-74a8-41fe-be71-7ca1e53ae1d6",
   "metadata": {
    "tags": []
   },
   "outputs": [],
   "source": [
    "assert len(wide_table[\"uid\"]) == len(match_table[\"uid\"])"
   ]
  },
  {
   "cell_type": "code",
   "execution_count": 20,
   "id": "ba00c165-b65d-4445-b14f-3faf99dd53b0",
   "metadata": {
    "tags": []
   },
   "outputs": [
    {
     "data": {
      "text/plain": [
       "(13330748, 13220685)"
      ]
     },
     "execution_count": 20,
     "metadata": {},
     "output_type": "execute_result"
    }
   ],
   "source": [
    "sum(~np.isnan(wide_table[\"uid\"])), sum(~np.isnan(match_table[\"uid\"]))"
   ]
  },
  {
   "cell_type": "code",
   "execution_count": 21,
   "id": "b838c5f6-755d-4c4f-a290-b523df471041",
   "metadata": {
    "tags": []
   },
   "outputs": [],
   "source": [
    "_, wide_index, match_index = np.intersect1d(\n",
    "    wide_table[\"uid\"][:],\n",
    "    match_table[\"uid\"][:],\n",
    "    return_indices=True,\n",
    ")"
   ]
  },
  {
   "cell_type": "code",
   "execution_count": 22,
   "id": "ff2b7de7-b5e1-418d-bd01-e21575072513",
   "metadata": {},
   "outputs": [
    {
     "data": {
      "text/plain": [
       "981"
      ]
     },
     "execution_count": 22,
     "metadata": {},
     "output_type": "execute_result"
    }
   ],
   "source": [
    "len(np.unique(wide_table[\"tilename\"][wide_index]))"
   ]
  },
  {
   "cell_type": "code",
   "execution_count": 23,
   "id": "a2535a16-6b9c-4103-8c6d-d2bb026ff681",
   "metadata": {
    "tags": []
   },
   "outputs": [
    {
     "data": {
      "image/png": "[encoded data removed]",
      "text/plain": [
       "<Figure size 640x480 with 1 Axes>"
      ]
     },
     "metadata": {},
     "output_type": "display_data"
    }
   ],
   "source": [
    "bins = np.linspace(0, 1000, 101)\n",
    "\n",
    "plt.hist(\n",
    "    truth_match_table[\"DEEP:flux_r\"],\n",
    "    bins=bins,\n",
    "    histtype=\"step\",\n",
    "    label=\"truth\",\n",
    "    density=True,\n",
    ")\n",
    "plt.hist(\n",
    "    match_table[\"DEEP:flux_r\"],\n",
    "    bins=bins,\n",
    "    histtype=\"step\",\n",
    "    label=\"wide--truth\",\n",
    "    density=True,\n",
    ")\n",
    "\n",
    "plt.xlabel(\"$r$ [deep flux]\")\n",
    "plt.legend()\n",
    "plt.show()"
   ]
  },
  {
   "cell_type": "code",
   "execution_count": 24,
   "id": "f01167bb-bf08-4ccb-bf58-da5730c1cd15",
   "metadata": {
    "tags": []
   },
   "outputs": [
    {
     "data": {
      "image/png": "[encoded data removed]",
      "text/plain": [
       "<Figure size 640x480 with 1 Axes>"
      ]
     },
     "metadata": {},
     "output_type": "display_data"
    }
   ],
   "source": [
    "bins = np.linspace(0, 1000, 101)\n",
    "\n",
    "plt.hist(\n",
    "    match_table[\"WIDE:pgauss_flux_r\"],\n",
    "    bins=bins,\n",
    "    histtype=\"step\",\n",
    "    label=\"wide--truth\",\n",
    "    # density=True,\n",
    ")\n",
    "plt.hist(\n",
    "    wide_table[\"pgauss_band_flux_r\"],\n",
    "    bins=bins,\n",
    "    histtype=\"step\",\n",
    "    label=\"wide\",\n",
    "    # density=True,\n",
    ")\n",
    "\n",
    "plt.xlabel(\"$r$ [pgauss flux]\")\n",
    "plt.legend()\n",
    "plt.show()"
   ]
  },
  {
   "cell_type": "code",
   "execution_count": 25,
   "id": "39e17aaa-d20a-416c-a7bf-fd83e85e7c04",
   "metadata": {},
   "outputs": [
    {
     "data": {
      "image/png": "[encoded data removed]",
      "text/plain": [
       "<Figure size 640x480 with 1 Axes>"
      ]
     },
     "metadata": {},
     "output_type": "display_data"
    }
   ],
   "source": [
    "bins = np.linspace(0, 3, 101)\n",
    "\n",
    "plt.hist(\n",
    "    truth_match_table[\"z\"],\n",
    "    bins=bins,\n",
    "    histtype=\"step\",\n",
    "    label=\"truth\",\n",
    "    density=True,\n",
    ")\n",
    "plt.hist(\n",
    "    match_table[\"z\"],\n",
    "    bins=bins,\n",
    "    histtype=\"step\",\n",
    "    label=\"wide--truth\",\n",
    "    density=True,\n",
    ")\n",
    "plt.xlabel(\"$z$\")\n",
    "plt.legend()\n",
    "plt.show()"
   ]
  },
  {
   "cell_type": "code",
   "execution_count": null,
   "id": "d1e7fbb0-bf4f-4b0f-8711-c2c52ce96bd3",
   "metadata": {},
   "outputs": [],
   "source": []
  }
 ],
 "metadata": {
  "kernelspec": {
   "display_name": "DESY6DEV",
   "language": "python",
   "name": "des-y6-dev"
  },
  "language_info": {
   "codemirror_mode": {
    "name": "ipython",
    "version": 3
   },
   "file_extension": ".py",
   "mimetype": "text/x-python",
   "name": "python",
   "nbconvert_exporter": "python",
   "pygments_lexer": "ipython3",
   "version": "3.11.10"
  }
 },
 "nbformat": 4,
 "nbformat_minor": 5
}
