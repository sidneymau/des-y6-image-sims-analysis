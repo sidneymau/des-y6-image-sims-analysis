{
 "cells": [
  {
   "cell_type": "code",
   "execution_count": 1,
   "id": "735b7580-08d0-4a6d-87c2-723009b288d6",
   "metadata": {
    "tags": []
   },
   "outputs": [],
   "source": [
    "import os"
   ]
  },
  {
   "cell_type": "code",
   "execution_count": 2,
   "id": "8bd6c6f8-d52d-4c91-87ac-9b6ede1d6cbf",
   "metadata": {
    "tags": []
   },
   "outputs": [],
   "source": [
    "import h5py\n",
    "import numpy as np\n",
    "import matplotlib.pyplot as plt"
   ]
  },
  {
   "cell_type": "code",
   "execution_count": 3,
   "id": "ee73390e-da06-47ab-a6b2-8f1963f1ba8d",
   "metadata": {
    "tags": []
   },
   "outputs": [],
   "source": [
    "import lib"
   ]
  },
  {
   "cell_type": "code",
   "execution_count": 4,
   "id": "f0ee0b88-0376-41be-ad4d-76daa796460c",
   "metadata": {
    "tags": []
   },
   "outputs": [],
   "source": [
    "os.environ[\"IMSIM_DATA\"] = \"/global/cfs/cdirs/desbalro\"\n",
    "os.environ[\"PATH\"] += \":/global/common/software/nersc9/texlive/2024/bin/x86_64-linux\""
   ]
  },
  {
   "cell_type": "code",
   "execution_count": 5,
   "id": "68eb082c-74a5-412c-854c-33f3120ede3f",
   "metadata": {
    "tags": []
   },
   "outputs": [],
   "source": [
    "truth_ids = lib.truth.get_truth_ids()"
   ]
  },
  {
   "cell_type": "code",
   "execution_count": 6,
   "id": "bf193544-7563-43a6-affe-c47f5031de42",
   "metadata": {
    "tags": []
   },
   "outputs": [],
   "source": [
    "deepfield_ids = lib.deepfield.get_deepfield_ids()"
   ]
  },
  {
   "cell_type": "code",
   "execution_count": 7,
   "id": "4ba061f6-52b2-4b17-9837-264bd8e5e90b",
   "metadata": {
    "tags": []
   },
   "outputs": [],
   "source": [
    "_, truth_indices, deepfield_indices = np.intersect1d(\n",
    "    truth_ids,\n",
    "    deepfield_ids,\n",
    "    return_indices=True,\n",
    ")"
   ]
  },
  {
   "cell_type": "code",
   "execution_count": 8,
   "id": "bce9c705-8d02-44b8-b9b5-38e61ea87670",
   "metadata": {
    "tags": []
   },
   "outputs": [
    {
     "data": {
      "text/plain": [
       "(221539, 223007)"
      ]
     },
     "execution_count": 8,
     "metadata": {},
     "output_type": "execute_result"
    }
   ],
   "source": [
    "truth_indices.max(), len(truth_ids)"
   ]
  },
  {
   "cell_type": "code",
   "execution_count": 9,
   "id": "45e3849f-9ee7-4edb-82bb-62b9fc0fe204",
   "metadata": {
    "tags": []
   },
   "outputs": [],
   "source": [
    "n_truth = len(truth_ids)"
   ]
  },
  {
   "cell_type": "code",
   "execution_count": 10,
   "id": "72c199da-b19a-488d-b5e1-c3d45e0179aa",
   "metadata": {
    "tags": []
   },
   "outputs": [
    {
     "name": "stdout",
     "output_type": "stream",
     "text": [
      "20774/223007 [9.32%] objects in truth table but not deepfield table\n"
     ]
    }
   ],
   "source": [
    "# in truth, not in deepfield\n",
    "n_unmatched = len(\n",
    "    np.setdiff1d(\n",
    "        truth_ids,\n",
    "        deepfield_ids,\n",
    "    )\n",
    ")\n",
    "print(f\"{n_unmatched}/{n_truth} [{n_unmatched / n_truth * 100 :.2f}%] objects in truth table but not deepfield table\")"
   ]
  },
  {
   "cell_type": "code",
   "execution_count": 11,
   "id": "ade9391a-03e9-463d-b5f6-f0f3b8b9d41e",
   "metadata": {
    "tags": []
   },
   "outputs": [],
   "source": [
    "truth_table = lib.truth.get_truth_table()"
   ]
  },
  {
   "cell_type": "code",
   "execution_count": 12,
   "id": "9084b870-8f95-4981-82ce-ea444f9c9fd9",
   "metadata": {
    "tags": []
   },
   "outputs": [],
   "source": [
    "deepfield_table = lib.deepfield.get_deepfield_table()"
   ]
  },
  {
   "cell_type": "code",
   "execution_count": 13,
   "id": "f71d3e1b-38e2-4c48-8d64-dbd0cebdd79a",
   "metadata": {
    "tags": []
   },
   "outputs": [],
   "source": [
    "for band in lib.const.BANDS:\n",
    "    np.testing.assert_allclose(\n",
    "        truth_table[f\"mag_{band}\"][truth_indices],\n",
    "        deepfield_table[f\"MAG_{band}\"][deepfield_indices],\n",
    "    )"
   ]
  },
  {
   "cell_type": "markdown",
   "id": "8360cd64-8217-462e-8860-d57316a4d548",
   "metadata": {},
   "source": [
    "# Use direct matches; leave nans"
   ]
  },
  {
   "cell_type": "code",
   "execution_count": 14,
   "id": "53197d9a-abdb-4b1d-b950-af1848ce89b6",
   "metadata": {
    "tags": []
   },
   "outputs": [],
   "source": [
    "out_table = {}\n",
    "\n",
    "out_table[\"z\"] = np.full(n_truth, np.nan)\n",
    "out_table[\"z\"][truth_indices] = truth_table[\"photoz\"][truth_indices]\n",
    "\n",
    "for i, (truth_band, deepfield_band) in enumerate(zip(lib.const.TRUTH_BANDS, lib.const.DEEPFIELD_BANDS)):\n",
    "    out_table[f\"DEEP:flux_{deepfield_band}\"] = np.full(n_truth, np.nan)\n",
    "    out_table[f\"DEEP:flux_{deepfield_band}\"][truth_indices] = truth_table[f\"flux_{truth_band}\"][truth_indices]\n",
    "    \n",
    "    _mag = deepfield_table[f\"MAG_{deepfield_band}\"][deepfield_indices]\n",
    "    _mag_err = deepfield_table[f\"ERR_MAG_{deepfield_band}\"][deepfield_indices]\n",
    "    \n",
    "    _flux, _flux_err = lib.util.mag_to_flux_with_error(_mag, _mag_err)\n",
    "    \n",
    "    out_table[f\"DEEP:flux_err_{deepfield_band}\"] = np.full(n_truth, np.nan)\n",
    "    out_table[f\"DEEP:flux_err_{deepfield_band}\"][truth_indices] = _flux_err\n"
   ]
  },
  {
   "cell_type": "code",
   "execution_count": 15,
   "id": "a51ee606-107a-4b08-828c-217348445479",
   "metadata": {
    "tags": []
   },
   "outputs": [
    {
     "data": {
      "text/plain": [
       "90.02677046012009"
      ]
     },
     "execution_count": 15,
     "metadata": {},
     "output_type": "execute_result"
    }
   ],
   "source": [
    "# percent with match (remainder is nan)\n",
    "np.sum(~np.isnan(out_table[\"DEEP:flux_r\"])) / len(out_table[\"DEEP:flux_r\"]) * 100"
   ]
  },
  {
   "cell_type": "code",
   "execution_count": 16,
   "id": "d9204ffb-5761-4d05-9652-85d34d15551c",
   "metadata": {
    "tags": []
   },
   "outputs": [],
   "source": [
    "direct_match_with_nan = out_table"
   ]
  },
  {
   "cell_type": "markdown",
   "id": "b1176ee4-3755-46f8-b715-8a23e660bab2",
   "metadata": {},
   "source": [
    "# Use direct matches; fill in with median"
   ]
  },
  {
   "cell_type": "code",
   "execution_count": 17,
   "id": "49f5b341-79d1-4745-b83b-6b1b0f96cade",
   "metadata": {
    "tags": []
   },
   "outputs": [],
   "source": [
    "out_table = {}\n",
    "\n",
    "out_table[\"z\"] = np.full(n_truth, np.nan)\n",
    "out_table[\"z\"][:] = truth_table[\"photoz\"][:]\n",
    "\n",
    "for i, (truth_band, deepfield_band) in enumerate(zip(lib.const.TRUTH_BANDS, lib.const.DEEPFIELD_BANDS)):\n",
    "    out_table[f\"DEEP:flux_{deepfield_band}\"] = truth_table[f\"flux_{truth_band}\"]\n",
    "    \n",
    "    _mag = deepfield_table[f\"MAG_{deepfield_band}\"]\n",
    "    _mag_err = deepfield_table[f\"ERR_MAG_{deepfield_band}\"]\n",
    "    \n",
    "    _flux, _flux_err = lib.util.mag_to_flux_with_error(_mag, _mag_err)\n",
    "    \n",
    "    _med_flux_err = np.median(_flux_err)\n",
    "    \n",
    "    out_table[f\"DEEP:flux_err_{deepfield_band}\"] = np.full(n_truth, _med_flux_err)\n",
    "    out_table[f\"DEEP:flux_err_{deepfield_band}\"][truth_indices] = _flux_err[deepfield_indices]\n"
   ]
  },
  {
   "cell_type": "code",
   "execution_count": 18,
   "id": "7d1ec99d-322a-4a9e-aec8-1318c9528bbd",
   "metadata": {
    "tags": []
   },
   "outputs": [],
   "source": [
    "direct_match_with_median = out_table"
   ]
  },
  {
   "cell_type": "markdown",
   "id": "94a341da-52cc-4b96-86cb-4be59dca1daf",
   "metadata": {},
   "source": [
    "# Use KNN"
   ]
  },
  {
   "cell_type": "code",
   "execution_count": 19,
   "id": "63b10db8-d8ab-47d8-858b-51f21181d30c",
   "metadata": {
    "tags": []
   },
   "outputs": [],
   "source": [
    "knn = lib.deepfield.get_knn()"
   ]
  },
  {
   "cell_type": "code",
   "execution_count": 20,
   "id": "949776ce-6cfa-43ea-b55e-0bf8a013bc6f",
   "metadata": {
    "tags": []
   },
   "outputs": [],
   "source": [
    "_X = np.array(\n",
    "    [\n",
    "        truth_table[f\"flux_{band}\"]\n",
    "        for band in lib.const.TRUTH_BANDS\n",
    "    ]\n",
    ").T"
   ]
  },
  {
   "cell_type": "code",
   "execution_count": 21,
   "id": "92aae3b0-4716-47e4-a523-8945a38b8500",
   "metadata": {
    "tags": []
   },
   "outputs": [],
   "source": [
    "y = knn.predict(_X)"
   ]
  },
  {
   "cell_type": "code",
   "execution_count": 22,
   "id": "d5adcd7c-9b65-4ec5-98dd-b2808a7504b6",
   "metadata": {
    "tags": []
   },
   "outputs": [],
   "source": [
    "out_table = {}\n",
    "\n",
    "out_table[\"z\"] = truth_table[\"photoz\"]\n",
    "\n",
    "for i, band in enumerate(lib.const.DEEPFIELD_BANDS):\n",
    "    out_table[f\"DEEP:flux_{band}\"] = _X[:, i]\n",
    "    \n",
    "    out_table[f\"DEEP:flux_err_{band}\"] = y[:, i]"
   ]
  },
  {
   "cell_type": "code",
   "execution_count": 23,
   "id": "5b4c479b-158a-4c88-801d-b4314fa27dde",
   "metadata": {
    "tags": []
   },
   "outputs": [],
   "source": [
    "truth_match_filename = \"truth-match.hdf5\"\n",
    "truth_match_file = os.path.join(\n",
    "    \"/pscratch/sd/s/smau/y6-image-sims-matches\",\n",
    "    truth_match_filename,\n",
    ")\n",
    "\n",
    "with h5py.File(truth_match_file, \"w\") as hf:\n",
    "    for k, v in out_table.items():\n",
    "        hf.create_dataset(k, data=v)"
   ]
  },
  {
   "cell_type": "code",
   "execution_count": 24,
   "id": "a5be2651-4bf3-4e63-9adf-0f95e8f99b8d",
   "metadata": {
    "tags": []
   },
   "outputs": [],
   "source": [
    "knn_match = out_table"
   ]
  },
  {
   "cell_type": "markdown",
   "id": "4bc5afb3-e240-4a04-b9da-b7a0b665f74b",
   "metadata": {},
   "source": [
    "---"
   ]
  },
  {
   "cell_type": "code",
   "execution_count": 25,
   "id": "b974d9bf-c580-4217-a85e-0cd326516430",
   "metadata": {
    "tags": []
   },
   "outputs": [],
   "source": [
    "_mag = deepfield_table[\"MAG_r\"]\n",
    "_mag_err = deepfield_table[\"ERR_MAG_r\"]\n",
    "\n",
    "_flux, _flux_err = lib.util.mag_to_flux_with_error(_mag, _mag_err)\n",
    "\n",
    "_med_flux_err = np.median(_flux_err)"
   ]
  },
  {
   "cell_type": "code",
   "execution_count": 26,
   "id": "8532cdd9-9e45-46b6-964c-b843f212ceb1",
   "metadata": {
    "tags": []
   },
   "outputs": [
    {
     "data": {
      "image/png": "[encoded data removed]",
      "text/plain": [
       "<Figure size 640x480 with 1 Axes>"
      ]
     },
     "metadata": {},
     "output_type": "display_data"
    }
   ],
   "source": [
    "bins = np.linspace(0, 100, 101)\n",
    "\n",
    "plt.axvline(_med_flux_err, ls=\":\", label=\"median\")\n",
    "plt.hist(\n",
    "    _flux_err,\n",
    "    histtype=\"step\",\n",
    "    label=\"DF\",\n",
    "    bins=bins,\n",
    ")\n",
    "plt.hist(\n",
    "    direct_match_with_nan[f\"DEEP:flux_err_r\"],\n",
    "    histtype=\"step\",\n",
    "    label=\"ID \\& nans\",\n",
    "    bins=bins,\n",
    ")\n",
    "plt.hist(\n",
    "    direct_match_with_median[f\"DEEP:flux_err_r\"],\n",
    "    histtype=\"step\",\n",
    "    label=\"ID \\& median\",\n",
    "    bins=bins,\n",
    ")\n",
    "plt.hist(\n",
    "    knn_match[f\"DEEP:flux_err_r\"],\n",
    "    histtype=\"step\",\n",
    "    label=\"KNN\",\n",
    "    bins=bins,\n",
    ")\n",
    "plt.xlabel(\"$\\\\sigma_r$ [flux]\")\n",
    "plt.yscale(\"log\")\n",
    "plt.legend(loc=\"upper right\")\n",
    "plt.show()"
   ]
  },
  {
   "cell_type": "code",
   "execution_count": 27,
   "id": "5718fb79-297c-4973-8d9c-b107174ed5dc",
   "metadata": {},
   "outputs": [
    {
     "data": {
      "image/png": "[encoded data removed]",
      "text/plain": [
       "<Figure size 640x480 with 4 Axes>"
      ]
     },
     "metadata": {},
     "output_type": "display_data"
    }
   ],
   "source": [
    "bins = [np.linspace(0, 100, 101), np.linspace(0, 20, 101)]\n",
    "\n",
    "norm = plt.Normalize()\n",
    "\n",
    "fig, axs = plt.subplots(1, 4, sharex=True, sharey=True, constrained_layout=True)\n",
    "    \n",
    "axs[0].hist2d(\n",
    "    _flux,\n",
    "    _flux_err,\n",
    "    bins=bins,\n",
    "    norm=norm,\n",
    ")\n",
    "axs[0].set_title(\"DF\")\n",
    "\n",
    "axs[1].hist2d(\n",
    "    direct_match_with_nan[f\"DEEP:flux_r\"],\n",
    "    direct_match_with_nan[f\"DEEP:flux_err_r\"],\n",
    "    bins=bins,\n",
    "    norm=norm,\n",
    ")\n",
    "axs[1].set_title(\"ID \\& nans\")\n",
    "\n",
    "axs[2].hist2d(\n",
    "    direct_match_with_median[f\"DEEP:flux_r\"],\n",
    "    direct_match_with_median[f\"DEEP:flux_err_r\"],\n",
    "    bins=bins,\n",
    "    norm=norm,\n",
    ")\n",
    "axs[2].set_title(\"ID \\& median\")\n",
    "\n",
    "axs[3].hist2d(\n",
    "    knn_match[f\"DEEP:flux_r\"],\n",
    "    knn_match[f\"DEEP:flux_err_r\"],\n",
    "    bins=bins,\n",
    "    norm=norm,\n",
    ")\n",
    "axs[3].set_title(\"KNN\")\n",
    "\n",
    "for ax in axs:\n",
    "    ax.axhline(_med_flux_err, ls=\":\")\n",
    "\n",
    "fig.supxlabel(\"$r$ [flux]\")\n",
    "fig.supylabel(\"$\\\\sigma_r$ [flux]\")\n",
    "\n",
    "plt.show()"
   ]
  },
  {
   "cell_type": "code",
   "execution_count": null,
   "id": "9e5ae528-7a0a-4438-b7e4-863cc25d6b7a",
   "metadata": {},
   "outputs": [],
   "source": []
  }
 ],
 "metadata": {
  "kernelspec": {
   "display_name": "DESY6DEV",
   "language": "python",
   "name": "des-y6-dev"
  },
  "language_info": {
   "codemirror_mode": {
    "name": "ipython",
    "version": 3
   },
   "file_extension": ".py",
   "mimetype": "text/x-python",
   "name": "python",
   "nbconvert_exporter": "python",
   "pygments_lexer": "ipython3",
   "version": "3.11.10"
  }
 },
 "nbformat": 4,
 "nbformat_minor": 5
}
