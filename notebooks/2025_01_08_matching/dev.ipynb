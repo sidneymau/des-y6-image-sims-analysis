{
 "cells": [
  {
   "cell_type": "code",
   "execution_count": 1,
   "id": "735b7580-08d0-4a6d-87c2-723009b288d6",
   "metadata": {
    "tags": []
   },
   "outputs": [],
   "source": [
    "import os"
   ]
  },
  {
   "cell_type": "code",
   "execution_count": 2,
   "id": "8bd6c6f8-d52d-4c91-87ac-9b6ede1d6cbf",
   "metadata": {
    "tags": []
   },
   "outputs": [],
   "source": [
    "import numpy as np\n",
    "import h5py\n",
    "import fitsio\n",
    "import matplotlib.pyplot as plt"
   ]
  },
  {
   "cell_type": "code",
   "execution_count": 3,
   "id": "ee73390e-da06-47ab-a6b2-8f1963f1ba8d",
   "metadata": {
    "tags": []
   },
   "outputs": [],
   "source": [
    "import lib"
   ]
  },
  {
   "cell_type": "code",
   "execution_count": 4,
   "id": "f0ee0b88-0376-41be-ad4d-76daa796460c",
   "metadata": {
    "tags": []
   },
   "outputs": [],
   "source": [
    "os.environ[\"IMSIM_DATA\"] = \"/global/cfs/cdirs/desbalro\"\n",
    "os.environ[\"PATH\"] += \":/global/common/software/nersc9/texlive/2024/bin/x86_64-linux\""
   ]
  },
  {
   "cell_type": "code",
   "execution_count": 5,
   "id": "7c266ead-357b-4ce8-bb53-2423c2b3f5ab",
   "metadata": {
    "tags": []
   },
   "outputs": [],
   "source": [
    "shear_step = \"g1_slice=0.02__g2_slice=0.00__g1_other=0.00__g2_other=0.00__zlow=0.0__zhigh=6.0\"\n",
    "mdet_step = \"noshear\"\n",
    "tilename = \"DES2349-6205\""
   ]
  },
  {
   "cell_type": "code",
   "execution_count": 6,
   "id": "ee2054eb-d1ee-4c57-9ba1-c4e0342c00ec",
   "metadata": {
    "tags": []
   },
   "outputs": [],
   "source": [
    "shear_args = lib.util.parse_shear_arguments(shear_step)"
   ]
  },
  {
   "cell_type": "code",
   "execution_count": 7,
   "id": "ee3e0e5d-f4a1-4409-9e31-5b1e63e9e74a",
   "metadata": {
    "tags": []
   },
   "outputs": [],
   "source": [
    "imsim_catalog = lib.const.IMSIM_CATALOGS[shear_step]"
   ]
  },
  {
   "cell_type": "code",
   "execution_count": 8,
   "id": "dc71b99d-4645-4c46-a836-a8e02a567504",
   "metadata": {
    "tags": []
   },
   "outputs": [],
   "source": [
    "hf_imsim = h5py.File(imsim_catalog)"
   ]
  },
  {
   "cell_type": "code",
   "execution_count": 9,
   "id": "b59c7b9e-d608-4eeb-9372-2a16c0e4b409",
   "metadata": {
    "tags": []
   },
   "outputs": [],
   "source": [
    "n_objects = hf_imsim[\"mdet\"][\"noshear\"][\"tilename\"].len()"
   ]
  },
  {
   "cell_type": "code",
   "execution_count": 10,
   "id": "30bf7f5e-6ba6-4572-b7d5-7d4d9d11d000",
   "metadata": {
    "tags": []
   },
   "outputs": [],
   "source": [
    "observed_matched_indices, truth_matched_table = lib.instance.match(\n",
    "    tilename,\n",
    "    hf_imsim,\n",
    "    mdet_step=\"noshear\",\n",
    "    **shear_args,\n",
    ")"
   ]
  },
  {
   "cell_type": "code",
   "execution_count": 11,
   "id": "b0b6e1eb-3eaa-49d3-92c3-2b80b2879a12",
   "metadata": {
    "tags": []
   },
   "outputs": [
    {
     "data": {
      "text/plain": [
       "0.13020274631251"
      ]
     },
     "execution_count": 11,
     "metadata": {},
     "output_type": "execute_result"
    }
   ],
   "source": [
    "len(truth_matched_table) / n_objects * 100"
   ]
  },
  {
   "cell_type": "code",
   "execution_count": 12,
   "id": "486f0c32-17ca-45bd-9d5f-ea2999532c33",
   "metadata": {
    "tags": []
   },
   "outputs": [],
   "source": [
    "truth_ids = truth_matched_table[\"des_id\"]"
   ]
  },
  {
   "cell_type": "code",
   "execution_count": 13,
   "id": "bf193544-7563-43a6-affe-c47f5031de42",
   "metadata": {
    "tags": []
   },
   "outputs": [],
   "source": [
    "deepfield_ids = lib.deepfield.get_deepfield_ids()"
   ]
  },
  {
   "cell_type": "code",
   "execution_count": 14,
   "id": "4ba061f6-52b2-4b17-9837-264bd8e5e90b",
   "metadata": {
    "tags": []
   },
   "outputs": [],
   "source": [
    "_, truth_indices, deepfield_indices = np.intersect1d(\n",
    "    truth_ids,\n",
    "    deepfield_ids,\n",
    "    return_indices=True,\n",
    ")"
   ]
  },
  {
   "cell_type": "code",
   "execution_count": 15,
   "id": "72c199da-b19a-488d-b5e1-c3d45e0179aa",
   "metadata": {
    "tags": []
   },
   "outputs": [
    {
     "name": "stdout",
     "output_type": "stream",
     "text": [
      "401 objects in truth table but not deepfield table\n"
     ]
    }
   ],
   "source": [
    "# in truth, not in deepfield\n",
    "n_unmatched = len(\n",
    "    np.setdiff1d(\n",
    "        truth_ids,\n",
    "        deepfield_ids,\n",
    "    )\n",
    ")\n",
    "print(f\"{n_unmatched} objects in truth table but not deepfield table\")"
   ]
  },
  {
   "cell_type": "code",
   "execution_count": 16,
   "id": "b76e768c-4a10-4bbf-975e-6405dc19ae7e",
   "metadata": {
    "tags": []
   },
   "outputs": [],
   "source": [
    "# TODO: do case where we don't use KNN, just truth info"
   ]
  },
  {
   "cell_type": "code",
   "execution_count": 17,
   "id": "9084b870-8f95-4981-82ce-ea444f9c9fd9",
   "metadata": {
    "tags": []
   },
   "outputs": [],
   "source": [
    "deepfield_table = lib.deepfield.get_deepfield_table()"
   ]
  },
  {
   "cell_type": "code",
   "execution_count": 18,
   "id": "f71d3e1b-38e2-4c48-8d64-dbd0cebdd79a",
   "metadata": {
    "tags": []
   },
   "outputs": [],
   "source": [
    "for band in lib.const.BANDS:\n",
    "    np.testing.assert_allclose(\n",
    "        truth_matched_table[f\"mag_{band}\"][truth_indices],\n",
    "        deepfield_table[f\"MAG_{band}\"][deepfield_indices],\n",
    "    )"
   ]
  },
  {
   "cell_type": "markdown",
   "id": "8360cd64-8217-462e-8860-d57316a4d548",
   "metadata": {},
   "source": [
    "---"
   ]
  },
  {
   "cell_type": "code",
   "execution_count": 19,
   "id": "63b10db8-d8ab-47d8-858b-51f21181d30c",
   "metadata": {
    "tags": []
   },
   "outputs": [],
   "source": [
    "knn = lib.deepfield.get_knn()"
   ]
  },
  {
   "cell_type": "code",
   "execution_count": 20,
   "id": "949776ce-6cfa-43ea-b55e-0bf8a013bc6f",
   "metadata": {
    "tags": []
   },
   "outputs": [],
   "source": [
    "_X = np.array(\n",
    "    [\n",
    "        truth_matched_table[f\"flux_{band}\"]\n",
    "        for band in lib.const.TRUTH_BANDS\n",
    "    ]\n",
    ").T"
   ]
  },
  {
   "cell_type": "code",
   "execution_count": 21,
   "id": "92aae3b0-4716-47e4-a523-8945a38b8500",
   "metadata": {
    "tags": []
   },
   "outputs": [],
   "source": [
    "y = knn.predict(_X)"
   ]
  },
  {
   "cell_type": "code",
   "execution_count": 22,
   "id": "d5adcd7c-9b65-4ec5-98dd-b2808a7504b6",
   "metadata": {
    "tags": []
   },
   "outputs": [],
   "source": [
    "out_table = {}\n",
    "\n",
    "out_table[\"indices\"] = observed_matched_indices\n",
    "    \n",
    "out_table[\"photoz\"] = np.full(n_objects, np.nan)\n",
    "out_table[\"photoz\"][observed_matched_indices] = truth_matched_table[\"photoz\"]\n",
    "\n",
    "for i, band in enumerate(lib.const.TRUTH_BANDS):\n",
    "    out_table[f\"DEEP:flux_{band}\"] = np.full(n_objects, np.nan)\n",
    "    out_table[f\"DEEP:flux_{band}\"][observed_matched_indices] = _X[:, i]\n",
    "    out_table[f\"DEEP:flux_err_{band}\"] = np.full(n_objects, np.nan)\n",
    "    out_table[f\"DEEP:flux_err_{band}\"][observed_matched_indices] = y[:, i]\n",
    "    \n",
    "for band in lib.const.BANDS:\n",
    "    out_table[f\"WIDE:pgauss_flux_{band}\"] = np.full(n_objects, np.nan)\n",
    "    out_table[f\"WIDE:pgauss_flux_{band}\"][observed_matched_indices] = hf_imsim[\"mdet\"][mdet_step][f\"pgauss_band_flux_{band}\"][observed_matched_indices]\n",
    "    out_table[f\"WIDE:pgauss_flux_err_{band}\"] = np.full(n_objects, np.nan)\n",
    "    out_table[f\"WIDE:pgauss_flux_err_{band}\"][observed_matched_indices] = hf_imsim[\"mdet\"][mdet_step][f\"pgauss_band_flux_err_{band}\"][observed_matched_indices]"
   ]
  },
  {
   "cell_type": "code",
   "execution_count": 23,
   "id": "8532cdd9-9e45-46b6-964c-b843f212ceb1",
   "metadata": {
    "tags": []
   },
   "outputs": [
    {
     "data": {
      "image/png": "[encoded data removed]",
      "text/plain": [
       "<Figure size 640x480 with 1 Axes>"
      ]
     },
     "metadata": {},
     "output_type": "display_data"
    }
   ],
   "source": [
    "plt.hist2d(\n",
    "    out_table[f\"DEEP:flux_r\"],\n",
    "    out_table[f\"WIDE:pgauss_flux_r\"],\n",
    "    bins=[np.linspace(0, 1000, 101), np.linspace(0, 1000, 101)],\n",
    ")\n",
    "plt.show()"
   ]
  },
  {
   "cell_type": "code",
   "execution_count": null,
   "id": "e7f934d7-2488-4fc1-ab16-d967c2eaf418",
   "metadata": {},
   "outputs": [],
   "source": []
  }
 ],
 "metadata": {
  "kernelspec": {
   "display_name": "DESY6DEV",
   "language": "python",
   "name": "des-y6-dev"
  },
  "language_info": {
   "codemirror_mode": {
    "name": "ipython",
    "version": 3
   },
   "file_extension": ".py",
   "mimetype": "text/x-python",
   "name": "python",
   "nbconvert_exporter": "python",
   "pygments_lexer": "ipython3",
   "version": "3.11.10"
  }
 },
 "nbformat": 4,
 "nbformat_minor": 5
}
