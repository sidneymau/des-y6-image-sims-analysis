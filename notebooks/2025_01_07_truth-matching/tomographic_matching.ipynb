{
 "cells": [
  {
   "cell_type": "code",
   "execution_count": 1,
   "id": "988bc845-622f-4f54-b388-13fa90085f21",
   "metadata": {
    "tags": []
   },
   "outputs": [],
   "source": [
    "import functools\n",
    "import logging\n",
    "import glob\n",
    "import os"
   ]
  },
  {
   "cell_type": "code",
   "execution_count": 118,
   "id": "f5e0f6cb-6947-4514-a3c3-3b404e65d483",
   "metadata": {
    "tags": []
   },
   "outputs": [],
   "source": [
    "import numpy as np\n",
    "import matplotlib as mpl\n",
    "import matplotlib.pyplot as plt\n",
    "import h5py\n",
    "from scipy import stats"
   ]
  },
  {
   "cell_type": "code",
   "execution_count": 3,
   "id": "377b77a1-65e1-4286-858e-12f183216480",
   "metadata": {
    "tags": []
   },
   "outputs": [],
   "source": [
    "import util\n",
    "import matching\n",
    "import tomography\n",
    "import weights"
   ]
  },
  {
   "cell_type": "code",
   "execution_count": 16,
   "id": "de01a26f-6856-4bb7-a9e8-4a8e802d99d4",
   "metadata": {
    "tags": []
   },
   "outputs": [],
   "source": [
    "# from https://github.com/beckermr/des-y6-analysis/blob/main/2024_10_21_fgmodels/des_y6_nz_modeling.py\n",
    "def sompz_integral(y, x, low, high):\n",
    "    low = np.minimum(x[-1], np.maximum(low, x[0]))\n",
    "    high = np.minimum(x[-1], np.maximum(high, x[0]))\n",
    "    low_ind = np.digitize(low, x)\n",
    "    # for the lower index we do not use right=True, but\n",
    "    # we still want to clip to a valid index of x\n",
    "    low_ind = np.minimum(low_ind, x.shape[0] - 1)\n",
    "    high_ind = np.digitize(high, x, right=True)\n",
    "    dx = x[1:] - x[:-1]\n",
    "\n",
    "    # high point not in same bin as low point\n",
    "    not_in_single_bin = high_ind > low_ind\n",
    "\n",
    "    # fractional bit on the left\n",
    "    ileft = np.where(\n",
    "        not_in_single_bin,\n",
    "        (y[low_ind - 1] + y[low_ind])\n",
    "        / 2.0\n",
    "        * (1.0 - (low - x[low_ind - 1]) / dx[low_ind - 1])\n",
    "        * dx[low_ind - 1],\n",
    "        (y[low_ind - 1] + y[low_ind]) / 2.0 * (high - low),\n",
    "    )\n",
    "\n",
    "    # fractional bit on the right\n",
    "    iright = np.where(\n",
    "        not_in_single_bin,\n",
    "        (y[high_ind - 1] + y[high_ind]) / 2.0 * (high - x[high_ind - 1]),\n",
    "        0.0,\n",
    "    )\n",
    "\n",
    "    # central bits\n",
    "    yint = (y[1:] + y[:-1]) / 2.0 * dx\n",
    "    yind = np.arange(yint.shape[0])\n",
    "    msk = (yind >= low_ind) & (yind < high_ind - 1)\n",
    "    icen = np.where(\n",
    "        np.any(msk),\n",
    "        np.sum(\n",
    "            np.where(\n",
    "                msk,\n",
    "                yint,\n",
    "                np.zeros_like(yint),\n",
    "            )\n",
    "        ),\n",
    "        0.0,\n",
    "    )\n",
    "\n",
    "    return ileft + icen + iright"
   ]
  },
  {
   "cell_type": "code",
   "execution_count": 4,
   "id": "bf6e29c5-342b-4390-8f39-21d45c0bcd3d",
   "metadata": {
    "tags": []
   },
   "outputs": [],
   "source": [
    "os.environ[\"IMSIM_DATA\"] = \"/global/cfs/cdirs/desbalro\"\n",
    "os.environ[\"PATH\"] += \":/global/common/software/nersc/pm-2023q2/sw/texlive/2022/bin/x86_64-linux\""
   ]
  },
  {
   "cell_type": "code",
   "execution_count": 5,
   "id": "9b2cc624-b30a-4e06-bdf8-c45769eb20fe",
   "metadata": {
    "tags": []
   },
   "outputs": [],
   "source": [
    "SHEAR_STEPS = [\n",
    "    'g1_slice=0.02__g2_slice=0.00__g1_other=0.00__g2_other=0.00__zlow=0.0__zhigh=6.0',\n",
    "    'g1_slice=-0.02__g2_slice=0.00__g1_other=0.00__g2_other=0.00__zlow=0.0__zhigh=6.0',\n",
    "    'g1_slice=0.02__g2_slice=0.00__g1_other=-0.02__g2_other=0.00__zlow=0.6__zhigh=0.9',\n",
    "    'g1_slice=0.02__g2_slice=0.00__g1_other=-0.02__g2_other=0.00__zlow=1.8__zhigh=2.1',\n",
    "    'g1_slice=0.02__g2_slice=0.00__g1_other=-0.02__g2_other=0.00__zlow=0.9__zhigh=1.2',\n",
    "    'g1_slice=0.02__g2_slice=0.00__g1_other=-0.02__g2_other=0.00__zlow=2.1__zhigh=2.4',\n",
    "    'g1_slice=0.02__g2_slice=0.00__g1_other=-0.02__g2_other=0.00__zlow=0.0__zhigh=0.3',\n",
    "    'g1_slice=0.02__g2_slice=0.00__g1_other=-0.02__g2_other=0.00__zlow=1.2__zhigh=1.5',\n",
    "    'g1_slice=0.02__g2_slice=0.00__g1_other=-0.02__g2_other=0.00__zlow=2.4__zhigh=2.7',\n",
    "    'g1_slice=0.02__g2_slice=0.00__g1_other=-0.02__g2_other=0.00__zlow=0.3__zhigh=0.6',\n",
    "    'g1_slice=0.02__g2_slice=0.00__g1_other=-0.02__g2_other=0.00__zlow=1.5__zhigh=1.8',\n",
    "    'g1_slice=0.02__g2_slice=0.00__g1_other=-0.02__g2_other=0.00__zlow=2.7__zhigh=6.0',\n",
    "]\n",
    "TOMOGRAPHIC_BINS = [0, 1, 2, 3]\n",
    "CELL_IDS = list(range(1024 + 1))\n",
    "MDET_STEPS = [\"noshear\", \"1p\", \"1m\", \"2p\", \"2m\"]\n",
    "\n",
    "BANDS = [\"g\", \"r\", \"i\", \"z\"]\n",
    "\n",
    "ZVALS = np.array([\n",
    "    0.   , 0.035, 0.085, 0.135, 0.185, 0.235, 0.285, 0.335, 0.385,\n",
    "    0.435, 0.485, 0.535, 0.585, 0.635, 0.685, 0.735, 0.785, 0.835,\n",
    "    0.885, 0.935, 0.985, 1.035, 1.085, 1.135, 1.185, 1.235, 1.285,\n",
    "    1.335, 1.385, 1.435, 1.485, 1.535, 1.585, 1.635, 1.685, 1.735,\n",
    "    1.785, 1.835, 1.885, 1.935, 1.985, 2.035, 2.085, 2.135, 2.185,\n",
    "    2.235, 2.285, 2.335, 2.385, 2.435, 2.485, 2.535, 2.585, 2.635,\n",
    "    2.685, 2.735, 2.785, 2.835, 2.885, 2.935, 2.985])\n",
    "ZEDGES = np.array([0.  , 0.01, 0.06, 0.11, 0.16, 0.21, 0.26, 0.31, 0.36, 0.41, 0.46,\n",
    "       0.51, 0.56, 0.61, 0.66, 0.71, 0.76, 0.81, 0.86, 0.91, 0.96, 1.01,\n",
    "       1.06, 1.11, 1.16, 1.21, 1.26, 1.31, 1.36, 1.41, 1.46, 1.51, 1.56,\n",
    "       1.61, 1.66, 1.71, 1.76, 1.81, 1.86, 1.91, 1.96, 2.01, 2.06, 2.11,\n",
    "       2.16, 2.21, 2.26, 2.31, 2.36, 2.41, 2.46, 2.51, 2.56, 2.61, 2.66,\n",
    "       2.71, 2.76, 2.81, 2.86, 2.91, 2.96, 3.01])"
   ]
  },
  {
   "cell_type": "code",
   "execution_count": 12,
   "id": "a1994ec5-03cf-47e4-9273-1782a65ea9da",
   "metadata": {
    "tags": []
   },
   "outputs": [],
   "source": [
    "shear_step_plus = 'g1_slice=0.02__g2_slice=0.00__g1_other=0.00__g2_other=0.00__zlow=0.0__zhigh=6.0'\n",
    "shear_step_minus = 'g1_slice=-0.02__g2_slice=0.00__g1_other=0.00__g2_other=0.00__zlow=0.0__zhigh=6.0'"
   ]
  },
  {
   "cell_type": "code",
   "execution_count": 14,
   "id": "dd0088e7-0f36-4919-aa7c-6f31cb415e22",
   "metadata": {
    "tags": []
   },
   "outputs": [],
   "source": [
    "tomo_colors = {\n",
    "    0: \"blue\",\n",
    "    1: \"gold\",\n",
    "    2: \"green\",\n",
    "    3: \"red\",\n",
    "}\n",
    "tomographic_bins = [0, 1, 2, 3]"
   ]
  },
  {
   "cell_type": "code",
   "execution_count": 7,
   "id": "fc07d8ba-1fdd-4d0f-afd9-fca53af23db7",
   "metadata": {
    "tags": []
   },
   "outputs": [],
   "source": [
    "imsim_base = \"/global/cfs/cdirs/des/y6-image-sims/fiducial-400/\"\n",
    "imsim_catalogs = {\n",
    "    shear_step: os.path.join(\n",
    "        imsim_base,\n",
    "        shear_step,\n",
    "        \"metadetect_cutsv6_all.h5\",\n",
    "    )\n",
    "    for shear_step in SHEAR_STEPS\n",
    "}\n",
    "hf_imsim_dict = {\n",
    "    shear_step: h5py.File(imsim_catalog, mode=\"r\")\n",
    "    for shear_step, imsim_catalog in imsim_catalogs.items()\n",
    "}"
   ]
  },
  {
   "cell_type": "code",
   "execution_count": 8,
   "id": "af112620-3a78-4e97-9f95-836c8a615fb0",
   "metadata": {
    "tags": []
   },
   "outputs": [],
   "source": [
    "redshift_base = \"/global/cfs/cdirs/des/y6-redshift/imsim_400Tile/fidbin_S005/\"\n",
    "redshift_catalogs = {\n",
    "    shear_step: os.path.join(\n",
    "        redshift_base,\n",
    "        f\"{shear_step}_sompz_unblind_fidbin.h5\"\n",
    "    )\n",
    "    for shear_step in SHEAR_STEPS\n",
    "}\n",
    "hf_redshift_dict = {\n",
    "    shear_step: h5py.File(redshift_catalog, mode=\"r\")\n",
    "    for shear_step, redshift_catalog in redshift_catalogs.items()\n",
    "}"
   ]
  },
  {
   "cell_type": "code",
   "execution_count": 10,
   "id": "2d43a12d-8478-4285-91f8-a05d7570d524",
   "metadata": {
    "tags": []
   },
   "outputs": [],
   "source": [
    "hf_match_dict = {\n",
    "    shear_step: h5py.File(f\"match_{shear_step}.hdf5\", mode=\"r\")\n",
    "    for shear_step in SHEAR_STEPS\n",
    "}"
   ]
  },
  {
   "cell_type": "code",
   "execution_count": 17,
   "id": "e89b852d-1bd2-4214-bc28-c4838a1e14c3",
   "metadata": {
    "tags": []
   },
   "outputs": [],
   "source": [
    "zbinsc = hf_redshift_dict[shear_step_plus][\"sompz\"][\"pzdata_weighted_S005\"][\"zbinsc\"][:]\n",
    "\n",
    "zc = np.concatenate([[0.0], zbinsc])\n",
    "\n",
    "nz_sompz = {}\n",
    "for tomographic_bin in tomographic_bins:\n",
    "    _nz_p = hf_redshift_dict[shear_step_plus][\"sompz\"][\"pzdata_weighted_S005\"][f\"bin{tomographic_bin}\"][:]\n",
    "    _nz_p = np.concatenate([[0.0], _nz_p])\n",
    "    \n",
    "    _nz_p = _nz_p / np.asarray(sompz_integral(_nz_p, zc, 0, 6.0))\n",
    "    \n",
    "    \n",
    "    _nz_m = hf_redshift_dict[shear_step_minus][\"sompz\"][\"pzdata_weighted_S005\"][f\"bin{tomographic_bin}\"][:]\n",
    "    _nz_m = np.concatenate([[0.0], _nz_m])\n",
    "    \n",
    "    _nz_m = _nz_m / np.asarray(sompz_integral(_nz_m, zc, 0, 6.0))\n",
    "\n",
    "    \n",
    "    nz_sompz[tomographic_bin] = (_nz_p + _nz_m) / 2 \n",
    "    \n",
    "nz_sompz[-1] = (nz_sompz[0] + nz_sompz[1] + nz_sompz[2] + nz_sompz[3]) / 4"
   ]
  },
  {
   "cell_type": "markdown",
   "id": "45a095d5-b726-49d3-b0a1-405ccf5e074c",
   "metadata": {},
   "source": [
    "---"
   ]
  },
  {
   "cell_type": "code",
   "execution_count": 19,
   "id": "ed7a8afc-de5e-4bce-906a-01c084b42c55",
   "metadata": {
    "tags": []
   },
   "outputs": [],
   "source": [
    "import tomographic_matching"
   ]
  },
  {
   "cell_type": "code",
   "execution_count": 21,
   "id": "6f132d7e-85ce-4ea4-8d1c-3c136c6ed55d",
   "metadata": {},
   "outputs": [],
   "source": [
    "bhat = tomographic_matching.get_bhat(\n",
    "    hf_imsim_dict[shear_step_plus],\n",
    "    hf_redshift_dict[shear_step_plus],\n",
    ")\n",
    "assignments = tomographic_matching.get_assignments(\n",
    "    hf_imsim_dict[shear_step_plus],\n",
    "    hf_redshift_dict[shear_step_plus],\n",
    ")\n",
    "statistical_weights = tomographic_matching.get_statistical_weights(\n",
    "    hf_imsim_dict[shear_step_plus],\n",
    ")\n",
    "g1 = tomographic_matching.get_g1(\n",
    "    hf_imsim_dict[shear_step_plus],\n",
    ")\n",
    "g2 = tomographic_matching.get_g2(\n",
    "    hf_imsim_dict[shear_step_plus],\n",
    ")"
   ]
  },
  {
   "cell_type": "code",
   "execution_count": 30,
   "id": "e4d266b1-d787-4552-ae0d-6d625c553b49",
   "metadata": {
    "tags": []
   },
   "outputs": [],
   "source": [
    "response_grid = tomographic_matching.get_response_grid(g1, g2, assignments, statistical_weights)"
   ]
  },
  {
   "cell_type": "code",
   "execution_count": 98,
   "id": "d0bf448d-ea3e-4753-9301-3408f9cf786c",
   "metadata": {
    "tags": []
   },
   "outputs": [
    {
     "data": {
      "image/png": "[encoded data removed]",
      "text/plain": [
       "<Figure size 640x480 with 2 Axes>"
      ]
     },
     "metadata": {},
     "output_type": "display_data"
    }
   ],
   "source": [
    "fig, axs = plt.subplots(1, 1)\n",
    "\n",
    "m = axs.imshow(\n",
    "    response_grid.reshape(32, 32),\n",
    "    origin=\"lower\",\n",
    ")\n",
    "fig.colorbar(m, label=\"$\\\\langle R \\\\rangle$\")\n",
    "\n",
    "axs.set_xticks([])\n",
    "axs.set_yticks([])\n",
    "\n",
    "plt.show()"
   ]
  },
  {
   "cell_type": "code",
   "execution_count": 34,
   "id": "546c01f2-a1a6-41ba-89b3-fe7a176cf55a",
   "metadata": {
    "tags": []
   },
   "outputs": [],
   "source": [
    "weight_grid = tomographic_matching.get_weight_grid(assignments, statistical_weights)"
   ]
  },
  {
   "cell_type": "code",
   "execution_count": 97,
   "id": "ef1adef8-1fe1-42a7-a75b-8ec8a26a9827",
   "metadata": {
    "tags": []
   },
   "outputs": [
    {
     "data": {
      "image/png": "[encoded data removed]",
      "text/plain": [
       "<Figure size 640x480 with 2 Axes>"
      ]
     },
     "metadata": {},
     "output_type": "display_data"
    }
   ],
   "source": [
    "fig, axs = plt.subplots(1, 1)\n",
    "\n",
    "m = axs.imshow(\n",
    "    weight_grid.reshape(32, 32),\n",
    "    origin=\"lower\",\n",
    ")\n",
    "fig.colorbar(m, label=\"$\\\\sum w$\")\n",
    "\n",
    "axs.set_xticks([])\n",
    "axs.set_yticks([])\n",
    "\n",
    "plt.show()"
   ]
  },
  {
   "cell_type": "code",
   "execution_count": 38,
   "id": "516bff7a-72e7-4507-b54e-c0911a8fde97",
   "metadata": {
    "tags": []
   },
   "outputs": [
    {
     "name": "stdout",
     "output_type": "stream",
     "text": [
      "DES2359+0001 (395 / 395)\r"
     ]
    }
   ],
   "source": [
    "nz, zedges = tomographic_matching.get_redshift_distribution(hf_match_dict[shear_step_plus], assignments, statistical_weights)"
   ]
  },
  {
   "cell_type": "code",
   "execution_count": 96,
   "id": "c3707e5e-2579-40fa-a6f0-869f2117da12",
   "metadata": {
    "tags": []
   },
   "outputs": [
    {
     "data": {
      "image/png": "[encoded data removed]",
      "text/plain": [
       "<Figure size 640x480 with 2 Axes>"
      ]
     },
     "metadata": {},
     "output_type": "display_data"
    }
   ],
   "source": [
    "fig, axs = plt.subplots(1, 1)\n",
    "\n",
    "m = axs.imshow(\n",
    "    np.sum(nz, axis=1).reshape(32, 32),\n",
    "    origin=\"lower\",\n",
    ")\n",
    "fig.colorbar(m, label=\"$n(z)$\")\n",
    "\n",
    "axs.set_xticks([])\n",
    "axs.set_yticks([])\n",
    "\n",
    "plt.show()"
   ]
  },
  {
   "cell_type": "code",
   "execution_count": 62,
   "id": "1359130e-cf7f-48cb-b8be-9a5ae955ed5d",
   "metadata": {
    "tags": []
   },
   "outputs": [],
   "source": [
    "nz_tomo = tomographic_matching.get_tomographic_redshift_distribution(nz, response_grid, weight_grid, assignments, bhat)"
   ]
  },
  {
   "cell_type": "code",
   "execution_count": 75,
   "id": "12cf76d3-6264-471d-ac7a-923a6d41af17",
   "metadata": {
    "tags": []
   },
   "outputs": [],
   "source": [
    "cell_assignments = {}\n",
    "for tomographic_bin in TOMOGRAPHIC_BINS:\n",
    "    cell_assignments[tomographic_bin] = np.unique(\n",
    "        assignments[\"noshear\"][bhat == tomographic_bin]\n",
    "    ).astype(int)\n",
    "\n",
    "assert len(\n",
    "    functools.reduce(\n",
    "        np.intersect1d,\n",
    "        [\n",
    "            cells\n",
    "            for cells in cell_assignments.values()\n",
    "        ],\n",
    "    )\n",
    ") == 0\n",
    "\n",
    "nz_tomo = {}\n",
    "for tomographic_bin in TOMOGRAPHIC_BINS:\n",
    "    nz_tomo[tomographic_bin] = np.sum(\n",
    "        nz[cell_assignments[tomographic_bin]] \\\n",
    "        * response_grid[cell_assignments[tomographic_bin], np.newaxis] \\\n",
    "        * weight_grid[cell_assignments[tomographic_bin], np.newaxis],\n",
    "        axis=0\n",
    "    ) / np.sum(\n",
    "        response_grid[cell_assignments[tomographic_bin]] \\\n",
    "        * weight_grid[cell_assignments[tomographic_bin]]\n",
    "    )\n",
    "    # manually force n(0) = 0\n",
    "    nz_tomo[tomographic_bin][0] = 0"
   ]
  },
  {
   "cell_type": "code",
   "execution_count": 134,
   "id": "1897f0ac-d8dc-445e-a2f3-8b8b2d8308a1",
   "metadata": {
    "tags": []
   },
   "outputs": [
    {
     "data": {
      "image/png": "[encoded data removed]",
      "text/plain": [
       "<Figure size 640x480 with 12 Axes>"
      ]
     },
     "metadata": {},
     "output_type": "display_data"
    }
   ],
   "source": [
    "fig, axs = plt.subplots(3, len(TOMOGRAPHIC_BINS), sharex=True, sharey=True)\n",
    "\n",
    "nz_norm = mpl.colors.CenteredNorm()\n",
    "r_norm = mpl.colors.CenteredNorm()\n",
    "w_norm = mpl.colors.CenteredNorm()\n",
    "\n",
    "for tomographic_bin in TOMOGRAPHIC_BINS:\n",
    "    _nz = np.zeros_like(nz)\n",
    "    _r = np.zeros_like(nz)\n",
    "    _w = np.zeros_like(nz)\n",
    "    \n",
    "    _nz[cell_assignments[tomographic_bin]] = nz[cell_assignments[tomographic_bin]]\n",
    "    _r[cell_assignments[tomographic_bin]] = response_grid[cell_assignments[tomographic_bin], np.newaxis]\n",
    "    _w[cell_assignments[tomographic_bin]] = weight_grid[cell_assignments[tomographic_bin], np.newaxis]\n",
    "    \n",
    "    axs[0, tomographic_bin].set_title(tomographic_bin)\n",
    "        \n",
    "    axs[0, tomographic_bin].imshow(\n",
    "        np.sum(_nz, axis=1).reshape(32, 32),\n",
    "        norm=nz_norm,\n",
    "        cmap=\"seismic\",\n",
    "    )\n",
    "    \n",
    "    axs[1, tomographic_bin].imshow(\n",
    "        np.sum(_r, axis=1).reshape(32, 32),\n",
    "        norm=r_norm,\n",
    "        cmap=\"seismic\",\n",
    "    )\n",
    "    \n",
    "    axs[2, tomographic_bin].imshow(\n",
    "        np.sum(_w, axis=1).reshape(32, 32),\n",
    "        norm=w_norm,\n",
    "        cmap=\"seismic\",\n",
    "    )\n",
    "\n",
    "axs[0, 0].set_ylabel(\"$n(z)$\")\n",
    "axs[1, 0].set_ylabel(\"$R$\")\n",
    "axs[2, 0].set_ylabel(\"$w$\")\n",
    "\n",
    "for ax in axs.ravel():\n",
    "    ax.set_xticks([])\n",
    "    ax.set_yticks([])\n",
    "\n",
    "plt.show()"
   ]
  },
  {
   "cell_type": "code",
   "execution_count": 133,
   "id": "f6bed5ff-0160-4054-ab51-2e561e13e02a",
   "metadata": {
    "tags": []
   },
   "outputs": [
    {
     "data": {
      "image/png": "[encoded data removed]",
      "text/plain": [
       "<Figure size 640x480 with 8 Axes>"
      ]
     },
     "metadata": {},
     "output_type": "display_data"
    }
   ],
   "source": [
    "fig, axs = plt.subplots(2, len(TOMOGRAPHIC_BINS), sharex=True, sharey=True)\n",
    "\n",
    "nz_norm = mpl.colors.CenteredNorm()\n",
    "r_norm = mpl.colors.CenteredNorm()\n",
    "\n",
    "for tomographic_bin in TOMOGRAPHIC_BINS:\n",
    "    _nz = np.zeros_like(nz)\n",
    "    _r = np.zeros_like(nz)\n",
    "    _w = np.zeros_like(nz)\n",
    "    \n",
    "    _nz[cell_assignments[tomographic_bin]] = nz[cell_assignments[tomographic_bin]]\n",
    "    _r[cell_assignments[tomographic_bin]] = response_grid[cell_assignments[tomographic_bin], np.newaxis]\n",
    "    _w[cell_assignments[tomographic_bin]] = weight_grid[cell_assignments[tomographic_bin], np.newaxis]\n",
    "    \n",
    "    axs[0, tomographic_bin].set_title(tomographic_bin)\n",
    "        \n",
    "    axs[0, tomographic_bin].imshow(\n",
    "        np.sum(_nz * _r * _w, axis=1).reshape(32, 32),\n",
    "        norm=nz_norm,\n",
    "        cmap=\"seismic\",\n",
    "    )\n",
    "    \n",
    "    axs[1, tomographic_bin].imshow(\n",
    "        np.sum(_r * _w, axis=1).reshape(32, 32),\n",
    "        norm=r_norm,\n",
    "        cmap=\"seismic\",\n",
    "    )\n",
    "\n",
    "\n",
    "axs[0, 0].set_ylabel(\"$n(z) \\\\times R \\\\times w$\")\n",
    "axs[1, 0].set_ylabel(\"$R \\\\times w$\")\n",
    "\n",
    "\n",
    "for ax in axs.ravel():\n",
    "    ax.set_xticks([])\n",
    "    ax.set_yticks([])\n",
    "\n",
    "plt.show()"
   ]
  },
  {
   "cell_type": "code",
   "execution_count": null,
   "id": "b7098cc8-9d00-4fa5-bcb2-fca04730bd2c",
   "metadata": {},
   "outputs": [],
   "source": []
  }
 ],
 "metadata": {
  "kernelspec": {
   "display_name": "DESY6DEV",
   "language": "python",
   "name": "des-y6-dev"
  },
  "language_info": {
   "codemirror_mode": {
    "name": "ipython",
    "version": 3
   },
   "file_extension": ".py",
   "mimetype": "text/x-python",
   "name": "python",
   "nbconvert_exporter": "python",
   "pygments_lexer": "ipython3",
   "version": "3.11.10"
  }
 },
 "nbformat": 4,
 "nbformat_minor": 5
}
