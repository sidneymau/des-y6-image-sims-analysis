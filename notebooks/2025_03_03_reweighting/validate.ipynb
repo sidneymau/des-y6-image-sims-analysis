{
 "cells": [
  {
   "cell_type": "code",
   "execution_count": 23,
   "id": "79310882-63b8-4a74-9693-59391eaa61e0",
   "metadata": {},
   "outputs": [],
   "source": [
    "import os\n",
    "import operator\n",
    "import functools"
   ]
  },
  {
   "cell_type": "code",
   "execution_count": 2,
   "id": "94945802-2056-4aff-8879-6416c1b83cd9",
   "metadata": {},
   "outputs": [],
   "source": [
    "import numpy as np\n",
    "import h5py\n",
    "import matplotlib.pyplot as plt\n",
    "import matplotlib as mpl\n",
    "from scipy import stats"
   ]
  },
  {
   "cell_type": "code",
   "execution_count": 3,
   "id": "38758468-2f68-401f-b549-90bc07d4c452",
   "metadata": {},
   "outputs": [],
   "source": [
    "import lib"
   ]
  },
  {
   "cell_type": "code",
   "execution_count": 4,
   "id": "7ea5260f-b562-4c6e-9593-e26205461a8e",
   "metadata": {},
   "outputs": [],
   "source": [
    "shear_step_plus = \"g1_slice=0.02__g2_slice=0.00__g1_other=0.00__g2_other=0.00__zlow=0.0__zhigh=6.0\"\n",
    "shear_step_minus = \"g1_slice=-0.02__g2_slice=0.00__g1_other=0.00__g2_other=0.00__zlow=0.0__zhigh=6.0\""
   ]
  },
  {
   "cell_type": "code",
   "execution_count": 24,
   "id": "1953e19e-8e6a-4d25-8a37-bcb74ef61482",
   "metadata": {},
   "outputs": [],
   "source": [
    "def get_weight(weight_dataset, weight_keys=[\"statistical_weight\"]):\n",
    "    return functools.reduce(\n",
    "        operator.mul,\n",
    "        [\n",
    "            weight_dataset[weight_key][:]\n",
    "            for weight_key in weight_keys\n",
    "        ],\n",
    "    )"
   ]
  },
  {
   "cell_type": "markdown",
   "id": "feb520a3-c13f-4635-8d6e-696920cab20b",
   "metadata": {},
   "source": [
    "---"
   ]
  },
  {
   "cell_type": "code",
   "execution_count": 30,
   "id": "93c5bee8-e0e4-4558-b10d-ecbeed680358",
   "metadata": {},
   "outputs": [],
   "source": [
    "tomo_plus = h5py.File(lib.const.SIM_TOMOGRAPHY_CATALOGS[shear_step_plus])"
   ]
  },
  {
   "cell_type": "code",
   "execution_count": 5,
   "id": "426f5b45-c2fd-4f61-87b5-160aeb1ff17f",
   "metadata": {},
   "outputs": [],
   "source": [
    "weight_plus = h5py.File(lib.const.SIM_WEIGHT_CATALOGS[shear_step_plus])"
   ]
  },
  {
   "cell_type": "code",
   "execution_count": 6,
   "id": "514516e2-a779-41de-9b4d-91b5cdec1a28",
   "metadata": {},
   "outputs": [],
   "source": [
    "neighbors_plus = h5py.File(\n",
    "    f\"/pscratch/sd/s/smau/fiducial-neighbors/neighbors_{shear_step_plus}.hdf5\",\n",
    ")"
   ]
  },
  {
   "cell_type": "code",
   "execution_count": 41,
   "id": "4dd980ce-d212-459e-ac66-d3a9c06766e1",
   "metadata": {},
   "outputs": [],
   "source": [
    "bhat_plus = tomo_plus[\"sompz\"][\"noshear\"][\"bhat\"][:]"
   ]
  },
  {
   "cell_type": "code",
   "execution_count": 7,
   "id": "c5ce05f2-99d6-4f45-81f5-2d64033d1fd5",
   "metadata": {},
   "outputs": [],
   "source": [
    "d_plus = neighbors_plus[\"mdet\"][\"noshear\"][\"neighbor_distance\"][:]"
   ]
  },
  {
   "cell_type": "code",
   "execution_count": 8,
   "id": "fb530014-b1bc-4727-9d11-3985ed8b5f96",
   "metadata": {},
   "outputs": [
    {
     "name": "stdout",
     "output_type": "stream",
     "text": [
      "1.5229548185634546e-09 0.04043589154999748\n"
     ]
    }
   ],
   "source": [
    "print(np.nanmin(d_plus), np.nanmax(d_plus))"
   ]
  },
  {
   "cell_type": "code",
   "execution_count": 27,
   "id": "e8c6845a-2536-4be6-afd7-8c70fad0a1d8",
   "metadata": {},
   "outputs": [],
   "source": [
    "w_plus = get_weight(weight_plus[\"mdet\"][\"noshear\"], [\"statistical_weight\"])"
   ]
  },
  {
   "cell_type": "code",
   "execution_count": 28,
   "id": "638c6f90-c8e5-48ea-9896-b6e2794c7b90",
   "metadata": {},
   "outputs": [],
   "source": [
    "rw_plus = get_weight(weight_plus[\"mdet\"][\"noshear\"], [\"statistical_weight\", \"neighbor_weight\"])"
   ]
  },
  {
   "cell_type": "code",
   "execution_count": 19,
   "id": "ad2917f1-1b55-430f-95ea-4d3bc4030cdd",
   "metadata": {},
   "outputs": [],
   "source": [
    "NBINS = 100 \n",
    "bins = np.deg2rad(np.geomspace(1e-2, 1e1, NBINS + 1) / 60)"
   ]
  },
  {
   "cell_type": "code",
   "execution_count": 20,
   "id": "01d3bbe3-29e0-4b38-a8ea-e63944786ba4",
   "metadata": {},
   "outputs": [
    {
     "name": "stdout",
     "output_type": "stream",
     "text": [
      "2.9088820866572157e-06 0.002908882086657216\n"
     ]
    }
   ],
   "source": [
    "print(np.min(bins), np.max(bins))"
   ]
  },
  {
   "cell_type": "code",
   "execution_count": 42,
   "id": "fd13ff34-6932-4f8d-92f5-259c430a5e41",
   "metadata": {},
   "outputs": [
    {
     "data": {
      "image/png": "[encoded data removed]",
      "text/plain": [
       "<Figure size 700x300 with 4 Axes>"
      ]
     },
     "metadata": {},
     "output_type": "display_data"
    }
   ],
   "source": [
    "fig, axs = plt.subplots(1, len(lib.const.TOMOGRAPHIC_BINS), sharex=True, sharey=True, figsize=(7, 3), constrained_layout=True)\n",
    "\n",
    "for i in lib.const.TOMOGRAPHIC_BINS:\n",
    "    sel = (bhat_plus == i)\n",
    "    axs[i].hist(\n",
    "        d_plus[sel],\n",
    "        weights=w_plus[sel],\n",
    "        label=\"unweighted\",\n",
    "        bins=bins,\n",
    "        histtype=\"step\",\n",
    "    )\n",
    "    axs[i].hist(\n",
    "        d_plus[sel],\n",
    "        weights=rw_plus[sel],\n",
    "        label=\"weighted\",\n",
    "        bins=bins,\n",
    "        histtype=\"step\",\n",
    "    )\n",
    "\n",
    "\n",
    "axs[0].set_xscale(\"log\")\n",
    "# plt.xlim(0, None)\n",
    "# axs[0].legend(loc=\"upper left\")\n",
    "\n",
    "fig.supxlabel(\"nearest neighbor distance [rad]\")\n",
    "# fig.supylabel(\"\")\n",
    "\n",
    "plt.show()"
   ]
  },
  {
   "cell_type": "markdown",
   "id": "ea8fc821-d9e9-4e02-9e2b-df47a95b0b33",
   "metadata": {},
   "source": [
    "---"
   ]
  },
  {
   "cell_type": "code",
   "execution_count": null,
   "id": "444c49e5-ae48-4f8e-837e-0095a6655118",
   "metadata": {},
   "outputs": [],
   "source": []
  }
 ],
 "metadata": {
  "kernelspec": {
   "display_name": "DESY6DEV",
   "language": "python",
   "name": "des-y6-dev"
  },
  "language_info": {
   "codemirror_mode": {
    "name": "ipython",
    "version": 3
   },
   "file_extension": ".py",
   "mimetype": "text/x-python",
   "name": "python",
   "nbconvert_exporter": "python",
   "pygments_lexer": "ipython3",
   "version": "3.11.10"
  }
 },
 "nbformat": 4,
 "nbformat_minor": 5
}
