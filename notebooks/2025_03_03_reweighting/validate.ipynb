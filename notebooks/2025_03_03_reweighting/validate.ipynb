{
 "cells": [
  {
   "cell_type": "code",
   "execution_count": 29,
   "id": "79310882-63b8-4a74-9693-59391eaa61e0",
   "metadata": {},
   "outputs": [],
   "source": [
    "import os\n",
    "import pickle"
   ]
  },
  {
   "cell_type": "code",
   "execution_count": 2,
   "id": "94945802-2056-4aff-8879-6416c1b83cd9",
   "metadata": {},
   "outputs": [],
   "source": [
    "import numpy as np\n",
    "import h5py\n",
    "import matplotlib.pyplot as plt\n",
    "import matplotlib as mpl\n",
    "from scipy import stats"
   ]
  },
  {
   "cell_type": "code",
   "execution_count": 3,
   "id": "38758468-2f68-401f-b549-90bc07d4c452",
   "metadata": {},
   "outputs": [],
   "source": [
    "import lib"
   ]
  },
  {
   "cell_type": "code",
   "execution_count": 4,
   "id": "7ea5260f-b562-4c6e-9593-e26205461a8e",
   "metadata": {},
   "outputs": [],
   "source": [
    "shear_step_plus = \"g1_slice=0.02__g2_slice=0.00__g1_other=0.00__g2_other=0.00__zlow=0.0__zhigh=6.0\"\n",
    "shear_step_minus = \"g1_slice=-0.02__g2_slice=0.00__g1_other=0.00__g2_other=0.00__zlow=0.0__zhigh=6.0\""
   ]
  },
  {
   "cell_type": "code",
   "execution_count": 15,
   "id": "b62fab23-eb90-44d7-bd2f-df523d9e8f41",
   "metadata": {},
   "outputs": [],
   "source": [
    "weight_filename_plus = f\"weight_{shear_step_plus}.pickle\"\n",
    "weight_file_plus = os.path.join(\n",
    "    \"/pscratch/sd/s/smau\",\n",
    "    \"fiducial-weights\",\n",
    "    weight_filename_plus,\n",
    ")\n",
    "\n",
    "with open(weight_file_plus, \"rb\") as handle:\n",
    "    weight_plus = pickle.load(handle)"
   ]
  },
  {
   "cell_type": "code",
   "execution_count": 16,
   "id": "d034b0f3-1bf9-4adc-af35-02fb3e5aa5bd",
   "metadata": {},
   "outputs": [],
   "source": [
    "weight_filename_minus = f\"weight_{shear_step_minus}.pickle\"\n",
    "weight_file_minus = os.path.join(\n",
    "    \"/pscratch/sd/s/smau\",\n",
    "    \"fiducial-weights\",\n",
    "    weight_filename_minus,\n",
    ")\n",
    "\n",
    "with open(weight_file_minus, \"rb\") as handle:\n",
    "    weight_minus = pickle.load(handle)"
   ]
  },
  {
   "cell_type": "markdown",
   "id": "feb520a3-c13f-4635-8d6e-696920cab20b",
   "metadata": {},
   "source": [
    "---"
   ]
  },
  {
   "cell_type": "code",
   "execution_count": 30,
   "id": "fd13ff34-6932-4f8d-92f5-259c430a5e41",
   "metadata": {},
   "outputs": [
    {
     "data": {
      "image/png": "[encoded data removed]",
      "text/plain": [
       "<Figure size 640x480 with 1 Axes>"
      ]
     },
     "metadata": {},
     "output_type": "display_data"
    }
   ],
   "source": [
    "bins = np.linspace(0, np.nanmax(np.concatenate([weight_plus, weight_minus])), 101)\n",
    "\n",
    "plt.hist(\n",
    "    weight_plus,\n",
    "    label=\"sim (+)\",\n",
    "    bins=bins,\n",
    "    histtype=\"step\",\n",
    ")\n",
    "plt.hist(\n",
    "    weight_minus,\n",
    "    label=\"sim (-)\",\n",
    "    bins=bins,\n",
    "    histtype=\"step\",\n",
    ")\n",
    "plt.xlabel(\"weight\")\n",
    "plt.xlim(0, None)\n",
    "plt.legend()\n",
    "plt.show()"
   ]
  },
  {
   "cell_type": "markdown",
   "id": "ea8fc821-d9e9-4e02-9e2b-df47a95b0b33",
   "metadata": {},
   "source": [
    "---"
   ]
  },
  {
   "cell_type": "code",
   "execution_count": null,
   "id": "444c49e5-ae48-4f8e-837e-0095a6655118",
   "metadata": {},
   "outputs": [],
   "source": []
  }
 ],
 "metadata": {
  "kernelspec": {
   "display_name": "DESY6DEV",
   "language": "python",
   "name": "des-y6-dev"
  },
  "language_info": {
   "codemirror_mode": {
    "name": "ipython",
    "version": 3
   },
   "file_extension": ".py",
   "mimetype": "text/x-python",
   "name": "python",
   "nbconvert_exporter": "python",
   "pygments_lexer": "ipython3",
   "version": "3.11.10"
  }
 },
 "nbformat": 4,
 "nbformat_minor": 5
}
