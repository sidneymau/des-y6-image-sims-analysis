{
 "cells": [
  {
   "cell_type": "code",
   "execution_count": null,
   "id": "94945802-2056-4aff-8879-6416c1b83cd9",
   "metadata": {},
   "outputs": [],
   "source": [
    "import numpy as np\n",
    "import h5py\n",
    "import matplotlib.pyplot as plt\n",
    "import matplotlib as mpl\n",
    "from scipy import stats\n",
    "from sklearn import preprocessing\n",
    "from sklearn.cluster import KMeans, MiniBatchKMeans"
   ]
  },
  {
   "cell_type": "code",
   "execution_count": null,
   "id": "38758468-2f68-401f-b549-90bc07d4c452",
   "metadata": {},
   "outputs": [],
   "source": [
    "import lib"
   ]
  },
  {
   "cell_type": "code",
   "execution_count": null,
   "id": "47b0e42f-b184-42bc-84d8-8be52a9d7350",
   "metadata": {},
   "outputs": [],
   "source": [
    "rng = np.random.default_rng(0)"
   ]
  },
  {
   "cell_type": "code",
   "execution_count": null,
   "id": "7ea5260f-b562-4c6e-9593-e26205461a8e",
   "metadata": {},
   "outputs": [],
   "source": [
    "shear_step_plus = \"g1_slice=0.02__g2_slice=0.00__g1_other=0.00__g2_other=0.00__zlow=0.0__zhigh=6.0\"\n",
    "shear_step_minus = \"g1_slice=-0.02__g2_slice=0.00__g1_other=0.00__g2_other=0.00__zlow=0.0__zhigh=6.0\""
   ]
  },
  {
   "cell_type": "code",
   "execution_count": null,
   "id": "88582082-61e7-44d1-8317-91d6cc7e14b8",
   "metadata": {},
   "outputs": [],
   "source": [
    "shear_sim_plus = h5py.File(\n",
    "    lib.const.SIM_SHEAR_CATALOGS[shear_step_plus],\n",
    ")\n",
    "redshift_sim_plus = h5py.File(\n",
    "    lib.const.SIM_REDSHIFT_CATALOGS[shear_step_plus],\n",
    ")\n",
    "neighbors_sim_plus = h5py.File(\n",
    "    f\"/pscratch/sd/s/smau/fiducial-neighbors/neighbors_{shear_step_plus}.hdf5\",\n",
    ")"
   ]
  },
  {
   "cell_type": "code",
   "execution_count": null,
   "id": "24ff40f8-7cd0-4f2d-bed9-3e7dc82f6847",
   "metadata": {},
   "outputs": [],
   "source": [
    "shear_sim_minus = h5py.File(\n",
    "    lib.const.SIM_SHEAR_CATALOGS[shear_step_minus],\n",
    ")\n",
    "redshift_sim_minus = h5py.File(\n",
    "    lib.const.SIM_REDSHIFT_CATALOGS[shear_step_minus],\n",
    ")\n",
    "neighbors_sim_minus = h5py.File(\n",
    "    f\"/pscratch/sd/s/smau/fiducial-neighbors/neighbors_{shear_step_minus}.hdf5\",\n",
    ")"
   ]
  },
  {
   "cell_type": "code",
   "execution_count": null,
   "id": "009f4b29-82dc-4f6c-baa6-99ea4c133dc6",
   "metadata": {},
   "outputs": [],
   "source": [
    "bhat_sim_plus = lib.tomography.get_tomography(shear_sim_plus, redshift_sim_plus, \"noshear\")\n",
    "cell_sim_plus = lib.tomography.get_assignment(shear_sim_plus, redshift_sim_plus, \"noshear\")\n",
    "weight_sim_plus = lib.weight.get_shear_weights(shear_sim_plus[\"mdet/noshear\"])"
   ]
  },
  {
   "cell_type": "code",
   "execution_count": null,
   "id": "be48fa4c-6129-4c22-990c-0e99921e29ab",
   "metadata": {},
   "outputs": [],
   "source": [
    "bhat_sim_minus = lib.tomography.get_tomography(shear_sim_minus, redshift_sim_minus, \"noshear\")\n",
    "cell_sim_minus = lib.tomography.get_assignment(shear_sim_minus, redshift_sim_minus, \"noshear\")\n",
    "weight_sim_minus = lib.weight.get_shear_weights(shear_sim_minus[\"mdet/noshear\"])"
   ]
  },
  {
   "cell_type": "code",
   "execution_count": null,
   "id": "4dd52076-31df-4171-8d2d-d11a13a2ca04",
   "metadata": {},
   "outputs": [],
   "source": [
    "shear_y6 = h5py.File(lib.const.Y6_SHEAR_CATALOG)\n",
    "redshift_y6 = h5py.File(lib.const.Y6_REDSHIFT_CATALOG)\n",
    "neighbors_y6 = h5py.File(f\"/pscratch/sd/s/smau/fiducial-neighbors/neighbors_y6.hdf5\")"
   ]
  },
  {
   "cell_type": "code",
   "execution_count": null,
   "id": "9720f55f-fb76-4737-8e9e-d188fc8c4a14",
   "metadata": {},
   "outputs": [],
   "source": [
    "bhat_y6 = lib.tomography.get_tomography(shear_y6, redshift_y6, \"noshear\")\n",
    "cell_y6 = lib.tomography.get_assignment(shear_y6, redshift_y6, \"noshear\")\n",
    "weight_y6 = lib.weight.get_shear_weights(shear_y6[\"mdet/noshear\"])"
   ]
  },
  {
   "cell_type": "code",
   "execution_count": null,
   "id": "881286a7-28a1-49fb-bbc8-cc9f618c583e",
   "metadata": {},
   "outputs": [],
   "source": [
    "# cell_assignments = {}\n",
    "# for tomographic_bin in lib.const.TOMOGRAPHIC_BINS:\n",
    "#     cell_assignments[tomographic_bin] = np.unique(\n",
    "#         cell_y6[bhat_y6 == tomographic_bin]\n",
    "#     ).astype(int)\n",
    "\n",
    "# assert len(\n",
    "#     functools.reduce(\n",
    "#         np.intersect1d,\n",
    "#         [\n",
    "#             cells\n",
    "#             for cells in cell_assignments.values()\n",
    "#         ],\n",
    "#     )\n",
    "# ) == 0\n",
    "cell_assignments = lib.const.CELL_ASSIGNMENTS"
   ]
  },
  {
   "cell_type": "markdown",
   "id": "b1c10b88-9996-4fe0-a650-2724fac6b235",
   "metadata": {},
   "source": [
    "---"
   ]
  },
  {
   "cell_type": "code",
   "execution_count": null,
   "id": "942434aa-2e9e-42b1-9ef7-06f8749c20ad",
   "metadata": {},
   "outputs": [],
   "source": [
    "tomographic_bin = lib.const.TOMOGRAPHIC_BINS[0]"
   ]
  },
  {
   "cell_type": "code",
   "execution_count": null,
   "id": "6abd7e17-a182-4ad2-b41e-40df553b31de",
   "metadata": {},
   "outputs": [],
   "source": [
    "sel_sim_plus = (bhat_sim_plus == tomographic_bin)"
   ]
  },
  {
   "cell_type": "code",
   "execution_count": null,
   "id": "b4e05fc0-adf5-4932-b8ed-58b1c8dcbff1",
   "metadata": {},
   "outputs": [],
   "source": [
    "sel_sim_minus = (bhat_sim_minus == tomographic_bin)"
   ]
  },
  {
   "cell_type": "code",
   "execution_count": null,
   "id": "de3c679e-7852-4f62-95dc-31949feca2c8",
   "metadata": {},
   "outputs": [],
   "source": [
    "sel_y6 = (bhat_y6 == tomographic_bin)"
   ]
  },
  {
   "cell_type": "code",
   "execution_count": null,
   "id": "beeb432b-fa81-46ad-ab0e-315cccfacc0e",
   "metadata": {},
   "outputs": [],
   "source": [
    "# _weight_sim_plus = weight_sim_plus[sel_sim_plus]"
   ]
  },
  {
   "cell_type": "code",
   "execution_count": null,
   "id": "5c456b9b-2345-4e5c-9450-85bb29b05324",
   "metadata": {},
   "outputs": [],
   "source": [
    "# _weight_sim_minus = weight_sim_minus[sel_sim_minus]"
   ]
  },
  {
   "cell_type": "code",
   "execution_count": null,
   "id": "1b7b4d80-5c76-470c-a372-ca0ac9a025d7",
   "metadata": {},
   "outputs": [],
   "source": [
    "# _weight_y6 = weight_y6[sel_y6]"
   ]
  },
  {
   "cell_type": "code",
   "execution_count": null,
   "id": "0aa63ee3-3373-4505-86b2-27346d4e6116",
   "metadata": {},
   "outputs": [],
   "source": [
    "N_SUBSAMPLE = 400_000"
   ]
  },
  {
   "cell_type": "code",
   "execution_count": null,
   "id": "2ffeffa2-e27e-45de-88c9-a21615ce742b",
   "metadata": {},
   "outputs": [],
   "source": [
    "_sim_subsample_plus = rng.choice(sum(sel_sim_plus), N_SUBSAMPLE, replace=False)\n",
    "sim_subsample_plus = np.isin(\n",
    "    np.arange(sum(sel_sim_plus)),\n",
    "    _sim_subsample_plus,\n",
    ")"
   ]
  },
  {
   "cell_type": "code",
   "execution_count": null,
   "id": "f4148619-285f-4efe-bb47-bb219a3af066",
   "metadata": {},
   "outputs": [],
   "source": [
    "_sim_subsample_minus = rng.choice(sum(sel_sim_minus), N_SUBSAMPLE, replace=False)\n",
    "sim_subsample_minus = np.isin(\n",
    "    np.arange(sum(sel_sim_minus)),\n",
    "    _sim_subsample_minus,\n",
    ")"
   ]
  },
  {
   "cell_type": "code",
   "execution_count": null,
   "id": "638901a7-9bae-4293-8bed-0f3e6170e26a",
   "metadata": {},
   "outputs": [],
   "source": [
    "_y6_subsample = rng.choice(sum(sel_y6), N_SUBSAMPLE, replace=False)\n",
    "y6_subsample = np.isin(\n",
    "    np.arange(sum(sel_y6)),\n",
    "    _y6_subsample,\n",
    ")"
   ]
  },
  {
   "cell_type": "code",
   "execution_count": null,
   "id": "edc5beae-7da4-4c2f-ac85-10c86c785c8b",
   "metadata": {},
   "outputs": [],
   "source": [
    "neighbors_sim_plus[\"mdet\"][\"noshear\"][\"mag\"][sel_sim_plus][sim_subsample_plus],\n",
    "neighbors_sim_plus[\"mdet\"][\"noshear\"][\"neighbor_mag\"][sel_sim_plus][sim_subsample_plus],\n",
    "neighbors_sim_plus[\"mdet\"][\"noshear\"][\"neighbor_distance\"][sel_sim_plus][sim_subsample_plus]"
   ]
  },
  {
   "cell_type": "code",
   "execution_count": null,
   "id": "551a489e-7d3c-4a3d-9001-1764edf25ad8",
   "metadata": {},
   "outputs": [],
   "source": [
    "# bins = np.geomspace(1e0, 1e2, 101)\n",
    "NBINS = 100\n",
    "bins = np.geomspace(1e-6, 1e-2, NBINS + 1)\n",
    "\n",
    "fig, axs = plt.subplots(1, 1)\n",
    "\n",
    "# axs.hist(neighbor_distance_y6, bins=bins, histtype=\"step\")\n",
    "axs.hist(\n",
    "    neighbors_y6[\"mdet\"][\"noshear\"][\"neighbor_distance\"][sel_y6][y6_subsample],\n",
    "    weights=weight_y6[sel_y6][y6_subsample],\n",
    "    bins=bins,\n",
    "    histtype=\"step\",\n",
    "    label=\"Y6\",\n",
    ")\n",
    "axs.hist(\n",
    "    neighbors_sim_plus[\"mdet\"][\"noshear\"][\"neighbor_distance\"][sel_sim_plus][sim_subsample_plus],\n",
    "    weights=weight_sim_plus[sel_sim_plus][sim_subsample_plus],\n",
    "    bins=bins,\n",
    "    histtype=\"step\",\n",
    "    label=\"sim (+)\",\n",
    ")\n",
    "axs.hist(\n",
    "    neighbors_sim_minus[\"mdet\"][\"noshear\"][\"neighbor_distance\"][sel_sim_minus][sim_subsample_minus],\n",
    "    weights=weight_sim_minus[sel_sim_minus][sim_subsample_minus],\n",
    "    bins=bins,\n",
    "    histtype=\"step\",\n",
    "    label=\"sim (-)\",\n",
    ")\n",
    "\n",
    "axs.set_xscale(\"log\")\n",
    "\n",
    "axs.set_xlabel(\"nearest neighbor distance\")\n",
    "axs.set_ylabel(\"counts\")\n",
    "\n",
    "fig.show()"
   ]
  },
  {
   "cell_type": "code",
   "execution_count": null,
   "id": "7f68d233-ff99-4129-b957-06257a3d3ad5",
   "metadata": {},
   "outputs": [],
   "source": [
    "X_sim_plus = np.stack(\n",
    "    [\n",
    "        np.log10(neighbors_sim_plus[\"mdet\"][\"noshear\"][\"neighbor_mag\"][sel_sim_plus][sim_subsample_plus]),\n",
    "        neighbors_sim_plus[\"mdet\"][\"noshear\"][\"mag\"][sel_sim_plus][sim_subsample_plus],\n",
    "        neighbors_sim_plus[\"mdet\"][\"noshear\"][\"neighbor_distance\"][sel_sim_plus][sim_subsample_plus],\n",
    "    ],\n",
    "    axis=-1,\n",
    ")"
   ]
  },
  {
   "cell_type": "code",
   "execution_count": null,
   "id": "526fad30-43b9-4e14-b0a9-0c42d09826f8",
   "metadata": {},
   "outputs": [],
   "source": [
    "weights_sim_plus = weight_sim_plus[sel_sim_plus][sim_subsample_plus]"
   ]
  },
  {
   "cell_type": "code",
   "execution_count": null,
   "id": "8ae613ca-2554-40c6-b1e8-553ba23c763e",
   "metadata": {},
   "outputs": [],
   "source": [
    "X_sim_minus = np.stack(\n",
    "    [\n",
    "        np.log10(neighbors_sim_minus[\"mdet\"][\"noshear\"][\"neighbor_mag\"][sel_sim_minus][sim_subsample_minus]),\n",
    "        neighbors_sim_minus[\"mdet\"][\"noshear\"][\"mag\"][sel_sim_minus][sim_subsample_minus],\n",
    "        neighbors_sim_minus[\"mdet\"][\"noshear\"][\"neighbor_distance\"][sel_sim_minus][sim_subsample_minus],\n",
    "    ],\n",
    "    axis=-1,\n",
    ")"
   ]
  },
  {
   "cell_type": "code",
   "execution_count": null,
   "id": "154ada93-1876-48ba-8d69-2605a48e5281",
   "metadata": {},
   "outputs": [],
   "source": [
    "weights_sim_minus = weight_sim_minus[sel_sim_minus][sim_subsample_minus]"
   ]
  },
  {
   "cell_type": "code",
   "execution_count": null,
   "id": "7afc9594-55d1-4e79-b5f3-d13fd1490ed0",
   "metadata": {},
   "outputs": [],
   "source": [
    "X_sim = np.concatenate([X_sim_plus, X_sim_minus])\n",
    "W_sim = np.concatenate([weights_sim_plus, weights_sim_minus])"
   ]
  },
  {
   "cell_type": "code",
   "execution_count": null,
   "id": "9881e82a-2c3d-42cc-bd3e-fbfe2fc2c7ae",
   "metadata": {},
   "outputs": [],
   "source": [
    "X_y6 = np.stack(\n",
    "    [\n",
    "        np.log10(neighbors_y6[\"mdet\"][\"noshear\"][\"neighbor_mag\"][sel_y6][y6_subsample]),\n",
    "        neighbors_y6[\"mdet\"][\"noshear\"][\"mag\"][sel_y6][y6_subsample],\n",
    "        neighbors_y6[\"mdet\"][\"noshear\"][\"neighbor_distance\"][sel_y6][y6_subsample],\n",
    "    ],\n",
    "    axis=-1,\n",
    ")"
   ]
  },
  {
   "cell_type": "code",
   "execution_count": null,
   "id": "76930b51-1330-4b04-a8f2-1fc51ad75a4c",
   "metadata": {},
   "outputs": [],
   "source": [
    "W_y6 = weight_y6[sel_y6][y6_subsample]"
   ]
  },
  {
   "cell_type": "code",
   "execution_count": null,
   "id": "b33a0931-b87c-4310-8e7b-d870a84a0d8a",
   "metadata": {},
   "outputs": [],
   "source": [
    "X = np.concatenate([X_sim, X_y6])\n",
    "W = np.concatenate([W_sim, W_y6])"
   ]
  },
  {
   "cell_type": "code",
   "execution_count": null,
   "id": "d6fda925-5813-43f0-a92a-8b7578f81c32",
   "metadata": {},
   "outputs": [],
   "source": [
    "scaler = preprocessing.StandardScaler().fit(X)"
   ]
  },
  {
   "cell_type": "code",
   "execution_count": null,
   "id": "352e3e2d-f4d1-4d32-9489-70d3b12592f8",
   "metadata": {},
   "outputs": [],
   "source": [
    "ns = [1, 2, 5, 10, 20, 50, 100, 200, 500, 1000]\n",
    "inertias = []\n",
    "inertias_batch = []\n",
    "for n in ns:\n",
    "    kmeans = KMeans(\n",
    "        n_clusters=n,\n",
    "        random_state=0,\n",
    "    ).fit(\n",
    "        scaler.transform(X),\n",
    "        sample_weight=W,\n",
    "    )\n",
    "    inertias.append(kmeans.inertia_)\n",
    "\n",
    "    batch_kmeans = MiniBatchKMeans(\n",
    "        n_clusters=n,\n",
    "        random_state=0,\n",
    "    ).fit(\n",
    "        scaler.transform(X),\n",
    "        sample_weight=W,\n",
    "    )\n",
    "    inertias_batch.append(batch_kmeans.inertia_)"
   ]
  },
  {
   "cell_type": "code",
   "execution_count": null,
   "id": "3178a216-f02c-4e94-b642-62e439a7a3d5",
   "metadata": {},
   "outputs": [],
   "source": [
    "plt.axvline(200, ls=\":\")\n",
    "plt.plot(\n",
    "    ns,\n",
    "    inertias,\n",
    "    marker=\"o\",\n",
    "    markersize=2,\n",
    "    c=\"k\",\n",
    ")\n",
    "plt.plot(\n",
    "    ns,\n",
    "    inertias_batch,\n",
    "    marker=\"o\",\n",
    "    markersize=2,\n",
    "    c=\"r\",\n",
    "    ls=\"--\",\n",
    ")\n",
    "plt.xlabel(\"N Clusters\")\n",
    "plt.ylabel(\"Inertia\")\n",
    "plt.loglog()\n",
    "plt.show()"
   ]
  },
  {
   "cell_type": "code",
   "execution_count": null,
   "id": "a11b6626-2512-4dba-8e96-898db2fcf425",
   "metadata": {},
   "outputs": [],
   "source": [
    "N_CLUSTERS = 200"
   ]
  },
  {
   "cell_type": "code",
   "execution_count": null,
   "id": "62623c99-e6b1-43e1-a9b1-cae413bf8780",
   "metadata": {},
   "outputs": [],
   "source": [
    "kmeans = KMeans(\n",
    "    n_clusters=N_CLUSTERS,\n",
    "    random_state=0,\n",
    ").fit(\n",
    "    scaler.transform(X),\n",
    "    sample_weight=W,\n",
    ")"
   ]
  },
  {
   "cell_type": "code",
   "execution_count": null,
   "id": "a4fbeeb3-325f-469a-bf92-8834e1105681",
   "metadata": {},
   "outputs": [],
   "source": [
    "# y_sim = kmeans.predict(scaler.transform(X_sim))\n",
    "y_sim_plus = kmeans.predict(scaler.transform(X_sim_plus))\n",
    "y_sim_minus = kmeans.predict(scaler.transform(X_sim_minus))"
   ]
  },
  {
   "cell_type": "code",
   "execution_count": null,
   "id": "291ce520-7706-4afe-9530-d9e1e806c76c",
   "metadata": {},
   "outputs": [],
   "source": [
    "y_y6 = kmeans.predict(scaler.transform(X_y6))"
   ]
  },
  {
   "cell_type": "code",
   "execution_count": null,
   "id": "1593a19c-473a-44cd-a62d-cb35087baf30",
   "metadata": {},
   "outputs": [],
   "source": [
    "cmap = mpl.cm.cubehelix\n",
    "bounds = np.unique(kmeans.labels_)\n",
    "bounds = np.append(bounds, bounds[-1] + 1)\n",
    "norm = mpl.colors.BoundaryNorm(bounds, cmap.N)\n",
    "\n",
    "N_PLOT = 1_000\n",
    "_sim_subsample_plus = rng.choice(len(X_sim_plus), N_PLOT, replace=False)\n",
    "_sim_subsample_minus = rng.choice(len(X_sim_minus), N_PLOT, replace=False)\n",
    "_y6_subsample = rng.choice(len(X_y6), N_PLOT, replace=False)\n",
    "\n",
    "fig, axs = plt.subplots(2, 3, sharex=\"row\", sharey=\"row\")\n",
    "\n",
    "for ax in axs.ravel():\n",
    "    ax.set_facecolor(\"grey\")\n",
    "\n",
    "axs[0, 0].scatter(\n",
    "    10**X_sim_plus[_sim_subsample_plus, 0],\n",
    "    X_sim_plus[_sim_subsample_plus, 1] - X_sim_plus[_sim_subsample_plus, 2],\n",
    "    c=y_sim_plus[_sim_subsample_plus],\n",
    "    cmap=cmap,\n",
    "    norm=norm,\n",
    "    s=12,\n",
    ")\n",
    "axs[0, 0].set_xlabel(\"distance\")\n",
    "axs[0, 0].set_ylabel(\"$mag - mag_{neighbor}$\")\n",
    "\n",
    "axs[0, 1].scatter(\n",
    "    10**X_sim_minus[_sim_subsample_minus, 0],\n",
    "    X_sim_minus[_sim_subsample_minus, 1] - X_sim_minus[_sim_subsample_minus, 2],\n",
    "    c=y_sim_minus[_sim_subsample_minus],\n",
    "    cmap=cmap,\n",
    "    norm=norm,\n",
    "    s=12,\n",
    ")\n",
    "axs[0, 1].set_xlabel(\"distance\")\n",
    "# axs[0, 1].set_ylabel(\"$mag - mag_{neighbor}$\")\n",
    "\n",
    "axs[0, 2].scatter(\n",
    "    10**X_y6[_y6_subsample, 0],\n",
    "    X_y6[_y6_subsample, 1] - X_y6[_y6_subsample, 2],\n",
    "    c=y_y6[_y6_subsample],\n",
    "    cmap=cmap,\n",
    "    norm=norm,\n",
    "    s=12,\n",
    ")\n",
    "axs[0, 2].set_xlabel(\"distance\")\n",
    "# axs[0, 2].set_ylabel(\"$mag - mag_{neighbor}$\")\n",
    "\n",
    "axs[1, 0].scatter(\n",
    "    X_sim_plus[_sim_subsample_plus, 1],\n",
    "    X_sim_plus[_sim_subsample_plus, 2],\n",
    "    c=y_sim_plus[_sim_subsample_plus],\n",
    "    cmap=cmap,\n",
    "    norm=norm,\n",
    "    s=12,\n",
    ")\n",
    "axs[1, 0].set_xlabel(\"$mag$\")\n",
    "axs[1, 0].set_ylabel(\"$mag_{neighbor}$\")\n",
    "\n",
    "axs[1, 1].scatter(\n",
    "    X_sim_minus[_sim_subsample_minus, 1],\n",
    "    X_sim_minus[_sim_subsample_minus, 2],\n",
    "    c=y_sim_minus[_sim_subsample_minus],\n",
    "    cmap=cmap,\n",
    "    norm=norm,\n",
    "    s=12,\n",
    ")\n",
    "axs[1, 1].set_xlabel(\"$mag$\")\n",
    "# axs[1, 1].set_ylabel(\"$mag_{neighbor}$\")\n",
    "\n",
    "axs[1, 2].scatter(\n",
    "    X_y6[_y6_subsample, 1],\n",
    "    X_y6[_y6_subsample, 2],\n",
    "    c=y_y6[_y6_subsample],\n",
    "    cmap=cmap,\n",
    "    norm=norm,\n",
    "    s=12,\n",
    ")\n",
    "axs[1, 2].set_xlabel(\"$mag$\")\n",
    "# axs[1, 2].set_ylabel(\"$mag_{neighbor}$\")\n",
    "\n",
    "axs[0, 0].set_title(\"sim (+)\")\n",
    "axs[0, 1].set_title(\"sim (-)\")\n",
    "axs[0, 2].set_title(\"Y6\")\n",
    "\n",
    "# fig.supxlabel(\"nearest neighbor distance [arcsec]\")\n",
    "# fig.supylabel(\"$mag - mag_{neighbor}$\")\n",
    "\n",
    "cb = fig.colorbar(\n",
    "    mpl.cm.ScalarMappable(norm=norm, cmap=cmap),\n",
    "    ax=axs.ravel(),\n",
    "    label=\"K-Means Cluster Label\",\n",
    "    spacing=\"proportional\",\n",
    ")\n",
    "cb.locator = mpl.ticker.MaxNLocator(nbins=\"auto\", integer=True)\n",
    "cb.minor_locator = mpl.ticker.NullLocator()\n",
    "\n",
    "plt.show()"
   ]
  },
  {
   "cell_type": "markdown",
   "id": "feb520a3-c13f-4635-8d6e-696920cab20b",
   "metadata": {},
   "source": [
    "---"
   ]
  },
  {
   "cell_type": "code",
   "execution_count": null,
   "id": "50a822c1-4abe-4390-83bd-fd51f6f8313f",
   "metadata": {},
   "outputs": [],
   "source": [
    "w_bins = np.arange(N_CLUSTERS)"
   ]
  },
  {
   "cell_type": "code",
   "execution_count": null,
   "id": "32dcf186-8811-45e2-b103-95a5d0eaf78d",
   "metadata": {},
   "outputs": [],
   "source": [
    "w_plus = np.bincount(y_y6) / np.bincount(y_sim_plus)\n",
    "w_plus = np.ma.masked_invalid(w_plus)\n",
    "w_plus /= np.mean(w_plus)"
   ]
  },
  {
   "cell_type": "code",
   "execution_count": null,
   "id": "23610d75-7472-4766-b990-d430d3fc01b4",
   "metadata": {},
   "outputs": [],
   "source": [
    "w_minus = np.bincount(y_y6) / np.bincount(y_sim_minus)\n",
    "w_minus = np.ma.masked_invalid(w_minus)\n",
    "w_minus /= np.nanmean(w_minus)"
   ]
  },
  {
   "cell_type": "code",
   "execution_count": null,
   "id": "fd13ff34-6932-4f8d-92f5-259c430a5e41",
   "metadata": {},
   "outputs": [],
   "source": [
    "plt.hist(\n",
    "    [w_plus, w_minus],\n",
    "    label=[\"sim (+)\", \"sim (-)\"],\n",
    "    bins=100,\n",
    ")\n",
    "plt.xlabel(\"weight\")\n",
    "plt.legend()\n",
    "plt.show()"
   ]
  },
  {
   "cell_type": "code",
   "execution_count": null,
   "id": "85e66a9e-ae93-48ae-8165-622ac58b60c5",
   "metadata": {},
   "outputs": [],
   "source": [
    "_w_ind_plus = np.digitize(\n",
    "    y_sim_plus,\n",
    "    w_bins,\n",
    "    right=True,\n",
    ")\n",
    "\n",
    "_w_ind_minus = np.digitize(\n",
    "    y_sim_minus,\n",
    "    w_bins,\n",
    "    right=True,\n",
    ")"
   ]
  },
  {
   "cell_type": "code",
   "execution_count": null,
   "id": "d69a6514-bb21-4592-bfa6-57b449624a34",
   "metadata": {},
   "outputs": [],
   "source": [
    "w_plus_low = np.quantile(w_plus, 0.1)\n",
    "w_plus_high = np.quantile(w_plus, 0.9)\n",
    "\n",
    "w_minus_low = np.quantile(w_minus, 0.1)\n",
    "w_minus_high = np.quantile(w_minus, 0.9)"
   ]
  },
  {
   "cell_type": "code",
   "execution_count": null,
   "id": "808bd308-1913-4425-99ea-158e4ff6efbd",
   "metadata": {},
   "outputs": [],
   "source": [
    "NBINS = 100\n",
    "\n",
    "fig, axs = plt.subplots(1, 3)\n",
    "\n",
    "bins = np.linspace(16, 26, NBINS + 1)\n",
    "\n",
    "axs[0].hist(\n",
    "    neighbors_y6[\"mdet\"][\"noshear\"][\"mag\"][sel_y6][y6_subsample],\n",
    "    bins=bins,\n",
    "    density=True,\n",
    "    ec=\"gray\",\n",
    "    histtype=\"step\",\n",
    "    label=\"Y6\",\n",
    ")\n",
    "axs[0].hist(\n",
    "    neighbors_sim_plus[\"mdet\"][\"noshear\"][\"mag\"][sel_sim_plus][sim_subsample_plus],\n",
    "    bins=bins,\n",
    "    density=True,\n",
    "    ec=\"k\",\n",
    "    histtype=\"step\",\n",
    "    label=\"sim\",\n",
    ")\n",
    "axs[0].hist(\n",
    "    neighbors_sim_plus[\"mdet\"][\"noshear\"][\"mag\"][sel_sim_plus][sim_subsample_plus][w_plus[_w_ind_plus] > 1.5],\n",
    "    bins=bins,\n",
    "    density=True,\n",
    "    ec=\"r\",\n",
    "    histtype=\"step\",\n",
    "    label=\"sim (w > 1.5)\",\n",
    ")\n",
    "axs[0].hist(\n",
    "    neighbors_sim_plus[\"mdet\"][\"noshear\"][\"mag\"][sel_sim_plus][sim_subsample_plus][w_plus[_w_ind_plus] < 0.5],\n",
    "    bins=bins,\n",
    "    density=True,\n",
    "    ec=\"b\",\n",
    "    histtype=\"step\",\n",
    "    label=\"sim (w < 0.5)\",\n",
    ")\n",
    "\n",
    "axs[0].set_xlabel(\"mag\")\n",
    "axs[0].set_yticks([])\n",
    "\n",
    "axs[1].hist(\n",
    "    neighbors_y6[\"mdet\"][\"noshear\"][\"neighbor_mag\"][sel_y6][y6_subsample],\n",
    "    bins=bins,\n",
    "    density=True,\n",
    "    ec=\"gray\",\n",
    "    histtype=\"step\",\n",
    "    label=\"Y6\",\n",
    ")\n",
    "axs[1].hist(\n",
    "    neighbors_sim_plus[\"mdet\"][\"noshear\"][\"neighbor_mag\"][sel_sim_plus][sim_subsample_plus],\n",
    "    bins=bins,\n",
    "    density=True,\n",
    "    ec=\"k\",\n",
    "    histtype=\"step\",\n",
    "    label=\"sim\",\n",
    ")\n",
    "axs[1].hist(\n",
    "    neighbors_sim_plus[\"mdet\"][\"noshear\"][\"neighbor_mag\"][sel_sim_plus][sim_subsample_plus][w_plus[_w_ind_plus] > 1.5],\n",
    "    bins=bins,\n",
    "    density=True,\n",
    "    ec=\"r\",\n",
    "    histtype=\"step\",\n",
    "    label=\"sim (w > 1.5)\",\n",
    ")\n",
    "axs[1].hist(\n",
    "    neighbors_sim_plus[\"mdet\"][\"noshear\"][\"neighbor_mag\"][sel_sim_plus][sim_subsample_plus][w_plus[_w_ind_plus] < 0.5],\n",
    "    bins=bins,\n",
    "    density=True,\n",
    "    ec=\"b\",\n",
    "    histtype=\"step\",\n",
    "    label=\"sim (w < 0.5)\",\n",
    ")\n",
    "\n",
    "axs[1].set_xlabel(\"neighbor mag\")\n",
    "axs[1].set_yticks([])\n",
    "\n",
    "bins = np.geomspace(1e-6, 1e-2, NBINS + 1)\n",
    "\n",
    "axs[2].hist(\n",
    "    neighbors_y6[\"mdet\"][\"noshear\"][\"neighbor_distance\"][sel_y6][y6_subsample],\n",
    "    bins=bins,\n",
    "    density=True,\n",
    "    ec=\"gray\",\n",
    "    histtype=\"step\",\n",
    "    label=\"Y6\",\n",
    ")\n",
    "axs[2].hist(\n",
    "    neighbors_sim_plus[\"mdet\"][\"noshear\"][\"neighbor_distance\"][sel_sim_plus][sim_subsample_plus],\n",
    "    bins=bins,\n",
    "    density=True,\n",
    "    ec=\"k\",\n",
    "    histtype=\"step\",\n",
    "    label=\"sim\",\n",
    ")\n",
    "axs[2].hist(\n",
    "    neighbors_sim_plus[\"mdet\"][\"noshear\"][\"neighbor_distance\"][sel_sim_plus][sim_subsample_plus][w_plus[_w_ind_plus] > 0.5],\n",
    "    bins=bins,\n",
    "    density=True,\n",
    "    ec=\"r\",\n",
    "    histtype=\"step\",\n",
    "    label=\"sim (w > 1.5)\",\n",
    ")\n",
    "axs[2].hist(\n",
    "    neighbors_sim_plus[\"mdet\"][\"noshear\"][\"neighbor_distance\"][sel_sim_plus][sim_subsample_plus][w_plus[_w_ind_plus] < 0.5],\n",
    "    bins=bins,\n",
    "    density=True,\n",
    "    ec=\"b\",\n",
    "    histtype=\"step\",\n",
    "    label=\"sim (w < 0.5)\",\n",
    ")\n",
    "\n",
    "axs[2].set_xscale(\"log\")\n",
    "axs[2].set_xlabel(\"neighbor distance\")\n",
    "axs[2].set_yticks([])\n",
    "\n",
    "axs[1].legend()\n",
    "\n",
    "plt.show()"
   ]
  },
  {
   "cell_type": "markdown",
   "id": "ea8fc821-d9e9-4e02-9e2b-df47a95b0b33",
   "metadata": {},
   "source": [
    "---"
   ]
  },
  {
   "cell_type": "code",
   "execution_count": null,
   "id": "1a16ce14-4494-49c0-9341-a826ac7cc63b",
   "metadata": {},
   "outputs": [],
   "source": []
  }
 ],
 "metadata": {
  "kernelspec": {
   "display_name": "DESY6DEV",
   "language": "python",
   "name": "des-y6-dev"
  },
  "language_info": {
   "codemirror_mode": {
    "name": "ipython",
    "version": 3
   },
   "file_extension": ".py",
   "mimetype": "text/x-python",
   "name": "python",
   "nbconvert_exporter": "python",
   "pygments_lexer": "ipython3",
   "version": "3.11.10"
  }
 },
 "nbformat": 4,
 "nbformat_minor": 5
}
