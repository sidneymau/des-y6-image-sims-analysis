{
 "cells": [
  {
   "cell_type": "code",
   "execution_count": 1,
   "id": "387402df-a5c0-4477-9001-60483af47fc8",
   "metadata": {},
   "outputs": [],
   "source": [
    "import functools\n",
    "import os\n",
    "import concurrent.futures"
   ]
  },
  {
   "cell_type": "code",
   "execution_count": 2,
   "id": "94945802-2056-4aff-8879-6416c1b83cd9",
   "metadata": {},
   "outputs": [],
   "source": [
    "import numpy as np\n",
    "import h5py\n",
    "import matplotlib.pyplot as plt\n",
    "import matplotlib as mpl\n",
    "import healsparse\n",
    "from scipy import stats\n",
    "from sklearn.cluster import KMeans\n",
    "from sklearn.neighbors import BallTree"
   ]
  },
  {
   "cell_type": "code",
   "execution_count": 3,
   "id": "38758468-2f68-401f-b549-90bc07d4c452",
   "metadata": {},
   "outputs": [],
   "source": [
    "import lib"
   ]
  },
  {
   "cell_type": "code",
   "execution_count": 4,
   "id": "9a24d9ed-1fbd-41c6-8821-e42fcf1ff8e1",
   "metadata": {},
   "outputs": [],
   "source": [
    "os.environ[\"IMSIM_DATA\"] = \"/global/cfs/cdirs/desbalro\""
   ]
  },
  {
   "cell_type": "code",
   "execution_count": 89,
   "id": "47b0e42f-b184-42bc-84d8-8be52a9d7350",
   "metadata": {},
   "outputs": [],
   "source": [
    "rng = np.random.default_rng(0)"
   ]
  },
  {
   "cell_type": "code",
   "execution_count": 82,
   "id": "7ea5260f-b562-4c6e-9593-e26205461a8e",
   "metadata": {},
   "outputs": [],
   "source": [
    "shear_step = \"g1_slice=0.02__g2_slice=0.00__g1_other=0.00__g2_other=0.00__zlow=0.0__zhigh=6.0\""
   ]
  },
  {
   "cell_type": "code",
   "execution_count": 6,
   "id": "efe5f6ac-9ed4-426c-85f8-7ebf61bb0ca9",
   "metadata": {},
   "outputs": [],
   "source": [
    "redshift_sim = h5py.File(\n",
    "    lib.const.SIM_REDSHIFT_CATALOGS[shear_step],\n",
    ")"
   ]
  },
  {
   "cell_type": "code",
   "execution_count": 7,
   "id": "88582082-61e7-44d1-8317-91d6cc7e14b8",
   "metadata": {},
   "outputs": [],
   "source": [
    "shear_sim = h5py.File(\n",
    "    lib.const.SIM_SHEAR_CATALOGS[shear_step],\n",
    ")"
   ]
  },
  {
   "cell_type": "code",
   "execution_count": 8,
   "id": "a4996470-1663-4caf-9c47-695931435ea0",
   "metadata": {},
   "outputs": [],
   "source": [
    "truth_match = h5py.File(\n",
    "    lib.const.SIM_MATCH_CATALOGS[shear_step],\n",
    ")"
   ]
  },
  {
   "cell_type": "code",
   "execution_count": 9,
   "id": "b1eb0d4d-5fb6-49cf-8165-f08c497c9980",
   "metadata": {},
   "outputs": [],
   "source": [
    "_, shear_sim_index, redshift_sim_index = np.intersect1d(\n",
    "    shear_sim[\"mdet/noshear\"][\"uid\"][:],\n",
    "    redshift_sim[\"sompz/noshear\"][\"coadd_object_id\"][:],\n",
    "    return_indices=True,\n",
    ")"
   ]
  },
  {
   "cell_type": "code",
   "execution_count": 10,
   "id": "64fe2425-b5df-4b61-92c4-eeaf3f27a5ce",
   "metadata": {},
   "outputs": [],
   "source": [
    "np.testing.assert_equal(\n",
    "    shear_sim[\"mdet/noshear\"][\"uid\"][:][shear_sim_index],\n",
    "    redshift_sim[\"sompz/noshear\"][\"coadd_object_id\"][:][redshift_sim_index],\n",
    ")"
   ]
  },
  {
   "cell_type": "code",
   "execution_count": 11,
   "id": "009f4b29-82dc-4f6c-baa6-99ea4c133dc6",
   "metadata": {},
   "outputs": [],
   "source": [
    "bhat_sim = np.full(shear_sim[\"mdet/noshear\"][\"uid\"].shape, np.nan)\n",
    "bhat_sim[shear_sim_index] = redshift_sim[\"sompz/noshear\"][\"bhat\"][:][redshift_sim_index]"
   ]
  },
  {
   "cell_type": "code",
   "execution_count": 12,
   "id": "b352d417-9570-49c7-a745-f58f6c186ac1",
   "metadata": {},
   "outputs": [],
   "source": [
    "cell_sim = np.full(shear_sim[\"mdet/noshear\"][\"uid\"].shape, np.nan)\n",
    "cell_sim[shear_sim_index] = redshift_sim[\"sompz/noshear\"][\"cell_wide\"][:][redshift_sim_index]"
   ]
  },
  {
   "cell_type": "code",
   "execution_count": 13,
   "id": "04a4e0b3-35ba-46d7-a2eb-8e06229f14bd",
   "metadata": {},
   "outputs": [],
   "source": [
    "weight_sim = lib.weight.get_shear_weights(shear_sim[\"mdet/noshear\"])"
   ]
  },
  {
   "cell_type": "code",
   "execution_count": 14,
   "id": "f5b4af64-0eec-4824-85d7-67ee0bcc6241",
   "metadata": {},
   "outputs": [],
   "source": [
    "count_grid_sim, _, _ = stats.binned_statistic(\n",
    "    cell_sim,\n",
    "    None,\n",
    "    statistic=\"count\",\n",
    "    bins=lib.const.CELL_IDS,\n",
    ")\n",
    "occupancy_grid_sim = count_grid_sim / sum(count_grid_sim)"
   ]
  },
  {
   "cell_type": "code",
   "execution_count": 15,
   "id": "a753e10f-1905-4e95-b435-b18df2743436",
   "metadata": {},
   "outputs": [],
   "source": [
    "_weight_grid_sim, _, _ = stats.binned_statistic(\n",
    "    cell_sim,\n",
    "    weight_sim,\n",
    "    statistic=\"sum\",\n",
    "    bins=lib.const.CELL_IDS,\n",
    ")\n",
    "weight_grid_sim = _weight_grid_sim / sum(_weight_grid_sim)"
   ]
  },
  {
   "cell_type": "code",
   "execution_count": 16,
   "id": "642f0164-c9b2-4be9-aaee-6d3ff5f29649",
   "metadata": {},
   "outputs": [],
   "source": [
    "cell_assignments_sim = {}\n",
    "for tomographic_bin in lib.const.TOMOGRAPHIC_BINS:\n",
    "    cell_assignments_sim[tomographic_bin] = np.unique(\n",
    "        cell_sim[bhat_sim == tomographic_bin]\n",
    "    ).astype(int)\n",
    "\n",
    "assert len(\n",
    "    functools.reduce(\n",
    "        np.intersect1d,\n",
    "        [\n",
    "            cells\n",
    "            for cells in cell_assignments_sim.values()\n",
    "        ],\n",
    "    )\n",
    ") == 0"
   ]
  },
  {
   "cell_type": "markdown",
   "id": "38bdec77-4777-4fa4-984d-666d7686dc6d",
   "metadata": {},
   "source": [
    "---"
   ]
  },
  {
   "cell_type": "code",
   "execution_count": 17,
   "id": "4dd52076-31df-4171-8d2d-d11a13a2ca04",
   "metadata": {},
   "outputs": [],
   "source": [
    "shear_y6 = h5py.File(lib.const.Y6_SHEAR_CATALOG)\n",
    "redshift_y6 = h5py.File(lib.const.Y6_REDSHIFT_CATALOG)"
   ]
  },
  {
   "cell_type": "code",
   "execution_count": 18,
   "id": "1ed53582-2a43-4624-8fef-15d6ff1be393",
   "metadata": {},
   "outputs": [],
   "source": [
    "_, shear_y6_index, redshift_y6_index = np.intersect1d(\n",
    "    shear_y6[\"mdet/noshear\"][\"uid\"][:],\n",
    "    redshift_y6[\"sompz/noshear\"][\"coadd_object_id\"][:],\n",
    "    return_indices=True,\n",
    ")"
   ]
  },
  {
   "cell_type": "code",
   "execution_count": 19,
   "id": "9720f55f-fb76-4737-8e9e-d188fc8c4a14",
   "metadata": {},
   "outputs": [],
   "source": [
    "bhat_y6 = np.full(shear_y6[\"mdet/noshear\"][\"uid\"].shape, np.nan)\n",
    "bhat_y6[shear_y6_index] = redshift_y6[\"sompz/noshear\"][\"bhat\"][:][redshift_y6_index]"
   ]
  },
  {
   "cell_type": "code",
   "execution_count": 20,
   "id": "629a3f21-eea9-43d9-a274-69be5931a353",
   "metadata": {},
   "outputs": [],
   "source": [
    "cell_y6 = np.full(shear_y6[\"mdet/noshear\"][\"uid\"].shape, np.nan)\n",
    "cell_y6[shear_y6_index] = redshift_y6[\"sompz/noshear\"][\"cell_wide\"][:][redshift_y6_index]"
   ]
  },
  {
   "cell_type": "code",
   "execution_count": 21,
   "id": "aadc0321-eebf-454d-afde-a4bbce51ac41",
   "metadata": {},
   "outputs": [],
   "source": [
    "weight_y6 = lib.weight.get_shear_weights(shear_y6[\"mdet/noshear\"])"
   ]
  },
  {
   "cell_type": "code",
   "execution_count": 22,
   "id": "4029c7b9-48ac-452a-a9e3-89988d007a1f",
   "metadata": {},
   "outputs": [],
   "source": [
    "count_grid_y6, _, _ = stats.binned_statistic(\n",
    "    cell_y6,\n",
    "    None,\n",
    "    statistic=\"count\",\n",
    "    bins=lib.const.CELL_IDS,\n",
    ")\n",
    "occupancy_grid_y6 = count_grid_y6 / sum(count_grid_y6)"
   ]
  },
  {
   "cell_type": "code",
   "execution_count": 23,
   "id": "02023357-036d-4ae7-aaf6-e2f73aa53531",
   "metadata": {},
   "outputs": [],
   "source": [
    "_weight_grid_y6, _, _ = stats.binned_statistic(\n",
    "    cell_y6,\n",
    "    weight_y6,\n",
    "    statistic=\"sum\",\n",
    "    bins=lib.const.CELL_IDS,\n",
    ")\n",
    "weight_grid_y6 = _weight_grid_y6 / sum(_weight_grid_y6)"
   ]
  },
  {
   "cell_type": "code",
   "execution_count": 24,
   "id": "881286a7-28a1-49fb-bbc8-cc9f618c583e",
   "metadata": {},
   "outputs": [],
   "source": [
    "cell_assignments_y6 = {}\n",
    "for tomographic_bin in lib.const.TOMOGRAPHIC_BINS:\n",
    "    cell_assignments_y6[tomographic_bin] = np.unique(\n",
    "        cell_y6[bhat_y6 == tomographic_bin]\n",
    "    ).astype(int)\n",
    "\n",
    "assert len(\n",
    "    functools.reduce(\n",
    "        np.intersect1d,\n",
    "        [\n",
    "            cells\n",
    "            for cells in cell_assignments_y6.values()\n",
    "        ],\n",
    "    )\n",
    ") == 0"
   ]
  },
  {
   "cell_type": "markdown",
   "id": "b1c10b88-9996-4fe0-a650-2724fac6b235",
   "metadata": {},
   "source": [
    "---"
   ]
  },
  {
   "cell_type": "code",
   "execution_count": 25,
   "id": "6abd7e17-a182-4ad2-b41e-40df553b31de",
   "metadata": {},
   "outputs": [],
   "source": [
    "sel_sim = np.isin(\n",
    "    cell_sim,\n",
    "    cell_assignments_sim[0],\n",
    ")"
   ]
  },
  {
   "cell_type": "code",
   "execution_count": 68,
   "id": "beeb432b-fa81-46ad-ab0e-315cccfacc0e",
   "metadata": {},
   "outputs": [],
   "source": [
    "_weight_sim = weight_sim[sel_sim]"
   ]
  },
  {
   "cell_type": "code",
   "execution_count": 27,
   "id": "59bf3e1a-6834-41c6-86b3-64626523b155",
   "metadata": {},
   "outputs": [],
   "source": [
    "_mag_sim = lib.util.flux_to_mag(\n",
    "    np.mean(\n",
    "        [\n",
    "            shear_sim[\"mdet/noshear\"][\"pgauss_band_flux_r\"][sel_sim],\n",
    "            shear_sim[\"mdet/noshear\"][\"pgauss_band_flux_i\"][sel_sim],\n",
    "            shear_sim[\"mdet/noshear\"][\"pgauss_band_flux_z\"][sel_sim],\n",
    "        ],\n",
    "        axis=0,\n",
    "    )\n",
    ")"
   ]
  },
  {
   "cell_type": "code",
   "execution_count": 28,
   "id": "1cce22f0-689c-47d2-9af3-b98e5ed15169",
   "metadata": {},
   "outputs": [],
   "source": [
    "_points_sim = np.deg2rad(\n",
    "    np.stack(\n",
    "        [shear_sim[\"mdet/noshear\"][\"ra\"][sel_sim], shear_sim[\"mdet/noshear\"][\"dec\"][sel_sim]],\n",
    "        axis=-1,\n",
    "    )\n",
    ")"
   ]
  },
  {
   "cell_type": "code",
   "execution_count": 29,
   "id": "d5f10a5a-3ca5-4e87-a370-74da22624da2",
   "metadata": {},
   "outputs": [],
   "source": [
    "# all of the data is in memory anyways, so just use a leaf size of 1\n",
    "bt_sim = BallTree(\n",
    "    _points_sim,\n",
    "    metric=\"haversine\",\n",
    "    leaf_size=1,\n",
    ")"
   ]
  },
  {
   "cell_type": "code",
   "execution_count": 30,
   "id": "2be0cbdf-4f38-474d-b2ea-589290555918",
   "metadata": {},
   "outputs": [],
   "source": [
    "dist_sim, ind_sim = bt_sim.query(\n",
    "    _points_sim,\n",
    "    k=2,\n",
    "    return_distance=True,  # default, but we depend on this behavior\n",
    "    sort_results=True,  # default, but we depend on this behavior\n",
    ")"
   ]
  },
  {
   "cell_type": "code",
   "execution_count": 31,
   "id": "181ff965-363c-4080-a052-a52ce4d2f362",
   "metadata": {},
   "outputs": [],
   "source": [
    "# making sure indexing works like I think it does\n",
    "np.testing.assert_equal(\n",
    "    _mag_sim[ind_sim[:, 0]],\n",
    "    _mag_sim,\n",
    ")"
   ]
  },
  {
   "cell_type": "code",
   "execution_count": 32,
   "id": "5691248f-9739-4847-b699-999f1e542031",
   "metadata": {},
   "outputs": [],
   "source": [
    "distances_sim = np.rad2deg(dist_sim)"
   ]
  },
  {
   "cell_type": "code",
   "execution_count": 33,
   "id": "5c590715-b6ed-4b43-8ed4-3b46aa23a4d9",
   "metadata": {},
   "outputs": [],
   "source": [
    "neighbor_distance_sim = distances_sim[:, 1] * 60 * 60\n",
    "source_magnitude_sim = _mag_sim[ind_sim[:, 0]]\n",
    "neighbor_magnitude_sim = _mag_sim[ind_sim[:, 1]]"
   ]
  },
  {
   "cell_type": "code",
   "execution_count": 34,
   "id": "de3c679e-7852-4f62-95dc-31949feca2c8",
   "metadata": {},
   "outputs": [],
   "source": [
    "sel_y6 = np.isin(\n",
    "    cell_y6,\n",
    "    cell_assignments_y6[0],\n",
    ")"
   ]
  },
  {
   "cell_type": "code",
   "execution_count": 35,
   "id": "29cb54db-5f3f-47b5-957e-54235375103a",
   "metadata": {},
   "outputs": [],
   "source": [
    "_mag_y6 = lib.util.flux_to_mag(\n",
    "    np.mean(\n",
    "        [\n",
    "            shear_y6[\"mdet/noshear\"][\"pgauss_band_flux_r\"][sel_y6],\n",
    "            shear_y6[\"mdet/noshear\"][\"pgauss_band_flux_i\"][sel_y6],\n",
    "            shear_y6[\"mdet/noshear\"][\"pgauss_band_flux_z\"][sel_y6],\n",
    "        ],\n",
    "        axis=0,\n",
    "    )\n",
    ")"
   ]
  },
  {
   "cell_type": "code",
   "execution_count": 36,
   "id": "555643e1-cf00-4894-9cc1-2243e7653b89",
   "metadata": {},
   "outputs": [],
   "source": [
    "_points_y6 = np.deg2rad(\n",
    "    np.stack(\n",
    "        [shear_y6[\"mdet/noshear\"][\"ra\"][sel_y6], shear_y6[\"mdet/noshear\"][\"dec\"][sel_y6]],\n",
    "        axis=-1\n",
    "    )\n",
    ")"
   ]
  },
  {
   "cell_type": "code",
   "execution_count": 48,
   "id": "1307f26f-6914-4e26-aacc-967a71be4541",
   "metadata": {},
   "outputs": [],
   "source": [
    "bt_y6 = BallTree(\n",
    "    _points_y6,\n",
    "    metric=\"haversine\",\n",
    "    leaf_size=1,\n",
    ")"
   ]
  },
  {
   "cell_type": "code",
   "execution_count": 49,
   "id": "b01d2ce6-bb9a-4a3d-9a75-84dcbd88e6a7",
   "metadata": {},
   "outputs": [],
   "source": [
    "dist_y6, ind_y6 = bt_y6.query(\n",
    "    _points_y6,\n",
    "    k=2,\n",
    "    return_distance=True,  # default, but we depend on this behavior\n",
    "    sort_results=True,  # default, but we depend on this behavior\n",
    ")"
   ]
  },
  {
   "cell_type": "code",
   "execution_count": 50,
   "id": "75adc627-c985-43c4-8a64-228030e261a5",
   "metadata": {},
   "outputs": [],
   "source": [
    "distances_y6 = np.rad2deg(dist_y6)"
   ]
  },
  {
   "cell_type": "code",
   "execution_count": 51,
   "id": "3d40e341-b28b-48a4-aa7b-41449ab5f3f4",
   "metadata": {},
   "outputs": [],
   "source": [
    "neighbor_distance_y6 = distances_y6[:, 1] * 60 * 60\n",
    "source_magnitude_y6 = _mag_y6[ind_y6[:, 0]]\n",
    "neighbor_magnitude_y6 = _mag_y6[ind_y6[:, 1]]"
   ]
  },
  {
   "cell_type": "code",
   "execution_count": 52,
   "id": "551a489e-7d3c-4a3d-9001-1764edf25ad8",
   "metadata": {},
   "outputs": [
    {
     "data": {
      "image/png": "[encoded data removed]",
      "text/plain": [
       "<Figure size 640x480 with 1 Axes>"
      ]
     },
     "metadata": {},
     "output_type": "display_data"
    }
   ],
   "source": [
    "# bins = np.geomspace(1e0, 1e2, 101)\n",
    "NBINS = 100\n",
    "bins = np.geomspace(1e-2, 2, NBINS + 1) * 60\n",
    "\n",
    "fig, axs = plt.subplots(1, 1)\n",
    "\n",
    "axs.hist(neighbor_distance_y6, bins=bins, histtype=\"step\")\n",
    "axs.hist(neighbor_distance_sim, bins=bins, histtype=\"step\")\n",
    "\n",
    "axs.set_xscale(\"log\")\n",
    "\n",
    "axs.set_xlabel(\"nearest neighbor distance [arcsec]\")\n",
    "axs.set_ylabel(\"counts\")\n",
    "\n",
    "fig.show()"
   ]
  },
  {
   "cell_type": "code",
   "execution_count": 69,
   "id": "7afc9594-55d1-4e79-b5f3-d13fd1490ed0",
   "metadata": {},
   "outputs": [],
   "source": [
    "X_sim = np.stack([neighbor_distance_sim, source_magnitude_sim, neighbor_magnitude_sim], axis=-1)\n",
    "W_sim = _weight_sim\n",
    "X_y6 = np.stack([neighbor_distance_y6, source_magnitude_y6, neighbor_magnitude_y6], axis=-1)"
   ]
  },
  {
   "cell_type": "code",
   "execution_count": 122,
   "id": "a11b6626-2512-4dba-8e96-898db2fcf425",
   "metadata": {},
   "outputs": [],
   "source": [
    "N_CLUSTERS = 10"
   ]
  },
  {
   "cell_type": "code",
   "execution_count": 123,
   "id": "62623c99-e6b1-43e1-a9b1-cae413bf8780",
   "metadata": {},
   "outputs": [],
   "source": [
    "kmeans = KMeans(\n",
    "    n_clusters=N_CLUSTERS,\n",
    "    random_state=0,\n",
    ").fit(\n",
    "    X_sim,\n",
    "    sample_weight=W_sim,\n",
    ")"
   ]
  },
  {
   "cell_type": "code",
   "execution_count": 124,
   "id": "a4fbeeb3-325f-469a-bf92-8834e1105681",
   "metadata": {},
   "outputs": [],
   "source": [
    "y_sim = kmeans.predict(X_sim)"
   ]
  },
  {
   "cell_type": "code",
   "execution_count": 125,
   "id": "291ce520-7706-4afe-9530-d9e1e806c76c",
   "metadata": {},
   "outputs": [],
   "source": [
    "y_y6 = kmeans.predict(X_y6)"
   ]
  },
  {
   "cell_type": "code",
   "execution_count": 132,
   "id": "1593a19c-473a-44cd-a62d-cb35087baf30",
   "metadata": {},
   "outputs": [
    {
     "data": {
      "image/png": "[encoded data removed]",
      "text/plain": [
       "<Figure size 640x480 with 5 Axes>"
      ]
     },
     "metadata": {},
     "output_type": "display_data"
    }
   ],
   "source": [
    "cmap = mpl.cm.cubehelix\n",
    "bounds = np.unique(kmeans.labels_)\n",
    "bounds = np.append(bounds, bounds[-1] + 1)\n",
    "norm = mpl.colors.BoundaryNorm(bounds, cmap.N)\n",
    "\n",
    "N_SUBSAMPLE = 1_000\n",
    "_sim_subsample = rng.choice(len(X_sim), N_SUBSAMPLE, replace=False)\n",
    "_y6_subsample = rng.choice(len(X_y6), N_SUBSAMPLE, replace=False)\n",
    "\n",
    "fig, axs = plt.subplots(2, 2, sharex=\"row\", sharey=\"row\")\n",
    "\n",
    "for ax in axs.ravel():\n",
    "    ax.set_facecolor(\"grey\")\n",
    "\n",
    "axs[0, 0].scatter(\n",
    "    X_sim[_sim_subsample, 0],\n",
    "    X_sim[_sim_subsample, 1] - X_sim[_sim_subsample, 2],\n",
    "    c=y_sim[_sim_subsample],\n",
    "    cmap=cmap,\n",
    "    norm=norm,\n",
    "    s=12,\n",
    ")\n",
    "axs[0, 0].set_xlabel(\"distance [arcsec]\")\n",
    "axs[0, 0].set_ylabel(\"$mag - mag_{neighbor}$\")\n",
    "\n",
    "axs[0, 1].scatter(\n",
    "    X_y6[_y6_subsample, 0],\n",
    "    X_y6[_y6_subsample, 1] - X_y6[_y6_subsample, 2],\n",
    "    c=y_y6[_y6_subsample],\n",
    "    cmap=cmap,\n",
    "    norm=norm,\n",
    "    s=12,\n",
    ")\n",
    "axs[0, 1].set_xlabel(\"distance [arcsec]\")\n",
    "# axs[0, 1].set_ylabel(\"$mag - mag_{neighbor}$\")\n",
    "\n",
    "axs[1, 0].scatter(\n",
    "    X_sim[_sim_subsample, 1],\n",
    "    X_sim[_sim_subsample, 2],\n",
    "    c=y_sim[_sim_subsample],\n",
    "    cmap=cmap,\n",
    "    norm=norm,\n",
    "    s=12,\n",
    ")\n",
    "axs[1, 0].set_xlabel(\"$mag$\")\n",
    "axs[1, 0].set_ylabel(\"$mag_{neighbor}$\")\n",
    "\n",
    "axs[1, 1].scatter(\n",
    "    X_y6[_y6_subsample, 1],\n",
    "    X_y6[_y6_subsample, 2],\n",
    "    c=y_y6[_y6_subsample],\n",
    "    cmap=cmap,\n",
    "    norm=norm,\n",
    "    s=12,\n",
    ")\n",
    "axs[1, 1].set_xlabel(\"$mag$\")\n",
    "# axs[1, 1].set_ylabel(\"$mag_{neighbor}$\")\n",
    "\n",
    "axs[0, 0].set_title(\"sim\")\n",
    "axs[0, 1].set_title(\"Y6\")\n",
    "\n",
    "# fig.supxlabel(\"nearest neighbor distance [arcsec]\")\n",
    "# fig.supylabel(\"$mag - mag_{neighbor}$\")\n",
    "\n",
    "cb = fig.colorbar(\n",
    "    mpl.cm.ScalarMappable(norm=norm, cmap=cmap),\n",
    "    ax=axs.ravel(),\n",
    "    label=\"K-Means Cluster Label\",\n",
    "    spacing=\"proportional\",\n",
    ")\n",
    "# this is quite the hack...\n",
    "# cb.set_ticks(bounds[:-1] + 0.5)\n",
    "# cb.update_ticks()\n",
    "# cb.set_ticklabels(bounds[:-1])\n",
    "\n",
    "plt.show()"
   ]
  },
  {
   "cell_type": "markdown",
   "id": "5b11ad60-7482-440e-8b65-cda17881c433",
   "metadata": {},
   "source": [
    "---"
   ]
  },
  {
   "cell_type": "code",
   "execution_count": null,
   "id": "bd05fc66-83ae-4853-9454-e5bdb87b7ebb",
   "metadata": {},
   "outputs": [],
   "source": [
    "tilenames = np.unique(shear_sim[\"mdet/noshear\"][\"tilename\"][:].astype(str))"
   ]
  },
  {
   "cell_type": "code",
   "execution_count": null,
   "id": "081adb6d-8bda-4db0-8e75-e38653ad6944",
   "metadata": {},
   "outputs": [],
   "source": [
    "mdet_mask = lib.util.load_mdet_mask()\n",
    "mdet_area = mdet_mask.get_valid_area()"
   ]
  },
  {
   "cell_type": "code",
   "execution_count": null,
   "id": "08f63582-1fab-4626-b464-dfbfef32084e",
   "metadata": {},
   "outputs": [],
   "source": [
    "def accumulate_area(tile, mdet_mask):\n",
    "    tile_area = lib.util.get_tile_area(\n",
    "        tile,\n",
    "        \"r\",\n",
    "        shear=\"plus\",\n",
    "        mdet_mask=mdet_mask,\n",
    "    )\n",
    "\n",
    "    return tile_area"
   ]
  },
  {
   "cell_type": "code",
   "execution_count": null,
   "id": "a2d72b85-51b0-412f-b851-00705b9846b6",
   "metadata": {},
   "outputs": [],
   "source": [
    "def accumulate_hist(shear, bhat, bins, tomographic_bin=None, tile=None):\n",
    "    # plus\n",
    "    in_tile = shear[\"mdet/noshear\"][\"tilename\"][:].astype(str) == tile\n",
    "    in_tomo = bhat == tomographic_bin\n",
    "    sel = in_tile & in_tomo\n",
    "\n",
    "    matcher = smatch.Matcher(shear[\"mdet/noshear\"][\"ra\"][sel], shear[\"mdet/noshear\"][\"dec\"][sel])\n",
    "    indices, distances = matcher.query_knn(matcher.lon, matcher.lat, k=2, return_distances=True)\n",
    "    dnn = distances[:, 1] * 60 * 60\n",
    "    del matcher, indices, distances\n",
    "\n",
    "    hist, _ = np.histogram(dnn, bins=bins)\n",
    "    del dnn\n",
    "\n",
    "    return hist"
   ]
  },
  {
   "cell_type": "code",
   "execution_count": null,
   "id": "6f698d40-f710-4834-b0b7-78ea9394daa4",
   "metadata": {},
   "outputs": [],
   "source": [
    "def accumulate_hist_rand(shear, bhat, bins, mdet_mask, tomographic_bin=None, tile=None):\n",
    "    # plus\n",
    "    in_tile = shear[\"mdet/noshear\"][\"tilename\"][:].astype(str) == tile\n",
    "    in_tomo = bhat == tomographic_bin\n",
    "    sel = in_tile & in_tomo\n",
    "\n",
    "    tile_map = lib.util.get_tile_mask(\n",
    "        tile,\n",
    "        \"r\",\n",
    "        shear=\"plus\",\n",
    "        mdet_mask=mdet_mask,\n",
    "    )\n",
    "\n",
    "    n_sample = np.sum(sel)\n",
    "\n",
    "    rand_ra, rand_dec = healsparse.make_uniform_randoms(tile_map, n_sample)\n",
    "    del tile_map\n",
    "\n",
    "    rand_matcher = smatch.Matcher(rand_ra, rand_dec)\n",
    "    rand_indices, rand_distances = rand_matcher.query_knn(rand_matcher.lon, rand_matcher.lat, k=2, return_distances=True)\n",
    "    rand_dnn = rand_distances[:, 1] * 60 * 60\n",
    "    del rand_matcher, rand_indices, rand_distances\n",
    "\n",
    "    rand_hist, _ = np.histogram(rand_dnn, bins=bins)\n",
    "    del rand_dnn\n",
    "\n",
    "    return rand_hist"
   ]
  },
  {
   "cell_type": "code",
   "execution_count": null,
   "id": "1c3b05ad-8226-4bb0-9429-f97f3776e635",
   "metadata": {},
   "outputs": [],
   "source": [
    "NBINS = 100 \n",
    "bins = np.geomspace(1e-2, 2, NBINS + 1) * 60"
   ]
  },
  {
   "cell_type": "code",
   "execution_count": null,
   "id": "d84faf26-66e0-4967-bcd7-6e3aaeeb16a1",
   "metadata": {},
   "outputs": [],
   "source": [
    "hist_y6 = {\n",
    "    tomographic_bin: np.zeros(NBINS)\n",
    "    for tomographic_bin in lib.const.TOMOGRAPHIC_BINS\n",
    "}\n",
    "for tomographic_bin in lib.const.TOMOGRAPHIC_BINS:\n",
    "\n",
    "    sel = bhat_y6 == tomographic_bin\n",
    "  \n",
    "    matcher = smatch.Matcher(shear_y6[\"mdet/noshear\"][\"ra\"][sel], shear_y6[\"mdet/noshear\"][\"dec\"][sel])\n",
    "    indices, distances = matcher.query_knn(matcher.lon, matcher.lat, k=2, return_distances=True)\n",
    "    dnn = distances[:, 1] * 60 * 60\n",
    "    del matcher, indices, distances  # forecfully cleanup\n",
    "    _hist, _ = np.histogram(dnn, bins=bins)\n",
    "    \n",
    "\n",
    "    hist_y6[tomographic_bin] = _hist / mdet_area"
   ]
  },
  {
   "cell_type": "code",
   "execution_count": null,
   "id": "14becb98-7b6e-42ad-b510-955d061aaf93",
   "metadata": {},
   "outputs": [],
   "source": [
    "N_TEST = len(tilenames)"
   ]
  },
  {
   "cell_type": "code",
   "execution_count": null,
   "id": "70728b86-180c-4b8d-b99b-af3d5439d1b8",
   "metadata": {},
   "outputs": [],
   "source": [
    "area_futures = {}\n",
    "with concurrent.futures.ThreadPoolExecutor(max_workers=8) as executor:\n",
    "    for i, tile in enumerate(tilenames[:N_TEST]):\n",
    "        _future = executor.submit(\n",
    "            accumulate_area,\n",
    "            tile,\n",
    "            mdet_mask,\n",
    "        )\n",
    "        area_futures[tile] = _future"
   ]
  },
  {
   "cell_type": "code",
   "execution_count": null,
   "id": "ffc94c98-0ff7-4ef5-9563-7872d345c80c",
   "metadata": {},
   "outputs": [],
   "source": [
    "hist_futures = {}\n",
    "for tomographic_bin in lib.const.TOMOGRAPHIC_BINS:\n",
    "    hist_futures[tomographic_bin] = {}\n",
    "    with concurrent.futures.ThreadPoolExecutor() as executor:\n",
    "        for i, tile in enumerate(tilenames[:N_TEST]):\n",
    "            _future = executor.submit(\n",
    "                accumulate_hist,\n",
    "                shear_sim,\n",
    "                bhat_sim,\n",
    "                bins,\n",
    "                tomographic_bin,\n",
    "                tile,\n",
    "            )\n",
    "            hist_futures[tomographic_bin][tile] = _future"
   ]
  },
  {
   "cell_type": "code",
   "execution_count": null,
   "id": "b538a13e-a775-4646-93c8-e1f7d0e215c8",
   "metadata": {},
   "outputs": [],
   "source": [
    "hist_rand_futures = {}\n",
    "for tomographic_bin in lib.const.TOMOGRAPHIC_BINS:\n",
    "    hist_rand_futures[tomographic_bin] = {}\n",
    "    with concurrent.futures.ThreadPoolExecutor() as executor:\n",
    "        for i, tile in enumerate(tilenames[:N_TEST]):\n",
    "            _future = executor.submit(\n",
    "                accumulate_hist_rand,\n",
    "                shear_sim,\n",
    "                bhat_sim,\n",
    "                bins,\n",
    "                mdet_mask,\n",
    "                tomographic_bin,\n",
    "                tile,\n",
    "            )\n",
    "            hist_rand_futures[tomographic_bin][tile] = _future"
   ]
  },
  {
   "cell_type": "code",
   "execution_count": null,
   "id": "2c27eb1e-5ea2-407c-9755-1be552dc654c",
   "metadata": {},
   "outputs": [],
   "source": [
    "# hist_sim = {\n",
    "#     tomographic_bin: np.zeros(NBINS)\n",
    "#     for tomographic_bin in lib.const.TOMOGRAPHIC_BINS\n",
    "# }\n",
    "# hist_rand = {\n",
    "#     tomographic_bin: np.zeros(NBINS)\n",
    "#     for tomographic_bin in lib.const.TOMOGRAPHIC_BINS\n",
    "# }\n",
    "# area = 0\n",
    "\n",
    "# for tomographic_bin in lib.const.TOMOGRAPHIC_BINS:\n",
    "#     for tile in tilenames:\n",
    "#         if (\n",
    "#             (_hist_future := hist_futures[tomographic_bin].get(tile)) is not None\n",
    "#         ) and (\n",
    "#             (_hist_rand_future := hist_rand_futures[tomographic_bin].get(tile)) is not None\n",
    "#         ):\n",
    "#             _hist = _hist_future.result()\n",
    "#             _hist_rand = _hist_rand_future.result()\n",
    "            \n",
    "#             hist_sim[tomographic_bin] = np.nansum([hist_sim[tomographic_bin], _hist], axis=0)\n",
    "#             hist_rand[tomographic_bin] = np.nansum([hist_rand[tomographic_bin], _hist_rand], axis=0)\n",
    "\n",
    "# for tile in tilenames:\n",
    "#     if (_area_future := area_futures.get(tile)) is not None:\n",
    "#         _area = _area_future.result()\n",
    "#         area += _area\n",
    "\n",
    "# for tomographic_bin in lib.const.TOMOGRAPHIC_BINS:\n",
    "#     hist_sim[tomographic_bin] = hist_sim[tomographic_bin] / area\n",
    "#     hist_rand[tomographic_bin] = hist_rand[tomographic_bin] / area"
   ]
  },
  {
   "cell_type": "code",
   "execution_count": null,
   "id": "353241de-8cb6-42de-8a94-6e1c8a8ea217",
   "metadata": {},
   "outputs": [],
   "source": [
    "hist_sim = {\n",
    "    tomographic_bin: np.zeros(NBINS)\n",
    "    for tomographic_bin in lib.const.TOMOGRAPHIC_BINS\n",
    "}\n",
    "hist_rand = {\n",
    "    tomographic_bin: np.zeros(NBINS)\n",
    "    for tomographic_bin in lib.const.TOMOGRAPHIC_BINS\n",
    "}\n",
    "\n",
    "for tomographic_bin in lib.const.TOMOGRAPHIC_BINS:\n",
    "    for tile in tilenames:\n",
    "        if (\n",
    "            (_hist_future := hist_futures[tomographic_bin].get(tile)) is not None\n",
    "        ) and (\n",
    "            (_hist_rand_future := hist_rand_futures[tomographic_bin].get(tile)) is not None\n",
    "        ) and (\n",
    "            (_area_future := area_futures.get(tile)) is not None\n",
    "        ):\n",
    "            _hist = _hist_future.result()\n",
    "            _hist_rand = _hist_rand_future.result()\n",
    "            _area = _area_future.result()\n",
    "\n",
    "            hist_sim[tomographic_bin] = np.nansum([hist_sim[tomographic_bin], _hist / _area], axis=0)\n",
    "            hist_rand[tomographic_bin] = np.nansum([hist_rand[tomographic_bin], _hist_rand / _area], axis=0)\n",
    "            \n",
    "for tomographic_bin in lib.const.TOMOGRAPHIC_BINS:\n",
    "    hist_sim[tomographic_bin] = hist_sim[tomographic_bin] / len(tilenames)\n",
    "    hist_rand[tomographic_bin] = hist_rand[tomographic_bin] / len(tilenames)"
   ]
  },
  {
   "cell_type": "code",
   "execution_count": null,
   "id": "11e941f2-71b3-4f05-92b8-9f8f98dcec99",
   "metadata": {},
   "outputs": [],
   "source": [
    "# hist_sim = {\n",
    "#     tomographic_bin: np.zeros(NBINS)\n",
    "#     for tomographic_bin in lib.const.TOMOGRAPHIC_BINS\n",
    "# }\n",
    "# hist_rand = {\n",
    "#     tomographic_bin: np.zeros(NBINS)\n",
    "#     for tomographic_bin in lib.const.TOMOGRAPHIC_BINS\n",
    "# }\n",
    "# area = 0\n",
    "\n",
    "# # harmonic mean\n",
    "# for tomographic_bin in lib.const.TOMOGRAPHIC_BINS:\n",
    "#     _numerator_sim = np.zeros(NBINS)\n",
    "#     _numerator_rand = np.zeros(NBINS)\n",
    "#     _denominator_sim = np.zeros(NBINS)\n",
    "#     _denominator_rand = np.zeros(NBINS)\n",
    "#     for tile in tilenames:\n",
    "#         if (\n",
    "#             (_hist_future := hist_futures[tomographic_bin].get(tile)) is not None\n",
    "#         ) and (\n",
    "#             (_hist_rand_future := hist_rand_futures[tomographic_bin].get(tile)) is not None\n",
    "#         ) and (\n",
    "#             (_area_future := area_futures.get(tile)) is not None\n",
    "#         ):\n",
    "#             _hist = _hist_future.result()\n",
    "#             _hist_rand = _hist_rand_future.result()\n",
    "#             _area = _area_future.result()\n",
    "\n",
    "#             _numerator_sim = np.nansum([_numerator_sim, np.where(_hist > 0, 1, 0)], axis=0)\n",
    "#             _numerator_rand = np.nansum([_numerator_rand, np.where(_hist_rand > 0, 1, 0)], axis=0)\n",
    "#             _denominator_sim = np.nansum([_denominator_sim, np.where(_hist > 0, _area / _hist, np.nan)], axis=0)\n",
    "#             _denominator_rand = np.nansum([_denominator_rand, np.where(_hist_rand > 0, _area / _hist_rand, np.nan)], axis=0)\n",
    "\n",
    "#     hist_sim[tomographic_bin] = np.where(_denominator_sim > 0, _numerator_sim / _denominator_sim, 0)\n",
    "#     hist_rand[tomographic_bin] = np.where(_denominator_rand > 0, _numerator_rand / _denominator_rand, 0)"
   ]
  },
  {
   "cell_type": "code",
   "execution_count": null,
   "id": "ef953149-e878-4693-81c7-d2e8e3100cda",
   "metadata": {},
   "outputs": [],
   "source": [
    "# stats.hmean(\n",
    "#     np.array([\n",
    "#         hist_res.result() / area_res.result()\n",
    "#         for (hist_res, area_res)\n",
    "#         in zip(hist_futures[tomographic_bin].values(), area_futures.values())\n",
    "#     ]),\n",
    "#     axis=0,\n",
    "# )"
   ]
  },
  {
   "cell_type": "code",
   "execution_count": null,
   "id": "11d07141-4202-4ef6-8623-782762fd8931",
   "metadata": {},
   "outputs": [],
   "source": [
    "tomo_colors = {\n",
    "    0: \"#3BB470\",\n",
    "    1: \"#FA7F72\",\n",
    "    2: \"#DD9FDD\",\n",
    "    3: \"#6495EC\",\n",
    "}\n",
    "\n",
    "fig, axs = plt.subplots(\n",
    "    1, len(lib.const.TOMOGRAPHIC_BINS),\n",
    "    figsize=(7, 3),\n",
    "    sharex=True,\n",
    "    sharey=True,\n",
    ")\n",
    "fig.subplots_adjust(wspace=0)\n",
    "\n",
    "for tomographic_bin in lib.const.TOMOGRAPHIC_BINS:\n",
    "    axs[tomographic_bin].stairs(\n",
    "        hist_y6[tomographic_bin],\n",
    "        bins,\n",
    "        ec=tomo_colors[tomographic_bin],\n",
    "        ls=\":\",\n",
    "        label=\"Y6\",\n",
    "    )\n",
    "    axs[tomographic_bin].stairs(\n",
    "        hist_rand[tomographic_bin],\n",
    "        bins,\n",
    "        ec=tomo_colors[tomographic_bin],\n",
    "        ls=\"--\",\n",
    "        label=\"rand\",\n",
    "    )\n",
    "    axs[tomographic_bin].stairs(\n",
    "        hist_sim[tomographic_bin],\n",
    "        bins,\n",
    "        ec=tomo_colors[tomographic_bin],\n",
    "        ls=\"-\",\n",
    "        label=\"sim\",\n",
    "    )\n",
    "    # axs[tomographic_bin].legend(loc=\"upper left\")\n",
    "\n",
    "axs[0].set_xscale(\"log\")\n",
    "axs[0].xaxis.set_major_formatter(mpl.ticker.ScalarFormatter())\n",
    "axs[0].set_ylim(0, None)\n",
    "\n",
    "fig.supxlabel(\"nearest neighbor distance [arcsec]\")\n",
    "fig.supylabel(\"density [$counts / deg^2$]\")\n",
    "\n",
    "lines = [\n",
    "    mpl.lines.Line2D([0], [0], color=\"k\", linestyle=ls)\n",
    "    for ls in [\":\", \"--\", \"-\"]\n",
    "]\n",
    "labels = [\"Y6\", \"rand\", \"sim\"]\n",
    "axs[3].legend(lines, labels, loc=\"upper left\")\n",
    "\n",
    "watermark(fig)\n",
    "\n",
    "plt.show()"
   ]
  },
  {
   "cell_type": "code",
   "execution_count": null,
   "id": "4e84e712-fbaf-4a79-877e-706bc18f33a0",
   "metadata": {},
   "outputs": [],
   "source": [
    "tomo_colors = {\n",
    "    0: \"#3BB470\",\n",
    "    1: \"#FA7F72\",\n",
    "    2: \"#DD9FDD\",\n",
    "    3: \"#6495EC\",\n",
    "}\n",
    "\n",
    "fig, axs = plt.subplots(\n",
    "    1, len(lib.const.TOMOGRAPHIC_BINS),\n",
    "    figsize=(7, 3),\n",
    "    sharex=True,\n",
    "    sharey=True,\n",
    ")\n",
    "fig.subplots_adjust(wspace=0)\n",
    "\n",
    "for tomographic_bin in lib.const.TOMOGRAPHIC_BINS:\n",
    "    contour1d(\n",
    "        axs[tomographic_bin],\n",
    "        hist_y6[tomographic_bin],\n",
    "        bins,\n",
    "        c=tomo_colors[tomographic_bin],\n",
    "        ls=\":\",\n",
    "        label=\"Y6\",\n",
    "    )\n",
    "    contour1d(\n",
    "        axs[tomographic_bin],\n",
    "        hist_rand[tomographic_bin],\n",
    "        bins,\n",
    "        c=tomo_colors[tomographic_bin],\n",
    "        ls=\"--\",\n",
    "        label=\"rand\",\n",
    "    )\n",
    "    contour1d(\n",
    "        axs[tomographic_bin],\n",
    "        hist_sim[tomographic_bin],\n",
    "        bins,\n",
    "        c=tomo_colors[tomographic_bin],\n",
    "        ls=\"-\",\n",
    "        label=\"sim\",\n",
    "    )\n",
    "    # axs[tomographic_bin].legend(loc=\"upper left\")\n",
    "\n",
    "axs[0].set_xscale(\"log\")\n",
    "axs[0].xaxis.set_major_formatter(mpl.ticker.ScalarFormatter())\n",
    "axs[0].set_ylim(0, None)\n",
    "\n",
    "fig.supxlabel(\"nearest neighbor distance [arcsec]\")\n",
    "fig.supylabel(\"density [$counts / deg^2$]\")\n",
    "\n",
    "lines = [\n",
    "    mpl.lines.Line2D([0], [0], color=\"k\", linestyle=ls)\n",
    "    for ls in [\":\", \"--\", \"-\"]\n",
    "]\n",
    "labels = [\"Y6\", \"rand\", \"sim\"]\n",
    "axs[3].legend(lines, labels, loc=\"upper left\")\n",
    "\n",
    "watermark(fig)\n",
    "\n",
    "plt.show()"
   ]
  },
  {
   "cell_type": "code",
   "execution_count": null,
   "id": "afcefa14-ada8-4717-9a32-c58e4a36cce6",
   "metadata": {},
   "outputs": [],
   "source": [
    "tomo_colors = {\n",
    "    0: \"#3BB470\",\n",
    "    1: \"#FA7F72\",\n",
    "    2: \"#DD9FDD\",\n",
    "    3: \"#6495EC\",\n",
    "}\n",
    "\n",
    "fig, axs = plt.subplots(\n",
    "    1, len(lib.const.TOMOGRAPHIC_BINS),\n",
    "    figsize=(7, 3),\n",
    "    sharex=True,\n",
    "    sharey=True,\n",
    ")\n",
    "fig.subplots_adjust(wspace=0)\n",
    "\n",
    "for tomographic_bin in lib.const.TOMOGRAPHIC_BINS:\n",
    "    axs[tomographic_bin].axhline(\n",
    "        0,\n",
    "        c=tomo_colors[tomographic_bin],\n",
    "        ls=\":\",\n",
    "        # label=\"Y6\",\n",
    "    )\n",
    "    axs[tomographic_bin].stairs(\n",
    "        hist_rand[tomographic_bin] / hist_y6[tomographic_bin] - 1,\n",
    "        bins,\n",
    "        ec=tomo_colors[tomographic_bin],\n",
    "        ls=\"--\",\n",
    "        label=\"rand\",\n",
    "    )\n",
    "    axs[tomographic_bin].stairs(\n",
    "        hist_sim[tomographic_bin] / hist_y6[tomographic_bin] - 1,\n",
    "        bins,\n",
    "        ec=tomo_colors[tomographic_bin],\n",
    "        ls=\"-\",\n",
    "        label=\"sim\",\n",
    "    )\n",
    "    # axs[tomographic_bin].legend(loc=\"upper left\")\n",
    "\n",
    "axs[0].set_xscale(\"log\")\n",
    "axs[0].xaxis.set_major_formatter(mpl.ticker.ScalarFormatter())\n",
    "axs[0].set_ylim(-1, 1)\n",
    "\n",
    "fig.supxlabel(\"nearest neighbor distance [arcsec]\")\n",
    "fig.supylabel(\"relative overdensity\")\n",
    "\n",
    "lines = [\n",
    "    mpl.lines.Line2D([0], [0], color=\"k\", linestyle=ls)\n",
    "    for ls in [\":\", \"--\", \"-\"]\n",
    "]\n",
    "labels = [\"Y6\", \"rand\", \"sim\"]\n",
    "axs[3].legend(lines, labels, loc=\"upper left\")\n",
    "\n",
    "watermark(fig)\n",
    "\n",
    "plt.show()"
   ]
  },
  {
   "cell_type": "code",
   "execution_count": null,
   "id": "f524a277-d92c-46de-8b80-cd907035c601",
   "metadata": {},
   "outputs": [],
   "source": [
    "tomo_colors = {\n",
    "    0: \"#3BB470\",\n",
    "    1: \"#FA7F72\",\n",
    "    2: \"#DD9FDD\",\n",
    "    3: \"#6495EC\",\n",
    "}\n",
    "\n",
    "fig, axs = plt.subplots(\n",
    "    1, len(lib.const.TOMOGRAPHIC_BINS),\n",
    "    figsize=(7, 3),\n",
    "    sharex=True,\n",
    "    sharey=True,\n",
    ")\n",
    "fig.subplots_adjust(wspace=0)\n",
    "\n",
    "for tomographic_bin in lib.const.TOMOGRAPHIC_BINS:\n",
    "    axs[tomographic_bin].axhline(\n",
    "        0,\n",
    "        c=tomo_colors[tomographic_bin],\n",
    "        ls=\":\",\n",
    "        # label=\"Y6\",\n",
    "    )\n",
    "    contour1d(\n",
    "        axs[tomographic_bin],\n",
    "        hist_rand[tomographic_bin] / hist_y6[tomographic_bin] - 1,\n",
    "        bins,\n",
    "        c=tomo_colors[tomographic_bin],\n",
    "        ls=\"--\",\n",
    "        label=\"rand\",\n",
    "    )\n",
    "    contour1d(\n",
    "        axs[tomographic_bin],\n",
    "        hist_sim[tomographic_bin] / hist_y6[tomographic_bin] - 1,\n",
    "        bins,\n",
    "        c=tomo_colors[tomographic_bin],\n",
    "        ls=\"-\",\n",
    "        label=\"sim\",\n",
    "    )\n",
    "    # axs[tomographic_bin].legend(loc=\"upper left\")\n",
    "\n",
    "axs[0].set_xscale(\"log\")\n",
    "axs[0].xaxis.set_major_formatter(mpl.ticker.ScalarFormatter())\n",
    "axs[0].set_ylim(-1, 1)\n",
    "\n",
    "fig.supxlabel(\"nearest neighbor distance [arcsec]\")\n",
    "fig.supylabel(\"relative overdensity\")\n",
    "\n",
    "lines = [\n",
    "    mpl.lines.Line2D([0], [0], color=\"k\", linestyle=ls)\n",
    "    for ls in [\":\", \"--\", \"-\"]\n",
    "]\n",
    "labels = [\"Y6\", \"rand\", \"sim\"]\n",
    "axs[3].legend(lines, labels, loc=\"upper left\")\n",
    "\n",
    "watermark(fig)\n",
    "\n",
    "plt.show()"
   ]
  },
  {
   "cell_type": "code",
   "execution_count": null,
   "id": "81f8446d-9762-4f62-86a3-f16f031b90c7",
   "metadata": {},
   "outputs": [],
   "source": [
    "tomo_colors = {\n",
    "    0: \"#3BB470\",\n",
    "    1: \"#FA7F72\",\n",
    "    2: \"#DD9FDD\",\n",
    "    3: \"#6495EC\",\n",
    "}\n",
    "\n",
    "fig, axs = plt.subplots(\n",
    "    2, len(lib.const.TOMOGRAPHIC_BINS),\n",
    "    figsize=(7, 6),\n",
    "    sharex=True,\n",
    "    sharey=\"row\",\n",
    ")\n",
    "fig.subplots_adjust(wspace=0)\n",
    "\n",
    "for tomographic_bin in lib.const.TOMOGRAPHIC_BINS:\n",
    "    contour1d(\n",
    "        axs[0, tomographic_bin],\n",
    "        hist_y6[tomographic_bin],\n",
    "        bins,\n",
    "        log=True,\n",
    "        c=tomo_colors[tomographic_bin],\n",
    "        ls=\":\",\n",
    "        label=\"Y6\",\n",
    "    )\n",
    "    contour1d(\n",
    "        axs[0, tomographic_bin],\n",
    "        hist_rand[tomographic_bin],\n",
    "        bins,\n",
    "        log=True,\n",
    "        c=tomo_colors[tomographic_bin],\n",
    "        ls=\"--\",\n",
    "        label=\"rand\",\n",
    "    )\n",
    "    contour1d(\n",
    "        axs[0, tomographic_bin],\n",
    "        hist_sim[tomographic_bin],\n",
    "        bins,\n",
    "        log=True,\n",
    "        c=tomo_colors[tomographic_bin],\n",
    "        ls=\"-\",\n",
    "        label=\"sim\",\n",
    "    )\n",
    "\n",
    "    axs[1, tomographic_bin].axhline(\n",
    "        0,\n",
    "        c=tomo_colors[tomographic_bin],\n",
    "        ls=\":\",\n",
    "        # label=\"Y6\",\n",
    "    )\n",
    "    contour1d(\n",
    "        axs[1, tomographic_bin],\n",
    "        hist_rand[tomographic_bin] / hist_y6[tomographic_bin] - 1,\n",
    "        bins,\n",
    "        log=True,\n",
    "        c=tomo_colors[tomographic_bin],\n",
    "        ls=\"--\",\n",
    "        label=\"rand\",\n",
    "    )\n",
    "    contour1d(\n",
    "        axs[1, tomographic_bin],\n",
    "        hist_sim[tomographic_bin] / hist_y6[tomographic_bin] - 1,\n",
    "        bins,\n",
    "        log=True,\n",
    "        c=tomo_colors[tomographic_bin],\n",
    "        ls=\"-\",\n",
    "        label=\"sim\",\n",
    "    )\n",
    "    \n",
    "# axs[0, 0].legend(loc=\"upper left\")\n",
    "# axs[1, 0].legend(loc=\"upper left\")\n",
    "\n",
    "axs[0, 0].set_xscale(\"log\")\n",
    "axs[0, 0].xaxis.set_major_formatter(mpl.ticker.ScalarFormatter())\n",
    "axs[0, 0].set_ylim(0, None)\n",
    "\n",
    "axs[1, 0].set_ylim(-1, 1)\n",
    "\n",
    "fig.supxlabel(\"nearest neighbor distance [arcsec]\")\n",
    "\n",
    "axs[0, 0].set_ylabel(\"density [$counts / deg^2$]\")\n",
    "axs[1, 0].set_ylabel(\"relative overdensity\")\n",
    "\n",
    "lines = [\n",
    "    mpl.lines.Line2D([0], [0], color=\"k\", linestyle=ls)\n",
    "    for ls in [\":\", \"--\", \"-\"]\n",
    "]\n",
    "labels = [\"Y6\", \"rand\", \"sim\"]\n",
    "axs[1, 3].legend(lines, labels, loc=\"upper left\")\n",
    "\n",
    "watermark(fig)\n",
    "\n",
    "fig.savefig(\"tomographic-clustering.pdf\")\n",
    "\n",
    "plt.show()"
   ]
  },
  {
   "cell_type": "code",
   "execution_count": null,
   "id": "82dba6dc-71e8-45b3-8a0d-04c635a9a2ac",
   "metadata": {},
   "outputs": [],
   "source": [
    "with h5py.File(\"clustering.hdf5\", \"w\") as hf:\n",
    "    for tomographic_bin in lib.const.TOMOGRAPHIC_BINS:\n",
    "        tomo_group = hf.create_group(f\"bin{tomographic_bin}\")\n",
    "        for group in [\"Y6\", \"rand\", \"sim\"]:\n",
    "            data_group = tomo_group.create_group(group)\n",
    "            data_group.create_dataset(\"density\", data=hist_sim[tomographic_bin])\n",
    "            data_group.create_dataset(\"bins\", data=bins)"
   ]
  },
  {
   "cell_type": "code",
   "execution_count": null,
   "id": "ecec017e-5dca-4b55-b239-9353622c1d18",
   "metadata": {},
   "outputs": [],
   "source": []
  }
 ],
 "metadata": {
  "kernelspec": {
   "display_name": "DESY6DEV",
   "language": "python",
   "name": "des-y6-dev"
  },
  "language_info": {
   "codemirror_mode": {
    "name": "ipython",
    "version": 3
   },
   "file_extension": ".py",
   "mimetype": "text/x-python",
   "name": "python",
   "nbconvert_exporter": "python",
   "pygments_lexer": "ipython3",
   "version": "3.11.10"
  }
 },
 "nbformat": 4,
 "nbformat_minor": 5
}
