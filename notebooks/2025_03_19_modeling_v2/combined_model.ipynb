{
 "cells": [
  {
   "cell_type": "code",
   "execution_count": null,
   "metadata": {},
   "outputs": [],
   "source": [
    "%load_ext autoreload\n",
    "%autoreload 2\n",
    "\n",
    "import os\n",
    "\n",
    "import jax\n",
    "jax.config.update(\"jax_enable_x64\", True)\n",
    "\n",
    "import numpyro\n",
    "numpyro.set_host_device_count(4)\n",
    "\n",
    "import numpy as np\n",
    "import scipy.optimize\n",
    "\n",
    "import ultraplot as uplt"
   ]
  },
  {
   "cell_type": "code",
   "execution_count": null,
   "metadata": {},
   "outputs": [],
   "source": [
    "from des_y6_imsim_analysis import bump\n",
    "from des_y6_imsim_analysis.stats import compute_model_chi2_info, measure_map, run_mcmc\n",
    "from des_y6_imsim_analysis.utils import measure_m_dz, read_data"
   ]
  },
  {
   "cell_type": "code",
   "execution_count": null,
   "metadata": {},
   "outputs": [],
   "source": [
    "fnames = [\n",
    "    \"../../data/N_gamma_alpha_v2_statistical.hdf5\",\n",
    "    # \"../../data/N_gamma_alpha_v2_statistical-occupancy.hdf5\",\n",
    "    # \"../../data/N_gamma_alpha_v2_statistical-neighbor.hdf5\",\n",
    "    # \"../../data/N_gamma_alpha_v2_statistical-neighbor-occupancy.hdf5\",\n",
    "]\n",
    "\n",
    "keys = [\n",
    "    os.path.basename(fname).replace(\".hdf5\", \"\").split(\"_\")[-1]\n",
    "    for fname in fnames\n",
    "]\n",
    "\n",
    "seeds = [213432, 6457645, 213, 7878546]\n",
    "\n",
    "fit_data = {}\n",
    "\n",
    "model_module = bump\n",
    "\n",
    "for key, fname, seed in zip(keys, fnames, seeds):\n",
    "    data = read_data(fname)\n",
    "\n",
    "    model_data = model_module.make_model_data(\n",
    "        z=data.z,\n",
    "        nzs=data.nzs,\n",
    "        mn=data.mn,\n",
    "        cov=data.cov,\n",
    "        mn_pars=data.mn_pars,\n",
    "        zbins=data.zbins,\n",
    "        fixed_param_values={\"w\": 0.1, \"g_b0\": 0.0, \"g_b1\": 0.0, \"g_b2\": 0.0, \"g_b3\": 0.0},\n",
    "        num_bins=8,\n",
    "    )\n",
    "\n",
    "    map_params = measure_map(\n",
    "        model_module=model_module,\n",
    "        model_data=model_data,\n",
    "        seed=seed,\n",
    "    )\n",
    "\n",
    "    mcmc = run_mcmc(\n",
    "        model_module=model_module,\n",
    "        model_data=model_data,\n",
    "        init_params=map_params,\n",
    "        seed=seed,\n",
    "    )\n",
    "\n",
    "    chi2_info = compute_model_chi2_info(\n",
    "        model_module=model_module,\n",
    "        model_data=model_data,\n",
    "        data=data,\n",
    "        params=map_params,\n",
    "    )\n",
    "\n",
    "    fit_data[key] = {\n",
    "        \"map_params\": map_params,\n",
    "        \"mcmc\": mcmc,\n",
    "        \"model_data\": model_data,\n",
    "        \"data\": data,\n",
    "    }\n",
    "\n",
    "    print(\"key:\", key)\n",
    "    print(\"chi2:\", chi2_info['chi2'])\n",
    "    print(\"dof:\", chi2_info['dof'])\n",
    "    print(\"p-value:\", chi2_info['p_value'])\n",
    "    print(\"m vals:\\n    model: %r\\n    data: %r\\n     err: %r\" % (\n",
    "        (chi2_info['model_mn'][:4] - 1).tolist(),\n",
    "        (data.mn[:4] - 1).tolist(),\n",
    "        (np.sqrt(np.diag(data.cov)[:4])).tolist(),\n",
    "    ))\n",
    "    print(\"\", flush=True)"
   ]
  },
  {
   "cell_type": "code",
   "execution_count": null,
   "metadata": {},
   "outputs": [],
   "source": [
    "rng = np.random.default_rng(75865874)\n",
    "\n",
    "final_mdz = {}\n",
    "n_per = 1000\n",
    "\n",
    "for key in fit_data.keys():\n",
    "    samples = fit_data[key][\"mcmc\"].get_samples()\n",
    "\n",
    "    mdz = measure_m_dz(\n",
    "        model_module=model_module,\n",
    "        model_data=fit_data[key][\"model_data\"],\n",
    "        samples=samples,\n",
    "        return_dict=True,\n",
    "    )\n",
    "    n_samp = mdz[list(mdz.keys())[0]].shape[0]\n",
    "    inds = rng.choice(n_samp, n_per, replace=False)\n",
    "    for k, v in mdz.items():\n",
    "        if k not in final_mdz:\n",
    "            final_mdz[k] = []\n",
    "        final_mdz[k].append(v[inds])\n",
    "\n",
    "for k in final_mdz.keys():\n",
    "    final_mdz[k] = np.concatenate(final_mdz[k], axis=0)"
   ]
  },
  {
   "cell_type": "code",
   "execution_count": null,
   "metadata": {},
   "outputs": [],
   "source": [
    "m_mn = [np.mean(mdz[f\"m_b{i}\"]) for i in range(4)]\n",
    "m_sd = [np.std(mdz[f\"m_b{i}\"]) for i in range(4)]\n",
    "\n",
    "dz_mn = [np.mean(mdz[f\"dz_b{i}\"]) for i in range(4)]\n",
    "dz_sd = [np.std(mdz[f\"dz_b{i}\"]) for i in range(4)]\n",
    "\n",
    "print(\"|--------------------------------------------|\")\n",
    "print(\"| bin | m [10^-3, 3sigma] | dz               |\")\n",
    "print(\"|--------------------------------------------|\")\n",
    "for i in range(4):\n",
    "    print(\n",
    "        \"| %d   | %+5.1f +/- %-5.1f   | %+0.3f +/- %0.3f |\" % (\n",
    "            i, m_mn[i]/1e-3, m_sd[i]/1e-3 * 3, dz_mn[i], dz_sd[i]\n",
    "        )\n",
    "    )\n",
    "print(\"|--------------------------------------------|\")"
   ]
  },
  {
   "cell_type": "code",
   "execution_count": null,
   "metadata": {},
   "outputs": [],
   "source": [
    "arr = np.array(\n",
    "    [mdz[f\"m_b{i}\"] for i in range(4)]\n",
    "    + [mdz[f\"dz_b{i}\"] for i in range(4)]\n",
    ")"
   ]
  },
  {
   "cell_type": "code",
   "execution_count": null,
   "metadata": {},
   "outputs": [],
   "source": [
    "corr = np.corrcoef(arr)"
   ]
  },
  {
   "cell_type": "code",
   "execution_count": null,
   "metadata": {},
   "outputs": [],
   "source": [
    "fig, axs = uplt.subplots(figsize=(5, 5))\n",
    "\n",
    "m = axs.pcolormesh(np.abs(corr), vmin=0, vmax=1, cmap=\"gray_r\", discrete=False)\n",
    "axs.colorbar(m, label=\"Correlation Coefficient\")\n",
    "axs.format(grid=False)"
   ]
  },
  {
   "cell_type": "code",
   "execution_count": null,
   "metadata": {},
   "outputs": [],
   "source": []
  }
 ],
 "metadata": {
  "kernelspec": {
   "display_name": "des-y6",
   "language": "python",
   "name": "python3"
  },
  "language_info": {
   "codemirror_mode": {
    "name": "ipython",
    "version": 3
   },
   "file_extension": ".py",
   "mimetype": "text/x-python",
   "name": "python",
   "nbconvert_exporter": "python",
   "pygments_lexer": "ipython3",
   "version": "3.11.11"
  }
 },
 "nbformat": 4,
 "nbformat_minor": 2
}
