{
 "cells": [
  {
   "cell_type": "code",
   "execution_count": 1,
   "id": "f0390641-5533-474e-bb73-c4365d43dcd7",
   "metadata": {},
   "outputs": [],
   "source": [
    "import os"
   ]
  },
  {
   "cell_type": "code",
   "execution_count": 79,
   "id": "f7c6d73b-9586-45ce-b971-da96598d8844",
   "metadata": {},
   "outputs": [],
   "source": [
    "import fitsio\n",
    "import numpy as np\n",
    "import h5py\n",
    "import matplotlib.pyplot as plt\n",
    "from scipy import stats\n",
    "\n",
    "import coord\n",
    "import galsim\n",
    "from sklearn.neighbors import BallTree"
   ]
  },
  {
   "cell_type": "code",
   "execution_count": 3,
   "id": "1fdb42dd-30d2-413f-bdce-deaec697059e",
   "metadata": {},
   "outputs": [],
   "source": [
    "import lib"
   ]
  },
  {
   "cell_type": "code",
   "execution_count": 52,
   "id": "3072e357-7741-4e3c-98be-053ea3e52c65",
   "metadata": {},
   "outputs": [],
   "source": [
    "import os"
   ]
  },
  {
   "cell_type": "code",
   "execution_count": 53,
   "id": "e6addd73-1705-492c-9e99-c2dd8a71dbfc",
   "metadata": {},
   "outputs": [],
   "source": [
    "os.environ[\"IMSIM_DATA\"] = \"/global/cfs/cdirs/desbalro\""
   ]
  },
  {
   "cell_type": "code",
   "execution_count": 61,
   "id": "05c11238-7fa9-4502-8341-1315f78715a1",
   "metadata": {},
   "outputs": [],
   "source": [
    "SHEAR_CATALOGS = {\n",
    "    shear_step: os.path.join(\n",
    "        \"/pscratch/sd/s/smau/y6-image-sims-cats-noshear/fiducial\",\n",
    "        shear_step,\n",
    "        \"metadetect_cutsv6_all.h5\",\n",
    "    )\n",
    "    for shear_step in lib.const.SHEAR_STEPS\n",
    "}"
   ]
  },
  {
   "cell_type": "code",
   "execution_count": 58,
   "id": "29b63e55-364b-4d64-84c8-13abe74ea556",
   "metadata": {},
   "outputs": [],
   "source": [
    "MATCH_CATALOGS = {\n",
    "    shear_step: os.path.join(\n",
    "        \"/pscratch/sd/s/smau/fiducial-matches-noshear\",\n",
    "        f\"match_{shear_step}.hdf5\",\n",
    "    )\n",
    "    for shear_step in lib.const.SHEAR_STEPS\n",
    "}"
   ]
  },
  {
   "cell_type": "code",
   "execution_count": 4,
   "id": "10328ad2-e649-4314-826f-b95775490c2f",
   "metadata": {},
   "outputs": [
    {
     "name": "stdout",
     "output_type": "stream",
     "text": [
      "g1_slice=-0.02__g2_slice=0.00__g1_other=0.00__g2_other=0.00__zlow=0.0__zhigh=6.0\n",
      "g1_slice=0.02__g2_slice=0.00__g1_other=-0.02__g2_other=0.00__zlow=2.4__zhigh=2.7\n"
     ]
    }
   ],
   "source": [
    "for shear_step in lib.const.SHEAR_STEPS:\n",
    "    with (\n",
    "        h5py.File(\n",
    "            lib.const.SIM_MATCH_CATALOGS[shear_step],\n",
    "            mode=\"r\",\n",
    "        ) as hf_wide,    \n",
    "        h5py.File(\n",
    "            MATCH_CATALOGS[shear_step],\n",
    "            mode=\"r\",\n",
    "        ) as hf_match,\n",
    "    ):\n",
    "        wide_uid = hf_wide[\"mdet\"][\"noshear\"][\"uid\"][:]\n",
    "        match_uid = hf_match[\"mdet\"][\"noshear\"][\"uid\"][:]\n",
    "\n",
    "        wide_z = hf_wide[\"mdet\"][\"noshear\"][\"z\"][:]\n",
    "        match_z = hf_match[\"mdet\"][\"noshear\"][\"z\"][:]\n",
    "\n",
    "        try:\n",
    "            np.testing.assert_equal(wide_z, match_z)\n",
    "        except:\n",
    "            print(shear_step)\n",
    "\n",
    "        # print(\n",
    "        #     shear_step,\n",
    "        #     sum(~np.isnan(wide_uid)),\n",
    "        #     sum(~np.isnan(match_uid)),\n",
    "        #     100 * sum(~np.isnan(match_uid)) / sum(~np.isnan(wide_uid)),\n",
    "        # )"
   ]
  },
  {
   "cell_type": "code",
   "execution_count": 5,
   "id": "0a15078d-1d81-4d58-8420-31bae8d16c93",
   "metadata": {},
   "outputs": [],
   "source": [
    "shear_step = \"g1_slice=-0.02__g2_slice=0.00__g1_other=0.00__g2_other=0.00__zlow=0.0__zhigh=6.0\""
   ]
  },
  {
   "cell_type": "code",
   "execution_count": 62,
   "id": "a41d5ac1-420f-4e55-924e-6382055652b8",
   "metadata": {},
   "outputs": [],
   "source": [
    "shear = h5py.File(SHEAR_CATALOGS[shear_step])"
   ]
  },
  {
   "cell_type": "code",
   "execution_count": 63,
   "id": "faf2a291-1bac-4159-b5c8-7d3c3dffe510",
   "metadata": {},
   "outputs": [],
   "source": [
    "match = h5py.File(MATCH_CATALOGS[shear_step])"
   ]
  },
  {
   "cell_type": "code",
   "execution_count": 64,
   "id": "18716a1e-f706-4c2c-ab97-95fdb60cdf55",
   "metadata": {},
   "outputs": [],
   "source": [
    "tilenames = np.unique(shear[\"mdet\"][\"noshear\"][\"tilename\"][:])"
   ]
  },
  {
   "cell_type": "code",
   "execution_count": 67,
   "id": "c28fc3dc-c449-4d30-bca4-be655f398b61",
   "metadata": {},
   "outputs": [],
   "source": [
    "# find the tile where we broke on..."
   ]
  },
  {
   "cell_type": "code",
   "execution_count": 66,
   "id": "cffd7b71-682e-4a69-b835-50c8f33cf660",
   "metadata": {},
   "outputs": [
    {
     "name": "stdout",
     "output_type": "stream",
     "text": [
      "b'DES0402-6039'\n"
     ]
    }
   ],
   "source": [
    "for tilename in tilenames:\n",
    "    in_tile = (shear[\"mdet\"][\"noshear\"][\"tilename\"][:] == tilename)\n",
    "    match_in_tile = match[\"mdet\"][\"noshear\"][\"uid\"][in_tile]\n",
    "    if np.all(np.isnan(match_in_tile)):\n",
    "        print(tilename)\n",
    "        break"
   ]
  },
  {
   "cell_type": "code",
   "execution_count": 68,
   "id": "48c1ea52-9232-4984-b449-aacfabf16140",
   "metadata": {},
   "outputs": [
    {
     "name": "stdout",
     "output_type": "stream",
     "text": [
      "b'DES0402-6039' noshear 1\n",
      "b'DES0402-6039' 1p 1\n",
      "b'DES0402-6039' 1m 1\n",
      "b'DES0402-6039' 2p 0\n",
      "b'DES0402-6039' 2m 1\n"
     ]
    }
   ],
   "source": [
    "for mdet_step in lib.const.MDET_STEPS:\n",
    "    print(\n",
    "        tilename,\n",
    "        mdet_step,\n",
    "        sum(shear[\"mdet\"][mdet_step][\"tilename\"][:] == tilename),\n",
    "    )"
   ]
  },
  {
   "cell_type": "code",
   "execution_count": 69,
   "id": "ee3bb966-ce02-4f5e-8558-6d90ffbf8dd4",
   "metadata": {},
   "outputs": [],
   "source": [
    "# so this particular tile has a _single_ object detected in it in the noshear catalog, and\n",
    "# happens to have no objects in the 2p catalog... that's neat"
   ]
  },
  {
   "cell_type": "code",
   "execution_count": 70,
   "id": "97b2e62b-6c04-4c2e-b7a3-0e9bbb23b571",
   "metadata": {},
   "outputs": [],
   "source": [
    "# let's look at `instance.py` internals, now"
   ]
  },
  {
   "cell_type": "code",
   "execution_count": 76,
   "id": "e0137727-20fb-4f63-bc1b-46a37071d81d",
   "metadata": {},
   "outputs": [],
   "source": [
    "shear_args = lib.util.parse_shear_arguments(shear_step)"
   ]
  },
  {
   "cell_type": "code",
   "execution_count": 78,
   "id": "92d52331-4c17-4aa2-8754-66f1a3df5300",
   "metadata": {},
   "outputs": [],
   "source": [
    "g1_slice = shear_args[\"g1_slice\"]\n",
    "g2_slice = shear_args[\"g2_slice\"]\n",
    "g1_other = shear_args[\"g1_other\"]\n",
    "g2_other = shear_args[\"g2_other\"]\n",
    "zlow = shear_args[\"zlow\"]\n",
    "zhigh = shear_args[\"zhigh\"]"
   ]
  },
  {
   "cell_type": "code",
   "execution_count": 71,
   "id": "bf4c0d4a-0200-402c-a273-b4ab85cd7497",
   "metadata": {},
   "outputs": [],
   "source": [
    "hf_imsim = shear"
   ]
  },
  {
   "cell_type": "code",
   "execution_count": 72,
   "id": "bcba5047-aa9a-4fa1-bf23-30680c8dcb72",
   "metadata": {},
   "outputs": [],
   "source": [
    "wcs = lib.util.load_wcs(tilename)"
   ]
  },
  {
   "cell_type": "code",
   "execution_count": 73,
   "id": "75cb683a-4dbb-4659-a8f4-52bce58ecadd",
   "metadata": {},
   "outputs": [],
   "source": [
    "truth_table = fitsio.FITS(lib.const.TRUTH_CATALOGS[tilename.astype(str)])[1]"
   ]
  },
  {
   "cell_type": "code",
   "execution_count": 80,
   "id": "055f0853-da32-4269-9b29-8fc4d1fabc25",
   "metadata": {},
   "outputs": [],
   "source": [
    "shear_slice = galsim.Shear(g1=g1_slice, g2=g2_slice)\n",
    "shear_other = galsim.Shear(g1=g1_other, g2=g2_other)\n",
    "\n",
    "sheared_radec = []\n",
    "for i in range(truth_table.get_nrows()):\n",
    "    ra = truth_table[\"ra_sim\"][i]\n",
    "    dec = truth_table[\"dec_sim\"][i]\n",
    "    redshift = truth_table[\"photoz\"][i]\n",
    "\n",
    "    world_pos = coord.CelestialCoord(ra=ra * coord.degrees, dec=dec * coord.degrees)\n",
    "    u, v = wcs.center.project(world_pos, projection=\"gnomonic\")\n",
    "    pos = galsim.PositionD(u.rad, v.rad)\n",
    "\n",
    "    if (redshift > zlow) & (redshift <= zhigh):\n",
    "        sheared_pos = pos.shear(shear_slice)\n",
    "    else:\n",
    "        sheared_pos = pos.shear(shear_other)\n",
    "\n",
    "    u2 = sheared_pos.x * coord.radians\n",
    "    v2 = sheared_pos.y * coord.radians\n",
    "    sheared_world_pos = wcs.center.deproject(u2, v2, projection=\"gnomonic\")\n",
    "\n",
    "    sheared_ra = sheared_world_pos.ra.deg\n",
    "    sheared_dec = sheared_world_pos.dec.deg\n",
    "\n",
    "    sheared_radec.append((sheared_ra, sheared_dec))\n",
    "\n",
    "truth_points = np.deg2rad(np.array(sheared_radec))\n"
   ]
  },
  {
   "cell_type": "code",
   "execution_count": 83,
   "id": "a09a0fc9-c6fb-4e93-a760-fc0c924485ab",
   "metadata": {},
   "outputs": [],
   "source": [
    "bt = BallTree(\n",
    "    truth_points,\n",
    "    metric=\"haversine\",\n",
    ")\n",
    "query_radius_arcsec = 1\n",
    "query_radius = np.deg2rad(query_radius_arcsec / 60 / 60)"
   ]
  },
  {
   "cell_type": "code",
   "execution_count": 84,
   "id": "08cb33ab-3582-4de3-963f-18330f804938",
   "metadata": {},
   "outputs": [
    {
     "ename": "ValueError",
     "evalue": "Found array with 0 sample(s) (shape=(0, 2)) while a minimum of 1 is required.",
     "output_type": "error",
     "traceback": [
      "\u001b[0;31m---------------------------------------------------------------------------\u001b[0m",
      "\u001b[0;31mValueError\u001b[0m                                Traceback (most recent call last)",
      "Cell \u001b[0;32mIn[84], line 28\u001b[0m\n\u001b[1;32m     10\u001b[0m observed_table \u001b[38;5;241m=\u001b[39m {\n\u001b[1;32m     11\u001b[0m     key: hf_imsim[\u001b[38;5;124m\"\u001b[39m\u001b[38;5;124mmdet\u001b[39m\u001b[38;5;124m\"\u001b[39m][mdet_step][key][in_tile]\n\u001b[1;32m     12\u001b[0m     \u001b[38;5;28;01mfor\u001b[39;00m key \u001b[38;5;129;01min\u001b[39;00m [\n\u001b[0;32m   (...)\u001b[0m\n\u001b[1;32m     18\u001b[0m     ]\n\u001b[1;32m     19\u001b[0m }\n\u001b[1;32m     21\u001b[0m observed_points \u001b[38;5;241m=\u001b[39m np\u001b[38;5;241m.\u001b[39mdeg2rad(\n\u001b[1;32m     22\u001b[0m     np\u001b[38;5;241m.\u001b[39marray([\n\u001b[1;32m     23\u001b[0m         observed_table[\u001b[38;5;124m\"\u001b[39m\u001b[38;5;124mra_noshear\u001b[39m\u001b[38;5;124m\"\u001b[39m],\n\u001b[1;32m     24\u001b[0m         observed_table[\u001b[38;5;124m\"\u001b[39m\u001b[38;5;124mdec_noshear\u001b[39m\u001b[38;5;124m\"\u001b[39m],\n\u001b[1;32m     25\u001b[0m     ])\u001b[38;5;241m.\u001b[39mT\n\u001b[1;32m     26\u001b[0m )\n\u001b[0;32m---> 28\u001b[0m indices \u001b[38;5;241m=\u001b[39m \u001b[43mbt\u001b[49m\u001b[38;5;241;43m.\u001b[39;49m\u001b[43mquery_radius\u001b[49m\u001b[43m(\u001b[49m\n\u001b[1;32m     29\u001b[0m \u001b[43m    \u001b[49m\u001b[43mobserved_points\u001b[49m\u001b[43m,\u001b[49m\n\u001b[1;32m     30\u001b[0m \u001b[43m    \u001b[49m\u001b[43mr\u001b[49m\u001b[38;5;241;43m=\u001b[39;49m\u001b[43mquery_radius\u001b[49m\u001b[43m,\u001b[49m\n\u001b[1;32m     31\u001b[0m \u001b[43m\u001b[49m\u001b[43m)\u001b[49m\n",
      "File \u001b[0;32msklearn/neighbors/_binary_tree.pxi:1310\u001b[0m, in \u001b[0;36msklearn.neighbors._ball_tree.BinaryTree64.query_radius\u001b[0;34m()\u001b[0m\n",
      "File \u001b[0;32m/pscratch/sd/s/smau/conda/des-y6-dev/lib/python3.11/site-packages/sklearn/utils/validation.py:1087\u001b[0m, in \u001b[0;36mcheck_array\u001b[0;34m(array, accept_sparse, accept_large_sparse, dtype, order, copy, force_writeable, force_all_finite, ensure_2d, allow_nd, ensure_min_samples, ensure_min_features, estimator, input_name)\u001b[0m\n\u001b[1;32m   1085\u001b[0m     n_samples \u001b[38;5;241m=\u001b[39m _num_samples(array)\n\u001b[1;32m   1086\u001b[0m     \u001b[38;5;28;01mif\u001b[39;00m n_samples \u001b[38;5;241m<\u001b[39m ensure_min_samples:\n\u001b[0;32m-> 1087\u001b[0m         \u001b[38;5;28;01mraise\u001b[39;00m \u001b[38;5;167;01mValueError\u001b[39;00m(\n\u001b[1;32m   1088\u001b[0m             \u001b[38;5;124m\"\u001b[39m\u001b[38;5;124mFound array with \u001b[39m\u001b[38;5;132;01m%d\u001b[39;00m\u001b[38;5;124m sample(s) (shape=\u001b[39m\u001b[38;5;132;01m%s\u001b[39;00m\u001b[38;5;124m) while a\u001b[39m\u001b[38;5;124m\"\u001b[39m\n\u001b[1;32m   1089\u001b[0m             \u001b[38;5;124m\"\u001b[39m\u001b[38;5;124m minimum of \u001b[39m\u001b[38;5;132;01m%d\u001b[39;00m\u001b[38;5;124m is required\u001b[39m\u001b[38;5;132;01m%s\u001b[39;00m\u001b[38;5;124m.\u001b[39m\u001b[38;5;124m\"\u001b[39m\n\u001b[1;32m   1090\u001b[0m             \u001b[38;5;241m%\u001b[39m (n_samples, array\u001b[38;5;241m.\u001b[39mshape, ensure_min_samples, context)\n\u001b[1;32m   1091\u001b[0m         )\n\u001b[1;32m   1093\u001b[0m \u001b[38;5;28;01mif\u001b[39;00m ensure_min_features \u001b[38;5;241m>\u001b[39m \u001b[38;5;241m0\u001b[39m \u001b[38;5;129;01mand\u001b[39;00m array\u001b[38;5;241m.\u001b[39mndim \u001b[38;5;241m==\u001b[39m \u001b[38;5;241m2\u001b[39m:\n\u001b[1;32m   1094\u001b[0m     n_features \u001b[38;5;241m=\u001b[39m array\u001b[38;5;241m.\u001b[39mshape[\u001b[38;5;241m1\u001b[39m]\n",
      "\u001b[0;31mValueError\u001b[0m: Found array with 0 sample(s) (shape=(0, 2)) while a minimum of 1 is required."
     ]
    }
   ],
   "source": [
    "for mdet_step in lib.const.MDET_STEPS:\n",
    "    \n",
    "    in_tile = hf_imsim[\"mdet\"][mdet_step][\"tilename\"][:] == tilename\n",
    "    \n",
    "    catalog_indices = np.indices(\n",
    "        in_tile.shape,\n",
    "    ).ravel()\n",
    "    \n",
    "    \n",
    "    observed_table = {\n",
    "        key: hf_imsim[\"mdet\"][mdet_step][key][in_tile]\n",
    "        for key in [\n",
    "            \"ra_noshear\", \"dec_noshear\",\n",
    "            \"pgauss_band_flux_g\", \"pgauss_band_flux_err_g\",\n",
    "            \"pgauss_band_flux_r\", \"pgauss_band_flux_err_r\",\n",
    "            \"pgauss_band_flux_i\", \"pgauss_band_flux_err_i\",\n",
    "            \"pgauss_band_flux_z\", \"pgauss_band_flux_err_z\",\n",
    "        ]\n",
    "    }\n",
    "    \n",
    "    observed_points = np.deg2rad(\n",
    "        np.array([\n",
    "            observed_table[\"ra_noshear\"],\n",
    "            observed_table[\"dec_noshear\"],\n",
    "        ]).T\n",
    "    )\n",
    "\n",
    "    indices = bt.query_radius(\n",
    "        observed_points,\n",
    "        r=query_radius,\n",
    "    )"
   ]
  },
  {
   "cell_type": "code",
   "execution_count": 86,
   "id": "707e7427-0c0d-4469-b52d-1249e58d37ab",
   "metadata": {},
   "outputs": [
    {
     "data": {
      "text/plain": [
       "0"
      ]
     },
     "execution_count": 86,
     "metadata": {},
     "output_type": "execute_result"
    }
   ],
   "source": [
    "len(observed_points)"
   ]
  },
  {
   "cell_type": "code",
   "execution_count": null,
   "id": "fcf2da90-67e1-4e98-868f-b7245d6728f4",
   "metadata": {},
   "outputs": [],
   "source": []
  }
 ],
 "metadata": {
  "kernelspec": {
   "display_name": "DESY6DEV",
   "language": "python",
   "name": "des-y6-dev"
  },
  "language_info": {
   "codemirror_mode": {
    "name": "ipython",
    "version": 3
   },
   "file_extension": ".py",
   "mimetype": "text/x-python",
   "name": "python",
   "nbconvert_exporter": "python",
   "pygments_lexer": "ipython3",
   "version": "3.11.10"
  }
 },
 "nbformat": 4,
 "nbformat_minor": 5
}
